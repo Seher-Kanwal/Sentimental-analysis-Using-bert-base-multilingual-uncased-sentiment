{
  "nbformat": 4,
  "nbformat_minor": 0,
  "metadata": {
    "colab": {
      "provenance": [],
      "authorship_tag": "ABX9TyPFz7nn4uDgZ5PGoY+hYsqs",
      "include_colab_link": true
    },
    "kernelspec": {
      "name": "python3",
      "display_name": "Python 3"
    },
    "language_info": {
      "name": "python"
    },
    "widgets": {
      "application/vnd.jupyter.widget-state+json": {
        "9b5ebc1acee74ff79d9838e98b10404b": {
          "model_module": "@jupyter-widgets/controls",
          "model_name": "HBoxModel",
          "model_module_version": "1.5.0",
          "state": {
            "_dom_classes": [],
            "_model_module": "@jupyter-widgets/controls",
            "_model_module_version": "1.5.0",
            "_model_name": "HBoxModel",
            "_view_count": null,
            "_view_module": "@jupyter-widgets/controls",
            "_view_module_version": "1.5.0",
            "_view_name": "HBoxView",
            "box_style": "",
            "children": [
              "IPY_MODEL_df6dfd8ff5b940b58a60ce00c2256da4",
              "IPY_MODEL_9952ea5c42fc443196abecc7eb697bbc",
              "IPY_MODEL_328f851350254fb0a071ca1c78de9cc2"
            ],
            "layout": "IPY_MODEL_d25dda6d39b14d659831e95f24a7405c"
          }
        },
        "df6dfd8ff5b940b58a60ce00c2256da4": {
          "model_module": "@jupyter-widgets/controls",
          "model_name": "HTMLModel",
          "model_module_version": "1.5.0",
          "state": {
            "_dom_classes": [],
            "_model_module": "@jupyter-widgets/controls",
            "_model_module_version": "1.5.0",
            "_model_name": "HTMLModel",
            "_view_count": null,
            "_view_module": "@jupyter-widgets/controls",
            "_view_module_version": "1.5.0",
            "_view_name": "HTMLView",
            "description": "",
            "description_tooltip": null,
            "layout": "IPY_MODEL_6ecdba453d394b95b5e12a9b69f0187b",
            "placeholder": "​",
            "style": "IPY_MODEL_40d444a317bf4426b879adbf56d608ce",
            "value": "Downloading: 100%"
          }
        },
        "9952ea5c42fc443196abecc7eb697bbc": {
          "model_module": "@jupyter-widgets/controls",
          "model_name": "FloatProgressModel",
          "model_module_version": "1.5.0",
          "state": {
            "_dom_classes": [],
            "_model_module": "@jupyter-widgets/controls",
            "_model_module_version": "1.5.0",
            "_model_name": "FloatProgressModel",
            "_view_count": null,
            "_view_module": "@jupyter-widgets/controls",
            "_view_module_version": "1.5.0",
            "_view_name": "ProgressView",
            "bar_style": "success",
            "description": "",
            "description_tooltip": null,
            "layout": "IPY_MODEL_5ae36fb09e8144dab0bf50493656277e",
            "max": 39,
            "min": 0,
            "orientation": "horizontal",
            "style": "IPY_MODEL_78845220a18149909950ebc2439a25d4",
            "value": 39
          }
        },
        "328f851350254fb0a071ca1c78de9cc2": {
          "model_module": "@jupyter-widgets/controls",
          "model_name": "HTMLModel",
          "model_module_version": "1.5.0",
          "state": {
            "_dom_classes": [],
            "_model_module": "@jupyter-widgets/controls",
            "_model_module_version": "1.5.0",
            "_model_name": "HTMLModel",
            "_view_count": null,
            "_view_module": "@jupyter-widgets/controls",
            "_view_module_version": "1.5.0",
            "_view_name": "HTMLView",
            "description": "",
            "description_tooltip": null,
            "layout": "IPY_MODEL_8e131bff2163432bb6d24179a5bb238c",
            "placeholder": "​",
            "style": "IPY_MODEL_b5de0bf2a88341e18b3830a18ff2200f",
            "value": " 39.0/39.0 [00:00&lt;00:00, 1.08kB/s]"
          }
        },
        "d25dda6d39b14d659831e95f24a7405c": {
          "model_module": "@jupyter-widgets/base",
          "model_name": "LayoutModel",
          "model_module_version": "1.2.0",
          "state": {
            "_model_module": "@jupyter-widgets/base",
            "_model_module_version": "1.2.0",
            "_model_name": "LayoutModel",
            "_view_count": null,
            "_view_module": "@jupyter-widgets/base",
            "_view_module_version": "1.2.0",
            "_view_name": "LayoutView",
            "align_content": null,
            "align_items": null,
            "align_self": null,
            "border": null,
            "bottom": null,
            "display": null,
            "flex": null,
            "flex_flow": null,
            "grid_area": null,
            "grid_auto_columns": null,
            "grid_auto_flow": null,
            "grid_auto_rows": null,
            "grid_column": null,
            "grid_gap": null,
            "grid_row": null,
            "grid_template_areas": null,
            "grid_template_columns": null,
            "grid_template_rows": null,
            "height": null,
            "justify_content": null,
            "justify_items": null,
            "left": null,
            "margin": null,
            "max_height": null,
            "max_width": null,
            "min_height": null,
            "min_width": null,
            "object_fit": null,
            "object_position": null,
            "order": null,
            "overflow": null,
            "overflow_x": null,
            "overflow_y": null,
            "padding": null,
            "right": null,
            "top": null,
            "visibility": null,
            "width": null
          }
        },
        "6ecdba453d394b95b5e12a9b69f0187b": {
          "model_module": "@jupyter-widgets/base",
          "model_name": "LayoutModel",
          "model_module_version": "1.2.0",
          "state": {
            "_model_module": "@jupyter-widgets/base",
            "_model_module_version": "1.2.0",
            "_model_name": "LayoutModel",
            "_view_count": null,
            "_view_module": "@jupyter-widgets/base",
            "_view_module_version": "1.2.0",
            "_view_name": "LayoutView",
            "align_content": null,
            "align_items": null,
            "align_self": null,
            "border": null,
            "bottom": null,
            "display": null,
            "flex": null,
            "flex_flow": null,
            "grid_area": null,
            "grid_auto_columns": null,
            "grid_auto_flow": null,
            "grid_auto_rows": null,
            "grid_column": null,
            "grid_gap": null,
            "grid_row": null,
            "grid_template_areas": null,
            "grid_template_columns": null,
            "grid_template_rows": null,
            "height": null,
            "justify_content": null,
            "justify_items": null,
            "left": null,
            "margin": null,
            "max_height": null,
            "max_width": null,
            "min_height": null,
            "min_width": null,
            "object_fit": null,
            "object_position": null,
            "order": null,
            "overflow": null,
            "overflow_x": null,
            "overflow_y": null,
            "padding": null,
            "right": null,
            "top": null,
            "visibility": null,
            "width": null
          }
        },
        "40d444a317bf4426b879adbf56d608ce": {
          "model_module": "@jupyter-widgets/controls",
          "model_name": "DescriptionStyleModel",
          "model_module_version": "1.5.0",
          "state": {
            "_model_module": "@jupyter-widgets/controls",
            "_model_module_version": "1.5.0",
            "_model_name": "DescriptionStyleModel",
            "_view_count": null,
            "_view_module": "@jupyter-widgets/base",
            "_view_module_version": "1.2.0",
            "_view_name": "StyleView",
            "description_width": ""
          }
        },
        "5ae36fb09e8144dab0bf50493656277e": {
          "model_module": "@jupyter-widgets/base",
          "model_name": "LayoutModel",
          "model_module_version": "1.2.0",
          "state": {
            "_model_module": "@jupyter-widgets/base",
            "_model_module_version": "1.2.0",
            "_model_name": "LayoutModel",
            "_view_count": null,
            "_view_module": "@jupyter-widgets/base",
            "_view_module_version": "1.2.0",
            "_view_name": "LayoutView",
            "align_content": null,
            "align_items": null,
            "align_self": null,
            "border": null,
            "bottom": null,
            "display": null,
            "flex": null,
            "flex_flow": null,
            "grid_area": null,
            "grid_auto_columns": null,
            "grid_auto_flow": null,
            "grid_auto_rows": null,
            "grid_column": null,
            "grid_gap": null,
            "grid_row": null,
            "grid_template_areas": null,
            "grid_template_columns": null,
            "grid_template_rows": null,
            "height": null,
            "justify_content": null,
            "justify_items": null,
            "left": null,
            "margin": null,
            "max_height": null,
            "max_width": null,
            "min_height": null,
            "min_width": null,
            "object_fit": null,
            "object_position": null,
            "order": null,
            "overflow": null,
            "overflow_x": null,
            "overflow_y": null,
            "padding": null,
            "right": null,
            "top": null,
            "visibility": null,
            "width": null
          }
        },
        "78845220a18149909950ebc2439a25d4": {
          "model_module": "@jupyter-widgets/controls",
          "model_name": "ProgressStyleModel",
          "model_module_version": "1.5.0",
          "state": {
            "_model_module": "@jupyter-widgets/controls",
            "_model_module_version": "1.5.0",
            "_model_name": "ProgressStyleModel",
            "_view_count": null,
            "_view_module": "@jupyter-widgets/base",
            "_view_module_version": "1.2.0",
            "_view_name": "StyleView",
            "bar_color": null,
            "description_width": ""
          }
        },
        "8e131bff2163432bb6d24179a5bb238c": {
          "model_module": "@jupyter-widgets/base",
          "model_name": "LayoutModel",
          "model_module_version": "1.2.0",
          "state": {
            "_model_module": "@jupyter-widgets/base",
            "_model_module_version": "1.2.0",
            "_model_name": "LayoutModel",
            "_view_count": null,
            "_view_module": "@jupyter-widgets/base",
            "_view_module_version": "1.2.0",
            "_view_name": "LayoutView",
            "align_content": null,
            "align_items": null,
            "align_self": null,
            "border": null,
            "bottom": null,
            "display": null,
            "flex": null,
            "flex_flow": null,
            "grid_area": null,
            "grid_auto_columns": null,
            "grid_auto_flow": null,
            "grid_auto_rows": null,
            "grid_column": null,
            "grid_gap": null,
            "grid_row": null,
            "grid_template_areas": null,
            "grid_template_columns": null,
            "grid_template_rows": null,
            "height": null,
            "justify_content": null,
            "justify_items": null,
            "left": null,
            "margin": null,
            "max_height": null,
            "max_width": null,
            "min_height": null,
            "min_width": null,
            "object_fit": null,
            "object_position": null,
            "order": null,
            "overflow": null,
            "overflow_x": null,
            "overflow_y": null,
            "padding": null,
            "right": null,
            "top": null,
            "visibility": null,
            "width": null
          }
        },
        "b5de0bf2a88341e18b3830a18ff2200f": {
          "model_module": "@jupyter-widgets/controls",
          "model_name": "DescriptionStyleModel",
          "model_module_version": "1.5.0",
          "state": {
            "_model_module": "@jupyter-widgets/controls",
            "_model_module_version": "1.5.0",
            "_model_name": "DescriptionStyleModel",
            "_view_count": null,
            "_view_module": "@jupyter-widgets/base",
            "_view_module_version": "1.2.0",
            "_view_name": "StyleView",
            "description_width": ""
          }
        },
        "1c9697885a65476fa866fd70099d1163": {
          "model_module": "@jupyter-widgets/controls",
          "model_name": "HBoxModel",
          "model_module_version": "1.5.0",
          "state": {
            "_dom_classes": [],
            "_model_module": "@jupyter-widgets/controls",
            "_model_module_version": "1.5.0",
            "_model_name": "HBoxModel",
            "_view_count": null,
            "_view_module": "@jupyter-widgets/controls",
            "_view_module_version": "1.5.0",
            "_view_name": "HBoxView",
            "box_style": "",
            "children": [
              "IPY_MODEL_942281e99b57438daadfeb129dc576a6",
              "IPY_MODEL_aa00491d0ae741c49ea5eefb6bf18a9d",
              "IPY_MODEL_a99301b024e44fb5a3120969b4bcf908"
            ],
            "layout": "IPY_MODEL_daf14b02f028407d9568c05ae59c94a9"
          }
        },
        "942281e99b57438daadfeb129dc576a6": {
          "model_module": "@jupyter-widgets/controls",
          "model_name": "HTMLModel",
          "model_module_version": "1.5.0",
          "state": {
            "_dom_classes": [],
            "_model_module": "@jupyter-widgets/controls",
            "_model_module_version": "1.5.0",
            "_model_name": "HTMLModel",
            "_view_count": null,
            "_view_module": "@jupyter-widgets/controls",
            "_view_module_version": "1.5.0",
            "_view_name": "HTMLView",
            "description": "",
            "description_tooltip": null,
            "layout": "IPY_MODEL_6e6a80dd9ce0424188359ee93b35f0f6",
            "placeholder": "​",
            "style": "IPY_MODEL_b2d756f7650c4f8e884c7a2c6f45968f",
            "value": "Downloading: 100%"
          }
        },
        "aa00491d0ae741c49ea5eefb6bf18a9d": {
          "model_module": "@jupyter-widgets/controls",
          "model_name": "FloatProgressModel",
          "model_module_version": "1.5.0",
          "state": {
            "_dom_classes": [],
            "_model_module": "@jupyter-widgets/controls",
            "_model_module_version": "1.5.0",
            "_model_name": "FloatProgressModel",
            "_view_count": null,
            "_view_module": "@jupyter-widgets/controls",
            "_view_module_version": "1.5.0",
            "_view_name": "ProgressView",
            "bar_style": "success",
            "description": "",
            "description_tooltip": null,
            "layout": "IPY_MODEL_c16e09445eca440fac3702dbe45dc7d6",
            "max": 953,
            "min": 0,
            "orientation": "horizontal",
            "style": "IPY_MODEL_13d3f15ef7a84309b590189a7cd014d2",
            "value": 953
          }
        },
        "a99301b024e44fb5a3120969b4bcf908": {
          "model_module": "@jupyter-widgets/controls",
          "model_name": "HTMLModel",
          "model_module_version": "1.5.0",
          "state": {
            "_dom_classes": [],
            "_model_module": "@jupyter-widgets/controls",
            "_model_module_version": "1.5.0",
            "_model_name": "HTMLModel",
            "_view_count": null,
            "_view_module": "@jupyter-widgets/controls",
            "_view_module_version": "1.5.0",
            "_view_name": "HTMLView",
            "description": "",
            "description_tooltip": null,
            "layout": "IPY_MODEL_0fee39c01ff14c9cb5f87a1c76595922",
            "placeholder": "​",
            "style": "IPY_MODEL_c685363aa95b4c5797390a38f803809c",
            "value": " 953/953 [00:00&lt;00:00, 14.1kB/s]"
          }
        },
        "daf14b02f028407d9568c05ae59c94a9": {
          "model_module": "@jupyter-widgets/base",
          "model_name": "LayoutModel",
          "model_module_version": "1.2.0",
          "state": {
            "_model_module": "@jupyter-widgets/base",
            "_model_module_version": "1.2.0",
            "_model_name": "LayoutModel",
            "_view_count": null,
            "_view_module": "@jupyter-widgets/base",
            "_view_module_version": "1.2.0",
            "_view_name": "LayoutView",
            "align_content": null,
            "align_items": null,
            "align_self": null,
            "border": null,
            "bottom": null,
            "display": null,
            "flex": null,
            "flex_flow": null,
            "grid_area": null,
            "grid_auto_columns": null,
            "grid_auto_flow": null,
            "grid_auto_rows": null,
            "grid_column": null,
            "grid_gap": null,
            "grid_row": null,
            "grid_template_areas": null,
            "grid_template_columns": null,
            "grid_template_rows": null,
            "height": null,
            "justify_content": null,
            "justify_items": null,
            "left": null,
            "margin": null,
            "max_height": null,
            "max_width": null,
            "min_height": null,
            "min_width": null,
            "object_fit": null,
            "object_position": null,
            "order": null,
            "overflow": null,
            "overflow_x": null,
            "overflow_y": null,
            "padding": null,
            "right": null,
            "top": null,
            "visibility": null,
            "width": null
          }
        },
        "6e6a80dd9ce0424188359ee93b35f0f6": {
          "model_module": "@jupyter-widgets/base",
          "model_name": "LayoutModel",
          "model_module_version": "1.2.0",
          "state": {
            "_model_module": "@jupyter-widgets/base",
            "_model_module_version": "1.2.0",
            "_model_name": "LayoutModel",
            "_view_count": null,
            "_view_module": "@jupyter-widgets/base",
            "_view_module_version": "1.2.0",
            "_view_name": "LayoutView",
            "align_content": null,
            "align_items": null,
            "align_self": null,
            "border": null,
            "bottom": null,
            "display": null,
            "flex": null,
            "flex_flow": null,
            "grid_area": null,
            "grid_auto_columns": null,
            "grid_auto_flow": null,
            "grid_auto_rows": null,
            "grid_column": null,
            "grid_gap": null,
            "grid_row": null,
            "grid_template_areas": null,
            "grid_template_columns": null,
            "grid_template_rows": null,
            "height": null,
            "justify_content": null,
            "justify_items": null,
            "left": null,
            "margin": null,
            "max_height": null,
            "max_width": null,
            "min_height": null,
            "min_width": null,
            "object_fit": null,
            "object_position": null,
            "order": null,
            "overflow": null,
            "overflow_x": null,
            "overflow_y": null,
            "padding": null,
            "right": null,
            "top": null,
            "visibility": null,
            "width": null
          }
        },
        "b2d756f7650c4f8e884c7a2c6f45968f": {
          "model_module": "@jupyter-widgets/controls",
          "model_name": "DescriptionStyleModel",
          "model_module_version": "1.5.0",
          "state": {
            "_model_module": "@jupyter-widgets/controls",
            "_model_module_version": "1.5.0",
            "_model_name": "DescriptionStyleModel",
            "_view_count": null,
            "_view_module": "@jupyter-widgets/base",
            "_view_module_version": "1.2.0",
            "_view_name": "StyleView",
            "description_width": ""
          }
        },
        "c16e09445eca440fac3702dbe45dc7d6": {
          "model_module": "@jupyter-widgets/base",
          "model_name": "LayoutModel",
          "model_module_version": "1.2.0",
          "state": {
            "_model_module": "@jupyter-widgets/base",
            "_model_module_version": "1.2.0",
            "_model_name": "LayoutModel",
            "_view_count": null,
            "_view_module": "@jupyter-widgets/base",
            "_view_module_version": "1.2.0",
            "_view_name": "LayoutView",
            "align_content": null,
            "align_items": null,
            "align_self": null,
            "border": null,
            "bottom": null,
            "display": null,
            "flex": null,
            "flex_flow": null,
            "grid_area": null,
            "grid_auto_columns": null,
            "grid_auto_flow": null,
            "grid_auto_rows": null,
            "grid_column": null,
            "grid_gap": null,
            "grid_row": null,
            "grid_template_areas": null,
            "grid_template_columns": null,
            "grid_template_rows": null,
            "height": null,
            "justify_content": null,
            "justify_items": null,
            "left": null,
            "margin": null,
            "max_height": null,
            "max_width": null,
            "min_height": null,
            "min_width": null,
            "object_fit": null,
            "object_position": null,
            "order": null,
            "overflow": null,
            "overflow_x": null,
            "overflow_y": null,
            "padding": null,
            "right": null,
            "top": null,
            "visibility": null,
            "width": null
          }
        },
        "13d3f15ef7a84309b590189a7cd014d2": {
          "model_module": "@jupyter-widgets/controls",
          "model_name": "ProgressStyleModel",
          "model_module_version": "1.5.0",
          "state": {
            "_model_module": "@jupyter-widgets/controls",
            "_model_module_version": "1.5.0",
            "_model_name": "ProgressStyleModel",
            "_view_count": null,
            "_view_module": "@jupyter-widgets/base",
            "_view_module_version": "1.2.0",
            "_view_name": "StyleView",
            "bar_color": null,
            "description_width": ""
          }
        },
        "0fee39c01ff14c9cb5f87a1c76595922": {
          "model_module": "@jupyter-widgets/base",
          "model_name": "LayoutModel",
          "model_module_version": "1.2.0",
          "state": {
            "_model_module": "@jupyter-widgets/base",
            "_model_module_version": "1.2.0",
            "_model_name": "LayoutModel",
            "_view_count": null,
            "_view_module": "@jupyter-widgets/base",
            "_view_module_version": "1.2.0",
            "_view_name": "LayoutView",
            "align_content": null,
            "align_items": null,
            "align_self": null,
            "border": null,
            "bottom": null,
            "display": null,
            "flex": null,
            "flex_flow": null,
            "grid_area": null,
            "grid_auto_columns": null,
            "grid_auto_flow": null,
            "grid_auto_rows": null,
            "grid_column": null,
            "grid_gap": null,
            "grid_row": null,
            "grid_template_areas": null,
            "grid_template_columns": null,
            "grid_template_rows": null,
            "height": null,
            "justify_content": null,
            "justify_items": null,
            "left": null,
            "margin": null,
            "max_height": null,
            "max_width": null,
            "min_height": null,
            "min_width": null,
            "object_fit": null,
            "object_position": null,
            "order": null,
            "overflow": null,
            "overflow_x": null,
            "overflow_y": null,
            "padding": null,
            "right": null,
            "top": null,
            "visibility": null,
            "width": null
          }
        },
        "c685363aa95b4c5797390a38f803809c": {
          "model_module": "@jupyter-widgets/controls",
          "model_name": "DescriptionStyleModel",
          "model_module_version": "1.5.0",
          "state": {
            "_model_module": "@jupyter-widgets/controls",
            "_model_module_version": "1.5.0",
            "_model_name": "DescriptionStyleModel",
            "_view_count": null,
            "_view_module": "@jupyter-widgets/base",
            "_view_module_version": "1.2.0",
            "_view_name": "StyleView",
            "description_width": ""
          }
        },
        "e5a9d02eff1c43a78947d4da6f126dda": {
          "model_module": "@jupyter-widgets/controls",
          "model_name": "HBoxModel",
          "model_module_version": "1.5.0",
          "state": {
            "_dom_classes": [],
            "_model_module": "@jupyter-widgets/controls",
            "_model_module_version": "1.5.0",
            "_model_name": "HBoxModel",
            "_view_count": null,
            "_view_module": "@jupyter-widgets/controls",
            "_view_module_version": "1.5.0",
            "_view_name": "HBoxView",
            "box_style": "",
            "children": [
              "IPY_MODEL_0ce9218768f5498eb74dc267c2e6e9d6",
              "IPY_MODEL_735466291f5f4152a8bcf86c96f83b3d",
              "IPY_MODEL_5928ef183de644a3b5cc3a2d6d7faf40"
            ],
            "layout": "IPY_MODEL_b659028492154b3684ae455027a3a599"
          }
        },
        "0ce9218768f5498eb74dc267c2e6e9d6": {
          "model_module": "@jupyter-widgets/controls",
          "model_name": "HTMLModel",
          "model_module_version": "1.5.0",
          "state": {
            "_dom_classes": [],
            "_model_module": "@jupyter-widgets/controls",
            "_model_module_version": "1.5.0",
            "_model_name": "HTMLModel",
            "_view_count": null,
            "_view_module": "@jupyter-widgets/controls",
            "_view_module_version": "1.5.0",
            "_view_name": "HTMLView",
            "description": "",
            "description_tooltip": null,
            "layout": "IPY_MODEL_525fb41020574d6fa8d1dfb7362627bc",
            "placeholder": "​",
            "style": "IPY_MODEL_839a63e146cb4bd699aecbf2905e104b",
            "value": "Downloading: 100%"
          }
        },
        "735466291f5f4152a8bcf86c96f83b3d": {
          "model_module": "@jupyter-widgets/controls",
          "model_name": "FloatProgressModel",
          "model_module_version": "1.5.0",
          "state": {
            "_dom_classes": [],
            "_model_module": "@jupyter-widgets/controls",
            "_model_module_version": "1.5.0",
            "_model_name": "FloatProgressModel",
            "_view_count": null,
            "_view_module": "@jupyter-widgets/controls",
            "_view_module_version": "1.5.0",
            "_view_name": "ProgressView",
            "bar_style": "success",
            "description": "",
            "description_tooltip": null,
            "layout": "IPY_MODEL_977a6b0dbaca4311acd37625abe04072",
            "max": 871891,
            "min": 0,
            "orientation": "horizontal",
            "style": "IPY_MODEL_a126c87a24e04820be397fb0ee38b717",
            "value": 871891
          }
        },
        "5928ef183de644a3b5cc3a2d6d7faf40": {
          "model_module": "@jupyter-widgets/controls",
          "model_name": "HTMLModel",
          "model_module_version": "1.5.0",
          "state": {
            "_dom_classes": [],
            "_model_module": "@jupyter-widgets/controls",
            "_model_module_version": "1.5.0",
            "_model_name": "HTMLModel",
            "_view_count": null,
            "_view_module": "@jupyter-widgets/controls",
            "_view_module_version": "1.5.0",
            "_view_name": "HTMLView",
            "description": "",
            "description_tooltip": null,
            "layout": "IPY_MODEL_e86eec76119f44128167ffcfdba72d09",
            "placeholder": "​",
            "style": "IPY_MODEL_14f6c261e4f0468c8ff9966aa84778ed",
            "value": " 872k/872k [00:00&lt;00:00, 13.8MB/s]"
          }
        },
        "b659028492154b3684ae455027a3a599": {
          "model_module": "@jupyter-widgets/base",
          "model_name": "LayoutModel",
          "model_module_version": "1.2.0",
          "state": {
            "_model_module": "@jupyter-widgets/base",
            "_model_module_version": "1.2.0",
            "_model_name": "LayoutModel",
            "_view_count": null,
            "_view_module": "@jupyter-widgets/base",
            "_view_module_version": "1.2.0",
            "_view_name": "LayoutView",
            "align_content": null,
            "align_items": null,
            "align_self": null,
            "border": null,
            "bottom": null,
            "display": null,
            "flex": null,
            "flex_flow": null,
            "grid_area": null,
            "grid_auto_columns": null,
            "grid_auto_flow": null,
            "grid_auto_rows": null,
            "grid_column": null,
            "grid_gap": null,
            "grid_row": null,
            "grid_template_areas": null,
            "grid_template_columns": null,
            "grid_template_rows": null,
            "height": null,
            "justify_content": null,
            "justify_items": null,
            "left": null,
            "margin": null,
            "max_height": null,
            "max_width": null,
            "min_height": null,
            "min_width": null,
            "object_fit": null,
            "object_position": null,
            "order": null,
            "overflow": null,
            "overflow_x": null,
            "overflow_y": null,
            "padding": null,
            "right": null,
            "top": null,
            "visibility": null,
            "width": null
          }
        },
        "525fb41020574d6fa8d1dfb7362627bc": {
          "model_module": "@jupyter-widgets/base",
          "model_name": "LayoutModel",
          "model_module_version": "1.2.0",
          "state": {
            "_model_module": "@jupyter-widgets/base",
            "_model_module_version": "1.2.0",
            "_model_name": "LayoutModel",
            "_view_count": null,
            "_view_module": "@jupyter-widgets/base",
            "_view_module_version": "1.2.0",
            "_view_name": "LayoutView",
            "align_content": null,
            "align_items": null,
            "align_self": null,
            "border": null,
            "bottom": null,
            "display": null,
            "flex": null,
            "flex_flow": null,
            "grid_area": null,
            "grid_auto_columns": null,
            "grid_auto_flow": null,
            "grid_auto_rows": null,
            "grid_column": null,
            "grid_gap": null,
            "grid_row": null,
            "grid_template_areas": null,
            "grid_template_columns": null,
            "grid_template_rows": null,
            "height": null,
            "justify_content": null,
            "justify_items": null,
            "left": null,
            "margin": null,
            "max_height": null,
            "max_width": null,
            "min_height": null,
            "min_width": null,
            "object_fit": null,
            "object_position": null,
            "order": null,
            "overflow": null,
            "overflow_x": null,
            "overflow_y": null,
            "padding": null,
            "right": null,
            "top": null,
            "visibility": null,
            "width": null
          }
        },
        "839a63e146cb4bd699aecbf2905e104b": {
          "model_module": "@jupyter-widgets/controls",
          "model_name": "DescriptionStyleModel",
          "model_module_version": "1.5.0",
          "state": {
            "_model_module": "@jupyter-widgets/controls",
            "_model_module_version": "1.5.0",
            "_model_name": "DescriptionStyleModel",
            "_view_count": null,
            "_view_module": "@jupyter-widgets/base",
            "_view_module_version": "1.2.0",
            "_view_name": "StyleView",
            "description_width": ""
          }
        },
        "977a6b0dbaca4311acd37625abe04072": {
          "model_module": "@jupyter-widgets/base",
          "model_name": "LayoutModel",
          "model_module_version": "1.2.0",
          "state": {
            "_model_module": "@jupyter-widgets/base",
            "_model_module_version": "1.2.0",
            "_model_name": "LayoutModel",
            "_view_count": null,
            "_view_module": "@jupyter-widgets/base",
            "_view_module_version": "1.2.0",
            "_view_name": "LayoutView",
            "align_content": null,
            "align_items": null,
            "align_self": null,
            "border": null,
            "bottom": null,
            "display": null,
            "flex": null,
            "flex_flow": null,
            "grid_area": null,
            "grid_auto_columns": null,
            "grid_auto_flow": null,
            "grid_auto_rows": null,
            "grid_column": null,
            "grid_gap": null,
            "grid_row": null,
            "grid_template_areas": null,
            "grid_template_columns": null,
            "grid_template_rows": null,
            "height": null,
            "justify_content": null,
            "justify_items": null,
            "left": null,
            "margin": null,
            "max_height": null,
            "max_width": null,
            "min_height": null,
            "min_width": null,
            "object_fit": null,
            "object_position": null,
            "order": null,
            "overflow": null,
            "overflow_x": null,
            "overflow_y": null,
            "padding": null,
            "right": null,
            "top": null,
            "visibility": null,
            "width": null
          }
        },
        "a126c87a24e04820be397fb0ee38b717": {
          "model_module": "@jupyter-widgets/controls",
          "model_name": "ProgressStyleModel",
          "model_module_version": "1.5.0",
          "state": {
            "_model_module": "@jupyter-widgets/controls",
            "_model_module_version": "1.5.0",
            "_model_name": "ProgressStyleModel",
            "_view_count": null,
            "_view_module": "@jupyter-widgets/base",
            "_view_module_version": "1.2.0",
            "_view_name": "StyleView",
            "bar_color": null,
            "description_width": ""
          }
        },
        "e86eec76119f44128167ffcfdba72d09": {
          "model_module": "@jupyter-widgets/base",
          "model_name": "LayoutModel",
          "model_module_version": "1.2.0",
          "state": {
            "_model_module": "@jupyter-widgets/base",
            "_model_module_version": "1.2.0",
            "_model_name": "LayoutModel",
            "_view_count": null,
            "_view_module": "@jupyter-widgets/base",
            "_view_module_version": "1.2.0",
            "_view_name": "LayoutView",
            "align_content": null,
            "align_items": null,
            "align_self": null,
            "border": null,
            "bottom": null,
            "display": null,
            "flex": null,
            "flex_flow": null,
            "grid_area": null,
            "grid_auto_columns": null,
            "grid_auto_flow": null,
            "grid_auto_rows": null,
            "grid_column": null,
            "grid_gap": null,
            "grid_row": null,
            "grid_template_areas": null,
            "grid_template_columns": null,
            "grid_template_rows": null,
            "height": null,
            "justify_content": null,
            "justify_items": null,
            "left": null,
            "margin": null,
            "max_height": null,
            "max_width": null,
            "min_height": null,
            "min_width": null,
            "object_fit": null,
            "object_position": null,
            "order": null,
            "overflow": null,
            "overflow_x": null,
            "overflow_y": null,
            "padding": null,
            "right": null,
            "top": null,
            "visibility": null,
            "width": null
          }
        },
        "14f6c261e4f0468c8ff9966aa84778ed": {
          "model_module": "@jupyter-widgets/controls",
          "model_name": "DescriptionStyleModel",
          "model_module_version": "1.5.0",
          "state": {
            "_model_module": "@jupyter-widgets/controls",
            "_model_module_version": "1.5.0",
            "_model_name": "DescriptionStyleModel",
            "_view_count": null,
            "_view_module": "@jupyter-widgets/base",
            "_view_module_version": "1.2.0",
            "_view_name": "StyleView",
            "description_width": ""
          }
        },
        "0c2387b37ddb4ca29a9d3a4f039d501b": {
          "model_module": "@jupyter-widgets/controls",
          "model_name": "HBoxModel",
          "model_module_version": "1.5.0",
          "state": {
            "_dom_classes": [],
            "_model_module": "@jupyter-widgets/controls",
            "_model_module_version": "1.5.0",
            "_model_name": "HBoxModel",
            "_view_count": null,
            "_view_module": "@jupyter-widgets/controls",
            "_view_module_version": "1.5.0",
            "_view_name": "HBoxView",
            "box_style": "",
            "children": [
              "IPY_MODEL_6106dbde034949d38f2e4f937a7db1c6",
              "IPY_MODEL_60619d2d72754d06bc02ce0640db628f",
              "IPY_MODEL_1da02c7440d44faeb52de27d6201d3b4"
            ],
            "layout": "IPY_MODEL_d73d327851b04b348b4b3210a881e4d3"
          }
        },
        "6106dbde034949d38f2e4f937a7db1c6": {
          "model_module": "@jupyter-widgets/controls",
          "model_name": "HTMLModel",
          "model_module_version": "1.5.0",
          "state": {
            "_dom_classes": [],
            "_model_module": "@jupyter-widgets/controls",
            "_model_module_version": "1.5.0",
            "_model_name": "HTMLModel",
            "_view_count": null,
            "_view_module": "@jupyter-widgets/controls",
            "_view_module_version": "1.5.0",
            "_view_name": "HTMLView",
            "description": "",
            "description_tooltip": null,
            "layout": "IPY_MODEL_4c28a069d7de41e6afd1b37b6e63f965",
            "placeholder": "​",
            "style": "IPY_MODEL_4d8c0a15ebfe4d66a501c94cdd207bb2",
            "value": "Downloading: 100%"
          }
        },
        "60619d2d72754d06bc02ce0640db628f": {
          "model_module": "@jupyter-widgets/controls",
          "model_name": "FloatProgressModel",
          "model_module_version": "1.5.0",
          "state": {
            "_dom_classes": [],
            "_model_module": "@jupyter-widgets/controls",
            "_model_module_version": "1.5.0",
            "_model_name": "FloatProgressModel",
            "_view_count": null,
            "_view_module": "@jupyter-widgets/controls",
            "_view_module_version": "1.5.0",
            "_view_name": "ProgressView",
            "bar_style": "success",
            "description": "",
            "description_tooltip": null,
            "layout": "IPY_MODEL_4dc1d8c23cd141c8962bc48955507fac",
            "max": 112,
            "min": 0,
            "orientation": "horizontal",
            "style": "IPY_MODEL_1bcb2040395f4e22a589d1a7c6fd7441",
            "value": 112
          }
        },
        "1da02c7440d44faeb52de27d6201d3b4": {
          "model_module": "@jupyter-widgets/controls",
          "model_name": "HTMLModel",
          "model_module_version": "1.5.0",
          "state": {
            "_dom_classes": [],
            "_model_module": "@jupyter-widgets/controls",
            "_model_module_version": "1.5.0",
            "_model_name": "HTMLModel",
            "_view_count": null,
            "_view_module": "@jupyter-widgets/controls",
            "_view_module_version": "1.5.0",
            "_view_name": "HTMLView",
            "description": "",
            "description_tooltip": null,
            "layout": "IPY_MODEL_115fe7c5ee904d0c846b05d90d175110",
            "placeholder": "​",
            "style": "IPY_MODEL_2c4f2fae1b3d4dd9a510e65065998784",
            "value": " 112/112 [00:00&lt;00:00, 2.64kB/s]"
          }
        },
        "d73d327851b04b348b4b3210a881e4d3": {
          "model_module": "@jupyter-widgets/base",
          "model_name": "LayoutModel",
          "model_module_version": "1.2.0",
          "state": {
            "_model_module": "@jupyter-widgets/base",
            "_model_module_version": "1.2.0",
            "_model_name": "LayoutModel",
            "_view_count": null,
            "_view_module": "@jupyter-widgets/base",
            "_view_module_version": "1.2.0",
            "_view_name": "LayoutView",
            "align_content": null,
            "align_items": null,
            "align_self": null,
            "border": null,
            "bottom": null,
            "display": null,
            "flex": null,
            "flex_flow": null,
            "grid_area": null,
            "grid_auto_columns": null,
            "grid_auto_flow": null,
            "grid_auto_rows": null,
            "grid_column": null,
            "grid_gap": null,
            "grid_row": null,
            "grid_template_areas": null,
            "grid_template_columns": null,
            "grid_template_rows": null,
            "height": null,
            "justify_content": null,
            "justify_items": null,
            "left": null,
            "margin": null,
            "max_height": null,
            "max_width": null,
            "min_height": null,
            "min_width": null,
            "object_fit": null,
            "object_position": null,
            "order": null,
            "overflow": null,
            "overflow_x": null,
            "overflow_y": null,
            "padding": null,
            "right": null,
            "top": null,
            "visibility": null,
            "width": null
          }
        },
        "4c28a069d7de41e6afd1b37b6e63f965": {
          "model_module": "@jupyter-widgets/base",
          "model_name": "LayoutModel",
          "model_module_version": "1.2.0",
          "state": {
            "_model_module": "@jupyter-widgets/base",
            "_model_module_version": "1.2.0",
            "_model_name": "LayoutModel",
            "_view_count": null,
            "_view_module": "@jupyter-widgets/base",
            "_view_module_version": "1.2.0",
            "_view_name": "LayoutView",
            "align_content": null,
            "align_items": null,
            "align_self": null,
            "border": null,
            "bottom": null,
            "display": null,
            "flex": null,
            "flex_flow": null,
            "grid_area": null,
            "grid_auto_columns": null,
            "grid_auto_flow": null,
            "grid_auto_rows": null,
            "grid_column": null,
            "grid_gap": null,
            "grid_row": null,
            "grid_template_areas": null,
            "grid_template_columns": null,
            "grid_template_rows": null,
            "height": null,
            "justify_content": null,
            "justify_items": null,
            "left": null,
            "margin": null,
            "max_height": null,
            "max_width": null,
            "min_height": null,
            "min_width": null,
            "object_fit": null,
            "object_position": null,
            "order": null,
            "overflow": null,
            "overflow_x": null,
            "overflow_y": null,
            "padding": null,
            "right": null,
            "top": null,
            "visibility": null,
            "width": null
          }
        },
        "4d8c0a15ebfe4d66a501c94cdd207bb2": {
          "model_module": "@jupyter-widgets/controls",
          "model_name": "DescriptionStyleModel",
          "model_module_version": "1.5.0",
          "state": {
            "_model_module": "@jupyter-widgets/controls",
            "_model_module_version": "1.5.0",
            "_model_name": "DescriptionStyleModel",
            "_view_count": null,
            "_view_module": "@jupyter-widgets/base",
            "_view_module_version": "1.2.0",
            "_view_name": "StyleView",
            "description_width": ""
          }
        },
        "4dc1d8c23cd141c8962bc48955507fac": {
          "model_module": "@jupyter-widgets/base",
          "model_name": "LayoutModel",
          "model_module_version": "1.2.0",
          "state": {
            "_model_module": "@jupyter-widgets/base",
            "_model_module_version": "1.2.0",
            "_model_name": "LayoutModel",
            "_view_count": null,
            "_view_module": "@jupyter-widgets/base",
            "_view_module_version": "1.2.0",
            "_view_name": "LayoutView",
            "align_content": null,
            "align_items": null,
            "align_self": null,
            "border": null,
            "bottom": null,
            "display": null,
            "flex": null,
            "flex_flow": null,
            "grid_area": null,
            "grid_auto_columns": null,
            "grid_auto_flow": null,
            "grid_auto_rows": null,
            "grid_column": null,
            "grid_gap": null,
            "grid_row": null,
            "grid_template_areas": null,
            "grid_template_columns": null,
            "grid_template_rows": null,
            "height": null,
            "justify_content": null,
            "justify_items": null,
            "left": null,
            "margin": null,
            "max_height": null,
            "max_width": null,
            "min_height": null,
            "min_width": null,
            "object_fit": null,
            "object_position": null,
            "order": null,
            "overflow": null,
            "overflow_x": null,
            "overflow_y": null,
            "padding": null,
            "right": null,
            "top": null,
            "visibility": null,
            "width": null
          }
        },
        "1bcb2040395f4e22a589d1a7c6fd7441": {
          "model_module": "@jupyter-widgets/controls",
          "model_name": "ProgressStyleModel",
          "model_module_version": "1.5.0",
          "state": {
            "_model_module": "@jupyter-widgets/controls",
            "_model_module_version": "1.5.0",
            "_model_name": "ProgressStyleModel",
            "_view_count": null,
            "_view_module": "@jupyter-widgets/base",
            "_view_module_version": "1.2.0",
            "_view_name": "StyleView",
            "bar_color": null,
            "description_width": ""
          }
        },
        "115fe7c5ee904d0c846b05d90d175110": {
          "model_module": "@jupyter-widgets/base",
          "model_name": "LayoutModel",
          "model_module_version": "1.2.0",
          "state": {
            "_model_module": "@jupyter-widgets/base",
            "_model_module_version": "1.2.0",
            "_model_name": "LayoutModel",
            "_view_count": null,
            "_view_module": "@jupyter-widgets/base",
            "_view_module_version": "1.2.0",
            "_view_name": "LayoutView",
            "align_content": null,
            "align_items": null,
            "align_self": null,
            "border": null,
            "bottom": null,
            "display": null,
            "flex": null,
            "flex_flow": null,
            "grid_area": null,
            "grid_auto_columns": null,
            "grid_auto_flow": null,
            "grid_auto_rows": null,
            "grid_column": null,
            "grid_gap": null,
            "grid_row": null,
            "grid_template_areas": null,
            "grid_template_columns": null,
            "grid_template_rows": null,
            "height": null,
            "justify_content": null,
            "justify_items": null,
            "left": null,
            "margin": null,
            "max_height": null,
            "max_width": null,
            "min_height": null,
            "min_width": null,
            "object_fit": null,
            "object_position": null,
            "order": null,
            "overflow": null,
            "overflow_x": null,
            "overflow_y": null,
            "padding": null,
            "right": null,
            "top": null,
            "visibility": null,
            "width": null
          }
        },
        "2c4f2fae1b3d4dd9a510e65065998784": {
          "model_module": "@jupyter-widgets/controls",
          "model_name": "DescriptionStyleModel",
          "model_module_version": "1.5.0",
          "state": {
            "_model_module": "@jupyter-widgets/controls",
            "_model_module_version": "1.5.0",
            "_model_name": "DescriptionStyleModel",
            "_view_count": null,
            "_view_module": "@jupyter-widgets/base",
            "_view_module_version": "1.2.0",
            "_view_name": "StyleView",
            "description_width": ""
          }
        },
        "df34f879954e4469840f1edf43051d98": {
          "model_module": "@jupyter-widgets/controls",
          "model_name": "HBoxModel",
          "model_module_version": "1.5.0",
          "state": {
            "_dom_classes": [],
            "_model_module": "@jupyter-widgets/controls",
            "_model_module_version": "1.5.0",
            "_model_name": "HBoxModel",
            "_view_count": null,
            "_view_module": "@jupyter-widgets/controls",
            "_view_module_version": "1.5.0",
            "_view_name": "HBoxView",
            "box_style": "",
            "children": [
              "IPY_MODEL_f0d0eff41344490b9bebe96e19c825fc",
              "IPY_MODEL_f70d236a7fe147dea7269949ff879f96",
              "IPY_MODEL_322cadc547b04f0eb9337b0fd6a2d892"
            ],
            "layout": "IPY_MODEL_cb02a8b34a0e461c984973ccfc57470e"
          }
        },
        "f0d0eff41344490b9bebe96e19c825fc": {
          "model_module": "@jupyter-widgets/controls",
          "model_name": "HTMLModel",
          "model_module_version": "1.5.0",
          "state": {
            "_dom_classes": [],
            "_model_module": "@jupyter-widgets/controls",
            "_model_module_version": "1.5.0",
            "_model_name": "HTMLModel",
            "_view_count": null,
            "_view_module": "@jupyter-widgets/controls",
            "_view_module_version": "1.5.0",
            "_view_name": "HTMLView",
            "description": "",
            "description_tooltip": null,
            "layout": "IPY_MODEL_83fae46f34ec4c318573fb4bdb705069",
            "placeholder": "​",
            "style": "IPY_MODEL_3c689000f0bb49eb8be01c718f4aec3b",
            "value": "Downloading: 100%"
          }
        },
        "f70d236a7fe147dea7269949ff879f96": {
          "model_module": "@jupyter-widgets/controls",
          "model_name": "FloatProgressModel",
          "model_module_version": "1.5.0",
          "state": {
            "_dom_classes": [],
            "_model_module": "@jupyter-widgets/controls",
            "_model_module_version": "1.5.0",
            "_model_name": "FloatProgressModel",
            "_view_count": null,
            "_view_module": "@jupyter-widgets/controls",
            "_view_module_version": "1.5.0",
            "_view_name": "ProgressView",
            "bar_style": "success",
            "description": "",
            "description_tooltip": null,
            "layout": "IPY_MODEL_ecae12fe74ee4113ad38a13f7ae50455",
            "max": 669491321,
            "min": 0,
            "orientation": "horizontal",
            "style": "IPY_MODEL_3b99f7d179fe461b98bf157c568f6b07",
            "value": 669491321
          }
        },
        "322cadc547b04f0eb9337b0fd6a2d892": {
          "model_module": "@jupyter-widgets/controls",
          "model_name": "HTMLModel",
          "model_module_version": "1.5.0",
          "state": {
            "_dom_classes": [],
            "_model_module": "@jupyter-widgets/controls",
            "_model_module_version": "1.5.0",
            "_model_name": "HTMLModel",
            "_view_count": null,
            "_view_module": "@jupyter-widgets/controls",
            "_view_module_version": "1.5.0",
            "_view_name": "HTMLView",
            "description": "",
            "description_tooltip": null,
            "layout": "IPY_MODEL_f7b4bcdfdd944cd6a83076bfb6bc761e",
            "placeholder": "​",
            "style": "IPY_MODEL_81f698547aca430caced0417f879c307",
            "value": " 669M/669M [00:11&lt;00:00, 74.4MB/s]"
          }
        },
        "cb02a8b34a0e461c984973ccfc57470e": {
          "model_module": "@jupyter-widgets/base",
          "model_name": "LayoutModel",
          "model_module_version": "1.2.0",
          "state": {
            "_model_module": "@jupyter-widgets/base",
            "_model_module_version": "1.2.0",
            "_model_name": "LayoutModel",
            "_view_count": null,
            "_view_module": "@jupyter-widgets/base",
            "_view_module_version": "1.2.0",
            "_view_name": "LayoutView",
            "align_content": null,
            "align_items": null,
            "align_self": null,
            "border": null,
            "bottom": null,
            "display": null,
            "flex": null,
            "flex_flow": null,
            "grid_area": null,
            "grid_auto_columns": null,
            "grid_auto_flow": null,
            "grid_auto_rows": null,
            "grid_column": null,
            "grid_gap": null,
            "grid_row": null,
            "grid_template_areas": null,
            "grid_template_columns": null,
            "grid_template_rows": null,
            "height": null,
            "justify_content": null,
            "justify_items": null,
            "left": null,
            "margin": null,
            "max_height": null,
            "max_width": null,
            "min_height": null,
            "min_width": null,
            "object_fit": null,
            "object_position": null,
            "order": null,
            "overflow": null,
            "overflow_x": null,
            "overflow_y": null,
            "padding": null,
            "right": null,
            "top": null,
            "visibility": null,
            "width": null
          }
        },
        "83fae46f34ec4c318573fb4bdb705069": {
          "model_module": "@jupyter-widgets/base",
          "model_name": "LayoutModel",
          "model_module_version": "1.2.0",
          "state": {
            "_model_module": "@jupyter-widgets/base",
            "_model_module_version": "1.2.0",
            "_model_name": "LayoutModel",
            "_view_count": null,
            "_view_module": "@jupyter-widgets/base",
            "_view_module_version": "1.2.0",
            "_view_name": "LayoutView",
            "align_content": null,
            "align_items": null,
            "align_self": null,
            "border": null,
            "bottom": null,
            "display": null,
            "flex": null,
            "flex_flow": null,
            "grid_area": null,
            "grid_auto_columns": null,
            "grid_auto_flow": null,
            "grid_auto_rows": null,
            "grid_column": null,
            "grid_gap": null,
            "grid_row": null,
            "grid_template_areas": null,
            "grid_template_columns": null,
            "grid_template_rows": null,
            "height": null,
            "justify_content": null,
            "justify_items": null,
            "left": null,
            "margin": null,
            "max_height": null,
            "max_width": null,
            "min_height": null,
            "min_width": null,
            "object_fit": null,
            "object_position": null,
            "order": null,
            "overflow": null,
            "overflow_x": null,
            "overflow_y": null,
            "padding": null,
            "right": null,
            "top": null,
            "visibility": null,
            "width": null
          }
        },
        "3c689000f0bb49eb8be01c718f4aec3b": {
          "model_module": "@jupyter-widgets/controls",
          "model_name": "DescriptionStyleModel",
          "model_module_version": "1.5.0",
          "state": {
            "_model_module": "@jupyter-widgets/controls",
            "_model_module_version": "1.5.0",
            "_model_name": "DescriptionStyleModel",
            "_view_count": null,
            "_view_module": "@jupyter-widgets/base",
            "_view_module_version": "1.2.0",
            "_view_name": "StyleView",
            "description_width": ""
          }
        },
        "ecae12fe74ee4113ad38a13f7ae50455": {
          "model_module": "@jupyter-widgets/base",
          "model_name": "LayoutModel",
          "model_module_version": "1.2.0",
          "state": {
            "_model_module": "@jupyter-widgets/base",
            "_model_module_version": "1.2.0",
            "_model_name": "LayoutModel",
            "_view_count": null,
            "_view_module": "@jupyter-widgets/base",
            "_view_module_version": "1.2.0",
            "_view_name": "LayoutView",
            "align_content": null,
            "align_items": null,
            "align_self": null,
            "border": null,
            "bottom": null,
            "display": null,
            "flex": null,
            "flex_flow": null,
            "grid_area": null,
            "grid_auto_columns": null,
            "grid_auto_flow": null,
            "grid_auto_rows": null,
            "grid_column": null,
            "grid_gap": null,
            "grid_row": null,
            "grid_template_areas": null,
            "grid_template_columns": null,
            "grid_template_rows": null,
            "height": null,
            "justify_content": null,
            "justify_items": null,
            "left": null,
            "margin": null,
            "max_height": null,
            "max_width": null,
            "min_height": null,
            "min_width": null,
            "object_fit": null,
            "object_position": null,
            "order": null,
            "overflow": null,
            "overflow_x": null,
            "overflow_y": null,
            "padding": null,
            "right": null,
            "top": null,
            "visibility": null,
            "width": null
          }
        },
        "3b99f7d179fe461b98bf157c568f6b07": {
          "model_module": "@jupyter-widgets/controls",
          "model_name": "ProgressStyleModel",
          "model_module_version": "1.5.0",
          "state": {
            "_model_module": "@jupyter-widgets/controls",
            "_model_module_version": "1.5.0",
            "_model_name": "ProgressStyleModel",
            "_view_count": null,
            "_view_module": "@jupyter-widgets/base",
            "_view_module_version": "1.2.0",
            "_view_name": "StyleView",
            "bar_color": null,
            "description_width": ""
          }
        },
        "f7b4bcdfdd944cd6a83076bfb6bc761e": {
          "model_module": "@jupyter-widgets/base",
          "model_name": "LayoutModel",
          "model_module_version": "1.2.0",
          "state": {
            "_model_module": "@jupyter-widgets/base",
            "_model_module_version": "1.2.0",
            "_model_name": "LayoutModel",
            "_view_count": null,
            "_view_module": "@jupyter-widgets/base",
            "_view_module_version": "1.2.0",
            "_view_name": "LayoutView",
            "align_content": null,
            "align_items": null,
            "align_self": null,
            "border": null,
            "bottom": null,
            "display": null,
            "flex": null,
            "flex_flow": null,
            "grid_area": null,
            "grid_auto_columns": null,
            "grid_auto_flow": null,
            "grid_auto_rows": null,
            "grid_column": null,
            "grid_gap": null,
            "grid_row": null,
            "grid_template_areas": null,
            "grid_template_columns": null,
            "grid_template_rows": null,
            "height": null,
            "justify_content": null,
            "justify_items": null,
            "left": null,
            "margin": null,
            "max_height": null,
            "max_width": null,
            "min_height": null,
            "min_width": null,
            "object_fit": null,
            "object_position": null,
            "order": null,
            "overflow": null,
            "overflow_x": null,
            "overflow_y": null,
            "padding": null,
            "right": null,
            "top": null,
            "visibility": null,
            "width": null
          }
        },
        "81f698547aca430caced0417f879c307": {
          "model_module": "@jupyter-widgets/controls",
          "model_name": "DescriptionStyleModel",
          "model_module_version": "1.5.0",
          "state": {
            "_model_module": "@jupyter-widgets/controls",
            "_model_module_version": "1.5.0",
            "_model_name": "DescriptionStyleModel",
            "_view_count": null,
            "_view_module": "@jupyter-widgets/base",
            "_view_module_version": "1.2.0",
            "_view_name": "StyleView",
            "description_width": ""
          }
        }
      }
    }
  },
  "cells": [
    {
      "cell_type": "markdown",
      "metadata": {
        "id": "view-in-github",
        "colab_type": "text"
      },
      "source": [
        "<a href=\"https://colab.research.google.com/github/Seher-Kanwal/Sentimental-analysis-Using-bert-base-multilingual-uncased-sentiment/blob/main/SentimentalAnalysisOnYelpReviews.ipynb\" target=\"_parent\"><img src=\"https://colab.research.google.com/assets/colab-badge.svg\" alt=\"Open In Colab\"/></a>"
      ]
    },
    {
      "cell_type": "markdown",
      "source": [
        "# **1 - First we will import all the dependcies**\n",
        "\n",
        "\n",
        "* First we import transformer - a libray of hugging face in order to import    pre-trainted models\n",
        "\n",
        "*  Import tokenizer than convert text into some vector representation and than we import AutoModelSequence to load our model for sentimental analysis\n",
        "\n",
        "*   Request - bcz we are going to send a req to yelp to scarp comments \n",
        "\n",
        "*   Beautiful - to scrap comments\n",
        "\n",
        "*   pandas - to deal with dataframes\n",
        "\n",
        "*   numpy - to perfrom mathematical operations\n",
        "\n",
        "*   torch - to use argmax fn to get high priorty sentiment\n",
        "\n",
        "\n",
        "\n",
        "\n",
        "\n",
        "\n",
        "\n"
      ],
      "metadata": {
        "id": "vH1he-6BkDdY"
      }
    },
    {
      "cell_type": "code",
      "execution_count": 1,
      "metadata": {
        "colab": {
          "base_uri": "https://localhost:8080/"
        },
        "id": "OXkIBP-maYAo",
        "outputId": "2f7a26be-9f7a-4670-ff03-c5e800354ecc"
      },
      "outputs": [
        {
          "output_type": "stream",
          "name": "stdout",
          "text": [
            "Looking in indexes: https://pypi.org/simple, https://us-python.pkg.dev/colab-wheels/public/simple/\n",
            "Collecting transformers\n",
            "  Downloading transformers-4.25.1-py3-none-any.whl (5.8 MB)\n",
            "\u001b[K     |████████████████████████████████| 5.8 MB 15.3 MB/s \n",
            "\u001b[?25hRequirement already satisfied: filelock in /usr/local/lib/python3.8/dist-packages (from transformers) (3.8.0)\n",
            "Requirement already satisfied: numpy>=1.17 in /usr/local/lib/python3.8/dist-packages (from transformers) (1.21.6)\n",
            "Requirement already satisfied: regex!=2019.12.17 in /usr/local/lib/python3.8/dist-packages (from transformers) (2022.6.2)\n",
            "Collecting tokenizers!=0.11.3,<0.14,>=0.11.1\n",
            "  Downloading tokenizers-0.13.2-cp38-cp38-manylinux_2_17_x86_64.manylinux2014_x86_64.whl (7.6 MB)\n",
            "\u001b[K     |████████████████████████████████| 7.6 MB 77.4 MB/s \n",
            "\u001b[?25hRequirement already satisfied: requests in /usr/local/lib/python3.8/dist-packages (from transformers) (2.23.0)\n",
            "Collecting huggingface-hub<1.0,>=0.10.0\n",
            "  Downloading huggingface_hub-0.11.1-py3-none-any.whl (182 kB)\n",
            "\u001b[K     |████████████████████████████████| 182 kB 49.3 MB/s \n",
            "\u001b[?25hRequirement already satisfied: packaging>=20.0 in /usr/local/lib/python3.8/dist-packages (from transformers) (21.3)\n",
            "Requirement already satisfied: pyyaml>=5.1 in /usr/local/lib/python3.8/dist-packages (from transformers) (6.0)\n",
            "Requirement already satisfied: tqdm>=4.27 in /usr/local/lib/python3.8/dist-packages (from transformers) (4.64.1)\n",
            "Requirement already satisfied: typing-extensions>=3.7.4.3 in /usr/local/lib/python3.8/dist-packages (from huggingface-hub<1.0,>=0.10.0->transformers) (4.1.1)\n",
            "Requirement already satisfied: pyparsing!=3.0.5,>=2.0.2 in /usr/local/lib/python3.8/dist-packages (from packaging>=20.0->transformers) (3.0.9)\n",
            "Requirement already satisfied: idna<3,>=2.5 in /usr/local/lib/python3.8/dist-packages (from requests->transformers) (2.10)\n",
            "Requirement already satisfied: certifi>=2017.4.17 in /usr/local/lib/python3.8/dist-packages (from requests->transformers) (2022.9.24)\n",
            "Requirement already satisfied: chardet<4,>=3.0.2 in /usr/local/lib/python3.8/dist-packages (from requests->transformers) (3.0.4)\n",
            "Requirement already satisfied: urllib3!=1.25.0,!=1.25.1,<1.26,>=1.21.1 in /usr/local/lib/python3.8/dist-packages (from requests->transformers) (1.24.3)\n",
            "Installing collected packages: tokenizers, huggingface-hub, transformers\n",
            "Successfully installed huggingface-hub-0.11.1 tokenizers-0.13.2 transformers-4.25.1\n"
          ]
        }
      ],
      "source": [
        "!pip install transformers"
      ]
    },
    {
      "cell_type": "code",
      "source": [
        "from transformers import AutoTokenizer, AutoModelForSequenceClassification"
      ],
      "metadata": {
        "id": "jKPPCyJOaexN"
      },
      "execution_count": 2,
      "outputs": []
    },
    {
      "cell_type": "code",
      "source": [
        "!pip install requests beautifulsoup4 pandas numpy"
      ],
      "metadata": {
        "colab": {
          "base_uri": "https://localhost:8080/"
        },
        "id": "4s88pHBRlCa_",
        "outputId": "08652a4f-e00a-48d0-cfdf-7b8aeac0b493"
      },
      "execution_count": 5,
      "outputs": [
        {
          "output_type": "stream",
          "name": "stdout",
          "text": [
            "Looking in indexes: https://pypi.org/simple, https://us-python.pkg.dev/colab-wheels/public/simple/\n",
            "Requirement already satisfied: requests in /usr/local/lib/python3.8/dist-packages (2.23.0)\n",
            "Requirement already satisfied: beautifulsoup4 in /usr/local/lib/python3.8/dist-packages (4.6.3)\n",
            "Requirement already satisfied: pandas in /usr/local/lib/python3.8/dist-packages (1.3.5)\n",
            "Requirement already satisfied: numpy in /usr/local/lib/python3.8/dist-packages (1.21.6)\n",
            "Requirement already satisfied: idna<3,>=2.5 in /usr/local/lib/python3.8/dist-packages (from requests) (2.10)\n",
            "Requirement already satisfied: certifi>=2017.4.17 in /usr/local/lib/python3.8/dist-packages (from requests) (2022.9.24)\n",
            "Requirement already satisfied: chardet<4,>=3.0.2 in /usr/local/lib/python3.8/dist-packages (from requests) (3.0.4)\n",
            "Requirement already satisfied: urllib3!=1.25.0,!=1.25.1,<1.26,>=1.21.1 in /usr/local/lib/python3.8/dist-packages (from requests) (1.24.3)\n",
            "Requirement already satisfied: pytz>=2017.3 in /usr/local/lib/python3.8/dist-packages (from pandas) (2022.6)\n",
            "Requirement already satisfied: python-dateutil>=2.7.3 in /usr/local/lib/python3.8/dist-packages (from pandas) (2.8.2)\n",
            "Requirement already satisfied: six>=1.5 in /usr/local/lib/python3.8/dist-packages (from python-dateutil>=2.7.3->pandas) (1.15.0)\n"
          ]
        }
      ]
    },
    {
      "cell_type": "code",
      "source": [
        "! pip install torch"
      ],
      "metadata": {
        "colab": {
          "base_uri": "https://localhost:8080/"
        },
        "id": "1efl0Gqandal",
        "outputId": "204b0243-b167-499f-be8d-9245cabb204f"
      },
      "execution_count": 6,
      "outputs": [
        {
          "output_type": "stream",
          "name": "stdout",
          "text": [
            "Looking in indexes: https://pypi.org/simple, https://us-python.pkg.dev/colab-wheels/public/simple/\n",
            "Requirement already satisfied: torch in /usr/local/lib/python3.8/dist-packages (1.12.1+cu113)\n",
            "Requirement already satisfied: typing-extensions in /usr/local/lib/python3.8/dist-packages (from torch) (4.1.1)\n"
          ]
        }
      ]
    },
    {
      "cell_type": "code",
      "source": [
        "import torch\n",
        "import requests\n",
        "from bs4 import BeautifulSoup\n",
        "import re"
      ],
      "metadata": {
        "id": "QdN0P7unoZSN"
      },
      "execution_count": 8,
      "outputs": []
    },
    {
      "cell_type": "markdown",
      "source": [
        "# **Instantiate Model**\n",
        "Here We load tokenizer according to our sentimental model we are going to use and also load the model for sentimental analysis\n",
        "\n"
      ],
      "metadata": {
        "id": "yDfpc1a6oyvY"
      }
    },
    {
      "cell_type": "code",
      "source": [
        "tokenizer = AutoTokenizer.from_pretrained('nlptown/bert-base-multilingual-uncased-sentiment')\n",
        "model = AutoModelForSequenceClassification.from_pretrained('nlptown/bert-base-multilingual-uncased-sentiment')"
      ],
      "metadata": {
        "colab": {
          "base_uri": "https://localhost:8080/",
          "height": 177,
          "referenced_widgets": [
            "9b5ebc1acee74ff79d9838e98b10404b",
            "df6dfd8ff5b940b58a60ce00c2256da4",
            "9952ea5c42fc443196abecc7eb697bbc",
            "328f851350254fb0a071ca1c78de9cc2",
            "d25dda6d39b14d659831e95f24a7405c",
            "6ecdba453d394b95b5e12a9b69f0187b",
            "40d444a317bf4426b879adbf56d608ce",
            "5ae36fb09e8144dab0bf50493656277e",
            "78845220a18149909950ebc2439a25d4",
            "8e131bff2163432bb6d24179a5bb238c",
            "b5de0bf2a88341e18b3830a18ff2200f",
            "1c9697885a65476fa866fd70099d1163",
            "942281e99b57438daadfeb129dc576a6",
            "aa00491d0ae741c49ea5eefb6bf18a9d",
            "a99301b024e44fb5a3120969b4bcf908",
            "daf14b02f028407d9568c05ae59c94a9",
            "6e6a80dd9ce0424188359ee93b35f0f6",
            "b2d756f7650c4f8e884c7a2c6f45968f",
            "c16e09445eca440fac3702dbe45dc7d6",
            "13d3f15ef7a84309b590189a7cd014d2",
            "0fee39c01ff14c9cb5f87a1c76595922",
            "c685363aa95b4c5797390a38f803809c",
            "e5a9d02eff1c43a78947d4da6f126dda",
            "0ce9218768f5498eb74dc267c2e6e9d6",
            "735466291f5f4152a8bcf86c96f83b3d",
            "5928ef183de644a3b5cc3a2d6d7faf40",
            "b659028492154b3684ae455027a3a599",
            "525fb41020574d6fa8d1dfb7362627bc",
            "839a63e146cb4bd699aecbf2905e104b",
            "977a6b0dbaca4311acd37625abe04072",
            "a126c87a24e04820be397fb0ee38b717",
            "e86eec76119f44128167ffcfdba72d09",
            "14f6c261e4f0468c8ff9966aa84778ed",
            "0c2387b37ddb4ca29a9d3a4f039d501b",
            "6106dbde034949d38f2e4f937a7db1c6",
            "60619d2d72754d06bc02ce0640db628f",
            "1da02c7440d44faeb52de27d6201d3b4",
            "d73d327851b04b348b4b3210a881e4d3",
            "4c28a069d7de41e6afd1b37b6e63f965",
            "4d8c0a15ebfe4d66a501c94cdd207bb2",
            "4dc1d8c23cd141c8962bc48955507fac",
            "1bcb2040395f4e22a589d1a7c6fd7441",
            "115fe7c5ee904d0c846b05d90d175110",
            "2c4f2fae1b3d4dd9a510e65065998784",
            "df34f879954e4469840f1edf43051d98",
            "f0d0eff41344490b9bebe96e19c825fc",
            "f70d236a7fe147dea7269949ff879f96",
            "322cadc547b04f0eb9337b0fd6a2d892",
            "cb02a8b34a0e461c984973ccfc57470e",
            "83fae46f34ec4c318573fb4bdb705069",
            "3c689000f0bb49eb8be01c718f4aec3b",
            "ecae12fe74ee4113ad38a13f7ae50455",
            "3b99f7d179fe461b98bf157c568f6b07",
            "f7b4bcdfdd944cd6a83076bfb6bc761e",
            "81f698547aca430caced0417f879c307"
          ]
        },
        "id": "Xg2Hfo_Ma1nZ",
        "outputId": "5174dbd9-dc7a-4c47-a134-cd37981dac83"
      },
      "execution_count": 3,
      "outputs": [
        {
          "output_type": "display_data",
          "data": {
            "text/plain": [
              "Downloading:   0%|          | 0.00/39.0 [00:00<?, ?B/s]"
            ],
            "application/vnd.jupyter.widget-view+json": {
              "version_major": 2,
              "version_minor": 0,
              "model_id": "9b5ebc1acee74ff79d9838e98b10404b"
            }
          },
          "metadata": {}
        },
        {
          "output_type": "display_data",
          "data": {
            "text/plain": [
              "Downloading:   0%|          | 0.00/953 [00:00<?, ?B/s]"
            ],
            "application/vnd.jupyter.widget-view+json": {
              "version_major": 2,
              "version_minor": 0,
              "model_id": "1c9697885a65476fa866fd70099d1163"
            }
          },
          "metadata": {}
        },
        {
          "output_type": "display_data",
          "data": {
            "text/plain": [
              "Downloading:   0%|          | 0.00/872k [00:00<?, ?B/s]"
            ],
            "application/vnd.jupyter.widget-view+json": {
              "version_major": 2,
              "version_minor": 0,
              "model_id": "e5a9d02eff1c43a78947d4da6f126dda"
            }
          },
          "metadata": {}
        },
        {
          "output_type": "display_data",
          "data": {
            "text/plain": [
              "Downloading:   0%|          | 0.00/112 [00:00<?, ?B/s]"
            ],
            "application/vnd.jupyter.widget-view+json": {
              "version_major": 2,
              "version_minor": 0,
              "model_id": "0c2387b37ddb4ca29a9d3a4f039d501b"
            }
          },
          "metadata": {}
        },
        {
          "output_type": "display_data",
          "data": {
            "text/plain": [
              "Downloading:   0%|          | 0.00/669M [00:00<?, ?B/s]"
            ],
            "application/vnd.jupyter.widget-view+json": {
              "version_major": 2,
              "version_minor": 0,
              "model_id": "df34f879954e4469840f1edf43051d98"
            }
          },
          "metadata": {}
        }
      ]
    },
    {
      "cell_type": "markdown",
      "source": [
        " \n",
        " \n",
        " # **Encode and Calculate Sentiment**\n",
        "\n",
        " - here we use return_tensor bcz our model worked on tensor (pytorch tensors)"
      ],
      "metadata": {
        "id": "kQ_E1TA7pY24"
      }
    },
    {
      "cell_type": "code",
      "source": [
        "token = tokenizer.encode(\"I hate this, absolutely the worst\", return_tensors='pt')"
      ],
      "metadata": {
        "id": "5h73LTt4pW5H"
      },
      "execution_count": 26,
      "outputs": []
    },
    {
      "cell_type": "code",
      "source": [
        "token"
      ],
      "metadata": {
        "colab": {
          "base_uri": "https://localhost:8080/"
        },
        "id": "HJ1FJEDEpWwK",
        "outputId": "649a9422-a752-4a4e-c239-a4fbd288f2fd"
      },
      "execution_count": 27,
      "outputs": [
        {
          "output_type": "execute_result",
          "data": {
            "text/plain": [
              "tensor([[  101,   151, 39487, 10372,   117, 35925, 10563, 10103, 43060,   102]])"
            ]
          },
          "metadata": {},
          "execution_count": 27
        }
      ]
    },
    {
      "cell_type": "code",
      "source": [
        "result = model(token)"
      ],
      "metadata": {
        "id": "Qva-A2EZpWrf"
      },
      "execution_count": 28,
      "outputs": []
    },
    {
      "cell_type": "code",
      "source": [
        "### This model return the result in the logistic tag for the sentimental scores \n",
        "tokenizer.decode(token[0][1])"
      ],
      "metadata": {
        "colab": {
          "base_uri": "https://localhost:8080/",
          "height": 35
        },
        "id": "MG-_nPprqwGj",
        "outputId": "09255259-9bd6-4d13-e318-511b385a1851"
      },
      "execution_count": 32,
      "outputs": [
        {
          "output_type": "execute_result",
          "data": {
            "text/plain": [
              "'i'"
            ],
            "application/vnd.google.colaboratory.intrinsic+json": {
              "type": "string"
            }
          },
          "metadata": {},
          "execution_count": 32
        }
      ]
    },
    {
      "cell_type": "code",
      "source": [
        "result"
      ],
      "metadata": {
        "colab": {
          "base_uri": "https://localhost:8080/"
        },
        "id": "pcAEvaAJpWl5",
        "outputId": "216d08ea-3f08-4056-a2c3-a888312a8d63"
      },
      "execution_count": 33,
      "outputs": [
        {
          "output_type": "execute_result",
          "data": {
            "text/plain": [
              "SequenceClassifierOutput(loss=None, logits=tensor([[ 5.0607,  1.6029, -1.0123, -3.0154, -1.8469]],\n",
              "       grad_fn=<AddmmBackward0>), hidden_states=None, attentions=None)"
            ]
          },
          "metadata": {},
          "execution_count": 33
        }
      ]
    },
    {
      "cell_type": "code",
      "source": [
        "result.logits"
      ],
      "metadata": {
        "colab": {
          "base_uri": "https://localhost:8080/"
        },
        "id": "0Kb_MHQmpWh3",
        "outputId": "2ca8d6f4-396e-40ee-9c89-32479db773f3"
      },
      "execution_count": 35,
      "outputs": [
        {
          "output_type": "execute_result",
          "data": {
            "text/plain": [
              "tensor([[ 5.0607,  1.6029, -1.0123, -3.0154, -1.8469]],\n",
              "       grad_fn=<AddmmBackward0>)"
            ]
          },
          "metadata": {},
          "execution_count": 35
        }
      ]
    },
    {
      "cell_type": "markdown",
      "source": [
        "## **As model gives rattings between 1 and 5**\n",
        "but when we axtract using pytorch it starts from 0 to 4\n",
        "\n",
        "in order to convert it into 1 to 5 we add 1 in all the ratings after extracting the argmax"
      ],
      "metadata": {
        "id": "0klJ3KRJtQs2"
      }
    },
    {
      "cell_type": "code",
      "source": [
        "int (torch.argmax(result.logits))+1"
      ],
      "metadata": {
        "colab": {
          "base_uri": "https://localhost:8080/"
        },
        "id": "-fAyqQHIt6Gu",
        "outputId": "cbff201b-5c4e-471c-ca72-0c19b2b5a2bc"
      },
      "execution_count": 37,
      "outputs": [
        {
          "output_type": "execute_result",
          "data": {
            "text/plain": [
              "1"
            ]
          },
          "metadata": {},
          "execution_count": 37
        }
      ]
    },
    {
      "cell_type": "markdown",
      "source": [
        "# **Now Will Scrap the comments from the yelp**"
      ],
      "metadata": {
        "id": "S3ZCZ3yyvUng"
      }
    },
    {
      "cell_type": "code",
      "source": [
        "r = requests.get('https://www.yelp.com/biz/brendas-french-soul-food-san-francisco-6')"
      ],
      "metadata": {
        "id": "otzXhBWbvNP0"
      },
      "execution_count": 38,
      "outputs": []
    },
    {
      "cell_type": "code",
      "source": [
        "## 200 means Request was made successfully\n",
        "r"
      ],
      "metadata": {
        "colab": {
          "base_uri": "https://localhost:8080/"
        },
        "id": "GdIwI4dnvNLe",
        "outputId": "a84d825d-a750-44f7-a1a1-fcbb0df2d06e"
      },
      "execution_count": 39,
      "outputs": [
        {
          "output_type": "execute_result",
          "data": {
            "text/plain": [
              "<Response [200]>"
            ]
          },
          "metadata": {},
          "execution_count": 39
        }
      ]
    },
    {
      "cell_type": "code",
      "source": [
        "r.text"
      ],
      "metadata": {
        "colab": {
          "base_uri": "https://localhost:8080/",
          "height": 140
        },
        "id": "xRlppJ_CvNHc",
        "outputId": "1d9dc972-b22e-4beb-e26c-8cf2ca0d5d30"
      },
      "execution_count": 40,
      "outputs": [
        {
          "output_type": "execute_result",
          "data": {
            "text/plain": [
              "'<!DOCTYPE html><html lang=\"en-US\" prefix=\"og: http://ogp.me/ns#\" style=\"margin: 0;padding: 0; border: 0; font-size: 100%; font: inherit; vertical-align: baseline;\"><head><script>document.documentElement.className=document.documentElement.className.replace(/\\x08no-js\\x08/,\"js\");</script><meta http-equiv=\"Content-Type\" content=\"text/html; charset=UTF-8\" /><meta http-equiv=\"Content-Language\" content=\"en-US\" /><meta name=\"viewport\" content=\"width=device-width, initial-scale=1, shrink-to-fit=no\"><link rel=\"mask-icon\" sizes=\"any\" href=\"https://s3-media0.fl.yelpcdn.com/assets/srv0/yelp_large_assets/b2bb2fb0ec9c/assets/img/logos/yelp_burst.svg\" content=\"#FF1A1A\"><link rel=\"shortcut icon\" href=\"https://s3-media0.fl.yelpcdn.com/assets/srv0/yelp_large_assets/b05852393ae5/assets/img/logos/favicon.ico\"><script> window.ga=window.ga||function(){(ga.q=ga.q||[]).push(arguments)};ga.l=+new Date;window.ygaPageStartTime=new Date().getTime();</script><script>\\n            window.yelp = window.yelp || {};\\n            window.yelp.cookieTypePreferencesHeader = \\'[\"ANALYTICS\",\"FUNCTIONAL\",\"INTERNAL\",\"STRICTLY_NECESSARY\",\"TARGETING\"]\\';\\n\\n            function addCookieManagementScript() {\\n                var tag = document.createElement(\\'script\\');\\n                tag.async = true;\\n                tag.src = \\'https://cdn.cookielaw.org/scripttemplates/otSDKStub.js\\';\\n                tag.type = \\'text/javascript\\';\\n                tag.charset = \\'UTF-8\\';\\n                tag.setAttribute(\\'data-domain-script\\', \\'5fbcd417-fbc1-4fcc-abad-f622f1bba72d\\');\\n                tag.setAttribute(\\'data-document-language\\', \\'true\\');\\n\\n                document.head.appendChild(tag);\\n            }\\n\\n            if (\\'requestIdleCallback\\' in window) {\\n                requestIdleCallback(addCookieManagementScript, { timeout: 4000 });\\n            } else {\\n                setTimeout(addCookieManagementScript, 2000);\\n            }\\n        </script><script async src=\"https://www.google-analytics.com/analytics.js\"></script>\\n\\n    <script>\\n        window.yelp = window.yelp || {};\\n        window.yelp.critical_css = window.yelp.critical_css || {};\\n        window.yelp.critical_css.css_map = {};\\n    </script>\\n    <!-- css-middleware: bootstrap placeholder --><script>(function() { window.yelp.critical_css.recordDone=function(c,l){l.onload=null;var i=window.yelp.critical_css.css_map[c];window.yelp.critical_css.css_map[c]=i&&Object.keys(i).length?i:{loaded:!1,linkTag:l}}; })()</script>\\n<meta name=\"critical_css_middleware\"><link href=\"https://s3-media0.fl.yelpcdn.com/assets/public/yelp-frontend-commons-pkg.yji-3353fa1df3f41e887fe4.css\" rel=\"stylesheet\">\\n<link href=\"https://s3-media0.fl.yelpcdn.com/assets/public/yelp-frontend-shared-ae4c18f14eaa42a199b6f1b8c2c5fa072b5076d3-pkg.yji-0611007f49ac6815057e.css\" rel=\"stylesheet\">\\n<link href=\"https://s3-media0.fl.yelpcdn.com/assets/public/yelp-frontend-shared-dba08312b7422572b93fa00811834c4054ad07de-pkg.yji-e4006065373a0e1b6840.css\" rel=\"stylesheet\">\\n<link href=\"https://s3-media0.fl.yelpcdn.com/assets/public/yelp-frontend-gondola-biz-details-pkg.yji-c0f07b59b3c169b2219c.css\" rel=\"stylesheet\">\\n\\n<script>document.cookie = \"xcj=1|Cw3IrxkP7JpIqGCiQDD6aStD1xsv0z6p395SNWAB78g; Domain=.yelp.com; expires=Sat, 04 Mar 2023 01:29:00 GMT; Max-Age=7776000; Path=/\";</script><link rel=\"search\" type=\"application/opensearchdescription+xml\" href=\"/opensearch\" title=\"Yelp\"></head><body class=\"\" style=\"margin: 0; padding: 0; border: 0; font-size: 100%; font: inherit; vertical-align: baseline; line-height: 1;\"><noscript></noscript><yelp-react-root>\\n<div data-hypernova-key=\"gondolabizdetails__12215__gondolabizdetails__GondolaBizDetails__gondolado_not_use\" data-hypernova-id=\"76070d09-b3f3-4166-830f-8cd3c5c71a21\"></div>\\n<script\\n  type=\"application/json\"\\n  data-hypernova-key=\"gondolabizdetails__12215__gondolabizdetails__GondolaBizDetails__gondolado_not_use\"\\n  data-hypernova-id=\"76070d09-b3f3-4166-830f-8cd3c5c71a21\"\\n><!--{\"locale\": \"en_US\", \"messages\": {}, \"requestCookies\": {}, \"requestHeaders\": {}, \"requestPath\": \"/biz/brendas-french-soul-food-san-francisco-6\", \"requestUrl\": \"https://www.yelp.com/biz/brendas-french-soul-food-san-francisco-6\", \"routeParams\": {\"businessEncidOrAlias\": \"brendas-french-soul-food-san-francisco-6\"}, \"userId\": null, \"bizUserId\": null, \"uniqueRequestId\": \"c21afa2fde507902\", \"site\": \"www\", \"gaConfig\": {\"clientID\": \"1F84E1AB3352A8B3\", \"dimensions\": {\"www\": {\"full_url\": [34, \"/biz/brendas-french-soul-food-san-francisco-6\"], \"internal_ip\": [27, false], \"referrer\": [64, \"none\"]}, \"global\": {\"full_url\": [15, \"/biz/brendas-french-soul-food-san-francisco-6\"], \"internal_ip\": [18, false], \"referrer\": [28, \"none\"]}}, \"domain\": \"yelp.com\", \"enable_high_volume_events\": false, \"ga_enabled\": true, \"js_dimensions\": {\"www\": {}, \"global\": {}}, \"metrics\": {\"www\": {}, \"global\": {}}, \"trackers\": {\"www\": \"UA-30501-24\", \"global\": \"UA-30501-1\"}, \"user_id\": null, \"customParameters\": {}}, \"guv\": \"1F84E1AB3352A8B3\", \"legacyProps\": {\"bizDetailsProps\": {\"bizDetailsMetaProps\": {\"businessId\": \"lJAGnYzku5zSaLnQ_T6_GQ\", \"staticUrl\": \"https://www.yelp.com/biz/brendas-french-soul-food-san-francisco-6\", \"selectedReviewId\": null, \"interfaceLanguageCode\": \"en\", \"cityPageAlias\": \"sf\", \"appLinks\": {\"androidUrl\": null, \"iosUrl\": \"https://www.yelp.com/biz/brendas-french-soul-food-san-francisco-6?utm_campaign=biz_details&amp;utm_medium=organic&amp;utm_source=apple\"}, \"disallowedRobotsDirectives\": null, \"googleAppTags\": {\"androidUrl\": \"android-app://com.yelp.android/yelp-app-indexing/biz/lJAGnYzku5zSaLnQ_T6_GQ?utm_campaign=biz_details&amp;utm_medium=organic&amp;utm_source=google\", \"iosUrl\": \"ios-app://284910350/yelp//biz/lJAGnYzku5zSaLnQ_T6_GQ?utm_campaign=biz_details&amp;utm_medium=organic&amp;utm_source=google\"}, \"msiteUrl\": \"https://m.yelp.com/biz/brendas-french-soul-food-san-francisco-6\"}, \"bizDetailsPageProps\": {\"adUnitsAboveReviewProps\": null, \"adUnitsBelowReviewProps\": null, \"adUnitsSidebarProps\": null, \"autoOpeningMessagingModalProps\": {\"iframeUrls\": {\"mtb_search_ad\": \"/mtb_composer/business/lJAGnYzku5zSaLnQ_T6_GQ/entry_point/mtb_search_ad?source_request_id=fd29ee9e506840c0\", \"mtb_landing_page\": \"/mtb_composer/business/lJAGnYzku5zSaLnQ_T6_GQ/entry_point/mtb_landing_page?source_request_id=fd29ee9e506840c0\", \"third_party_deep_link\": \"/mtb_composer/business/lJAGnYzku5zSaLnQ_T6_GQ/entry_point/third_party_deep_link?source_request_id=fd29ee9e506840c0\", \"mtb_search_action\": \"/mtb_composer/business/lJAGnYzku5zSaLnQ_T6_GQ/entry_point/mtb_search_action?source_request_id=fd29ee9e506840c0\"}}, \"bizDiscoveryTopPitchProps\": null, \"bizPortfolioProps\": null, \"bizQuestionsProps\": null, \"businessAlertProps\": null, \"businessId\": \"lJAGnYzku5zSaLnQ_T6_GQ\", \"businessIsAdvertiser\": false, \"businessName\": \"Brenda\\'s French Soul Food\", \"businessPostsCarouselProps\": null, \"callToActionProps\": null, \"conversationWidgetProps\": null, \"checkInOfferProps\": null, \"cityPageAlias\": \"sf\", \"collectionCardCarouselProps\": {\"collections\": [{\"url\": \"/collection/OECwzrFwhKtS-WwvrtPkYA\", \"itemCount\": 97, \"name\": \"Highly Recommended SF Spots\", \"owner\": {\"displayName\": \"Andrew S.\"}, \"photos\": [{\"sourceUrl\": \"https://s3-media0.fl.yelpcdn.com/bphoto/PJJYlZGthRHn5xR6xHaA0A/300s.jpg\"}]}, {\"url\": \"/collection/NUf-LNuags0wb9jUOaZF1Q\", \"itemCount\": 113, \"name\": \"LGBTQ+ Owned Businesses in the San Francisco Bay Area\", \"owner\": {\"displayName\": \"Yelp I.\"}, \"photos\": [{\"sourceUrl\": \"https://s3-media0.fl.yelpcdn.com/bphoto/VJ865E7ULQWSNjKhNG57VQ/300s.jpg\"}]}, {\"url\": \"/collection/w5kcuukOvuDc8LAHEvG8RQ\", \"itemCount\": 152, \"name\": \"Sexy San Francisco Eats &amp; Views\", \"owner\": {\"displayName\": \"Elvis N.\"}, \"photos\": [{\"sourceUrl\": \"https://s3-media0.fl.yelpcdn.com/bphoto/RLomei53FIN9TUE077ONoA/300s.jpg\"}]}, {\"url\": \"/collection/o3xx9auvvZL95X2LAvX1LA\", \"itemCount\": 194, \"name\": \"Bay Area To Do List?\", \"owner\": {\"displayName\": \"Gaurav K.\"}, \"photos\": [{\"sourceUrl\": \"https://s3-media0.fl.yelpcdn.com/bphoto/RLomei53FIN9TUE077ONoA/300s.jpg\"}]}, {\"url\": \"/collection/CcO4ChJVbRMhyeYghivFtQ\", \"itemCount\": 30, \"name\": \"SF Hood: Tenderloin/Civic Center/Mid-Market\", \"owner\": {\"displayName\": \"Vira P.\"}, \"photos\": [{\"sourceUrl\": \"https://s3-media0.fl.yelpcdn.com/bphoto/Ret1r2LD68ouKGpaVGpPtA/300s.jpg\"}]}, {\"url\": \"/collection/uYEkMFUWNs0Nf0Odit7ZoA\", \"itemCount\": 31, \"name\": \"Brunch in the Bay\\\\ud83c\\\\udf73\", \"owner\": {\"displayName\": \"Gaurav K.\"}, \"photos\": [{\"sourceUrl\": \"https://s3-media0.fl.yelpcdn.com/bphoto/NL6MH-LTNy5mWVv5CppdKg/300s.jpg\"}]}, {\"url\": \"/collection/FHIdoVxdo_Jqlm91OY3uVQ\", \"itemCount\": 32, \"name\": \"SF takes brunch very seriously\", \"owner\": {\"displayName\": \"Edna C.\"}, \"photos\": [{\"sourceUrl\": \"https://s3-media0.fl.yelpcdn.com/bphoto/nnAWYrsb8Yh99AuKvjcrEg/300s.jpg\"}]}, {\"url\": \"/collection/Y_paxWpLJ0-wmB8oAyM3-A\", \"itemCount\": 73, \"name\": \"Tourist in San Francisco\", \"owner\": {\"displayName\": \"Sarina L.\"}, \"photos\": [{\"sourceUrl\": \"https://s3-media0.fl.yelpcdn.com/bphoto/PG3nGYrtolcjKrxqlamvEQ/300s.jpg\"}]}, {\"url\": \"/collection/iMqVa9rjM2mXYoux5oIMSA\", \"itemCount\": 107, \"name\": \"Best Eats: SF Bay Area Edition\", \"owner\": {\"displayName\": \"Lena T.\"}, \"photos\": [{\"sourceUrl\": \"https://s3-media0.fl.yelpcdn.com/bphoto/eIEvQKEdybaW7Xx3ZYRsyw/300s.jpg\"}]}, {\"url\": \"/collection/157F9sQs42T6q0kur3qMQg\", \"itemCount\": 71, \"name\": \"Bay Area need to try spots\", \"owner\": {\"displayName\": \"Charles T.\"}, \"photos\": [{\"sourceUrl\": \"https://s3-media0.fl.yelpcdn.com/bphoto/BJYm0E2ej4jczbcUMsBp8g/300s.jpg\"}]}]}, \"consumerAlertProps\": null, \"dealProps\": null, \"facebookCustomAudienceProps\": {\"isLive\": true, \"url\": \"https://www.facebook.com/tr?id=1432291440371688&amp;ev=NoScript&amp;cd%5Bcategory%5D%5B%5D=breakfast_brunch&amp;cd%5Bcategory%5D%5B%5D=southern&amp;cd%5Bcategory%5D%5B%5D=cajun\"}, \"featurePlacements\": {\"adUnitsAboveReview\": 2, \"fromTheBusiness\": 2, \"mediaShowcase\": 1, \"surveyQuestions\": 2}, \"forceGermanLegalText\": false, \"forceSsr\": true, \"fromTheBusinessProps\": null, \"fullscreenPitchProps\": null, \"giftCertificateProps\": null, \"healthDataProps\": null, \"interfaceLanguageCode\": \"en\", \"interfaceLocaleCode\": \"en_US\", \"isContentfulLayout\": true, \"isStickySidebarEnabled\": true, \"maternityDataProps\": null, \"messageWidgetProps\": null, \"offerCampaignCarouselProps\": null, \"openMtbComposerOnLoad\": null, \"platformWidgetPropsList\": [], \"realtorDataProps\": null, \"relatedBusinessesCarouselProps\": {\"relatedBusinesses\": [{\"categories\": [{\"title\": \"Korean\", \"url\": \"/search?cflt=korean&amp;find_loc=San+Francisco%2C+CA\"}, {\"title\": \"American (New)\", \"url\": \"/search?cflt=newamerican&amp;find_loc=San+Francisco%2C+CA\"}, {\"title\": \"Breakfast &amp; Brunch\", \"url\": \"/search?cflt=breakfast_brunch&amp;find_loc=San+Francisco%2C+CA\"}], \"name\": \"Surisan\", \"rating\": 4.5, \"reviewCount\": 2944, \"businessUrl\": \"/biz/surisan-san-francisco?page_src=related_bizes\", \"currencySymbol\": \"$\", \"microformat\": true, \"photoSrc\": \"https://s3-media0.fl.yelpcdn.com/bphoto/TRmQFBMztDCAlp_ol7IMbA/300s.jpg\", \"priceRange\": 2, \"showCategoryLinks\": false, \"showPhoto\": true, \"showPriceRemainder\": false, \"showVerifiedLicense\": false}, {\"categories\": [{\"title\": \"Breakfast &amp; Brunch\", \"url\": \"/search?cflt=breakfast_brunch&amp;find_loc=San+Francisco%2C+CA\"}, {\"title\": \"Halal\", \"url\": \"/search?cflt=halal&amp;find_loc=San+Francisco%2C+CA\"}, {\"title\": \"American (New)\", \"url\": \"/search?cflt=newamerican&amp;find_loc=San+Francisco%2C+CA\"}], \"name\": \"Cracked &amp; Battered - Potrero Hill\", \"rating\": 4.5, \"reviewCount\": 1178, \"businessUrl\": \"/biz/cracked-and-battered-potrero-hill-san-francisco?page_src=related_bizes\", \"currencySymbol\": \"$\", \"microformat\": true, \"photoSrc\": \"https://s3-media0.fl.yelpcdn.com/bphoto/IKThv0ZudfoTJ9_4SBvJ9Q/300s.jpg\", \"priceRange\": 2, \"showCategoryLinks\": false, \"showPhoto\": true, \"showPriceRemainder\": false, \"showVerifiedLicense\": false}, {\"categories\": [{\"title\": \"Breakfast &amp; Brunch\", \"url\": \"/search?cflt=breakfast_brunch&amp;find_loc=San+Francisco%2C+CA\"}, {\"title\": \"Asian Fusion\", \"url\": \"/search?cflt=asianfusion&amp;find_loc=San+Francisco%2C+CA\"}, {\"title\": \"American (New)\", \"url\": \"/search?cflt=newamerican&amp;find_loc=San+Francisco%2C+CA\"}], \"name\": \"Kitchen Story\", \"rating\": 4.0, \"reviewCount\": 3862, \"businessUrl\": \"/biz/kitchen-story-san-francisco?page_src=related_bizes\", \"currencySymbol\": \"$\", \"microformat\": true, \"photoSrc\": \"https://s3-media0.fl.yelpcdn.com/bphoto/NFhzbxcz4No5Ny8_IHdPMw/300s.jpg\", \"priceRange\": 2, \"showCategoryLinks\": false, \"showPhoto\": true, \"showPriceRemainder\": false, \"showVerifiedLicense\": false}, {\"categories\": [{\"title\": \"American (Traditional)\", \"url\": \"/search?cflt=tradamerican&amp;find_loc=San+Francisco%2C+CA\"}, {\"title\": \"Breakfast &amp; Brunch\", \"url\": \"/search?cflt=breakfast_brunch&amp;find_loc=San+Francisco%2C+CA\"}, {\"title\": \"Burgers\", \"url\": \"/search?cflt=burgers&amp;find_loc=San+Francisco%2C+CA\"}], \"name\": \"Sweet Maple\", \"rating\": 4.5, \"reviewCount\": 4473, \"businessUrl\": \"/biz/sweet-maple-san-francisco?page_src=related_bizes\", \"currencySymbol\": \"$\", \"microformat\": true, \"photoSrc\": \"https://s3-media0.fl.yelpcdn.com/bphoto/etyS0Af-PS74CTwxly2uoA/300s.jpg\", \"priceRange\": 2, \"showCategoryLinks\": false, \"showPhoto\": true, \"showPriceRemainder\": false, \"showVerifiedLicense\": false}, {\"categories\": [{\"title\": \"Breakfast &amp; Brunch\", \"url\": \"/search?cflt=breakfast_brunch&amp;find_loc=San+Francisco%2C+CA\"}], \"name\": \"Mama\\\\u2019s On Washington Square\", \"rating\": 4.0, \"reviewCount\": 4611, \"businessUrl\": \"/biz/mamas-on-washington-square-san-francisco?page_src=related_bizes\", \"currencySymbol\": \"$\", \"microformat\": true, \"photoSrc\": \"https://s3-media0.fl.yelpcdn.com/bphoto/ZR7nOhvDYma2yy8m0dUjEQ/300s.jpg\", \"priceRange\": 2, \"showCategoryLinks\": false, \"showPhoto\": true, \"showPriceRemainder\": false, \"showVerifiedLicense\": false}, {\"categories\": [{\"title\": \"Breakfast &amp; Brunch\", \"url\": \"/search?cflt=breakfast_brunch&amp;find_loc=San+Francisco%2C+CA\"}, {\"title\": \"Cafes\", \"url\": \"/search?cflt=cafes&amp;find_loc=San+Francisco%2C+CA\"}], \"name\": \"Mymy\", \"rating\": 4.0, \"reviewCount\": 1972, \"businessUrl\": \"/biz/mymy-san-francisco-4?page_src=related_bizes\", \"currencySymbol\": \"$\", \"microformat\": true, \"photoSrc\": \"https://s3-media0.fl.yelpcdn.com/bphoto/8O0-Ma1FFTAWUw27141d6g/300s.jpg\", \"priceRange\": 2, \"showCategoryLinks\": false, \"showPhoto\": true, \"showPriceRemainder\": false, \"showVerifiedLicense\": false}, {\"categories\": [{\"title\": \"Italian\", \"url\": \"/search?cflt=italian&amp;find_loc=San+Francisco%2C+CA\"}, {\"title\": \"Pizza\", \"url\": \"/search?cflt=pizza&amp;find_loc=San+Francisco%2C+CA\"}, {\"title\": \"Breakfast &amp; Brunch\", \"url\": \"/search?cflt=breakfast_brunch&amp;find_loc=San+Francisco%2C+CA\"}], \"name\": \"Beretta\", \"rating\": 4.0, \"reviewCount\": 4034, \"businessUrl\": \"/biz/beretta-san-francisco?page_src=related_bizes\", \"currencySymbol\": \"$\", \"microformat\": true, \"photoSrc\": \"https://s3-media0.fl.yelpcdn.com/bphoto/HKxMJ8q8fzOY76hy7ACIag/300s.jpg\", \"priceRange\": 2, \"showCategoryLinks\": false, \"showPhoto\": true, \"showPriceRemainder\": false, \"showVerifiedLicense\": false}, {\"categories\": [{\"title\": \"Breakfast &amp; Brunch\", \"url\": \"/search?cflt=breakfast_brunch&amp;find_loc=San+Francisco%2C+CA\"}, {\"title\": \"Filipino\", \"url\": \"/search?cflt=filipino&amp;find_loc=San+Francisco%2C+CA\"}, {\"title\": \"French\", \"url\": \"/search?cflt=french&amp;find_loc=San+Francisco%2C+CA\"}], \"name\": \"1608 Bistro\", \"rating\": 4.0, \"reviewCount\": 275, \"businessUrl\": \"/biz/1608-bistro-san-francisco?page_src=related_bizes\", \"currencySymbol\": \"$\", \"microformat\": true, \"photoSrc\": \"https://s3-media0.fl.yelpcdn.com/bphoto/6Owcsrl8ZGP-zgbU6FLhBg/300s.jpg\", \"priceRange\": 2, \"showCategoryLinks\": false, \"showPhoto\": true, \"showPriceRemainder\": false, \"showVerifiedLicense\": false}, {\"categories\": [{\"title\": \"Thai\", \"url\": \"/search?cflt=thai&amp;find_loc=San+Francisco%2C+CA\"}, {\"title\": \"Breakfast &amp; Brunch\", \"url\": \"/search?cflt=breakfast_brunch&amp;find_loc=San+Francisco%2C+CA\"}, {\"title\": \"Asian Fusion\", \"url\": \"/search?cflt=asianfusion&amp;find_loc=San+Francisco%2C+CA\"}], \"name\": \"Blackwood\", \"rating\": 4.0, \"reviewCount\": 2015, \"businessUrl\": \"/biz/blackwood-san-francisco-3?page_src=related_bizes\", \"currencySymbol\": \"$\", \"microformat\": true, \"photoSrc\": \"https://s3-media0.fl.yelpcdn.com/bphoto/4J7kmKdrkZjb48WRxzx4TQ/300s.jpg\", \"priceRange\": 2, \"showCategoryLinks\": false, \"showPhoto\": true, \"showPriceRemainder\": false, \"showVerifiedLicense\": false}, {\"categories\": [{\"title\": \"Breakfast &amp; Brunch\", \"url\": \"/search?cflt=breakfast_brunch&amp;find_loc=San+Francisco%2C+CA\"}, {\"title\": \"Diners\", \"url\": \"/search?cflt=diners&amp;find_loc=San+Francisco%2C+CA\"}, {\"title\": \"Bars\", \"url\": \"/search?cflt=bars&amp;find_loc=San+Francisco%2C+CA\"}], \"name\": \"The New Spot On Polk\", \"rating\": 4.5, \"reviewCount\": 861, \"businessUrl\": \"/biz/the-new-spot-on-polk-san-francisco-2?page_src=related_bizes\", \"currencySymbol\": \"$\", \"microformat\": true, \"photoSrc\": \"https://s3-media0.fl.yelpcdn.com/bphoto/S_sDvpomoH5bmi8_wfHQWQ/300s.jpg\", \"priceRange\": 2, \"showCategoryLinks\": false, \"showPhoto\": true, \"showPriceRemainder\": false, \"showVerifiedLicense\": false}]}, \"reservationWidgetProps\": null, \"requestAPhonecallWidgetProps\": null, \"reviewFeedQueryProps\": {\"filters\": {\"languageCode\": \"en\", \"query\": \"\", \"sortType\": \"relevance_desc\"}, \"reviewLanguages\": [{\"code\": \"en\", \"count\": 11816}, {\"code\": \"fr\", \"count\": 3}, {\"code\": \"zh\", \"count\": 3}, {\"code\": \"es\", \"count\": 3}, {\"code\": \"da\", \"count\": 3}, {\"code\": \"de\", \"count\": 1}, {\"code\": \"sv\", \"count\": 1}, {\"code\": \"tr\", \"count\": 1}], \"pagination\": {\"resultsPerPage\": 10, \"startResult\": 0, \"totalResults\": 11816}, \"reviews\": [{\"id\": \"NamAbZnhoANNbbQH0NAqZg\", \"userId\": \"HTYpzXXYldrdIH6iAjzR3w\", \"business\": {\"id\": \"lJAGnYzku5zSaLnQ_T6_GQ\", \"alias\": \"brendas-french-soul-food-san-francisco-6\", \"name\": \"Brenda\\'s French Soul Food\", \"photoSrc\": \"https://s3-media0.fl.yelpcdn.com/bphoto/VJ865E7ULQWSNjKhNG57VQ/60s.jpg\"}, \"user\": {\"link\": \"/user_details?userid=HTYpzXXYldrdIH6iAjzR3w\", \"src\": \"https://s3-media0.fl.yelpcdn.com/assets/srv0/yelp_styleguide/514f6997a318/assets/img/default_avatars/user_60_square.png\", \"srcSet\": null, \"markupDisplayName\": \"Tommy Y.\", \"displayLocation\": \"San Francisco, CA\", \"altText\": \"Tommy Y.\", \"userUrl\": \"/user_details?userid=HTYpzXXYldrdIH6iAjzR3w\", \"partnerAlias\": null, \"friendCount\": 0, \"photoCount\": 1, \"reviewCount\": 1, \"eliteYear\": null}, \"comment\": {\"text\": \"Today I go there with my coworker and then have orders foods <br&gt;After having the food <br&gt;We settle bills and the server charges more than usual price <br&gt;After that I checked and explained to him <br&gt;He not \\\\u00a0listen my explaining<br&gt;He very rude on me and <br&gt;The food is ok <br&gt;Please take care yours business reputation <br&gt;He is not skilful person on service <br&gt;Try to be good employees<br&gt;I&amp;#39;m soo sad for your business\", \"language\": \"en\"}, \"localizedDate\": \"11/18/2022\", \"localizedDateVisited\": null, \"rating\": 4, \"photos\": [{\"src\": \"https://s3-media0.fl.yelpcdn.com/bphoto/io_bnFUCJBfkBvuLPI2Mhw/300s.jpg\", \"link\": \"/biz_photos/brendas-french-soul-food-san-francisco-6?reviewid=NamAbZnhoANNbbQH0NAqZg&amp;select=io_bnFUCJBfkBvuLPI2Mhw\", \"altText\": \"Photo of Brenda\\'s French Soul Food - San Francisco, CA, United States. This is receipt\", \"width\": 300, \"height\": 300, \"caption\": \"This is receipt\"}], \"lightboxMediaItems\": [{\"business\": {\"alias\": \"brendas-french-soul-food-san-francisco-6\", \"id\": \"lJAGnYzku5zSaLnQ_T6_GQ\", \"name\": \"Brenda\\'s French Soul Food\"}, \"businessAvatar\": {\"altText\": \"Brenda\\'s French Soul Food\", \"height\": 30, \"src\": \"https://s3-media0.fl.yelpcdn.com/bphoto/VJ865E7ULQWSNjKhNG57VQ/30s.jpg\", \"srcSet\": \"https://s3-media0.fl.yelpcdn.com/bphoto/VJ865E7ULQWSNjKhNG57VQ/ss.jpg 1.33x,https://s3-media0.fl.yelpcdn.com/bphoto/VJ865E7ULQWSNjKhNG57VQ/60s.jpg 2.00x,https://s3-media0.fl.yelpcdn.com/bphoto/VJ865E7ULQWSNjKhNG57VQ/90s.jpg 3.00x\", \"url\": \"/biz/brendas-french-soul-food-san-francisco-6\", \"width\": 30}, \"caption\": \"This is receipt\", \"helpfulCount\": 0, \"id\": \"io_bnFUCJBfkBvuLPI2Mhw\", \"timeUploaded\": \"November 18, 2022\", \"type\": \"photo\", \"url\": \"https://s3-media0.fl.yelpcdn.com/bphoto/io_bnFUCJBfkBvuLPI2Mhw/o.jpg\", \"user\": {\"avatar\": {\"linkUrl\": \"/user_details?userid=HTYpzXXYldrdIH6iAjzR3w\", \"srcUrl\": \"https://s3-media0.fl.yelpcdn.com/assets/srv0/yelp_styleguide/d53e550ec367/assets/img/default_avatars/user_30_square.png\", \"srcSetUrl\": null}, \"displayName\": \"Tommy Y.\", \"eliteYear\": null, \"friendCount\": 0, \"id\": \"HTYpzXXYldrdIH6iAjzR3w\", \"isCurrentlyElite\": false, \"reviewCount\": 1, \"url\": \"/user_details?userid=HTYpzXXYldrdIH6iAjzR3w\"}, \"userVote\": \"NoVote\"}], \"photosUrl\": \"/biz_photos/brendas-french-soul-food-san-francisco-6?userid=HTYpzXXYldrdIH6iAjzR3w\", \"totalPhotos\": 1, \"feedback\": {\"counts\": {\"useful\": 0, \"funny\": 0, \"cool\": 0}, \"userFeedback\": {\"useful\": false, \"funny\": false, \"cool\": false}, \"voterText\": null}, \"isUpdated\": false, \"businessOwnerReplies\": [{\"id\": \"QN5fq-AeE53kb-zabt7y_A\", \"comment\": \"Tommy, thank you so much for taking the time to share about your experience at Brenda\\\\u2019s French Soul Food. We love hearing from our guests and encourage you to email us with any suggestions for earning that fifth star.\", \"owner\": {\"id\": \"RczzCnHJgjvsnRGh-haf2Q\", \"avatarSrc\": \"https://s3-media0.fl.yelpcdn.com/buphoto/Llih_uLRWAhbFKq0rR8k9Q/30s.jpg\", \"avatarSrcSet\": \"https://s3-media0.fl.yelpcdn.com/buphoto/Llih_uLRWAhbFKq0rR8k9Q/ss.jpg 1.33x,https://s3-media0.fl.yelpcdn.com/buphoto/Llih_uLRWAhbFKq0rR8k9Q/90s.jpg 3.00x\", \"displayName\": \"Brenda B.\", \"role\": \"Business Owner\"}, \"localizedDate\": \"11/18/2022\"}], \"appreciatedBy\": null, \"previousReviews\": null, \"tags\": [{\"label\": \"1 photo\", \"title\": null, \"href\": \"/biz_photos/brendas-french-soul-food-san-francisco-6?userid=HTYpzXXYldrdIH6iAjzR3w\", \"iconName\": \"18x18_camera\", \"iconColor\": \"\"}]}, {\"id\": \"0XLngI-f3oeFhV3vb-bPlg\", \"userId\": \"zhu6XDcgO1T5_RVD6mRbpQ\", \"business\": {\"id\": \"lJAGnYzku5zSaLnQ_T6_GQ\", \"alias\": \"brendas-french-soul-food-san-francisco-6\", \"name\": \"Brenda\\'s French Soul Food\", \"photoSrc\": \"https://s3-media0.fl.yelpcdn.com/bphoto/VJ865E7ULQWSNjKhNG57VQ/60s.jpg\"}, \"user\": {\"link\": \"/user_details?userid=zhu6XDcgO1T5_RVD6mRbpQ\", \"src\": \"https://s3-media0.fl.yelpcdn.com/assets/srv0/yelp_styleguide/514f6997a318/assets/img/default_avatars/user_60_square.png\", \"srcSet\": null, \"markupDisplayName\": \"John B.\", \"displayLocation\": \"Washington, DC\", \"altText\": \"John B.\", \"userUrl\": \"/user_details?userid=zhu6XDcgO1T5_RVD6mRbpQ\", \"partnerAlias\": null, \"friendCount\": 0, \"photoCount\": null, \"reviewCount\": 1, \"eliteYear\": null}, \"comment\": {\"text\": \"\\\\u00bfBusca un grifo de cocina elegante y con estilo que combine con el dise\\\\u00f1o de su cocina contempor\\\\u00e1nea? Entonces echa un vistazo al grifo de cocina moderno de <a href=\\\\\"/redir?url=https%3A%2F%2Fwww.nivito.es%2F3-rh-120-grifos-negros.html&amp;amp;s=307450ae9926720e6c73e083e9c0b94419bfb7672cc951b47dcfcaeb7febb24c\\\\\" target=\\\\\"_blank\\\\\" rel=\\\\\"nofollow\\\\\"&gt;nivito.es/3-rh-120-grifo\\\\u2026</a&gt; Nivito- \\\\u00a1la soluci\\\\u00f3n perfecta para tus necesidades!<br&gt;<br&gt;Este elegante grifo de cocina presenta un dise\\\\u00f1o minimalista que complementar\\\\u00e1 a la perfecci\\\\u00f3n cualquier cocina moderna. La construcci\\\\u00f3n de alta calidad y los materiales duraderos aseguran que este grifo resista el paso del tiempo, mientras que los controles f\\\\u00e1ciles de usar hacen que sea muy f\\\\u00e1cil de usar. Ya sea que est\\\\u00e9 lavando platos o llenando una olla, el grifo de cocina Nivito seguramente le har\\\\u00e1 la vida m\\\\u00e1s f\\\\u00e1cil. Adem\\\\u00e1s, el hermoso acabado cromado seguramente agregar\\\\u00e1 un toque de estilo a su cocina.<br&gt;<br&gt;Entonces, si est\\\\u00e1 buscando un grifo de cocina elegante y con estilo que lo ayude a completar el dise\\\\u00f1o de su cocina moderna, entonces aseg\\\\u00farese de revisar el grifo de cocina Nivito: \\\\u00a1es la elecci\\\\u00f3n perfecta para usted!\", \"language\": \"en\"}, \"localizedDate\": \"11/11/2022\", \"localizedDateVisited\": null, \"rating\": 5, \"photos\": [], \"lightboxMediaItems\": [], \"photosUrl\": \"/biz_photos/brendas-french-soul-food-san-francisco-6?userid=zhu6XDcgO1T5_RVD6mRbpQ\", \"totalPhotos\": 0, \"feedback\": {\"counts\": {\"useful\": 1, \"funny\": 0, \"cool\": 0}, \"userFeedback\": {\"useful\": false, \"funny\": false, \"cool\": false}, \"voterText\": null}, \"isUpdated\": false, \"businessOwnerReplies\": null, \"appreciatedBy\": null, \"previousReviews\": null, \"tags\": []}, {\"id\": \"MOqssdorcmDePo8Ak2zbAA\", \"userId\": \"Lxx0mLamUjdLkf-39hewSA\", \"business\": {\"id\": \"lJAGnYzku5zSaLnQ_T6_GQ\", \"alias\": \"brendas-french-soul-food-san-francisco-6\", \"name\": \"Brenda\\'s French Soul Food\", \"photoSrc\": \"https://s3-media0.fl.yelpcdn.com/bphoto/VJ865E7ULQWSNjKhNG57VQ/60s.jpg\"}, \"user\": {\"link\": \"/user_details?userid=Lxx0mLamUjdLkf-39hewSA\", \"src\": \"https://s3-media0.fl.yelpcdn.com/assets/srv0/yelp_styleguide/514f6997a318/assets/img/default_avatars/user_60_square.png\", \"srcSet\": null, \"markupDisplayName\": \"Day D.\", \"displayLocation\": \"San Francisco, CA\", \"altText\": \"Day D.\", \"userUrl\": \"/user_details?userid=Lxx0mLamUjdLkf-39hewSA\", \"partnerAlias\": null, \"friendCount\": 0, \"photoCount\": null, \"reviewCount\": 1, \"eliteYear\": null}, \"comment\": {\"text\": \"The soul food is in my opinion starting to get to mainstream. This is a food that used to be off the radar unless you went to a function at grandmas or family bbq. Brenda&amp;#39;s is not neither of those so for it to be a restaurant it had good service, knowledgeable staff with a nice energy. Lil to tight for me as in seating. Menu not the best but if you know want ribs , cornbread, and some greens just say that don&amp;#39;t need a menu lol. <br&gt;Mac n cheese way to cheesy and dry chicken.\", \"language\": \"en\"}, \"localizedDate\": \"11/18/2022\", \"localizedDateVisited\": null, \"rating\": 3, \"photos\": [], \"lightboxMediaItems\": [], \"photosUrl\": \"/biz_photos/brendas-french-soul-food-san-francisco-6?userid=Lxx0mLamUjdLkf-39hewSA\", \"totalPhotos\": 0, \"feedback\": {\"counts\": {\"useful\": 0, \"funny\": 0, \"cool\": 0}, \"userFeedback\": {\"useful\": false, \"funny\": false, \"cool\": false}, \"voterText\": null}, \"isUpdated\": false, \"businessOwnerReplies\": [{\"id\": \"APD6qWo6QXjEgCwsDQU9Dg\", \"comment\": \"Hi Day, it\\\\u2019s a shame that you didn\\\\u2019t enjoy your time with us. We take great pride in delivering our French-Creole flavors, so we\\\\u2019re disappointed to hear. We take your feedback seriously and will be sure to discuss this internally to continue to improve our offerings. We hope you\\\\u2019ll consider returning to give us another shot!\", \"owner\": {\"id\": \"RczzCnHJgjvsnRGh-haf2Q\", \"avatarSrc\": \"https://s3-media0.fl.yelpcdn.com/buphoto/Llih_uLRWAhbFKq0rR8k9Q/30s.jpg\", \"avatarSrcSet\": \"https://s3-media0.fl.yelpcdn.com/buphoto/Llih_uLRWAhbFKq0rR8k9Q/ss.jpg 1.33x,https://s3-media0.fl.yelpcdn.com/buphoto/Llih_uLRWAhbFKq0rR8k9Q/90s.jpg 3.00x\", \"displayName\": \"Brenda B.\", \"role\": \"Business Owner\"}, \"localizedDate\": \"11/18/2022\"}], \"appreciatedBy\": null, \"previousReviews\": null, \"tags\": []}, {\"id\": \"L1PAucoTVU-lH6ouHW02LA\", \"userId\": \"sJHu2sp8q3pQ3nZonQG1zg\", \"business\": {\"id\": \"lJAGnYzku5zSaLnQ_T6_GQ\", \"alias\": \"brendas-french-soul-food-san-francisco-6\", \"name\": \"Brenda\\'s French Soul Food\", \"photoSrc\": \"https://s3-media0.fl.yelpcdn.com/bphoto/VJ865E7ULQWSNjKhNG57VQ/60s.jpg\"}, \"user\": {\"link\": \"/user_details?userid=sJHu2sp8q3pQ3nZonQG1zg\", \"src\": \"https://s3-media0.fl.yelpcdn.com/photo/ukU_LaUJDQaazIF2np7vHw/60s.jpg\", \"srcSet\": \"https://s3-media0.fl.yelpcdn.com/photo/ukU_LaUJDQaazIF2np7vHw/ms.jpg 1.67x,https://s3-media0.fl.yelpcdn.com/photo/ukU_LaUJDQaazIF2np7vHw/120s.jpg 2.00x,https://s3-media0.fl.yelpcdn.com/photo/ukU_LaUJDQaazIF2np7vHw/90s.jpg 1.50x,https://s3-media0.fl.yelpcdn.com/photo/ukU_LaUJDQaazIF2np7vHw/168s.jpg 2.80x,https://s3-media0.fl.yelpcdn.com/photo/ukU_LaUJDQaazIF2np7vHw/180s.jpg 3.00x\", \"markupDisplayName\": \"Aretha D.\", \"displayLocation\": \"San Francisco, CA\", \"altText\": \"Aretha D.\", \"userUrl\": \"/user_details?userid=sJHu2sp8q3pQ3nZonQG1zg\", \"partnerAlias\": null, \"friendCount\": 79, \"photoCount\": 91, \"reviewCount\": 59, \"eliteYear\": 2022}, \"comment\": {\"text\": \"I&amp;#39;m so happy I finally got to go to this place, I totally understand the hype now. My girlfriends and I stopped by this place on a Saturday morning, got waitlisted for 30 minutes, and then proceeded to get a table close to the kitchen. <br&gt;<br&gt;We ordered the Shrimp &amp;amp; Grits (absolutely must), the Eggs Benedict, and the Beignet Flight. Between the three of us, we had more than enough food. Everything was very well-flavored and full-bodied, I can&amp;#39;t wait to be back.\", \"language\": \"en\"}, \"localizedDate\": \"12/1/2022\", \"localizedDateVisited\": null, \"rating\": 5, \"photos\": [{\"src\": \"https://s3-media0.fl.yelpcdn.com/bphoto/i-6VpFTV5MDNjMHRA-Q0yw/180s.jpg\", \"link\": \"/biz_photos/brendas-french-soul-food-san-francisco-6?reviewid=L1PAucoTVU-lH6ouHW02LA&amp;select=i-6VpFTV5MDNjMHRA-Q0yw\", \"altText\": \"Photo of Brenda\\'s French Soul Food - San Francisco, CA, United States. Menu (back)\", \"width\": 180, \"height\": 180, \"caption\": \"Menu (back)\"}, {\"src\": \"https://s3-media0.fl.yelpcdn.com/bphoto/O9dj0BYIr9-oEfFrvdgx-Q/180s.jpg\", \"link\": \"/biz_photos/brendas-french-soul-food-san-francisco-6?reviewid=L1PAucoTVU-lH6ouHW02LA&amp;select=O9dj0BYIr9-oEfFrvdgx-Q\", \"altText\": \"Photo of Brenda\\'s French Soul Food - San Francisco, CA, United States. the aftermath\", \"width\": 180, \"height\": 180, \"caption\": \"the aftermath\"}, {\"src\": \"https://s3-media0.fl.yelpcdn.com/bphoto/B_XqGLK2jZPSJ2YkyD7y4w/180s.jpg\", \"link\": \"/biz_photos/brendas-french-soul-food-san-francisco-6?reviewid=L1PAucoTVU-lH6ouHW02LA&amp;select=B_XqGLK2jZPSJ2YkyD7y4w\", \"altText\": \"Photo of Brenda\\'s French Soul Food - San Francisco, CA, United States. Beignet Flight (chocolate, Granny Smith apple, crawfish, plain)\", \"width\": 180, \"height\": 180, \"caption\": \"Beignet Flight (chocolate, Granny Smith apple, crawfish, plain)\"}, {\"src\": \"https://s3-media0.fl.yelpcdn.com/bphoto/0Tz0Atd9KAZDKKHM_dARjg/180s.jpg\", \"link\": \"/biz_photos/brendas-french-soul-food-san-francisco-6?reviewid=L1PAucoTVU-lH6ouHW02LA&amp;select=0Tz0Atd9KAZDKKHM_dARjg\", \"altText\": \"Photo of Brenda\\'s French Soul Food - San Francisco, CA, United States. Menu (front)\", \"width\": 180, \"height\": 180, \"caption\": \"Menu (front)\"}], \"lightboxMediaItems\": [{\"business\": {\"alias\": \"brendas-french-soul-food-san-francisco-6\", \"id\": \"lJAGnYzku5zSaLnQ_T6_GQ\", \"name\": \"Brenda\\'s French Soul Food\"}, \"businessAvatar\": {\"altText\": \"Brenda\\'s French Soul Food\", \"height\": 30, \"src\": \"https://s3-media0.fl.yelpcdn.com/bphoto/VJ865E7ULQWSNjKhNG57VQ/30s.jpg\", \"srcSet\": \"https://s3-media0.fl.yelpcdn.com/bphoto/VJ865E7ULQWSNjKhNG57VQ/ss.jpg 1.33x,https://s3-media0.fl.yelpcdn.com/bphoto/VJ865E7ULQWSNjKhNG57VQ/60s.jpg 2.00x,https://s3-media0.fl.yelpcdn.com/bphoto/VJ865E7ULQWSNjKhNG57VQ/90s.jpg 3.00x\", \"url\": \"/biz/brendas-french-soul-food-san-francisco-6\", \"width\": 30}, \"caption\": \"Menu (back)\", \"helpfulCount\": 0, \"id\": \"i-6VpFTV5MDNjMHRA-Q0yw\", \"timeUploaded\": \"December 1, 2022\", \"type\": \"photo\", \"url\": \"https://s3-media0.fl.yelpcdn.com/bphoto/i-6VpFTV5MDNjMHRA-Q0yw/o.jpg\", \"user\": {\"avatar\": {\"linkUrl\": \"/user_details?userid=sJHu2sp8q3pQ3nZonQG1zg\", \"srcUrl\": \"https://s3-media0.fl.yelpcdn.com/photo/ukU_LaUJDQaazIF2np7vHw/30s.jpg\", \"srcSetUrl\": \"https://s3-media0.fl.yelpcdn.com/photo/ukU_LaUJDQaazIF2np7vHw/ss.jpg 1.33x,https://s3-media0.fl.yelpcdn.com/photo/ukU_LaUJDQaazIF2np7vHw/60s.jpg 2.00x,https://s3-media0.fl.yelpcdn.com/photo/ukU_LaUJDQaazIF2np7vHw/90s.jpg 3.00x\"}, \"displayName\": \"Aretha D.\", \"eliteYear\": 2022, \"friendCount\": 79, \"id\": \"sJHu2sp8q3pQ3nZonQG1zg\", \"isCurrentlyElite\": true, \"reviewCount\": 59, \"url\": \"/user_details?userid=sJHu2sp8q3pQ3nZonQG1zg\"}, \"userVote\": \"NoVote\"}, {\"business\": {\"alias\": \"brendas-french-soul-food-san-francisco-6\", \"id\": \"lJAGnYzku5zSaLnQ_T6_GQ\", \"name\": \"Brenda\\'s French Soul Food\"}, \"businessAvatar\": {\"altText\": \"Brenda\\'s French Soul Food\", \"height\": 30, \"src\": \"https://s3-media0.fl.yelpcdn.com/bphoto/VJ865E7ULQWSNjKhNG57VQ/30s.jpg\", \"srcSet\": \"https://s3-media0.fl.yelpcdn.com/bphoto/VJ865E7ULQWSNjKhNG57VQ/ss.jpg 1.33x,https://s3-media0.fl.yelpcdn.com/bphoto/VJ865E7ULQWSNjKhNG57VQ/60s.jpg 2.00x,https://s3-media0.fl.yelpcdn.com/bphoto/VJ865E7ULQWSNjKhNG57VQ/90s.jpg 3.00x\", \"url\": \"/biz/brendas-french-soul-food-san-francisco-6\", \"width\": 30}, \"caption\": \"the aftermath\", \"helpfulCount\": 0, \"id\": \"O9dj0BYIr9-oEfFrvdgx-Q\", \"timeUploaded\": \"December 1, 2022\", \"type\": \"photo\", \"url\": \"https://s3-media0.fl.yelpcdn.com/bphoto/O9dj0BYIr9-oEfFrvdgx-Q/o.jpg\", \"user\": {\"avatar\": {\"linkUrl\": \"/user_details?userid=sJHu2sp8q3pQ3nZonQG1zg\", \"srcUrl\": \"https://s3-media0.fl.yelpcdn.com/photo/ukU_LaUJDQaazIF2np7vHw/30s.jpg\", \"srcSetUrl\": \"https://s3-media0.fl.yelpcdn.com/photo/ukU_LaUJDQaazIF2np7vHw/ss.jpg 1.33x,https://s3-media0.fl.yelpcdn.com/photo/ukU_LaUJDQaazIF2np7vHw/60s.jpg 2.00x,https://s3-media0.fl.yelpcdn.com/photo/ukU_LaUJDQaazIF2np7vHw/90s.jpg 3.00x\"}, \"displayName\": \"Aretha D.\", \"eliteYear\": 2022, \"friendCount\": 79, \"id\": \"sJHu2sp8q3pQ3nZonQG1zg\", \"isCurrentlyElite\": true, \"reviewCount\": 59, \"url\": \"/user_details?userid=sJHu2sp8q3pQ3nZonQG1zg\"}, \"userVote\": \"NoVote\"}, {\"business\": {\"alias\": \"brendas-french-soul-food-san-francisco-6\", \"id\": \"lJAGnYzku5zSaLnQ_T6_GQ\", \"name\": \"Brenda\\'s French Soul Food\"}, \"businessAvatar\": {\"altText\": \"Brenda\\'s French Soul Food\", \"height\": 30, \"src\": \"https://s3-media0.fl.yelpcdn.com/bphoto/VJ865E7ULQWSNjKhNG57VQ/30s.jpg\", \"srcSet\": \"https://s3-media0.fl.yelpcdn.com/bphoto/VJ865E7ULQWSNjKhNG57VQ/ss.jpg 1.33x,https://s3-media0.fl.yelpcdn.com/bphoto/VJ865E7ULQWSNjKhNG57VQ/60s.jpg 2.00x,https://s3-media0.fl.yelpcdn.com/bphoto/VJ865E7ULQWSNjKhNG57VQ/90s.jpg 3.00x\", \"url\": \"/biz/brendas-french-soul-food-san-francisco-6\", \"width\": 30}, \"caption\": \"Beignet Flight (chocolate, Granny Smith apple, crawfish, plain)\", \"helpfulCount\": 0, \"id\": \"B_XqGLK2jZPSJ2YkyD7y4w\", \"timeUploaded\": \"December 1, 2022\", \"type\": \"photo\", \"url\": \"https://s3-media0.fl.yelpcdn.com/bphoto/B_XqGLK2jZPSJ2YkyD7y4w/o.jpg\", \"user\": {\"avatar\": {\"linkUrl\": \"/user_details?userid=sJHu2sp8q3pQ3nZonQG1zg\", \"srcUrl\": \"https://s3-media0.fl.yelpcdn.com/photo/ukU_LaUJDQaazIF2np7vHw/30s.jpg\", \"srcSetUrl\": \"https://s3-media0.fl.yelpcdn.com/photo/ukU_LaUJDQaazIF2np7vHw/ss.jpg 1.33x,https://s3-media0.fl.yelpcdn.com/photo/ukU_LaUJDQaazIF2np7vHw/60s.jpg 2.00x,https://s3-media0.fl.yelpcdn.com/photo/ukU_LaUJDQaazIF2np7vHw/90s.jpg 3.00x\"}, \"displayName\": \"Aretha D.\", \"eliteYear\": 2022, \"friendCount\": 79, \"id\": \"sJHu2sp8q3pQ3nZonQG1zg\", \"isCurrentlyElite\": true, \"reviewCount\": 59, \"url\": \"/user_details?userid=sJHu2sp8q3pQ3nZonQG1zg\"}, \"userVote\": \"NoVote\"}, {\"business\": {\"alias\": \"brendas-french-soul-food-san-francisco-6\", \"id\": \"lJAGnYzku5zSaLnQ_T6_GQ\", \"name\": \"Brenda\\'s French Soul Food\"}, \"businessAvatar\": {\"altText\": \"Brenda\\'s French Soul Food\", \"height\": 30, \"src\": \"https://s3-media0.fl.yelpcdn.com/bphoto/VJ865E7ULQWSNjKhNG57VQ/30s.jpg\", \"srcSet\": \"https://s3-media0.fl.yelpcdn.com/bphoto/VJ865E7ULQWSNjKhNG57VQ/ss.jpg 1.33x,https://s3-media0.fl.yelpcdn.com/bphoto/VJ865E7ULQWSNjKhNG57VQ/60s.jpg 2.00x,https://s3-media0.fl.yelpcdn.com/bphoto/VJ865E7ULQWSNjKhNG57VQ/90s.jpg 3.00x\", \"url\": \"/biz/brendas-french-soul-food-san-francisco-6\", \"width\": 30}, \"caption\": \"Menu (front)\", \"helpfulCount\": 0, \"id\": \"0Tz0Atd9KAZDKKHM_dARjg\", \"timeUploaded\": \"December 1, 2022\", \"type\": \"photo\", \"url\": \"https://s3-media0.fl.yelpcdn.com/bphoto/0Tz0Atd9KAZDKKHM_dARjg/o.jpg\", \"user\": {\"avatar\": {\"linkUrl\": \"/user_details?userid=sJHu2sp8q3pQ3nZonQG1zg\", \"srcUrl\": \"https://s3-media0.fl.yelpcdn.com/photo/ukU_LaUJDQaazIF2np7vHw/30s.jpg\", \"srcSetUrl\": \"https://s3-media0.fl.yelpcdn.com/photo/ukU_LaUJDQaazIF2np7vHw/ss.jpg 1.33x,https://s3-media0.fl.yelpcdn.com/photo/ukU_LaUJDQaazIF2np7vHw/60s.jpg 2.00x,https://s3-media0.fl.yelpcdn.com/photo/ukU_LaUJDQaazIF2np7vHw/90s.jpg 3.00x\"}, \"displayName\": \"Aretha D.\", \"eliteYear\": 2022, \"friendCount\": 79, \"id\": \"sJHu2sp8q3pQ3nZonQG1zg\", \"isCurrentlyElite\": true, \"reviewCount\": 59, \"url\": \"/user_details?userid=sJHu2sp8q3pQ3nZonQG1zg\"}, \"userVote\": \"NoVote\"}, {\"business\": {\"alias\": \"brendas-french-soul-food-san-francisco-6\", \"id\": \"lJAGnYzku5zSaLnQ_T6_GQ\", \"name\": \"Brenda\\'s French Soul Food\"}, \"businessAvatar\": {\"altText\": \"Brenda\\'s French Soul Food\", \"height\": 30, \"src\": \"https://s3-media0.fl.yelpcdn.com/bphoto/VJ865E7ULQWSNjKhNG57VQ/30s.jpg\", \"srcSet\": \"https://s3-media0.fl.yelpcdn.com/bphoto/VJ865E7ULQWSNjKhNG57VQ/ss.jpg 1.33x,https://s3-media0.fl.yelpcdn.com/bphoto/VJ865E7ULQWSNjKhNG57VQ/60s.jpg 2.00x,https://s3-media0.fl.yelpcdn.com/bphoto/VJ865E7ULQWSNjKhNG57VQ/90s.jpg 3.00x\", \"url\": \"/biz/brendas-french-soul-food-san-francisco-6\", \"width\": 30}, \"caption\": \"Eggs Benedict (above) and Shrimp &amp;amp; Grits (bottom)\", \"helpfulCount\": 0, \"id\": \"IBxhwKO8kxvlXbGCbzL5Fg\", \"timeUploaded\": \"December 1, 2022\", \"type\": \"photo\", \"url\": \"https://s3-media0.fl.yelpcdn.com/bphoto/IBxhwKO8kxvlXbGCbzL5Fg/o.jpg\", \"user\": {\"avatar\": {\"linkUrl\": \"/user_details?userid=sJHu2sp8q3pQ3nZonQG1zg\", \"srcUrl\": \"https://s3-media0.fl.yelpcdn.com/photo/ukU_LaUJDQaazIF2np7vHw/30s.jpg\", \"srcSetUrl\": \"https://s3-media0.fl.yelpcdn.com/photo/ukU_LaUJDQaazIF2np7vHw/ss.jpg 1.33x,https://s3-media0.fl.yelpcdn.com/photo/ukU_LaUJDQaazIF2np7vHw/60s.jpg 2.00x,https://s3-media0.fl.yelpcdn.com/photo/ukU_LaUJDQaazIF2np7vHw/90s.jpg 3.00x\"}, \"displayName\": \"Aretha D.\", \"eliteYear\": 2022, \"friendCount\": 79, \"id\": \"sJHu2sp8q3pQ3nZonQG1zg\", \"isCurrentlyElite\": true, \"reviewCount\": 59, \"url\": \"/user_details?userid=sJHu2sp8q3pQ3nZonQG1zg\"}, \"userVote\": \"NoVote\"}], \"photosUrl\": \"/biz_photos/brendas-french-soul-food-san-francisco-6?userid=sJHu2sp8q3pQ3nZonQG1zg\", \"totalPhotos\": 5, \"feedback\": {\"counts\": {\"useful\": 1, \"funny\": 0, \"cool\": 1}, \"userFeedback\": {\"useful\": false, \"funny\": false, \"cool\": false}, \"voterText\": null}, \"isUpdated\": false, \"businessOwnerReplies\": [{\"id\": \"gw91gurlexaEQEjyfEYcEg\", \"comment\": \"Hi there, Aretha! We\\\\u2019re so glad to hear that you had an excellent experience with us here at Brenda\\\\u2019s French Soul Food. Thanks for your review and we hope to see you again soon.\", \"owner\": {\"id\": \"RczzCnHJgjvsnRGh-haf2Q\", \"avatarSrc\": \"https://s3-media0.fl.yelpcdn.com/buphoto/Llih_uLRWAhbFKq0rR8k9Q/30s.jpg\", \"avatarSrcSet\": \"https://s3-media0.fl.yelpcdn.com/buphoto/Llih_uLRWAhbFKq0rR8k9Q/ss.jpg 1.33x,https://s3-media0.fl.yelpcdn.com/buphoto/Llih_uLRWAhbFKq0rR8k9Q/90s.jpg 3.00x\", \"displayName\": \"Brenda B.\", \"role\": \"Business Owner\"}, \"localizedDate\": \"12/2/2022\"}], \"appreciatedBy\": null, \"previousReviews\": null, \"tags\": [{\"label\": \"5 photos\", \"title\": null, \"href\": \"/biz_photos/brendas-french-soul-food-san-francisco-6?userid=sJHu2sp8q3pQ3nZonQG1zg\", \"iconName\": \"18x18_camera\", \"iconColor\": \"\"}]}, {\"id\": \"q61AQxr3IEOwIsqhZq1h-w\", \"userId\": \"0b6Ne1FBqrQ7amA6Bl-TSw\", \"business\": {\"id\": \"lJAGnYzku5zSaLnQ_T6_GQ\", \"alias\": \"brendas-french-soul-food-san-francisco-6\", \"name\": \"Brenda\\'s French Soul Food\", \"photoSrc\": \"https://s3-media0.fl.yelpcdn.com/bphoto/VJ865E7ULQWSNjKhNG57VQ/60s.jpg\"}, \"user\": {\"link\": \"/user_details?userid=0b6Ne1FBqrQ7amA6Bl-TSw\", \"src\": \"https://s3-media0.fl.yelpcdn.com/photo/TIkNy64P4R28UL1W_YiVUg/60s.jpg\", \"srcSet\": \"https://s3-media0.fl.yelpcdn.com/photo/TIkNy64P4R28UL1W_YiVUg/ms.jpg 1.67x,https://s3-media0.fl.yelpcdn.com/photo/TIkNy64P4R28UL1W_YiVUg/120s.jpg 2.00x,https://s3-media0.fl.yelpcdn.com/photo/TIkNy64P4R28UL1W_YiVUg/90s.jpg 1.50x,https://s3-media0.fl.yelpcdn.com/photo/TIkNy64P4R28UL1W_YiVUg/168s.jpg 2.80x,https://s3-media0.fl.yelpcdn.com/photo/TIkNy64P4R28UL1W_YiVUg/180s.jpg 3.00x\", \"markupDisplayName\": \"Elizabeth C.\", \"displayLocation\": \"San Francisco, CA\", \"altText\": \"Elizabeth C.\", \"userUrl\": \"/user_details?userid=0b6Ne1FBqrQ7amA6Bl-TSw\", \"partnerAlias\": null, \"friendCount\": 19, \"photoCount\": 86, \"reviewCount\": 72, \"eliteYear\": 2022}, \"comment\": {\"text\": \"- went on a friday for lunch, and was seated as soon as my party was all there <br&gt;- they have a blackboard inside for you to write your name on as you wait, and ask you to wait outside. the surrounding area can be a little shady, but the street brenda&amp;#39;s is on is not bad<br&gt;- they also have daily/weekly specials, so make sure to check those out<br&gt;<br&gt;- crawfish beignets (2/5): all the reviews raved about these, so my expectations were pretty high, however, the beignets sadly did not deliver. the filling was fishy in a bad way, and lacked flavor, despite how good it looked. they were almost bland, and the cajun spice that topped it didn&amp;#39;t really taste like anything. the dough was also a lot thicker than i was expecting for a beignet. if you do get them though, make sure to eat them fresh, as they don&amp;#39;t taste very good cold.<br&gt;- thigh, drumstick, and biscuit combo (3/5): this was a lot smaller than i expected. the thigh and drumstick were kind of small, and it wasn&amp;#39;t dry nor juicy? there also wasn&amp;#39;t much breading :( the hot pepper jelly was reminiscent of sweet thai chili sauce, and helped cut through the heaviness of the dish. the biscuit was pretty big, and soft on the inside. it came with strawberry jam which also helped cut through the dish.<br&gt;- my friends got the fried chicken eggs benedict, andouille sausage and cheddar omelette, and spicy chicken sandwich. their servings were all really large and seemed to fill them up. i also tried my friend&amp;#39;s cheddar grits, which were pretty good, although kind of heavy to eat by yourself. the regular grits were a little too plain for me. <br&gt;<br&gt;- overall, seemed to be overhyped to me. i would go back to try their other dishes, but most likely wouldn&amp;#39;t reorder anything i tried aside from the cheese grits.\", \"language\": \"en\"}, \"localizedDate\": \"11/25/2022\", \"localizedDateVisited\": null, \"rating\": 3, \"photos\": [{\"src\": \"https://s3-media0.fl.yelpcdn.com/bphoto/UTdNCoDkDkm3LfBlRBX39g/300s.jpg\", \"link\": \"/biz_photos/brendas-french-soul-food-san-francisco-6?reviewid=q61AQxr3IEOwIsqhZq1h-w&amp;select=UTdNCoDkDkm3LfBlRBX39g\", \"altText\": \"Photo of Brenda\\'s French Soul Food - San Francisco, CA, United States. interior\", \"width\": 300, \"height\": 300, \"caption\": \"interior\"}, {\"src\": \"https://s3-media0.fl.yelpcdn.com/bphoto/hsdISMn1nh0RrqPE9iMPFQ/300s.jpg\", \"link\": \"/biz_photos/brendas-french-soul-food-san-francisco-6?reviewid=q61AQxr3IEOwIsqhZq1h-w&amp;select=hsdISMn1nh0RrqPE9iMPFQ\", \"altText\": \"Photo of Brenda\\'s French Soul Food - San Francisco, CA, United States. fried chicken benedict, spicy chicken sandwich, crawfish beignets, sausage/cheddar omelette, cheddar grits, and fried chicken/biscuit combo\", \"width\": 300, \"height\": 300, \"caption\": \"fried chicken benedict, spicy chicken sandwich, crawfish beignets, sausage/cheddar omelette, cheddar grits, and fried chicken/biscuit combo\"}], \"lightboxMediaItems\": [{\"business\": {\"alias\": \"brendas-french-soul-food-san-francisco-6\", \"id\": \"lJAGnYzku5zSaLnQ_T6_GQ\", \"name\": \"Brenda\\'s French Soul Food\"}, \"businessAvatar\": {\"altText\": \"Brenda\\'s French Soul Food\", \"height\": 30, \"src\": \"https://s3-media0.fl.yelpcdn.com/bphoto/VJ865E7ULQWSNjKhNG57VQ/30s.jpg\", \"srcSet\": \"https://s3-media0.fl.yelpcdn.com/bphoto/VJ865E7ULQWSNjKhNG57VQ/ss.jpg 1.33x,https://s3-media0.fl.yelpcdn.com/bphoto/VJ865E7ULQWSNjKhNG57VQ/60s.jpg 2.00x,https://s3-media0.fl.yelpcdn.com/bphoto/VJ865E7ULQWSNjKhNG57VQ/90s.jpg 3.00x\", \"url\": \"/biz/brendas-french-soul-food-san-francisco-6\", \"width\": 30}, \"caption\": \"interior\", \"helpfulCount\": 0, \"id\": \"UTdNCoDkDkm3LfBlRBX39g\", \"timeUploaded\": \"November 25, 2022\", \"type\": \"photo\", \"url\": \"https://s3-media0.fl.yelpcdn.com/bphoto/UTdNCoDkDkm3LfBlRBX39g/o.jpg\", \"user\": {\"avatar\": {\"linkUrl\": \"/user_details?userid=0b6Ne1FBqrQ7amA6Bl-TSw\", \"srcUrl\": \"https://s3-media0.fl.yelpcdn.com/photo/TIkNy64P4R28UL1W_YiVUg/30s.jpg\", \"srcSetUrl\": \"https://s3-media0.fl.yelpcdn.com/photo/TIkNy64P4R28UL1W_YiVUg/ss.jpg 1.33x,https://s3-media0.fl.yelpcdn.com/photo/TIkNy64P4R28UL1W_YiVUg/60s.jpg 2.00x,https://s3-media0.fl.yelpcdn.com/photo/TIkNy64P4R28UL1W_YiVUg/90s.jpg 3.00x\"}, \"displayName\": \"Elizabeth C.\", \"eliteYear\": 2022, \"friendCount\": 19, \"id\": \"0b6Ne1FBqrQ7amA6Bl-TSw\", \"isCurrentlyElite\": true, \"reviewCount\": 72, \"url\": \"/user_details?userid=0b6Ne1FBqrQ7amA6Bl-TSw\"}, \"userVote\": \"NoVote\"}, {\"business\": {\"alias\": \"brendas-french-soul-food-san-francisco-6\", \"id\": \"lJAGnYzku5zSaLnQ_T6_GQ\", \"name\": \"Brenda\\'s French Soul Food\"}, \"businessAvatar\": {\"altText\": \"Brenda\\'s French Soul Food\", \"height\": 30, \"src\": \"https://s3-media0.fl.yelpcdn.com/bphoto/VJ865E7ULQWSNjKhNG57VQ/30s.jpg\", \"srcSet\": \"https://s3-media0.fl.yelpcdn.com/bphoto/VJ865E7ULQWSNjKhNG57VQ/ss.jpg 1.33x,https://s3-media0.fl.yelpcdn.com/bphoto/VJ865E7ULQWSNjKhNG57VQ/60s.jpg 2.00x,https://s3-media0.fl.yelpcdn.com/bphoto/VJ865E7ULQWSNjKhNG57VQ/90s.jpg 3.00x\", \"url\": \"/biz/brendas-french-soul-food-san-francisco-6\", \"width\": 30}, \"caption\": \"fried chicken benedict, spicy chicken sandwich, crawfish beignets, sausage/cheddar omelette, cheddar grits, and fried chicken/biscuit combo\", \"helpfulCount\": 0, \"id\": \"hsdISMn1nh0RrqPE9iMPFQ\", \"timeUploaded\": \"November 25, 2022\", \"type\": \"photo\", \"url\": \"https://s3-media0.fl.yelpcdn.com/bphoto/hsdISMn1nh0RrqPE9iMPFQ/o.jpg\", \"user\": {\"avatar\": {\"linkUrl\": \"/user_details?userid=0b6Ne1FBqrQ7amA6Bl-TSw\", \"srcUrl\": \"https://s3-media0.fl.yelpcdn.com/photo/TIkNy64P4R28UL1W_YiVUg/30s.jpg\", \"srcSetUrl\": \"https://s3-media0.fl.yelpcdn.com/photo/TIkNy64P4R28UL1W_YiVUg/ss.jpg 1.33x,https://s3-media0.fl.yelpcdn.com/photo/TIkNy64P4R28UL1W_YiVUg/60s.jpg 2.00x,https://s3-media0.fl.yelpcdn.com/photo/TIkNy64P4R28UL1W_YiVUg/90s.jpg 3.00x\"}, \"displayName\": \"Elizabeth C.\", \"eliteYear\": 2022, \"friendCount\": 19, \"id\": \"0b6Ne1FBqrQ7amA6Bl-TSw\", \"isCurrentlyElite\": true, \"reviewCount\": 72, \"url\": \"/user_details?userid=0b6Ne1FBqrQ7amA6Bl-TSw\"}, \"userVote\": \"NoVote\"}], \"photosUrl\": \"/biz_photos/brendas-french-soul-food-san-francisco-6?userid=0b6Ne1FBqrQ7amA6Bl-TSw\", \"totalPhotos\": 2, \"feedback\": {\"counts\": {\"useful\": 1, \"funny\": 0, \"cool\": 0}, \"userFeedback\": {\"useful\": false, \"funny\": false, \"cool\": false}, \"voterText\": null}, \"isUpdated\": false, \"businessOwnerReplies\": [{\"id\": \"fUxNeMxwWO46zyOQWx6tNA\", \"comment\": \"Hi Elizabeth, thank you for taking the time to leave us such a detailed review! We\\\\u2019re glad to know that you and your friends enjoyed a selection of our items and we\\\\u2019re sorry to have missed the mark on the others. We love to know that you are considering returning, and hope that you\\\\u2019ll try one of our many other menu items. Hoping to see you again in the near future!\", \"owner\": {\"id\": \"RczzCnHJgjvsnRGh-haf2Q\", \"avatarSrc\": \"https://s3-media0.fl.yelpcdn.com/buphoto/Llih_uLRWAhbFKq0rR8k9Q/30s.jpg\", \"avatarSrcSet\": \"https://s3-media0.fl.yelpcdn.com/buphoto/Llih_uLRWAhbFKq0rR8k9Q/ss.jpg 1.33x,https://s3-media0.fl.yelpcdn.com/buphoto/Llih_uLRWAhbFKq0rR8k9Q/90s.jpg 3.00x\", \"displayName\": \"Brenda B.\", \"role\": \"Business Owner\"}, \"localizedDate\": \"11/29/2022\"}], \"appreciatedBy\": null, \"previousReviews\": null, \"tags\": [{\"label\": \"2 photos\", \"title\": null, \"href\": \"/biz_photos/brendas-french-soul-food-san-francisco-6?userid=0b6Ne1FBqrQ7amA6Bl-TSw\", \"iconName\": \"18x18_camera\", \"iconColor\": \"\"}]}, {\"id\": \"KHyd2RSNMAH4yPWjcTDLRw\", \"userId\": \"j0W4upHQmaVxd78_m-iVzw\", \"business\": {\"id\": \"lJAGnYzku5zSaLnQ_T6_GQ\", \"alias\": \"brendas-french-soul-food-san-francisco-6\", \"name\": \"Brenda\\'s French Soul Food\", \"photoSrc\": \"https://s3-media0.fl.yelpcdn.com/bphoto/VJ865E7ULQWSNjKhNG57VQ/60s.jpg\"}, \"user\": {\"link\": \"/user_details?userid=j0W4upHQmaVxd78_m-iVzw\", \"src\": \"https://s3-media0.fl.yelpcdn.com/photo/NJMer03aI5g7PyFo4nwLtA/60s.jpg\", \"srcSet\": \"https://s3-media0.fl.yelpcdn.com/photo/NJMer03aI5g7PyFo4nwLtA/ms.jpg 1.67x,https://s3-media0.fl.yelpcdn.com/photo/NJMer03aI5g7PyFo4nwLtA/120s.jpg 2.00x,https://s3-media0.fl.yelpcdn.com/photo/NJMer03aI5g7PyFo4nwLtA/90s.jpg 1.50x,https://s3-media0.fl.yelpcdn.com/photo/NJMer03aI5g7PyFo4nwLtA/168s.jpg 2.80x,https://s3-media0.fl.yelpcdn.com/photo/NJMer03aI5g7PyFo4nwLtA/180s.jpg 3.00x\", \"markupDisplayName\": \"Sutchakorn J.\", \"displayLocation\": \"Chinatown, San Francisco, CA\", \"altText\": \"Sutchakorn J.\", \"userUrl\": \"/user_details?userid=j0W4upHQmaVxd78_m-iVzw\", \"partnerAlias\": null, \"friendCount\": 56, \"photoCount\": 14, \"reviewCount\": 10, \"eliteYear\": null}, \"comment\": {\"text\": \"I&amp;#39;m recommended you guy to eat breakfast in this restaurant.<br&gt;I&amp;#39;m order Egg Benedict and Scramble Egg side Hast and<br&gt;Butter pecan French toast i love that.\", \"language\": \"en\"}, \"localizedDate\": \"11/24/2022\", \"localizedDateVisited\": null, \"rating\": 5, \"photos\": [], \"lightboxMediaItems\": [], \"photosUrl\": \"/biz_photos/brendas-french-soul-food-san-francisco-6?userid=j0W4upHQmaVxd78_m-iVzw\", \"totalPhotos\": 0, \"feedback\": {\"counts\": {\"useful\": 0, \"funny\": 0, \"cool\": 1}, \"userFeedback\": {\"useful\": false, \"funny\": false, \"cool\": false}, \"voterText\": null}, \"isUpdated\": false, \"businessOwnerReplies\": [{\"id\": \"D6JGyeUWGkvPm0wETXy20A\", \"comment\": \"Hi there, Sutchakorn! We\\\\u2019re so glad to hear that you had an excellent experience with us here at Brenda\\\\u2019s French Soul Food. Thanks for your review and we hope to see you again soon.\", \"owner\": {\"id\": \"RczzCnHJgjvsnRGh-haf2Q\", \"avatarSrc\": \"https://s3-media0.fl.yelpcdn.com/buphoto/Llih_uLRWAhbFKq0rR8k9Q/30s.jpg\", \"avatarSrcSet\": \"https://s3-media0.fl.yelpcdn.com/buphoto/Llih_uLRWAhbFKq0rR8k9Q/ss.jpg 1.33x,https://s3-media0.fl.yelpcdn.com/buphoto/Llih_uLRWAhbFKq0rR8k9Q/90s.jpg 3.00x\", \"displayName\": \"Brenda B.\", \"role\": \"Business Owner\"}, \"localizedDate\": \"11/25/2022\"}], \"appreciatedBy\": null, \"previousReviews\": null, \"tags\": []}, {\"id\": \"9kN-KiK5V36qFQM7wQndkA\", \"userId\": \"GdkupEXprSBV3_5jNpE69A\", \"business\": {\"id\": \"lJAGnYzku5zSaLnQ_T6_GQ\", \"alias\": \"brendas-french-soul-food-san-francisco-6\", \"name\": \"Brenda\\'s French Soul Food\", \"photoSrc\": \"https://s3-media0.fl.yelpcdn.com/bphoto/VJ865E7ULQWSNjKhNG57VQ/60s.jpg\"}, \"user\": {\"link\": \"/user_details?userid=GdkupEXprSBV3_5jNpE69A\", \"src\": \"https://s3-media0.fl.yelpcdn.com/photo/NkEHHuBESlMkJAyukeIonw/60s.jpg\", \"srcSet\": \"https://s3-media0.fl.yelpcdn.com/photo/NkEHHuBESlMkJAyukeIonw/ms.jpg 1.67x,https://s3-media0.fl.yelpcdn.com/photo/NkEHHuBESlMkJAyukeIonw/120s.jpg 2.00x,https://s3-media0.fl.yelpcdn.com/photo/NkEHHuBESlMkJAyukeIonw/90s.jpg 1.50x,https://s3-media0.fl.yelpcdn.com/photo/NkEHHuBESlMkJAyukeIonw/168s.jpg 2.80x,https://s3-media0.fl.yelpcdn.com/photo/NkEHHuBESlMkJAyukeIonw/180s.jpg 3.00x\", \"markupDisplayName\": \"Christine H.\", \"displayLocation\": \"Silicon Valley, CA\", \"altText\": \"Christine H.\", \"userUrl\": \"/user_details?userid=GdkupEXprSBV3_5jNpE69A\", \"partnerAlias\": null, \"friendCount\": 354, \"photoCount\": 6586, \"reviewCount\": 1208, \"eliteYear\": 2022}, \"comment\": {\"text\": \"I had stopped by a few years ago, but this time around, I got to try a greater variety of foods that really let me get a better idea of what Brenda&amp;#39;s was all about.<br&gt;<br&gt;We got the following:<br&gt;-Chicken and Andouille Gumbo: we loved how this dish was perfectly seasoned without veering towards being too salty; the hearty and more neutral flavors of the gumbo went well with the juicy and salty andouille; there was an abundance of protein, and the rice was cooked perfectly<br&gt;-Shrimp and Grits: whoo so smooth and creamy; the grits were some of the best that I&amp;#39;ve had, and the shrimp was super juicy and tender; we were sad that it came with only a few; the cheddar on top added a nice kick<br&gt;-Beignet Flight: we went a little overboard when deciding to get this, but we did not regret it; the beignets were piping hot, fluffy, and filled with delectably sweet filling; we especially enjoyed the plain one ironically<br&gt;<br&gt;Service was fine; we did not have to wait long\", \"language\": \"en\"}, \"localizedDate\": \"11/20/2022\", \"localizedDateVisited\": null, \"rating\": 5, \"photos\": [{\"src\": \"https://s3-media0.fl.yelpcdn.com/bphoto/hxuzcFk_br67x2Rp6puQgw/180s.jpg\", \"link\": \"/biz_photos/brendas-french-soul-food-san-francisco-6?reviewid=9kN-KiK5V36qFQM7wQndkA&amp;select=hxuzcFk_br67x2Rp6puQgw\", \"altText\": \"Photo of Brenda\\'s French Soul Food - San Francisco, CA, United States. Top to bottom: Shrimp and Grits, Chicken and Andouille Gumbo\", \"width\": 180, \"height\": 180, \"caption\": \"Top to bottom: Shrimp and Grits, Chicken and Andouille Gumbo\"}, {\"src\": \"https://s3-media0.fl.yelpcdn.com/bphoto/aHRyOcFMqNHh3mfXFnKZOA/180s.jpg\", \"link\": \"/biz_photos/brendas-french-soul-food-san-francisco-6?reviewid=9kN-KiK5V36qFQM7wQndkA&amp;select=aHRyOcFMqNHh3mfXFnKZOA\", \"altText\": \"Photo of Brenda\\'s French Soul Food - San Francisco, CA, United States\", \"width\": 180, \"height\": 180, \"caption\": null}, {\"src\": \"https://s3-media0.fl.yelpcdn.com/bphoto/tamsoYnWI4vGp1s05sKqFQ/180s.jpg\", \"link\": \"/biz_photos/brendas-french-soul-food-san-francisco-6?reviewid=9kN-KiK5V36qFQM7wQndkA&amp;select=tamsoYnWI4vGp1s05sKqFQ\", \"altText\": \"Photo of Brenda\\'s French Soul Food - San Francisco, CA, United States\", \"width\": 180, \"height\": 180, \"caption\": null}, {\"src\": \"https://s3-media0.fl.yelpcdn.com/bphoto/FfV1MqtkKWALUB2rw18qWA/180s.jpg\", \"link\": \"/biz_photos/brendas-french-soul-food-san-francisco-6?reviewid=9kN-KiK5V36qFQM7wQndkA&amp;select=FfV1MqtkKWALUB2rw18qWA\", \"altText\": \"Photo of Brenda\\'s French Soul Food - San Francisco, CA, United States. Beignet Flight\", \"width\": 180, \"height\": 180, \"caption\": \"Beignet Flight\"}], \"lightboxMediaItems\": [{\"business\": {\"alias\": \"brendas-french-soul-food-san-francisco-6\", \"id\": \"lJAGnYzku5zSaLnQ_T6_GQ\", \"name\": \"Brenda\\'s French Soul Food\"}, \"businessAvatar\": {\"altText\": \"Brenda\\'s French Soul Food\", \"height\": 30, \"src\": \"https://s3-media0.fl.yelpcdn.com/bphoto/VJ865E7ULQWSNjKhNG57VQ/30s.jpg\", \"srcSet\": \"https://s3-media0.fl.yelpcdn.com/bphoto/VJ865E7ULQWSNjKhNG57VQ/ss.jpg 1.33x,https://s3-media0.fl.yelpcdn.com/bphoto/VJ865E7ULQWSNjKhNG57VQ/60s.jpg 2.00x,https://s3-media0.fl.yelpcdn.com/bphoto/VJ865E7ULQWSNjKhNG57VQ/90s.jpg 3.00x\", \"url\": \"/biz/brendas-french-soul-food-san-francisco-6\", \"width\": 30}, \"caption\": \"Top to bottom: Shrimp and Grits, Chicken and Andouille Gumbo\", \"helpfulCount\": 0, \"id\": \"hxuzcFk_br67x2Rp6puQgw\", \"timeUploaded\": \"November 20, 2022\", \"type\": \"photo\", \"url\": \"https://s3-media0.fl.yelpcdn.com/bphoto/hxuzcFk_br67x2Rp6puQgw/o.jpg\", \"user\": {\"avatar\": {\"linkUrl\": \"/user_details?userid=GdkupEXprSBV3_5jNpE69A\", \"srcUrl\": \"https://s3-media0.fl.yelpcdn.com/photo/NkEHHuBESlMkJAyukeIonw/30s.jpg\", \"srcSetUrl\": \"https://s3-media0.fl.yelpcdn.com/photo/NkEHHuBESlMkJAyukeIonw/ss.jpg 1.33x,https://s3-media0.fl.yelpcdn.com/photo/NkEHHuBESlMkJAyukeIonw/60s.jpg 2.00x,https://s3-media0.fl.yelpcdn.com/photo/NkEHHuBESlMkJAyukeIonw/90s.jpg 3.00x\"}, \"displayName\": \"Christine H.\", \"eliteYear\": 2022, \"friendCount\": 354, \"id\": \"GdkupEXprSBV3_5jNpE69A\", \"isCurrentlyElite\": true, \"reviewCount\": 1208, \"url\": \"/user_details?userid=GdkupEXprSBV3_5jNpE69A\"}, \"userVote\": \"NoVote\"}, {\"business\": {\"alias\": \"brendas-french-soul-food-san-francisco-6\", \"id\": \"lJAGnYzku5zSaLnQ_T6_GQ\", \"name\": \"Brenda\\'s French Soul Food\"}, \"businessAvatar\": {\"altText\": \"Brenda\\'s French Soul Food\", \"height\": 30, \"src\": \"https://s3-media0.fl.yelpcdn.com/bphoto/VJ865E7ULQWSNjKhNG57VQ/30s.jpg\", \"srcSet\": \"https://s3-media0.fl.yelpcdn.com/bphoto/VJ865E7ULQWSNjKhNG57VQ/ss.jpg 1.33x,https://s3-media0.fl.yelpcdn.com/bphoto/VJ865E7ULQWSNjKhNG57VQ/60s.jpg 2.00x,https://s3-media0.fl.yelpcdn.com/bphoto/VJ865E7ULQWSNjKhNG57VQ/90s.jpg 3.00x\", \"url\": \"/biz/brendas-french-soul-food-san-francisco-6\", \"width\": 30}, \"caption\": null, \"helpfulCount\": 0, \"id\": \"aHRyOcFMqNHh3mfXFnKZOA\", \"timeUploaded\": \"November 20, 2022\", \"type\": \"photo\", \"url\": \"https://s3-media0.fl.yelpcdn.com/bphoto/aHRyOcFMqNHh3mfXFnKZOA/o.jpg\", \"user\": {\"avatar\": {\"linkUrl\": \"/user_details?userid=GdkupEXprSBV3_5jNpE69A\", \"srcUrl\": \"https://s3-media0.fl.yelpcdn.com/photo/NkEHHuBESlMkJAyukeIonw/30s.jpg\", \"srcSetUrl\": \"https://s3-media0.fl.yelpcdn.com/photo/NkEHHuBESlMkJAyukeIonw/ss.jpg 1.33x,https://s3-media0.fl.yelpcdn.com/photo/NkEHHuBESlMkJAyukeIonw/60s.jpg 2.00x,https://s3-media0.fl.yelpcdn.com/photo/NkEHHuBESlMkJAyukeIonw/90s.jpg 3.00x\"}, \"displayName\": \"Christine H.\", \"eliteYear\": 2022, \"friendCount\": 354, \"id\": \"GdkupEXprSBV3_5jNpE69A\", \"isCurrentlyElite\": true, \"reviewCount\": 1208, \"url\": \"/user_details?userid=GdkupEXprSBV3_5jNpE69A\"}, \"userVote\": \"NoVote\"}, {\"business\": {\"alias\": \"brendas-french-soul-food-san-francisco-6\", \"id\": \"lJAGnYzku5zSaLnQ_T6_GQ\", \"name\": \"Brenda\\'s French Soul Food\"}, \"businessAvatar\": {\"altText\": \"Brenda\\'s French Soul Food\", \"height\": 30, \"src\": \"https://s3-media0.fl.yelpcdn.com/bphoto/VJ865E7ULQWSNjKhNG57VQ/30s.jpg\", \"srcSet\": \"https://s3-media0.fl.yelpcdn.com/bphoto/VJ865E7ULQWSNjKhNG57VQ/ss.jpg 1.33x,https://s3-media0.fl.yelpcdn.com/bphoto/VJ865E7ULQWSNjKhNG57VQ/60s.jpg 2.00x,https://s3-media0.fl.yelpcdn.com/bphoto/VJ865E7ULQWSNjKhNG57VQ/90s.jpg 3.00x\", \"url\": \"/biz/brendas-french-soul-food-san-francisco-6\", \"width\": 30}, \"caption\": null, \"helpfulCount\": 0, \"id\": \"tamsoYnWI4vGp1s05sKqFQ\", \"timeUploaded\": \"November 20, 2022\", \"type\": \"photo\", \"url\": \"https://s3-media0.fl.yelpcdn.com/bphoto/tamsoYnWI4vGp1s05sKqFQ/o.jpg\", \"user\": {\"avatar\": {\"linkUrl\": \"/user_details?userid=GdkupEXprSBV3_5jNpE69A\", \"srcUrl\": \"https://s3-media0.fl.yelpcdn.com/photo/NkEHHuBESlMkJAyukeIonw/30s.jpg\", \"srcSetUrl\": \"https://s3-media0.fl.yelpcdn.com/photo/NkEHHuBESlMkJAyukeIonw/ss.jpg 1.33x,https://s3-media0.fl.yelpcdn.com/photo/NkEHHuBESlMkJAyukeIonw/60s.jpg 2.00x,https://s3-media0.fl.yelpcdn.com/photo/NkEHHuBESlMkJAyukeIonw/90s.jpg 3.00x\"}, \"displayName\": \"Christine H.\", \"eliteYear\": 2022, \"friendCount\": 354, \"id\": \"GdkupEXprSBV3_5jNpE69A\", \"isCurrentlyElite\": true, \"reviewCount\": 1208, \"url\": \"/user_details?userid=GdkupEXprSBV3_5jNpE69A\"}, \"userVote\": \"NoVote\"}, {\"business\": {\"alias\": \"brendas-french-soul-food-san-francisco-6\", \"id\": \"lJAGnYzku5zSaLnQ_T6_GQ\", \"name\": \"Brenda\\'s French Soul Food\"}, \"businessAvatar\": {\"altText\": \"Brenda\\'s French Soul Food\", \"height\": 30, \"src\": \"https://s3-media0.fl.yelpcdn.com/bphoto/VJ865E7ULQWSNjKhNG57VQ/30s.jpg\", \"srcSet\": \"https://s3-media0.fl.yelpcdn.com/bphoto/VJ865E7ULQWSNjKhNG57VQ/ss.jpg 1.33x,https://s3-media0.fl.yelpcdn.com/bphoto/VJ865E7ULQWSNjKhNG57VQ/60s.jpg 2.00x,https://s3-media0.fl.yelpcdn.com/bphoto/VJ865E7ULQWSNjKhNG57VQ/90s.jpg 3.00x\", \"url\": \"/biz/brendas-french-soul-food-san-francisco-6\", \"width\": 30}, \"caption\": \"Beignet Flight\", \"helpfulCount\": 0, \"id\": \"FfV1MqtkKWALUB2rw18qWA\", \"timeUploaded\": \"November 20, 2022\", \"type\": \"photo\", \"url\": \"https://s3-media0.fl.yelpcdn.com/bphoto/FfV1MqtkKWALUB2rw18qWA/o.jpg\", \"user\": {\"avatar\": {\"linkUrl\": \"/user_details?userid=GdkupEXprSBV3_5jNpE69A\", \"srcUrl\": \"https://s3-media0.fl.yelpcdn.com/photo/NkEHHuBESlMkJAyukeIonw/30s.jpg\", \"srcSetUrl\": \"https://s3-media0.fl.yelpcdn.com/photo/NkEHHuBESlMkJAyukeIonw/ss.jpg 1.33x,https://s3-media0.fl.yelpcdn.com/photo/NkEHHuBESlMkJAyukeIonw/60s.jpg 2.00x,https://s3-media0.fl.yelpcdn.com/photo/NkEHHuBESlMkJAyukeIonw/90s.jpg 3.00x\"}, \"displayName\": \"Christine H.\", \"eliteYear\": 2022, \"friendCount\": 354, \"id\": \"GdkupEXprSBV3_5jNpE69A\", \"isCurrentlyElite\": true, \"reviewCount\": 1208, \"url\": \"/user_details?userid=GdkupEXprSBV3_5jNpE69A\"}, \"userVote\": \"NoVote\"}], \"photosUrl\": \"/biz_photos/brendas-french-soul-food-san-francisco-6?userid=GdkupEXprSBV3_5jNpE69A\", \"totalPhotos\": 4, \"feedback\": {\"counts\": {\"useful\": 3, \"funny\": 1, \"cool\": 3}, \"userFeedback\": {\"useful\": false, \"funny\": false, \"cool\": false}, \"voterText\": null}, \"isUpdated\": true, \"businessOwnerReplies\": [{\"id\": \"MZzAAbrbCPnL2xv0gd5AIw\", \"comment\": \"Hi there, Christine! We\\\\u2019re so glad to hear that you had an excellent experience with us here at Brenda\\\\u2019s French Soul Food. Thanks for your review and we hope to see you again soon.\", \"owner\": {\"id\": \"RczzCnHJgjvsnRGh-haf2Q\", \"avatarSrc\": \"https://s3-media0.fl.yelpcdn.com/buphoto/Llih_uLRWAhbFKq0rR8k9Q/30s.jpg\", \"avatarSrcSet\": \"https://s3-media0.fl.yelpcdn.com/buphoto/Llih_uLRWAhbFKq0rR8k9Q/ss.jpg 1.33x,https://s3-media0.fl.yelpcdn.com/buphoto/Llih_uLRWAhbFKq0rR8k9Q/90s.jpg 3.00x\", \"displayName\": \"Brenda B.\", \"role\": \"Business Owner\"}, \"localizedDate\": \"11/21/2022\"}], \"appreciatedBy\": null, \"previousReviews\": [{\"id\": \"InfrOziehHyFRi8V3f8ktQ\", \"userId\": \"GdkupEXprSBV3_5jNpE69A\", \"business\": {\"id\": \"lJAGnYzku5zSaLnQ_T6_GQ\", \"alias\": \"brendas-french-soul-food-san-francisco-6\", \"name\": \"Brenda\\'s French Soul Food\", \"photoSrc\": \"https://s3-media0.fl.yelpcdn.com/bphoto/VJ865E7ULQWSNjKhNG57VQ/60s.jpg\"}, \"user\": {\"link\": \"/user_details?userid=GdkupEXprSBV3_5jNpE69A\", \"src\": \"https://s3-media0.fl.yelpcdn.com/photo/NkEHHuBESlMkJAyukeIonw/60s.jpg\", \"srcSet\": \"https://s3-media0.fl.yelpcdn.com/photo/NkEHHuBESlMkJAyukeIonw/ms.jpg 1.67x,https://s3-media0.fl.yelpcdn.com/photo/NkEHHuBESlMkJAyukeIonw/120s.jpg 2.00x,https://s3-media0.fl.yelpcdn.com/photo/NkEHHuBESlMkJAyukeIonw/90s.jpg 1.50x,https://s3-media0.fl.yelpcdn.com/photo/NkEHHuBESlMkJAyukeIonw/168s.jpg 2.80x,https://s3-media0.fl.yelpcdn.com/photo/NkEHHuBESlMkJAyukeIonw/180s.jpg 3.00x\", \"markupDisplayName\": \"Christine H.\", \"displayLocation\": \"Silicon Valley, CA\", \"altText\": \"Christine H.\", \"userUrl\": \"/user_details?userid=GdkupEXprSBV3_5jNpE69A\", \"partnerAlias\": null, \"friendCount\": 354, \"photoCount\": 6586, \"reviewCount\": 1208, \"eliteYear\": 2022}, \"comment\": {\"text\": \"Finally got to try this place out!<br&gt;<br&gt;As mentioned often, Brenda&amp;#39;s is usually pretty busy. Thankfully, if you&amp;#39;re a party of one on an early weekday afternoon, you&amp;#39;ll probably be seated quickly (at least for me, the wait time was...actually there was no wait time)! <br&gt;<br&gt;But if they don&amp;#39;t happen to have any open seats, you&amp;#39;re supposed to write down your name on the conveniently-located chalk board at the front. Note that they don&amp;#39;t take reservations.<br&gt;<br&gt;Brenda&amp;#39;s is spacious (but in a narrow way, or in other words, longitudinally). It&amp;#39;s bright because of the concrete white walls. The deco is simple but covers the walls (mirrors in colorful frames, a large print of a lobster covering one entire wall).<br&gt;<br&gt;Seating: You have either regular dine-in tables or elevated tables with stools.<br&gt;<br&gt;They have daily specials on their chalkboards, but I went for one of their &amp;#34;house specials&amp;#34; instead: The &amp;#34;BFC.&amp;#34;<br&gt;<br&gt;As detailed by their menu, it&amp;#39;s &amp;#34;two pieces of Brenda&amp;#39;s secret recipe fried chicken with fries, coleslaw, and cream biscuits.&amp;#34; Yum. Yum. Yum. I&amp;#39;m glad I skipped breakfast cause it was a heavy meal. I&amp;#39;ll consider today a cheat day.<br&gt;<br&gt;Everything about this dish was beautiful:<br&gt;-Chicken: Juicy white meat chicken (they did not skimp on the meat...got myself two big pieces of chicken). The chicken was lightly coated with a savory coating that had a kick.<br&gt;-Fries: Bed of Cajun Fries (crispy, warm)<br&gt;-Biscuit: Wowza. Crispy, buttery outer layer with fluffy goodness on the inside. And like the chicken legs, the biscuit was big!<br&gt;-Coleslaw: Looks like a small cup, but it provided enough palette-cleansing as well as a dose of veggies <br&gt;-Pickled Watermelon: Gave me the impression that kimchi does when you eat Korean food (another refreshing palette cleanser that provided just the right amount of salty flavor)<br&gt;<br&gt;The service was quick and attentive. Multiple people were checking up on me, and the girl at the front was friendly and quick to respond.<br&gt;<br&gt;Note: You can find 2-hr coin parking along the roads (might take you at least 10~15 minutes to find a spot).\", \"language\": \"en\"}, \"localizedDate\": \"9/11/2018\", \"localizedDateVisited\": null, \"rating\": 5, \"photos\": [{\"src\": \"https://s3-media0.fl.yelpcdn.com/bphoto/PT8havCxIRdDxRn67MwtOQ/180s.jpg\", \"link\": \"/biz_photos/brendas-french-soul-food-san-francisco-6?reviewid=InfrOziehHyFRi8V3f8ktQ&amp;select=PT8havCxIRdDxRn67MwtOQ\", \"altText\": \"Photo of Brenda\\'s French Soul Food - San Francisco, CA, United States. The Goods of the &amp;#34;BFC&amp;#34; (Part 1)\", \"width\": 180, \"height\": 180, \"caption\": \"The Goods of the \\\\\"BFC\\\\\" (Part 1)\"}, {\"src\": \"https://s3-media0.fl.yelpcdn.com/bphoto/ZuYqjvjMpOEdSg0wZk2EgA/180s.jpg\", \"link\": \"/biz_photos/brendas-french-soul-food-san-francisco-6?reviewid=InfrOziehHyFRi8V3f8ktQ&amp;select=ZuYqjvjMpOEdSg0wZk2EgA\", \"altText\": \"Photo of Brenda\\'s French Soul Food - San Francisco, CA, United States. Part 2 of the &amp;#34;BFC&amp;#34;\", \"width\": 180, \"height\": 180, \"caption\": \"Part 2 of the \\\\\"BFC\\\\\"\"}, {\"src\": \"https://s3-media0.fl.yelpcdn.com/bphoto/xcRsv9gkseCXiquchR0waA/180s.jpg\", \"link\": \"/biz_photos/brendas-french-soul-food-san-francisco-6?reviewid=InfrOziehHyFRi8V3f8ktQ&amp;select=xcRsv9gkseCXiquchR0waA\", \"altText\": \"Photo of Brenda\\'s French Soul Food - San Francisco, CA, United States\", \"width\": 180, \"height\": 180, \"caption\": null}, {\"src\": \"https://s3-media0.fl.yelpcdn.com/bphoto/9cQzja1zb9RigcwA0r2Tag/180s.jpg\", \"link\": \"/biz_photos/brendas-french-soul-food-san-francisco-6?reviewid=InfrOziehHyFRi8V3f8ktQ&amp;select=9cQzja1zb9RigcwA0r2Tag\", \"altText\": \"Photo of Brenda\\'s French Soul Food - San Francisco, CA, United States. The BFC\", \"width\": 180, \"height\": 180, \"caption\": \"The BFC\"}], \"lightboxMediaItems\": [{\"business\": {\"alias\": \"brendas-french-soul-food-san-francisco-6\", \"id\": \"lJAGnYzku5zSaLnQ_T6_GQ\", \"name\": \"Brenda\\'s French Soul Food\"}, \"businessAvatar\": {\"altText\": \"Brenda\\'s French Soul Food\", \"height\": 30, \"src\": \"https://s3-media0.fl.yelpcdn.com/bphoto/VJ865E7ULQWSNjKhNG57VQ/30s.jpg\", \"srcSet\": \"https://s3-media0.fl.yelpcdn.com/bphoto/VJ865E7ULQWSNjKhNG57VQ/ss.jpg 1.33x,https://s3-media0.fl.yelpcdn.com/bphoto/VJ865E7ULQWSNjKhNG57VQ/60s.jpg 2.00x,https://s3-media0.fl.yelpcdn.com/bphoto/VJ865E7ULQWSNjKhNG57VQ/90s.jpg 3.00x\", \"url\": \"/biz/brendas-french-soul-food-san-francisco-6\", \"width\": 30}, \"caption\": \"The Goods of the &amp;#34;BFC&amp;#34; (Part 1)\", \"helpfulCount\": 0, \"id\": \"PT8havCxIRdDxRn67MwtOQ\", \"timeUploaded\": \"September 11, 2018\", \"type\": \"photo\", \"url\": \"https://s3-media0.fl.yelpcdn.com/bphoto/PT8havCxIRdDxRn67MwtOQ/o.jpg\", \"user\": {\"avatar\": {\"linkUrl\": \"/user_details?userid=GdkupEXprSBV3_5jNpE69A\", \"srcUrl\": \"https://s3-media0.fl.yelpcdn.com/photo/NkEHHuBESlMkJAyukeIonw/30s.jpg\", \"srcSetUrl\": \"https://s3-media0.fl.yelpcdn.com/photo/NkEHHuBESlMkJAyukeIonw/ss.jpg 1.33x,https://s3-media0.fl.yelpcdn.com/photo/NkEHHuBESlMkJAyukeIonw/60s.jpg 2.00x,https://s3-media0.fl.yelpcdn.com/photo/NkEHHuBESlMkJAyukeIonw/90s.jpg 3.00x\"}, \"displayName\": \"Christine H.\", \"eliteYear\": 2022, \"friendCount\": 354, \"id\": \"GdkupEXprSBV3_5jNpE69A\", \"isCurrentlyElite\": true, \"reviewCount\": 1208, \"url\": \"/user_details?userid=GdkupEXprSBV3_5jNpE69A\"}, \"userVote\": \"NoVote\"}, {\"business\": {\"alias\": \"brendas-french-soul-food-san-francisco-6\", \"id\": \"lJAGnYzku5zSaLnQ_T6_GQ\", \"name\": \"Brenda\\'s French Soul Food\"}, \"businessAvatar\": {\"altText\": \"Brenda\\'s French Soul Food\", \"height\": 30, \"src\": \"https://s3-media0.fl.yelpcdn.com/bphoto/VJ865E7ULQWSNjKhNG57VQ/30s.jpg\", \"srcSet\": \"https://s3-media0.fl.yelpcdn.com/bphoto/VJ865E7ULQWSNjKhNG57VQ/ss.jpg 1.33x,https://s3-media0.fl.yelpcdn.com/bphoto/VJ865E7ULQWSNjKhNG57VQ/60s.jpg 2.00x,https://s3-media0.fl.yelpcdn.com/bphoto/VJ865E7ULQWSNjKhNG57VQ/90s.jpg 3.00x\", \"url\": \"/biz/brendas-french-soul-food-san-francisco-6\", \"width\": 30}, \"caption\": \"Part 2 of the &amp;#34;BFC&amp;#34;\", \"helpfulCount\": 0, \"id\": \"ZuYqjvjMpOEdSg0wZk2EgA\", \"timeUploaded\": \"September 11, 2018\", \"type\": \"photo\", \"url\": \"https://s3-media0.fl.yelpcdn.com/bphoto/ZuYqjvjMpOEdSg0wZk2EgA/o.jpg\", \"user\": {\"avatar\": {\"linkUrl\": \"/user_details?userid=GdkupEXprSBV3_5jNpE69A\", \"srcUrl\": \"https://s3-media0.fl.yelpcdn.com/photo/NkEHHuBESlMkJAyukeIonw/30s.jpg\", \"srcSetUrl\": \"https://s3-media0.fl.yelpcdn.com/photo/NkEHHuBESlMkJAyukeIonw/ss.jpg 1.33x,https://s3-media0.fl.yelpcdn.com/photo/NkEHHuBESlMkJAyukeIonw/60s.jpg 2.00x,https://s3-media0.fl.yelpcdn.com/photo/NkEHHuBESlMkJAyukeIonw/90s.jpg 3.00x\"}, \"displayName\": \"Christine H.\", \"eliteYear\": 2022, \"friendCount\": 354, \"id\": \"GdkupEXprSBV3_5jNpE69A\", \"isCurrentlyElite\": true, \"reviewCount\": 1208, \"url\": \"/user_details?userid=GdkupEXprSBV3_5jNpE69A\"}, \"userVote\": \"NoVote\"}, {\"business\": {\"alias\": \"brendas-french-soul-food-san-francisco-6\", \"id\": \"lJAGnYzku5zSaLnQ_T6_GQ\", \"name\": \"Brenda\\'s French Soul Food\"}, \"businessAvatar\": {\"altText\": \"Brenda\\'s French Soul Food\", \"height\": 30, \"src\": \"https://s3-media0.fl.yelpcdn.com/bphoto/VJ865E7ULQWSNjKhNG57VQ/30s.jpg\", \"srcSet\": \"https://s3-media0.fl.yelpcdn.com/bphoto/VJ865E7ULQWSNjKhNG57VQ/ss.jpg 1.33x,https://s3-media0.fl.yelpcdn.com/bphoto/VJ865E7ULQWSNjKhNG57VQ/60s.jpg 2.00x,https://s3-media0.fl.yelpcdn.com/bphoto/VJ865E7ULQWSNjKhNG57VQ/90s.jpg 3.00x\", \"url\": \"/biz/brendas-french-soul-food-san-francisco-6\", \"width\": 30}, \"caption\": null, \"helpfulCount\": 0, \"id\": \"xcRsv9gkseCXiquchR0waA\", \"timeUploaded\": \"September 11, 2018\", \"type\": \"photo\", \"url\": \"https://s3-media0.fl.yelpcdn.com/bphoto/xcRsv9gkseCXiquchR0waA/o.jpg\", \"user\": {\"avatar\": {\"linkUrl\": \"/user_details?userid=GdkupEXprSBV3_5jNpE69A\", \"srcUrl\": \"https://s3-media0.fl.yelpcdn.com/photo/NkEHHuBESlMkJAyukeIonw/30s.jpg\", \"srcSetUrl\": \"https://s3-media0.fl.yelpcdn.com/photo/NkEHHuBESlMkJAyukeIonw/ss.jpg 1.33x,https://s3-media0.fl.yelpcdn.com/photo/NkEHHuBESlMkJAyukeIonw/60s.jpg 2.00x,https://s3-media0.fl.yelpcdn.com/photo/NkEHHuBESlMkJAyukeIonw/90s.jpg 3.00x\"}, \"displayName\": \"Christine H.\", \"eliteYear\": 2022, \"friendCount\": 354, \"id\": \"GdkupEXprSBV3_5jNpE69A\", \"isCurrentlyElite\": true, \"reviewCount\": 1208, \"url\": \"/user_details?userid=GdkupEXprSBV3_5jNpE69A\"}, \"userVote\": \"NoVote\"}, {\"business\": {\"alias\": \"brendas-french-soul-food-san-francisco-6\", \"id\": \"lJAGnYzku5zSaLnQ_T6_GQ\", \"name\": \"Brenda\\'s French Soul Food\"}, \"businessAvatar\": {\"altText\": \"Brenda\\'s French Soul Food\", \"height\": 30, \"src\": \"https://s3-media0.fl.yelpcdn.com/bphoto/VJ865E7ULQWSNjKhNG57VQ/30s.jpg\", \"srcSet\": \"https://s3-media0.fl.yelpcdn.com/bphoto/VJ865E7ULQWSNjKhNG57VQ/ss.jpg 1.33x,https://s3-media0.fl.yelpcdn.com/bphoto/VJ865E7ULQWSNjKhNG57VQ/60s.jpg 2.00x,https://s3-media0.fl.yelpcdn.com/bphoto/VJ865E7ULQWSNjKhNG57VQ/90s.jpg 3.00x\", \"url\": \"/biz/brendas-french-soul-food-san-francisco-6\", \"width\": 30}, \"caption\": \"The BFC\", \"helpfulCount\": 0, \"id\": \"9cQzja1zb9RigcwA0r2Tag\", \"timeUploaded\": \"September 11, 2018\", \"type\": \"photo\", \"url\": \"https://s3-media0.fl.yelpcdn.com/bphoto/9cQzja1zb9RigcwA0r2Tag/o.jpg\", \"user\": {\"avatar\": {\"linkUrl\": \"/user_details?userid=GdkupEXprSBV3_5jNpE69A\", \"srcUrl\": \"https://s3-media0.fl.yelpcdn.com/photo/NkEHHuBESlMkJAyukeIonw/30s.jpg\", \"srcSetUrl\": \"https://s3-media0.fl.yelpcdn.com/photo/NkEHHuBESlMkJAyukeIonw/ss.jpg 1.33x,https://s3-media0.fl.yelpcdn.com/photo/NkEHHuBESlMkJAyukeIonw/60s.jpg 2.00x,https://s3-media0.fl.yelpcdn.com/photo/NkEHHuBESlMkJAyukeIonw/90s.jpg 3.00x\"}, \"displayName\": \"Christine H.\", \"eliteYear\": 2022, \"friendCount\": 354, \"id\": \"GdkupEXprSBV3_5jNpE69A\", \"isCurrentlyElite\": true, \"reviewCount\": 1208, \"url\": \"/user_details?userid=GdkupEXprSBV3_5jNpE69A\"}, \"userVote\": \"NoVote\"}, {\"business\": {\"alias\": \"brendas-french-soul-food-san-francisco-6\", \"id\": \"lJAGnYzku5zSaLnQ_T6_GQ\", \"name\": \"Brenda\\'s French Soul Food\"}, \"businessAvatar\": {\"altText\": \"Brenda\\'s French Soul Food\", \"height\": 30, \"src\": \"https://s3-media0.fl.yelpcdn.com/bphoto/VJ865E7ULQWSNjKhNG57VQ/30s.jpg\", \"srcSet\": \"https://s3-media0.fl.yelpcdn.com/bphoto/VJ865E7ULQWSNjKhNG57VQ/ss.jpg 1.33x,https://s3-media0.fl.yelpcdn.com/bphoto/VJ865E7ULQWSNjKhNG57VQ/60s.jpg 2.00x,https://s3-media0.fl.yelpcdn.com/bphoto/VJ865E7ULQWSNjKhNG57VQ/90s.jpg 3.00x\", \"url\": \"/biz/brendas-french-soul-food-san-francisco-6\", \"width\": 30}, \"caption\": null, \"helpfulCount\": 0, \"id\": \"RRpP3Y_8mFtkkvgupp9RTw\", \"timeUploaded\": \"September 11, 2018\", \"type\": \"photo\", \"url\": \"https://s3-media0.fl.yelpcdn.com/bphoto/RRpP3Y_8mFtkkvgupp9RTw/o.jpg\", \"user\": {\"avatar\": {\"linkUrl\": \"/user_details?userid=GdkupEXprSBV3_5jNpE69A\", \"srcUrl\": \"https://s3-media0.fl.yelpcdn.com/photo/NkEHHuBESlMkJAyukeIonw/30s.jpg\", \"srcSetUrl\": \"https://s3-media0.fl.yelpcdn.com/photo/NkEHHuBESlMkJAyukeIonw/ss.jpg 1.33x,https://s3-media0.fl.yelpcdn.com/photo/NkEHHuBESlMkJAyukeIonw/60s.jpg 2.00x,https://s3-media0.fl.yelpcdn.com/photo/NkEHHuBESlMkJAyukeIonw/90s.jpg 3.00x\"}, \"displayName\": \"Christine H.\", \"eliteYear\": 2022, \"friendCount\": 354, \"id\": \"GdkupEXprSBV3_5jNpE69A\", \"isCurrentlyElite\": true, \"reviewCount\": 1208, \"url\": \"/user_details?userid=GdkupEXprSBV3_5jNpE69A\"}, \"userVote\": \"NoVote\"}, {\"business\": {\"alias\": \"brendas-french-soul-food-san-francisco-6\", \"id\": \"lJAGnYzku5zSaLnQ_T6_GQ\", \"name\": \"Brenda\\'s French Soul Food\"}, \"businessAvatar\": {\"altText\": \"Brenda\\'s French Soul Food\", \"height\": 30, \"src\": \"https://s3-media0.fl.yelpcdn.com/bphoto/VJ865E7ULQWSNjKhNG57VQ/30s.jpg\", \"srcSet\": \"https://s3-media0.fl.yelpcdn.com/bphoto/VJ865E7ULQWSNjKhNG57VQ/ss.jpg 1.33x,https://s3-media0.fl.yelpcdn.com/bphoto/VJ865E7ULQWSNjKhNG57VQ/60s.jpg 2.00x,https://s3-media0.fl.yelpcdn.com/bphoto/VJ865E7ULQWSNjKhNG57VQ/90s.jpg 3.00x\", \"url\": \"/biz/brendas-french-soul-food-san-francisco-6\", \"width\": 30}, \"caption\": null, \"helpfulCount\": 0, \"id\": \"sOQbgjSSaMJ_n9i2N1tOvg\", \"timeUploaded\": \"September 11, 2018\", \"type\": \"photo\", \"url\": \"https://s3-media0.fl.yelpcdn.com/bphoto/sOQbgjSSaMJ_n9i2N1tOvg/o.jpg\", \"user\": {\"avatar\": {\"linkUrl\": \"/user_details?userid=GdkupEXprSBV3_5jNpE69A\", \"srcUrl\": \"https://s3-media0.fl.yelpcdn.com/photo/NkEHHuBESlMkJAyukeIonw/30s.jpg\", \"srcSetUrl\": \"https://s3-media0.fl.yelpcdn.com/photo/NkEHHuBESlMkJAyukeIonw/ss.jpg 1.33x,https://s3-media0.fl.yelpcdn.com/photo/NkEHHuBESlMkJAyukeIonw/60s.jpg 2.00x,https://s3-media0.fl.yelpcdn.com/photo/NkEHHuBESlMkJAyukeIonw/90s.jpg 3.00x\"}, \"displayName\": \"Christine H.\", \"eliteYear\": 2022, \"friendCount\": 354, \"id\": \"GdkupEXprSBV3_5jNpE69A\", \"isCurrentlyElite\": true, \"reviewCount\": 1208, \"url\": \"/user_details?userid=GdkupEXprSBV3_5jNpE69A\"}, \"userVote\": \"NoVote\"}, {\"business\": {\"alias\": \"brendas-french-soul-food-san-francisco-6\", \"id\": \"lJAGnYzku5zSaLnQ_T6_GQ\", \"name\": \"Brenda\\'s French Soul Food\"}, \"businessAvatar\": {\"altText\": \"Brenda\\'s French Soul Food\", \"height\": 30, \"src\": \"https://s3-media0.fl.yelpcdn.com/bphoto/VJ865E7ULQWSNjKhNG57VQ/30s.jpg\", \"srcSet\": \"https://s3-media0.fl.yelpcdn.com/bphoto/VJ865E7ULQWSNjKhNG57VQ/ss.jpg 1.33x,https://s3-media0.fl.yelpcdn.com/bphoto/VJ865E7ULQWSNjKhNG57VQ/60s.jpg 2.00x,https://s3-media0.fl.yelpcdn.com/bphoto/VJ865E7ULQWSNjKhNG57VQ/90s.jpg 3.00x\", \"url\": \"/biz/brendas-french-soul-food-san-francisco-6\", \"width\": 30}, \"caption\": null, \"helpfulCount\": 0, \"id\": \"WNNB2sy4NlWXknIr3HftBQ\", \"timeUploaded\": \"September 11, 2018\", \"type\": \"photo\", \"url\": \"https://s3-media0.fl.yelpcdn.com/bphoto/WNNB2sy4NlWXknIr3HftBQ/o.jpg\", \"user\": {\"avatar\": {\"linkUrl\": \"/user_details?userid=GdkupEXprSBV3_5jNpE69A\", \"srcUrl\": \"https://s3-media0.fl.yelpcdn.com/photo/NkEHHuBESlMkJAyukeIonw/30s.jpg\", \"srcSetUrl\": \"https://s3-media0.fl.yelpcdn.com/photo/NkEHHuBESlMkJAyukeIonw/ss.jpg 1.33x,https://s3-media0.fl.yelpcdn.com/photo/NkEHHuBESlMkJAyukeIonw/60s.jpg 2.00x,https://s3-media0.fl.yelpcdn.com/photo/NkEHHuBESlMkJAyukeIonw/90s.jpg 3.00x\"}, \"displayName\": \"Christine H.\", \"eliteYear\": 2022, \"friendCount\": 354, \"id\": \"GdkupEXprSBV3_5jNpE69A\", \"isCurrentlyElite\": true, \"reviewCount\": 1208, \"url\": \"/user_details?userid=GdkupEXprSBV3_5jNpE69A\"}, \"userVote\": \"NoVote\"}, {\"business\": {\"alias\": \"brendas-french-soul-food-san-francisco-6\", \"id\": \"lJAGnYzku5zSaLnQ_T6_GQ\", \"name\": \"Brenda\\'s French Soul Food\"}, \"businessAvatar\": {\"altText\": \"Brenda\\'s French Soul Food\", \"height\": 30, \"src\": \"https://s3-media0.fl.yelpcdn.com/bphoto/VJ865E7ULQWSNjKhNG57VQ/30s.jpg\", \"srcSet\": \"https://s3-media0.fl.yelpcdn.com/bphoto/VJ865E7ULQWSNjKhNG57VQ/ss.jpg 1.33x,https://s3-media0.fl.yelpcdn.com/bphoto/VJ865E7ULQWSNjKhNG57VQ/60s.jpg 2.00x,https://s3-media0.fl.yelpcdn.com/bphoto/VJ865E7ULQWSNjKhNG57VQ/90s.jpg 3.00x\", \"url\": \"/biz/brendas-french-soul-food-san-francisco-6\", \"width\": 30}, \"caption\": null, \"helpfulCount\": 0, \"id\": \"5kmv5tyeN8sI-PLBdj9FqQ\", \"timeUploaded\": \"September 11, 2018\", \"type\": \"photo\", \"url\": \"https://s3-media0.fl.yelpcdn.com/bphoto/5kmv5tyeN8sI-PLBdj9FqQ/o.jpg\", \"user\": {\"avatar\": {\"linkUrl\": \"/user_details?userid=GdkupEXprSBV3_5jNpE69A\", \"srcUrl\": \"https://s3-media0.fl.yelpcdn.com/photo/NkEHHuBESlMkJAyukeIonw/30s.jpg\", \"srcSetUrl\": \"https://s3-media0.fl.yelpcdn.com/photo/NkEHHuBESlMkJAyukeIonw/ss.jpg 1.33x,https://s3-media0.fl.yelpcdn.com/photo/NkEHHuBESlMkJAyukeIonw/60s.jpg 2.00x,https://s3-media0.fl.yelpcdn.com/photo/NkEHHuBESlMkJAyukeIonw/90s.jpg 3.00x\"}, \"displayName\": \"Christine H.\", \"eliteYear\": 2022, \"friendCount\": 354, \"id\": \"GdkupEXprSBV3_5jNpE69A\", \"isCurrentlyElite\": true, \"reviewCount\": 1208, \"url\": \"/user_details?userid=GdkupEXprSBV3_5jNpE69A\"}, \"userVote\": \"NoVote\"}], \"photosUrl\": \"/biz_photos/brendas-french-soul-food-san-francisco-6?userid=GdkupEXprSBV3_5jNpE69A\", \"totalPhotos\": 8, \"feedback\": {\"counts\": {\"useful\": 5, \"funny\": 1, \"cool\": 3}, \"userFeedback\": {\"useful\": false, \"funny\": false, \"cool\": false}, \"voterText\": null}, \"isUpdated\": false, \"businessOwnerReplies\": null, \"appreciatedBy\": null, \"previousReviews\": null, \"tags\": null}], \"tags\": [{\"label\": \"12 photos\", \"title\": null, \"href\": \"/biz_photos/brendas-french-soul-food-san-francisco-6?userid=GdkupEXprSBV3_5jNpE69A\", \"iconName\": \"18x18_camera\", \"iconColor\": \"\"}]}, {\"id\": \"g4WRu0Ww_IgQbQHb9FbM-w\", \"userId\": \"gRxj09Ul7Mu22fAEF59HBQ\", \"business\": {\"id\": \"lJAGnYzku5zSaLnQ_T6_GQ\", \"alias\": \"brendas-french-soul-food-san-francisco-6\", \"name\": \"Brenda\\'s French Soul Food\", \"photoSrc\": \"https://s3-media0.fl.yelpcdn.com/bphoto/VJ865E7ULQWSNjKhNG57VQ/60s.jpg\"}, \"user\": {\"link\": \"/user_details?userid=gRxj09Ul7Mu22fAEF59HBQ\", \"src\": \"https://s3-media0.fl.yelpcdn.com/photo/oq6mRUTCcU9a6-6d5EpGqg/60s.jpg\", \"srcSet\": \"https://s3-media0.fl.yelpcdn.com/photo/oq6mRUTCcU9a6-6d5EpGqg/ms.jpg 1.67x,https://s3-media0.fl.yelpcdn.com/photo/oq6mRUTCcU9a6-6d5EpGqg/120s.jpg 2.00x,https://s3-media0.fl.yelpcdn.com/photo/oq6mRUTCcU9a6-6d5EpGqg/90s.jpg 1.50x,https://s3-media0.fl.yelpcdn.com/photo/oq6mRUTCcU9a6-6d5EpGqg/168s.jpg 2.80x,https://s3-media0.fl.yelpcdn.com/photo/oq6mRUTCcU9a6-6d5EpGqg/180s.jpg 3.00x\", \"markupDisplayName\": \"Shanelle S.\", \"displayLocation\": \"Manhattan Beach, CA\", \"altText\": \"Shanelle S.\", \"userUrl\": \"/user_details?userid=gRxj09Ul7Mu22fAEF59HBQ\", \"partnerAlias\": null, \"friendCount\": 650, \"photoCount\": 4769, \"reviewCount\": 983, \"eliteYear\": 2022}, \"comment\": {\"text\": \"Southern spot with brunch options in the Tenderloin. Street parking. You put your name on the board inside on the right hand side and you can get a sense of your wait time. Indoor seating only. We came around 11:30am on a Saturday and for our party of 3, we waited about 25 minutes. Credit cards accepted. <br&gt;<br&gt;The prices are very reasonable and the portions are sizeable. I got the fried chicken basket which came with two pieces and a biscuit. We ordered a trio of beignets, which came with a of original, chocolate, and apple one. The chocolate one was my favorite - they used Ghirardelli which was super rich. The dough was thicker than I would&amp;#39;ve liked but the beignets did come fresh/hot from the fryer, so they were still yummy. The hot chili jelly was a good complement for both the chicken and the biscuit.\", \"language\": \"en\"}, \"localizedDate\": \"11/19/2022\", \"localizedDateVisited\": null, \"rating\": 4, \"photos\": [{\"src\": \"https://s3-media0.fl.yelpcdn.com/bphoto/gkox8B0XyoqrOX7QrPlCjQ/180s.jpg\", \"link\": \"/biz_photos/brendas-french-soul-food-san-francisco-6?reviewid=g4WRu0Ww_IgQbQHb9FbM-w&amp;select=gkox8B0XyoqrOX7QrPlCjQ\", \"altText\": \"Photo of Brenda\\'s French Soul Food - San Francisco, CA, United States. Beignet trio\", \"width\": 180, \"height\": 180, \"caption\": \"Beignet trio\"}, {\"src\": \"https://s3-media0.fl.yelpcdn.com/bphoto/JdMIlCpLGNFAu2Pq1YdgUA/180s.jpg\", \"link\": \"/biz_photos/brendas-french-soul-food-san-francisco-6?reviewid=g4WRu0Ww_IgQbQHb9FbM-w&amp;select=JdMIlCpLGNFAu2Pq1YdgUA\", \"altText\": \"Photo of Brenda\\'s French Soul Food - San Francisco, CA, United States. Omelette\", \"width\": 180, \"height\": 180, \"caption\": \"Omelette\"}, {\"src\": \"https://s3-media0.fl.yelpcdn.com/bphoto/gACzukJGU80myecWW8amhQ/180s.jpg\", \"link\": \"/biz_photos/brendas-french-soul-food-san-francisco-6?reviewid=g4WRu0Ww_IgQbQHb9FbM-w&amp;select=gACzukJGU80myecWW8amhQ\", \"altText\": \"Photo of Brenda\\'s French Soul Food - San Francisco, CA, United States. Fried chicken and gumbo\", \"width\": 180, \"height\": 180, \"caption\": \"Fried chicken and gumbo\"}, {\"src\": \"https://s3-media0.fl.yelpcdn.com/bphoto/a7GO7OwzMe3jE-z3zLTiJw/180s.jpg\", \"link\": \"/biz_photos/brendas-french-soul-food-san-francisco-6?reviewid=g4WRu0Ww_IgQbQHb9FbM-w&amp;select=a7GO7OwzMe3jE-z3zLTiJw\", \"altText\": \"Photo of Brenda\\'s French Soul Food - San Francisco, CA, United States. Menu\", \"width\": 180, \"height\": 180, \"caption\": \"Menu\"}], \"lightboxMediaItems\": [{\"business\": {\"alias\": \"brendas-french-soul-food-san-francisco-6\", \"id\": \"lJAGnYzku5zSaLnQ_T6_GQ\", \"name\": \"Brenda\\'s French Soul Food\"}, \"businessAvatar\": {\"altText\": \"Brenda\\'s French Soul Food\", \"height\": 30, \"src\": \"https://s3-media0.fl.yelpcdn.com/bphoto/VJ865E7ULQWSNjKhNG57VQ/30s.jpg\", \"srcSet\": \"https://s3-media0.fl.yelpcdn.com/bphoto/VJ865E7ULQWSNjKhNG57VQ/ss.jpg 1.33x,https://s3-media0.fl.yelpcdn.com/bphoto/VJ865E7ULQWSNjKhNG57VQ/60s.jpg 2.00x,https://s3-media0.fl.yelpcdn.com/bphoto/VJ865E7ULQWSNjKhNG57VQ/90s.jpg 3.00x\", \"url\": \"/biz/brendas-french-soul-food-san-francisco-6\", \"width\": 30}, \"caption\": \"Beignet trio\", \"helpfulCount\": 0, \"id\": \"gkox8B0XyoqrOX7QrPlCjQ\", \"timeUploaded\": \"November 19, 2022\", \"type\": \"photo\", \"url\": \"https://s3-media0.fl.yelpcdn.com/bphoto/gkox8B0XyoqrOX7QrPlCjQ/o.jpg\", \"user\": {\"avatar\": {\"linkUrl\": \"/user_details?userid=gRxj09Ul7Mu22fAEF59HBQ\", \"srcUrl\": \"https://s3-media0.fl.yelpcdn.com/photo/oq6mRUTCcU9a6-6d5EpGqg/30s.jpg\", \"srcSetUrl\": \"https://s3-media0.fl.yelpcdn.com/photo/oq6mRUTCcU9a6-6d5EpGqg/ss.jpg 1.33x,https://s3-media0.fl.yelpcdn.com/photo/oq6mRUTCcU9a6-6d5EpGqg/60s.jpg 2.00x,https://s3-media0.fl.yelpcdn.com/photo/oq6mRUTCcU9a6-6d5EpGqg/90s.jpg 3.00x\"}, \"displayName\": \"Shanelle S.\", \"eliteYear\": 2022, \"friendCount\": 650, \"id\": \"gRxj09Ul7Mu22fAEF59HBQ\", \"isCurrentlyElite\": true, \"reviewCount\": 983, \"url\": \"/user_details?userid=gRxj09Ul7Mu22fAEF59HBQ\"}, \"userVote\": \"NoVote\"}, {\"business\": {\"alias\": \"brendas-french-soul-food-san-francisco-6\", \"id\": \"lJAGnYzku5zSaLnQ_T6_GQ\", \"name\": \"Brenda\\'s French Soul Food\"}, \"businessAvatar\": {\"altText\": \"Brenda\\'s French Soul Food\", \"height\": 30, \"src\": \"https://s3-media0.fl.yelpcdn.com/bphoto/VJ865E7ULQWSNjKhNG57VQ/30s.jpg\", \"srcSet\": \"https://s3-media0.fl.yelpcdn.com/bphoto/VJ865E7ULQWSNjKhNG57VQ/ss.jpg 1.33x,https://s3-media0.fl.yelpcdn.com/bphoto/VJ865E7ULQWSNjKhNG57VQ/60s.jpg 2.00x,https://s3-media0.fl.yelpcdn.com/bphoto/VJ865E7ULQWSNjKhNG57VQ/90s.jpg 3.00x\", \"url\": \"/biz/brendas-french-soul-food-san-francisco-6\", \"width\": 30}, \"caption\": \"Omelette\", \"helpfulCount\": 0, \"id\": \"JdMIlCpLGNFAu2Pq1YdgUA\", \"timeUploaded\": \"November 19, 2022\", \"type\": \"photo\", \"url\": \"https://s3-media0.fl.yelpcdn.com/bphoto/JdMIlCpLGNFAu2Pq1YdgUA/o.jpg\", \"user\": {\"avatar\": {\"linkUrl\": \"/user_details?userid=gRxj09Ul7Mu22fAEF59HBQ\", \"srcUrl\": \"https://s3-media0.fl.yelpcdn.com/photo/oq6mRUTCcU9a6-6d5EpGqg/30s.jpg\", \"srcSetUrl\": \"https://s3-media0.fl.yelpcdn.com/photo/oq6mRUTCcU9a6-6d5EpGqg/ss.jpg 1.33x,https://s3-media0.fl.yelpcdn.com/photo/oq6mRUTCcU9a6-6d5EpGqg/60s.jpg 2.00x,https://s3-media0.fl.yelpcdn.com/photo/oq6mRUTCcU9a6-6d5EpGqg/90s.jpg 3.00x\"}, \"displayName\": \"Shanelle S.\", \"eliteYear\": 2022, \"friendCount\": 650, \"id\": \"gRxj09Ul7Mu22fAEF59HBQ\", \"isCurrentlyElite\": true, \"reviewCount\": 983, \"url\": \"/user_details?userid=gRxj09Ul7Mu22fAEF59HBQ\"}, \"userVote\": \"NoVote\"}, {\"business\": {\"alias\": \"brendas-french-soul-food-san-francisco-6\", \"id\": \"lJAGnYzku5zSaLnQ_T6_GQ\", \"name\": \"Brenda\\'s French Soul Food\"}, \"businessAvatar\": {\"altText\": \"Brenda\\'s French Soul Food\", \"height\": 30, \"src\": \"https://s3-media0.fl.yelpcdn.com/bphoto/VJ865E7ULQWSNjKhNG57VQ/30s.jpg\", \"srcSet\": \"https://s3-media0.fl.yelpcdn.com/bphoto/VJ865E7ULQWSNjKhNG57VQ/ss.jpg 1.33x,https://s3-media0.fl.yelpcdn.com/bphoto/VJ865E7ULQWSNjKhNG57VQ/60s.jpg 2.00x,https://s3-media0.fl.yelpcdn.com/bphoto/VJ865E7ULQWSNjKhNG57VQ/90s.jpg 3.00x\", \"url\": \"/biz/brendas-french-soul-food-san-francisco-6\", \"width\": 30}, \"caption\": \"Fried chicken and gumbo\", \"helpfulCount\": 0, \"id\": \"gACzukJGU80myecWW8amhQ\", \"timeUploaded\": \"November 19, 2022\", \"type\": \"photo\", \"url\": \"https://s3-media0.fl.yelpcdn.com/bphoto/gACzukJGU80myecWW8amhQ/o.jpg\", \"user\": {\"avatar\": {\"linkUrl\": \"/user_details?userid=gRxj09Ul7Mu22fAEF59HBQ\", \"srcUrl\": \"https://s3-media0.fl.yelpcdn.com/photo/oq6mRUTCcU9a6-6d5EpGqg/30s.jpg\", \"srcSetUrl\": \"https://s3-media0.fl.yelpcdn.com/photo/oq6mRUTCcU9a6-6d5EpGqg/ss.jpg 1.33x,https://s3-media0.fl.yelpcdn.com/photo/oq6mRUTCcU9a6-6d5EpGqg/60s.jpg 2.00x,https://s3-media0.fl.yelpcdn.com/photo/oq6mRUTCcU9a6-6d5EpGqg/90s.jpg 3.00x\"}, \"displayName\": \"Shanelle S.\", \"eliteYear\": 2022, \"friendCount\": 650, \"id\": \"gRxj09Ul7Mu22fAEF59HBQ\", \"isCurrentlyElite\": true, \"reviewCount\": 983, \"url\": \"/user_details?userid=gRxj09Ul7Mu22fAEF59HBQ\"}, \"userVote\": \"NoVote\"}, {\"business\": {\"alias\": \"brendas-french-soul-food-san-francisco-6\", \"id\": \"lJAGnYzku5zSaLnQ_T6_GQ\", \"name\": \"Brenda\\'s French Soul Food\"}, \"businessAvatar\": {\"altText\": \"Brenda\\'s French Soul Food\", \"height\": 30, \"src\": \"https://s3-media0.fl.yelpcdn.com/bphoto/VJ865E7ULQWSNjKhNG57VQ/30s.jpg\", \"srcSet\": \"https://s3-media0.fl.yelpcdn.com/bphoto/VJ865E7ULQWSNjKhNG57VQ/ss.jpg 1.33x,https://s3-media0.fl.yelpcdn.com/bphoto/VJ865E7ULQWSNjKhNG57VQ/60s.jpg 2.00x,https://s3-media0.fl.yelpcdn.com/bphoto/VJ865E7ULQWSNjKhNG57VQ/90s.jpg 3.00x\", \"url\": \"/biz/brendas-french-soul-food-san-francisco-6\", \"width\": 30}, \"caption\": \"Menu\", \"helpfulCount\": 0, \"id\": \"a7GO7OwzMe3jE-z3zLTiJw\", \"timeUploaded\": \"November 19, 2022\", \"type\": \"photo\", \"url\": \"https://s3-media0.fl.yelpcdn.com/bphoto/a7GO7OwzMe3jE-z3zLTiJw/o.jpg\", \"user\": {\"avatar\": {\"linkUrl\": \"/user_details?userid=gRxj09Ul7Mu22fAEF59HBQ\", \"srcUrl\": \"https://s3-media0.fl.yelpcdn.com/photo/oq6mRUTCcU9a6-6d5EpGqg/30s.jpg\", \"srcSetUrl\": \"https://s3-media0.fl.yelpcdn.com/photo/oq6mRUTCcU9a6-6d5EpGqg/ss.jpg 1.33x,https://s3-media0.fl.yelpcdn.com/photo/oq6mRUTCcU9a6-6d5EpGqg/60s.jpg 2.00x,https://s3-media0.fl.yelpcdn.com/photo/oq6mRUTCcU9a6-6d5EpGqg/90s.jpg 3.00x\"}, \"displayName\": \"Shanelle S.\", \"eliteYear\": 2022, \"friendCount\": 650, \"id\": \"gRxj09Ul7Mu22fAEF59HBQ\", \"isCurrentlyElite\": true, \"reviewCount\": 983, \"url\": \"/user_details?userid=gRxj09Ul7Mu22fAEF59HBQ\"}, \"userVote\": \"NoVote\"}, {\"business\": {\"alias\": \"brendas-french-soul-food-san-francisco-6\", \"id\": \"lJAGnYzku5zSaLnQ_T6_GQ\", \"name\": \"Brenda\\'s French Soul Food\"}, \"businessAvatar\": {\"altText\": \"Brenda\\'s French Soul Food\", \"height\": 30, \"src\": \"https://s3-media0.fl.yelpcdn.com/bphoto/VJ865E7ULQWSNjKhNG57VQ/30s.jpg\", \"srcSet\": \"https://s3-media0.fl.yelpcdn.com/bphoto/VJ865E7ULQWSNjKhNG57VQ/ss.jpg 1.33x,https://s3-media0.fl.yelpcdn.com/bphoto/VJ865E7ULQWSNjKhNG57VQ/60s.jpg 2.00x,https://s3-media0.fl.yelpcdn.com/bphoto/VJ865E7ULQWSNjKhNG57VQ/90s.jpg 3.00x\", \"url\": \"/biz/brendas-french-soul-food-san-francisco-6\", \"width\": 30}, \"caption\": \"Gumbo\", \"helpfulCount\": 0, \"id\": \"k-boc6NSyBgBo42RfldvqA\", \"timeUploaded\": \"November 19, 2022\", \"type\": \"photo\", \"url\": \"https://s3-media0.fl.yelpcdn.com/bphoto/k-boc6NSyBgBo42RfldvqA/o.jpg\", \"user\": {\"avatar\": {\"linkUrl\": \"/user_details?userid=gRxj09Ul7Mu22fAEF59HBQ\", \"srcUrl\": \"https://s3-media0.fl.yelpcdn.com/photo/oq6mRUTCcU9a6-6d5EpGqg/30s.jpg\", \"srcSetUrl\": \"https://s3-media0.fl.yelpcdn.com/photo/oq6mRUTCcU9a6-6d5EpGqg/ss.jpg 1.33x,https://s3-media0.fl.yelpcdn.com/photo/oq6mRUTCcU9a6-6d5EpGqg/60s.jpg 2.00x,https://s3-media0.fl.yelpcdn.com/photo/oq6mRUTCcU9a6-6d5EpGqg/90s.jpg 3.00x\"}, \"displayName\": \"Shanelle S.\", \"eliteYear\": 2022, \"friendCount\": 650, \"id\": \"gRxj09Ul7Mu22fAEF59HBQ\", \"isCurrentlyElite\": true, \"reviewCount\": 983, \"url\": \"/user_details?userid=gRxj09Ul7Mu22fAEF59HBQ\"}, \"userVote\": \"NoVote\"}, {\"business\": {\"alias\": \"brendas-french-soul-food-san-francisco-6\", \"id\": \"lJAGnYzku5zSaLnQ_T6_GQ\", \"name\": \"Brenda\\'s French Soul Food\"}, \"businessAvatar\": {\"altText\": \"Brenda\\'s French Soul Food\", \"height\": 30, \"src\": \"https://s3-media0.fl.yelpcdn.com/bphoto/VJ865E7ULQWSNjKhNG57VQ/30s.jpg\", \"srcSet\": \"https://s3-media0.fl.yelpcdn.com/bphoto/VJ865E7ULQWSNjKhNG57VQ/ss.jpg 1.33x,https://s3-media0.fl.yelpcdn.com/bphoto/VJ865E7ULQWSNjKhNG57VQ/60s.jpg 2.00x,https://s3-media0.fl.yelpcdn.com/bphoto/VJ865E7ULQWSNjKhNG57VQ/90s.jpg 3.00x\", \"url\": \"/biz/brendas-french-soul-food-san-francisco-6\", \"width\": 30}, \"caption\": \"Fried chicken basket\", \"helpfulCount\": 0, \"id\": \"UMwQ6b5gGAFFY9jqeU7_GA\", \"timeUploaded\": \"November 19, 2022\", \"type\": \"photo\", \"url\": \"https://s3-media0.fl.yelpcdn.com/bphoto/UMwQ6b5gGAFFY9jqeU7_GA/o.jpg\", \"user\": {\"avatar\": {\"linkUrl\": \"/user_details?userid=gRxj09Ul7Mu22fAEF59HBQ\", \"srcUrl\": \"https://s3-media0.fl.yelpcdn.com/photo/oq6mRUTCcU9a6-6d5EpGqg/30s.jpg\", \"srcSetUrl\": \"https://s3-media0.fl.yelpcdn.com/photo/oq6mRUTCcU9a6-6d5EpGqg/ss.jpg 1.33x,https://s3-media0.fl.yelpcdn.com/photo/oq6mRUTCcU9a6-6d5EpGqg/60s.jpg 2.00x,https://s3-media0.fl.yelpcdn.com/photo/oq6mRUTCcU9a6-6d5EpGqg/90s.jpg 3.00x\"}, \"displayName\": \"Shanelle S.\", \"eliteYear\": 2022, \"friendCount\": 650, \"id\": \"gRxj09Ul7Mu22fAEF59HBQ\", \"isCurrentlyElite\": true, \"reviewCount\": 983, \"url\": \"/user_details?userid=gRxj09Ul7Mu22fAEF59HBQ\"}, \"userVote\": \"NoVote\"}], \"photosUrl\": \"/biz_photos/brendas-french-soul-food-san-francisco-6?userid=gRxj09Ul7Mu22fAEF59HBQ\", \"totalPhotos\": 6, \"feedback\": {\"counts\": {\"useful\": 3, \"funny\": 1, \"cool\": 3}, \"userFeedback\": {\"useful\": false, \"funny\": false, \"cool\": false}, \"voterText\": null}, \"isUpdated\": false, \"businessOwnerReplies\": [{\"id\": \"u5s6nxB6Ezn0y0U6-ZlStg\", \"comment\": \"Shanelle, thank you so much for taking the time to share about your experience at Brenda\\\\u2019s French Soul Food. We love hearing from our guests and encourage you to email us with any suggestions for earning that fifth star.\", \"owner\": {\"id\": \"RczzCnHJgjvsnRGh-haf2Q\", \"avatarSrc\": \"https://s3-media0.fl.yelpcdn.com/buphoto/Llih_uLRWAhbFKq0rR8k9Q/30s.jpg\", \"avatarSrcSet\": \"https://s3-media0.fl.yelpcdn.com/buphoto/Llih_uLRWAhbFKq0rR8k9Q/ss.jpg 1.33x,https://s3-media0.fl.yelpcdn.com/buphoto/Llih_uLRWAhbFKq0rR8k9Q/90s.jpg 3.00x\", \"displayName\": \"Brenda B.\", \"role\": \"Business Owner\"}, \"localizedDate\": \"11/21/2022\"}], \"appreciatedBy\": null, \"previousReviews\": null, \"tags\": [{\"label\": \"6 photos\", \"title\": null, \"href\": \"/biz_photos/brendas-french-soul-food-san-francisco-6?userid=gRxj09Ul7Mu22fAEF59HBQ\", \"iconName\": \"18x18_camera\", \"iconColor\": \"\"}]}, {\"id\": \"TqRtFwvkA7tmUIxSfErTwA\", \"userId\": \"4-r6POoSgtG2kIzh7XpCNw\", \"business\": {\"id\": \"lJAGnYzku5zSaLnQ_T6_GQ\", \"alias\": \"brendas-french-soul-food-san-francisco-6\", \"name\": \"Brenda\\'s French Soul Food\", \"photoSrc\": \"https://s3-media0.fl.yelpcdn.com/bphoto/VJ865E7ULQWSNjKhNG57VQ/60s.jpg\"}, \"user\": {\"link\": \"/user_details?userid=4-r6POoSgtG2kIzh7XpCNw\", \"src\": \"https://s3-media0.fl.yelpcdn.com/photo/Pzx6G19W4hLu0Jay7-ocKw/60s.jpg\", \"srcSet\": \"https://s3-media0.fl.yelpcdn.com/photo/Pzx6G19W4hLu0Jay7-ocKw/ms.jpg 1.67x,https://s3-media0.fl.yelpcdn.com/photo/Pzx6G19W4hLu0Jay7-ocKw/120s.jpg 2.00x,https://s3-media0.fl.yelpcdn.com/photo/Pzx6G19W4hLu0Jay7-ocKw/90s.jpg 1.50x,https://s3-media0.fl.yelpcdn.com/photo/Pzx6G19W4hLu0Jay7-ocKw/168s.jpg 2.80x,https://s3-media0.fl.yelpcdn.com/photo/Pzx6G19W4hLu0Jay7-ocKw/180s.jpg 3.00x\", \"markupDisplayName\": \"Anivesh B.\", \"displayLocation\": \"San Francisco, CA\", \"altText\": \"Anivesh B.\", \"userUrl\": \"/user_details?userid=4-r6POoSgtG2kIzh7XpCNw\", \"partnerAlias\": null, \"friendCount\": 32, \"photoCount\": 477, \"reviewCount\": 145, \"eliteYear\": 2022}, \"comment\": {\"text\": \"Walked in here on a Sunday afternoon, just before closing of brunch (3p), and found a table without waiting.<br&gt;<br&gt;We ordered a flight of beignets, a bowl of the chicken and andouille gumbo, and a plate of the bananas foster french toast.<br&gt;<br&gt;The beignets came out pretty quick, and we started stuffing our faces with it. My favorites were the apple and crawfish ones. The crawfish one was giving vibes of a chowder inside a bread bowl- which i dig, a lot. The apple one was a great build up to all the apple pie id be eating over the thanksgiving weekend lol. I recommend getting the flight- the others were solid too.<br&gt;<br&gt;The gumbo was such hearty bowl of soup! The chicken and sausage were tender, the broth was creamy, and the rice made it a very comforting thing to have on an overcast fall day.<br&gt;<br&gt;The french toast was goated. I&amp;#39;ve had sweet french toast in the past, but here I could actually taste the eggs in the bread. The syrup, toppings, and the toast was a symphony of flavors, and I will be singing praises of the this dish for the foreseeable future. <br&gt;<br&gt;Our servers were very sweet, and the cafe had a very familial feeling inside. It&amp;#39;s a no brainer folks.<br&gt;<br&gt;10/10 would go back!\", \"language\": \"en\"}, \"localizedDate\": \"11/21/2022\", \"localizedDateVisited\": null, \"rating\": 5, \"photos\": [{\"src\": \"https://s3-media0.fl.yelpcdn.com/bphoto/Q5jkltPJDbV1OhSFwHV5zQ/180s.jpg\", \"link\": \"/biz_photos/brendas-french-soul-food-san-francisco-6?reviewid=TqRtFwvkA7tmUIxSfErTwA&amp;select=Q5jkltPJDbV1OhSFwHV5zQ\", \"altText\": \"Photo of Brenda\\'s French Soul Food - San Francisco, CA, United States. bananas foster french toast\", \"width\": 180, \"height\": 180, \"caption\": \"bananas foster french toast\"}, {\"src\": \"https://s3-media0.fl.yelpcdn.com/bphoto/jQiA8q-soOdHE68dXKCiTg/180s.jpg\", \"link\": \"/biz_photos/brendas-french-soul-food-san-francisco-6?reviewid=TqRtFwvkA7tmUIxSfErTwA&amp;select=jQiA8q-soOdHE68dXKCiTg\", \"altText\": \"Photo of Brenda\\'s French Soul Food - San Francisco, CA, United States. flight of beignets (plain, chocolate, apple, crawfish- left to right)\", \"width\": 180, \"height\": 180, \"caption\": \"flight of beignets (plain, chocolate, apple, crawfish- left to right)\"}, {\"src\": \"https://s3-media0.fl.yelpcdn.com/bphoto/C2aBkWq9vM_W6jYnh_bCwQ/180s.jpg\", \"link\": \"/biz_photos/brendas-french-soul-food-san-francisco-6?reviewid=TqRtFwvkA7tmUIxSfErTwA&amp;select=C2aBkWq9vM_W6jYnh_bCwQ\", \"altText\": \"Photo of Brenda\\'s French Soul Food - San Francisco, CA, United States. chicken and andouille sausage gumbo\", \"width\": 180, \"height\": 180, \"caption\": \"chicken and andouille sausage gumbo\"}, {\"src\": \"https://s3-media0.fl.yelpcdn.com/bphoto/oljVBHBRfwNfBVcwgMH1Kg/180s.jpg\", \"link\": \"/biz_photos/brendas-french-soul-food-san-francisco-6?reviewid=TqRtFwvkA7tmUIxSfErTwA&amp;select=oljVBHBRfwNfBVcwgMH1Kg\", \"altText\": \"Photo of Brenda\\'s French Soul Food - San Francisco, CA, United States. tropical rum punch\", \"width\": 180, \"height\": 180, \"caption\": \"tropical rum punch\"}], \"lightboxMediaItems\": [{\"business\": {\"alias\": \"brendas-french-soul-food-san-francisco-6\", \"id\": \"lJAGnYzku5zSaLnQ_T6_GQ\", \"name\": \"Brenda\\'s French Soul Food\"}, \"businessAvatar\": {\"altText\": \"Brenda\\'s French Soul Food\", \"height\": 30, \"src\": \"https://s3-media0.fl.yelpcdn.com/bphoto/VJ865E7ULQWSNjKhNG57VQ/30s.jpg\", \"srcSet\": \"https://s3-media0.fl.yelpcdn.com/bphoto/VJ865E7ULQWSNjKhNG57VQ/ss.jpg 1.33x,https://s3-media0.fl.yelpcdn.com/bphoto/VJ865E7ULQWSNjKhNG57VQ/60s.jpg 2.00x,https://s3-media0.fl.yelpcdn.com/bphoto/VJ865E7ULQWSNjKhNG57VQ/90s.jpg 3.00x\", \"url\": \"/biz/brendas-french-soul-food-san-francisco-6\", \"width\": 30}, \"caption\": \"bananas foster french toast\", \"helpfulCount\": 0, \"id\": \"Q5jkltPJDbV1OhSFwHV5zQ\", \"timeUploaded\": \"November 21, 2022\", \"type\": \"photo\", \"url\": \"https://s3-media0.fl.yelpcdn.com/bphoto/Q5jkltPJDbV1OhSFwHV5zQ/o.jpg\", \"user\": {\"avatar\": {\"linkUrl\": \"/user_details?userid=4-r6POoSgtG2kIzh7XpCNw\", \"srcUrl\": \"https://s3-media0.fl.yelpcdn.com/photo/Pzx6G19W4hLu0Jay7-ocKw/30s.jpg\", \"srcSetUrl\": \"https://s3-media0.fl.yelpcdn.com/photo/Pzx6G19W4hLu0Jay7-ocKw/ss.jpg 1.33x,https://s3-media0.fl.yelpcdn.com/photo/Pzx6G19W4hLu0Jay7-ocKw/60s.jpg 2.00x,https://s3-media0.fl.yelpcdn.com/photo/Pzx6G19W4hLu0Jay7-ocKw/90s.jpg 3.00x\"}, \"displayName\": \"Anivesh B.\", \"eliteYear\": 2022, \"friendCount\": 32, \"id\": \"4-r6POoSgtG2kIzh7XpCNw\", \"isCurrentlyElite\": true, \"reviewCount\": 145, \"url\": \"/user_details?userid=4-r6POoSgtG2kIzh7XpCNw\"}, \"userVote\": \"NoVote\"}, {\"business\": {\"alias\": \"brendas-french-soul-food-san-francisco-6\", \"id\": \"lJAGnYzku5zSaLnQ_T6_GQ\", \"name\": \"Brenda\\'s French Soul Food\"}, \"businessAvatar\": {\"altText\": \"Brenda\\'s French Soul Food\", \"height\": 30, \"src\": \"https://s3-media0.fl.yelpcdn.com/bphoto/VJ865E7ULQWSNjKhNG57VQ/30s.jpg\", \"srcSet\": \"https://s3-media0.fl.yelpcdn.com/bphoto/VJ865E7ULQWSNjKhNG57VQ/ss.jpg 1.33x,https://s3-media0.fl.yelpcdn.com/bphoto/VJ865E7ULQWSNjKhNG57VQ/60s.jpg 2.00x,https://s3-media0.fl.yelpcdn.com/bphoto/VJ865E7ULQWSNjKhNG57VQ/90s.jpg 3.00x\", \"url\": \"/biz/brendas-french-soul-food-san-francisco-6\", \"width\": 30}, \"caption\": \"flight of beignets (plain, chocolate, apple, crawfish- left to right)\", \"helpfulCount\": 0, \"id\": \"jQiA8q-soOdHE68dXKCiTg\", \"timeUploaded\": \"November 21, 2022\", \"type\": \"photo\", \"url\": \"https://s3-media0.fl.yelpcdn.com/bphoto/jQiA8q-soOdHE68dXKCiTg/o.jpg\", \"user\": {\"avatar\": {\"linkUrl\": \"/user_details?userid=4-r6POoSgtG2kIzh7XpCNw\", \"srcUrl\": \"https://s3-media0.fl.yelpcdn.com/photo/Pzx6G19W4hLu0Jay7-ocKw/30s.jpg\", \"srcSetUrl\": \"https://s3-media0.fl.yelpcdn.com/photo/Pzx6G19W4hLu0Jay7-ocKw/ss.jpg 1.33x,https://s3-media0.fl.yelpcdn.com/photo/Pzx6G19W4hLu0Jay7-ocKw/60s.jpg 2.00x,https://s3-media0.fl.yelpcdn.com/photo/Pzx6G19W4hLu0Jay7-ocKw/90s.jpg 3.00x\"}, \"displayName\": \"Anivesh B.\", \"eliteYear\": 2022, \"friendCount\": 32, \"id\": \"4-r6POoSgtG2kIzh7XpCNw\", \"isCurrentlyElite\": true, \"reviewCount\": 145, \"url\": \"/user_details?userid=4-r6POoSgtG2kIzh7XpCNw\"}, \"userVote\": \"NoVote\"}, {\"business\": {\"alias\": \"brendas-french-soul-food-san-francisco-6\", \"id\": \"lJAGnYzku5zSaLnQ_T6_GQ\", \"name\": \"Brenda\\'s French Soul Food\"}, \"businessAvatar\": {\"altText\": \"Brenda\\'s French Soul Food\", \"height\": 30, \"src\": \"https://s3-media0.fl.yelpcdn.com/bphoto/VJ865E7ULQWSNjKhNG57VQ/30s.jpg\", \"srcSet\": \"https://s3-media0.fl.yelpcdn.com/bphoto/VJ865E7ULQWSNjKhNG57VQ/ss.jpg 1.33x,https://s3-media0.fl.yelpcdn.com/bphoto/VJ865E7ULQWSNjKhNG57VQ/60s.jpg 2.00x,https://s3-media0.fl.yelpcdn.com/bphoto/VJ865E7ULQWSNjKhNG57VQ/90s.jpg 3.00x\", \"url\": \"/biz/brendas-french-soul-food-san-francisco-6\", \"width\": 30}, \"caption\": \"chicken and andouille sausage gumbo\", \"helpfulCount\": 0, \"id\": \"C2aBkWq9vM_W6jYnh_bCwQ\", \"timeUploaded\": \"November 21, 2022\", \"type\": \"photo\", \"url\": \"https://s3-media0.fl.yelpcdn.com/bphoto/C2aBkWq9vM_W6jYnh_bCwQ/o.jpg\", \"user\": {\"avatar\": {\"linkUrl\": \"/user_details?userid=4-r6POoSgtG2kIzh7XpCNw\", \"srcUrl\": \"https://s3-media0.fl.yelpcdn.com/photo/Pzx6G19W4hLu0Jay7-ocKw/30s.jpg\", \"srcSetUrl\": \"https://s3-media0.fl.yelpcdn.com/photo/Pzx6G19W4hLu0Jay7-ocKw/ss.jpg 1.33x,https://s3-media0.fl.yelpcdn.com/photo/Pzx6G19W4hLu0Jay7-ocKw/60s.jpg 2.00x,https://s3-media0.fl.yelpcdn.com/photo/Pzx6G19W4hLu0Jay7-ocKw/90s.jpg 3.00x\"}, \"displayName\": \"Anivesh B.\", \"eliteYear\": 2022, \"friendCount\": 32, \"id\": \"4-r6POoSgtG2kIzh7XpCNw\", \"isCurrentlyElite\": true, \"reviewCount\": 145, \"url\": \"/user_details?userid=4-r6POoSgtG2kIzh7XpCNw\"}, \"userVote\": \"NoVote\"}, {\"business\": {\"alias\": \"brendas-french-soul-food-san-francisco-6\", \"id\": \"lJAGnYzku5zSaLnQ_T6_GQ\", \"name\": \"Brenda\\'s French Soul Food\"}, \"businessAvatar\": {\"altText\": \"Brenda\\'s French Soul Food\", \"height\": 30, \"src\": \"https://s3-media0.fl.yelpcdn.com/bphoto/VJ865E7ULQWSNjKhNG57VQ/30s.jpg\", \"srcSet\": \"https://s3-media0.fl.yelpcdn.com/bphoto/VJ865E7ULQWSNjKhNG57VQ/ss.jpg 1.33x,https://s3-media0.fl.yelpcdn.com/bphoto/VJ865E7ULQWSNjKhNG57VQ/60s.jpg 2.00x,https://s3-media0.fl.yelpcdn.com/bphoto/VJ865E7ULQWSNjKhNG57VQ/90s.jpg 3.00x\", \"url\": \"/biz/brendas-french-soul-food-san-francisco-6\", \"width\": 30}, \"caption\": \"tropical rum punch\", \"helpfulCount\": 0, \"id\": \"oljVBHBRfwNfBVcwgMH1Kg\", \"timeUploaded\": \"November 21, 2022\", \"type\": \"photo\", \"url\": \"https://s3-media0.fl.yelpcdn.com/bphoto/oljVBHBRfwNfBVcwgMH1Kg/o.jpg\", \"user\": {\"avatar\": {\"linkUrl\": \"/user_details?userid=4-r6POoSgtG2kIzh7XpCNw\", \"srcUrl\": \"https://s3-media0.fl.yelpcdn.com/photo/Pzx6G19W4hLu0Jay7-ocKw/30s.jpg\", \"srcSetUrl\": \"https://s3-media0.fl.yelpcdn.com/photo/Pzx6G19W4hLu0Jay7-ocKw/ss.jpg 1.33x,https://s3-media0.fl.yelpcdn.com/photo/Pzx6G19W4hLu0Jay7-ocKw/60s.jpg 2.00x,https://s3-media0.fl.yelpcdn.com/photo/Pzx6G19W4hLu0Jay7-ocKw/90s.jpg 3.00x\"}, \"displayName\": \"Anivesh B.\", \"eliteYear\": 2022, \"friendCount\": 32, \"id\": \"4-r6POoSgtG2kIzh7XpCNw\", \"isCurrentlyElite\": true, \"reviewCount\": 145, \"url\": \"/user_details?userid=4-r6POoSgtG2kIzh7XpCNw\"}, \"userVote\": \"NoVote\"}, {\"business\": {\"alias\": \"brendas-french-soul-food-san-francisco-6\", \"id\": \"lJAGnYzku5zSaLnQ_T6_GQ\", \"name\": \"Brenda\\'s French Soul Food\"}, \"businessAvatar\": {\"altText\": \"Brenda\\'s French Soul Food\", \"height\": 30, \"src\": \"https://s3-media0.fl.yelpcdn.com/bphoto/VJ865E7ULQWSNjKhNG57VQ/30s.jpg\", \"srcSet\": \"https://s3-media0.fl.yelpcdn.com/bphoto/VJ865E7ULQWSNjKhNG57VQ/ss.jpg 1.33x,https://s3-media0.fl.yelpcdn.com/bphoto/VJ865E7ULQWSNjKhNG57VQ/60s.jpg 2.00x,https://s3-media0.fl.yelpcdn.com/bphoto/VJ865E7ULQWSNjKhNG57VQ/90s.jpg 3.00x\", \"url\": \"/biz/brendas-french-soul-food-san-francisco-6\", \"width\": 30}, \"caption\": null, \"helpfulCount\": 0, \"id\": \"HbOfBqGkfGSjUAh5TJs-_A\", \"timeUploaded\": \"November 20, 2022\", \"type\": \"photo\", \"url\": \"https://s3-media0.fl.yelpcdn.com/bphoto/HbOfBqGkfGSjUAh5TJs-_A/o.jpg\", \"user\": {\"avatar\": {\"linkUrl\": \"/user_details?userid=4-r6POoSgtG2kIzh7XpCNw\", \"srcUrl\": \"https://s3-media0.fl.yelpcdn.com/photo/Pzx6G19W4hLu0Jay7-ocKw/30s.jpg\", \"srcSetUrl\": \"https://s3-media0.fl.yelpcdn.com/photo/Pzx6G19W4hLu0Jay7-ocKw/ss.jpg 1.33x,https://s3-media0.fl.yelpcdn.com/photo/Pzx6G19W4hLu0Jay7-ocKw/60s.jpg 2.00x,https://s3-media0.fl.yelpcdn.com/photo/Pzx6G19W4hLu0Jay7-ocKw/90s.jpg 3.00x\"}, \"displayName\": \"Anivesh B.\", \"eliteYear\": 2022, \"friendCount\": 32, \"id\": \"4-r6POoSgtG2kIzh7XpCNw\", \"isCurrentlyElite\": true, \"reviewCount\": 145, \"url\": \"/user_details?userid=4-r6POoSgtG2kIzh7XpCNw\"}, \"userVote\": \"NoVote\"}], \"photosUrl\": \"/biz_photos/brendas-french-soul-food-san-francisco-6?userid=4-r6POoSgtG2kIzh7XpCNw\", \"totalPhotos\": 5, \"feedback\": {\"counts\": {\"useful\": 1, \"funny\": 0, \"cool\": 1}, \"userFeedback\": {\"useful\": false, \"funny\": false, \"cool\": false}, \"voterText\": null}, \"isUpdated\": false, \"businessOwnerReplies\": [{\"id\": \"q9xoSh5ULy3pyUiqGpbPhw\", \"comment\": \"Hi there, Anivesh! We\\\\u2019re so glad to hear that you had an excellent experience with us here at Brenda\\\\u2019s French Soul Food. Thanks for your review and we hope to see you again soon.\", \"owner\": {\"id\": \"RczzCnHJgjvsnRGh-haf2Q\", \"avatarSrc\": \"https://s3-media0.fl.yelpcdn.com/buphoto/Llih_uLRWAhbFKq0rR8k9Q/30s.jpg\", \"avatarSrcSet\": \"https://s3-media0.fl.yelpcdn.com/buphoto/Llih_uLRWAhbFKq0rR8k9Q/ss.jpg 1.33x,https://s3-media0.fl.yelpcdn.com/buphoto/Llih_uLRWAhbFKq0rR8k9Q/90s.jpg 3.00x\", \"displayName\": \"Brenda B.\", \"role\": \"Business Owner\"}, \"localizedDate\": \"11/22/2022\"}], \"appreciatedBy\": null, \"previousReviews\": null, \"tags\": [{\"label\": \"5 photos\", \"title\": null, \"href\": \"/biz_photos/brendas-french-soul-food-san-francisco-6?userid=4-r6POoSgtG2kIzh7XpCNw\", \"iconName\": \"18x18_camera\", \"iconColor\": \"\"}, {\"label\": \"1 check-in\", \"title\": null, \"href\": null, \"iconName\": \"18x18_check_in\", \"iconColor\": \"#0077bc\"}]}, {\"id\": \"diIV7eF_GVvqRzNKwVxUQw\", \"userId\": \"_7j3YoRDJNA0_28b8dF6SA\", \"business\": {\"id\": \"lJAGnYzku5zSaLnQ_T6_GQ\", \"alias\": \"brendas-french-soul-food-san-francisco-6\", \"name\": \"Brenda\\'s French Soul Food\", \"photoSrc\": \"https://s3-media0.fl.yelpcdn.com/bphoto/VJ865E7ULQWSNjKhNG57VQ/60s.jpg\"}, \"user\": {\"link\": \"/user_details?userid=_7j3YoRDJNA0_28b8dF6SA\", \"src\": \"https://s3-media0.fl.yelpcdn.com/photo/OviYIQ8NEGGgw3JTCiUjnA/60s.jpg\", \"srcSet\": \"https://s3-media0.fl.yelpcdn.com/photo/OviYIQ8NEGGgw3JTCiUjnA/ms.jpg 1.67x,https://s3-media0.fl.yelpcdn.com/photo/OviYIQ8NEGGgw3JTCiUjnA/120s.jpg 2.00x,https://s3-media0.fl.yelpcdn.com/photo/OviYIQ8NEGGgw3JTCiUjnA/90s.jpg 1.50x,https://s3-media0.fl.yelpcdn.com/photo/OviYIQ8NEGGgw3JTCiUjnA/168s.jpg 2.80x,https://s3-media0.fl.yelpcdn.com/photo/OviYIQ8NEGGgw3JTCiUjnA/180s.jpg 3.00x\", \"markupDisplayName\": \"Lawrence C.\", \"displayLocation\": \"San Francisco, CA\", \"altText\": \"Lawrence C.\", \"userUrl\": \"/user_details?userid=_7j3YoRDJNA0_28b8dF6SA\", \"partnerAlias\": null, \"friendCount\": 900, \"photoCount\": 472, \"reviewCount\": 228, \"eliteYear\": 2022}, \"comment\": {\"text\": \"If you&amp;#39;re going to Brenda&amp;#39;s for brunch, be prepared to wait around 20-30 minutes at least since this place is quite popular. However, this popularity is for good reason as it&amp;#39;s one of my favorite brunch places in all of SF! They don&amp;#39;t take reservations beforehand so it&amp;#39;s first-come first-serve, with a blackboard at the front of the restaurant where you can add your name to the waitlist. The inside is not the largest, but the decor is nice and gives a bit of a rustic atmosphere.<br&gt; \\\\u00a0 \\\\u00a0<br&gt; \\\\u00a0 \\\\u00a0Here, I would definitely recommend trying out their fried chicken and the hot pepper jelly. The fried chicken here is super crispy, and they give pretty large portions for it along with some fluffy biscuits. The hot pepper jelly also has a pretty interesting flavor, and I think it goes along very well with the chicken. The crawfish beignets are also solid and packed with quite a bit of flavor. The outside is coated in seasoning, while the inside has some great savory meat.<br&gt;<br&gt; \\\\u00a0 \\\\u00a0Overall, although there is quite a bit of a wait I think that it&amp;#39;s definitely worth checking this place out at least once for brunch!\", \"language\": \"en\"}, \"localizedDate\": \"11/20/2022\", \"localizedDateVisited\": null, \"rating\": 5, \"photos\": [{\"src\": \"https://s3-media0.fl.yelpcdn.com/bphoto/Hn0Sf1Bir7WnuRdH4FhkxA/300s.jpg\", \"link\": \"/biz_photos/brendas-french-soul-food-san-francisco-6?reviewid=diIV7eF_GVvqRzNKwVxUQw&amp;select=Hn0Sf1Bir7WnuRdH4FhkxA\", \"altText\": \"Photo of Brenda\\'s French Soul Food - San Francisco, CA, United States\", \"width\": 300, \"height\": 300, \"caption\": \"\"}, {\"src\": \"https://s3-media0.fl.yelpcdn.com/bphoto/fiooeQfwj3CKhgtcVL6pyQ/300s.jpg\", \"link\": \"/biz_photos/brendas-french-soul-food-san-francisco-6?reviewid=diIV7eF_GVvqRzNKwVxUQw&amp;select=fiooeQfwj3CKhgtcVL6pyQ\", \"altText\": \"Photo of Brenda\\'s French Soul Food - San Francisco, CA, United States\", \"width\": 300, \"height\": 300, \"caption\": \"\"}], \"lightboxMediaItems\": [{\"business\": {\"alias\": \"brendas-french-soul-food-san-francisco-6\", \"id\": \"lJAGnYzku5zSaLnQ_T6_GQ\", \"name\": \"Brenda\\'s French Soul Food\"}, \"businessAvatar\": {\"altText\": \"Brenda\\'s French Soul Food\", \"height\": 30, \"src\": \"https://s3-media0.fl.yelpcdn.com/bphoto/VJ865E7ULQWSNjKhNG57VQ/30s.jpg\", \"srcSet\": \"https://s3-media0.fl.yelpcdn.com/bphoto/VJ865E7ULQWSNjKhNG57VQ/ss.jpg 1.33x,https://s3-media0.fl.yelpcdn.com/bphoto/VJ865E7ULQWSNjKhNG57VQ/60s.jpg 2.00x,https://s3-media0.fl.yelpcdn.com/bphoto/VJ865E7ULQWSNjKhNG57VQ/90s.jpg 3.00x\", \"url\": \"/biz/brendas-french-soul-food-san-francisco-6\", \"width\": 30}, \"caption\": null, \"helpfulCount\": 0, \"id\": \"Hn0Sf1Bir7WnuRdH4FhkxA\", \"timeUploaded\": \"November 20, 2022\", \"type\": \"photo\", \"url\": \"https://s3-media0.fl.yelpcdn.com/bphoto/Hn0Sf1Bir7WnuRdH4FhkxA/o.jpg\", \"user\": {\"avatar\": {\"linkUrl\": \"/user_details?userid=_7j3YoRDJNA0_28b8dF6SA\", \"srcUrl\": \"https://s3-media0.fl.yelpcdn.com/photo/OviYIQ8NEGGgw3JTCiUjnA/30s.jpg\", \"srcSetUrl\": \"https://s3-media0.fl.yelpcdn.com/photo/OviYIQ8NEGGgw3JTCiUjnA/ss.jpg 1.33x,https://s3-media0.fl.yelpcdn.com/photo/OviYIQ8NEGGgw3JTCiUjnA/60s.jpg 2.00x,https://s3-media0.fl.yelpcdn.com/photo/OviYIQ8NEGGgw3JTCiUjnA/90s.jpg 3.00x\"}, \"displayName\": \"Lawrence C.\", \"eliteYear\": 2022, \"friendCount\": 900, \"id\": \"_7j3YoRDJNA0_28b8dF6SA\", \"isCurrentlyElite\": true, \"reviewCount\": 228, \"url\": \"/user_details?userid=_7j3YoRDJNA0_28b8dF6SA\"}, \"userVote\": \"NoVote\"}, {\"business\": {\"alias\": \"brendas-french-soul-food-san-francisco-6\", \"id\": \"lJAGnYzku5zSaLnQ_T6_GQ\", \"name\": \"Brenda\\'s French Soul Food\"}, \"businessAvatar\": {\"altText\": \"Brenda\\'s French Soul Food\", \"height\": 30, \"src\": \"https://s3-media0.fl.yelpcdn.com/bphoto/VJ865E7ULQWSNjKhNG57VQ/30s.jpg\", \"srcSet\": \"https://s3-media0.fl.yelpcdn.com/bphoto/VJ865E7ULQWSNjKhNG57VQ/ss.jpg 1.33x,https://s3-media0.fl.yelpcdn.com/bphoto/VJ865E7ULQWSNjKhNG57VQ/60s.jpg 2.00x,https://s3-media0.fl.yelpcdn.com/bphoto/VJ865E7ULQWSNjKhNG57VQ/90s.jpg 3.00x\", \"url\": \"/biz/brendas-french-soul-food-san-francisco-6\", \"width\": 30}, \"caption\": null, \"helpfulCount\": 0, \"id\": \"fiooeQfwj3CKhgtcVL6pyQ\", \"timeUploaded\": \"November 20, 2022\", \"type\": \"photo\", \"url\": \"https://s3-media0.fl.yelpcdn.com/bphoto/fiooeQfwj3CKhgtcVL6pyQ/o.jpg\", \"user\": {\"avatar\": {\"linkUrl\": \"/user_details?userid=_7j3YoRDJNA0_28b8dF6SA\", \"srcUrl\": \"https://s3-media0.fl.yelpcdn.com/photo/OviYIQ8NEGGgw3JTCiUjnA/30s.jpg\", \"srcSetUrl\": \"https://s3-media0.fl.yelpcdn.com/photo/OviYIQ8NEGGgw3JTCiUjnA/ss.jpg 1.33x,https://s3-media0.fl.yelpcdn.com/photo/OviYIQ8NEGGgw3JTCiUjnA/60s.jpg 2.00x,https://s3-media0.fl.yelpcdn.com/photo/OviYIQ8NEGGgw3JTCiUjnA/90s.jpg 3.00x\"}, \"displayName\": \"Lawrence C.\", \"eliteYear\": 2022, \"friendCount\": 900, \"id\": \"_7j3YoRDJNA0_28b8dF6SA\", \"isCurrentlyElite\": true, \"reviewCount\": 228, \"url\": \"/user_details?userid=_7j3YoRDJNA0_28b8dF6SA\"}, \"userVote\": \"NoVote\"}], \"photosUrl\": \"/biz_photos/brendas-french-soul-food-san-francisco-6?userid=_7j3YoRDJNA0_28b8dF6SA\", \"totalPhotos\": 2, \"feedback\": {\"counts\": {\"useful\": 1, \"funny\": 0, \"cool\": 0}, \"userFeedback\": {\"useful\": false, \"funny\": false, \"cool\": false}, \"voterText\": null}, \"isUpdated\": false, \"businessOwnerReplies\": [{\"id\": \"Lo4u9euQq7mjsz9ylXU4aw\", \"comment\": \"Hi there, Lawrence! We\\\\u2019re so glad to hear that you had an excellent experience with us here at Brenda\\\\u2019s French Soul Food. Thanks for your review and we hope to see you again soon.\", \"owner\": {\"id\": \"RczzCnHJgjvsnRGh-haf2Q\", \"avatarSrc\": \"https://s3-media0.fl.yelpcdn.com/buphoto/Llih_uLRWAhbFKq0rR8k9Q/30s.jpg\", \"avatarSrcSet\": \"https://s3-media0.fl.yelpcdn.com/buphoto/Llih_uLRWAhbFKq0rR8k9Q/ss.jpg 1.33x,https://s3-media0.fl.yelpcdn.com/buphoto/Llih_uLRWAhbFKq0rR8k9Q/90s.jpg 3.00x\", \"displayName\": \"Brenda B.\", \"role\": \"Business Owner\"}, \"localizedDate\": \"11/21/2022\"}], \"appreciatedBy\": null, \"previousReviews\": null, \"tags\": [{\"label\": \"2 photos\", \"title\": null, \"href\": \"/biz_photos/brendas-french-soul-food-san-francisco-6?userid=_7j3YoRDJNA0_28b8dF6SA\", \"iconName\": \"18x18_camera\", \"iconColor\": \"\"}]}]}, \"seoLinksProps\": {\"cityPageLinks\": {\"heading\": \"Best of San Francisco\", \"links\": [{\"href\": \"/city/sf\", \"label\": \"Things to do in San Francisco\", \"icon\": null}]}, \"nearbyLinks\": {\"heading\": \"Browse Nearby\", \"links\": [{\"href\": \"/search?find_desc=Restaurants&amp;find_loc=652+Polk+St%2C+San+Francisco%2C+CA+94102\", \"label\": \"Restaurants\", \"icon\": \"18x18_food\"}, {\"href\": \"/search?find_desc=Nightlife&amp;find_loc=652+Polk+St%2C+San+Francisco%2C+CA+94102\", \"label\": \"Nightlife\", \"icon\": \"18x18_nightlife\"}, {\"href\": \"/search?find_desc=Shopping&amp;find_loc=652+Polk+St%2C+San+Francisco%2C+CA+94102\", \"label\": \"Shopping\", \"icon\": \"18x18_shopping\"}, {\"href\": \"/search?find_loc=652+Polk+St%2C+San+Francisco%2C+CA+94102\", \"label\": \"Show all\", \"icon\": \"18x18_overflow\"}]}, \"nearbySearchInternalLinks\": {\"heading\": \"Other Places Nearby\", \"links\": [{\"href\": \"/search?cflt=breakfast_brunch&amp;find_near=brendas-french-soul-food-san-francisco-6\", \"label\": \"Find more Breakfast Brunch Spots near Brenda\\'s French Soul Food\", \"icon\": null}, {\"href\": \"/search?cflt=cajun&amp;find_near=brendas-french-soul-food-san-francisco-6\", \"label\": \"Find more Cajun/Creole near Brenda\\'s French Soul Food\", \"icon\": null}, {\"href\": \"/search?cflt=southern&amp;find_near=brendas-french-soul-food-san-francisco-6\", \"label\": \"Find more Southern Restaurants near Brenda\\'s French Soul Food\", \"icon\": null}]}, \"nearMeSearchInternalLinks\": {\"heading\": \"Near Me\", \"links\": [{\"href\": \"https://www.yelp.com/nearme/boiling-crabs\", \"label\": \"Boiling Crabs Near Me\", \"icon\": null}, {\"href\": \"https://www.yelp.com/nearme/breakfast-and-brunch\", \"label\": \"Breakfast Near Me\", \"icon\": null}, {\"href\": \"https://www.yelp.com/nearme/breakfast-buffet\", \"label\": \"Breakfast Buffet Near Me\", \"icon\": null}, {\"href\": \"https://www.yelp.com/nearme/cajun-restaurants\", \"label\": \"Cajun Restaurants Near Me\", \"icon\": null}]}, \"relatedResourceArticleLinks\": null, \"relatedSearchesLinks\": {\"heading\": \"People found Brenda\\'s French Soul Food by searching for\\\\u2026\", \"links\": [{\"href\": \"/search?find_desc=Cajun+Food&amp;find_loc=San+Francisco%2C+CA\", \"label\": \"Cajun Food San Francisco\", \"icon\": null}, {\"href\": \"/search?find_desc=Chicken+And+Waffles&amp;find_loc=San+Francisco%2C+CA\", \"label\": \"Chicken And Waffles San Francisco\", \"icon\": null}, {\"href\": \"/search?find_desc=Clam+Chowder&amp;find_loc=San+Francisco%2C+CA\", \"label\": \"Clam Chowder San Francisco\", \"icon\": null}, {\"href\": \"/search?find_desc=Creole+Food&amp;find_loc=San+Francisco%2C+CA\", \"label\": \"Creole Food San Francisco\", \"icon\": null}, {\"href\": \"/search?find_desc=French+Toast&amp;find_loc=San+Francisco%2C+CA\", \"label\": \"French Toast San Francisco\", \"icon\": null}, {\"href\": \"/search?find_desc=Fried+Chicken&amp;find_loc=San+Francisco%2C+CA\", \"label\": \"Fried Chicken San Francisco\", \"icon\": null}, {\"href\": \"/search?find_desc=Local+Favorite+Restaurants&amp;find_loc=San+Francisco%2C+CA\", \"label\": \"Local Favorite Restaurants San Francisco\", \"icon\": null}, {\"href\": \"/search?find_desc=Must+Eat&amp;find_loc=San+Francisco%2C+CA\", \"label\": \"Must Eat San Francisco\", \"icon\": null}, {\"href\": \"/search?find_desc=New+Orleans+Food&amp;find_loc=San+Francisco%2C+CA\", \"label\": \"New Orleans Food San Francisco\", \"icon\": null}, {\"href\": \"/search?find_desc=San+Francisco&amp;find_loc=San+Francisco%2C+CA\", \"label\": \"San Francisco San Francisco\", \"icon\": null}, {\"href\": \"/search?find_desc=Shrimp+And+Grits&amp;find_loc=San+Francisco%2C+CA\", \"label\": \"Shrimp And Grits San Francisco\", \"icon\": null}, {\"href\": \"/search?find_desc=Southern+Food&amp;find_loc=San+Francisco%2C+CA\", \"label\": \"Southern Food San Francisco\", \"icon\": null}]}, \"servicesHubPageInternalLinks\": null, \"serviceOfferingsLinks\": null, \"transactionSearchLinks\": {\"heading\": \"Dining in San Francisco\", \"links\": [{\"href\": \"/search?attrs=RestaurantsReservations&amp;cflt=restaurants&amp;find_loc=San+Francisco%2C+CA\", \"label\": \"Search for Reservations\", \"icon\": \"18x18_search_small\"}, {\"href\": \"/search?find_desc=Reservations&amp;find_loc=San+Francisco%2C+CA\", \"label\": \"Book a Table in San Francisco\", \"icon\": \"18x18_reservation\"}]}}, \"serviceOfferingsProps\": null, \"showPartnerAttribution\": false, \"signupNudgeProps\": null, \"sponsoredBusinessHighlightsProps\": null, \"staticReviewFeedProps\": {\"bizSiteDomain\": \"biz.yelp.com\", \"businessId\": \"lJAGnYzku5zSaLnQ_T6_GQ\", \"csrfTokens\": {\"bizPhotos\": \"244362b50f07f6bb436156ef530088483e8af62b5421276274e90a4b03ea2666\", \"compliment\": \"8cf1fab928debb3e41ce60b401f16478316e42dab848f540dec45e3cb2012c5a\", \"flagContent\": \"303bbd0260897cc98e90272dbc6fc4318e15be3808debff545c44a715db03ce3\", \"removeReview\": \"7a1ee3659dc8987cc562240b846bc6daf7c22e90558afe127c2da5dc7978b919\", \"reviewFeedback\": \"f591c159125409fc68636241aaafbdcd0f209c482802ec00d763c15cc647fd97\", \"sendMessage\": \"94106e6c9cb3667c14b4b55968c42313c3b2deda0a27f6625096ef8131006a7d\", \"userFollow\": \"582940e2eca8d1eef1c2ffdf67eb51d776689fb358d3c6e922e9c694daa8e23c\", \"searchForFriends\": \"45aa8bd42b5844e7d4f1ff89ac52d6db9f0fda620542138394e8e0eca306fe02\", \"sendToFriend\": \"7b70b523b4df343d05e7b5121fb5386787d5a7f21545879bac41c68e46e3e8fd\"}, \"currentUserFollows\": [], \"currentUserId\": null, \"currentUserIsBizOwner\": false, \"dateOfExperienceBannerProps\": null, \"interfaceLanguageCode\": \"en\", \"photoFlagReasons\": [{\"code\": \"W\", \"description\": \"This photo is in the wrong category\"}, {\"code\": \"A\", \"description\": \"It\\\\u2019s not a picture of the business\"}, {\"code\": \"T\", \"description\": \"It doesn\\\\u2019t depict a typical experience at this business\"}, {\"code\": \"I\", \"description\": \"It contains nudity, explicit content, or violent imagery\"}, {\"code\": \"5\", \"description\": \"It violates Yelp\\'s privacy standards\"}, {\"code\": \"D\", \"description\": \"I uploaded this photo and wish to delete it\"}], \"reviewFeedbackUrl\": \"/review_feedback\", \"reviewLanguageToLoad\": null, \"reviewFlagReasons\": [{\"code\": \"1\", \"description\": \"It contains false information\"}, {\"code\": \"8\", \"description\": \"It was posted by someone affiliated with the business\"}, {\"code\": \"9\", \"description\": \"It was posted by a competitor or ex-employee\"}, {\"code\": \"0\", \"description\": \"It contains threats, lewdness or hate speech\"}, {\"code\": \"3\", \"description\": \"It doesn\\'t describe a personal consumer experience\"}, {\"code\": \"5\", \"description\": \"It violates Yelp\\'s privacy standards\"}, {\"code\": \"6\", \"description\": \"It contains promotional material\"}, {\"code\": \"7\", \"description\": \"It\\'s for the wrong business\"}, {\"code\": \"E\", \"description\": \"It represents an extraordinary circumstance (e.g. COVID-19, media-fueled)\"}], \"reviewRemovalReasons\": [{\"description\": \"I was threatened with legal action or sued.\", \"explanation\": \"Lawsuits over Yelp reviews are rare and <a href=\\\\\"https://www.yelp-support.com/article/Do-Yelpers-ever-get-sued-for-posting-negative-reviews?l=en_US\\\\\" target=\\\\\"_blank\\\\\"&gt;usually unsuccessful</a&gt;.\", \"name\": \"reason_legal_action\"}, {\"description\": \"I was offered a refund or other compensation to remove this review.\", \"explanation\": \"<a href=\\\\\"https://www.yelp-support.com/article/What-should-I-do-if-a-business-tries-to-pay-me-in-exchange-for-removing-my-negative-review?l=en_US\\\\\" target=\\\\\"_blank\\\\\"&gt;We discourage this</a&gt;, consider a <a href=\\\\\"https://www.yelp-support.com/article/How-do-I-post-an-update-to-one-of-my-reviews?l=en_US\\\\\" target=\\\\\"_blank\\\\\"&gt;review update</a&gt; instead.\", \"name\": \"reason_compensation\"}, {\"description\": \"I signed a contract with the business that requires me to remove this review.\", \"explanation\": \"Such contracts are <a href=\\\\\"https://www.yelpblog.com/2016/12/protecting-free-speech-right-yelp-bill-becomes-federal-law\\\\\" target=\\\\\"_blank\\\\\"&gt;generally unenforceable</a&gt;.\", \"name\": \"reason_contract\"}, {\"description\": \"I changed my opinion of this business after a new interaction.\", \"explanation\": \"Did you know that you can <a href=\\\\\"https://www.yelp-support.com/article/How-do-I-post-an-update-to-one-of-my-reviews?l=en_US\\\\\" target=\\\\\"_blank\\\\\"&gt;update your review</a&gt; instead?\", \"name\": \"reason_changed_view\"}, {\"description\": \"Other\", \"explanation\": \"\", \"name\": \"reason_other\"}], \"selectedReviewId\": null, \"unconfirmedReview\": null, \"writeAReviewWidgetProps\": {\"isFTR\": false, \"message\": \"Start your review of <strong&gt;Brenda\\'s French Soul Food</strong&gt;.\", \"reviewDraft\": null, \"user\": null, \"warUrl\": \"/writeareview/biz/lJAGnYzku5zSaLnQ_T6_GQ?return_url=%2Fbiz%2FlJAGnYzku5zSaLnQ_T6_GQ\"}}, \"surveyQuestionsInlineProps\": null, \"surveyQuestionsModalProps\": null, \"waitlistWidgetProps\": null, \"yelpGuaranteedProps\": null}, \"bizDetailsVendorProps\": {\"adSyndicationConfig\": {\"adrollGeoquadV1\": 399358, \"categoryAliases\": [\"restaurants\", \"southern\", \"cajun\", \"breakfast_brunch\"], \"city\": \"San Francisco\", \"flow\": \"biz_details\", \"newVersionEnabled\": false, \"signalFxHealthTrackingCsrfToken\": \"be8ad0f4f5c7214bccc94c312f4cdf8af03ae2842b8b93f63c58e62d91f5eb4c\", \"state\": \"CA\", \"partnerCookieSyncData\": [{\"enc_user_id\": null, \"flow\": \"biz_details\", \"guv\": \"1F84E1AB3352A8B3\", \"partner\": 1, \"signature\": \"dEJaf69LkYL7tbCdU8tsWjIl1Y17pEoTEcUTPmYu81k\"}, {\"enc_user_id\": null, \"flow\": \"biz_details\", \"guv\": \"1F84E1AB3352A8B3\", \"partner\": 2, \"signature\": \"KCmftiXA8Dyp-mHAYyLp-3toGF8DywhO066Q8q2YWm8\"}], \"userType\": \"consumer\", \"adrollDelay\": 3000}, \"adrollTrackingProps\": {\"advId\": \"BHPKS4B4ONEJJMGH4QCJZR\", \"customData\": {\"adroll_geoquad_v1\": 399358, \"brand_names\": null, \"biz_id\": \"lJAGnYzku5zSaLnQ_T6_GQ\", \"category_aliases\": \"breakfast_brunch,cajun,restaurants,southern\", \"city\": \"San Francisco\", \"flow\": \"biz_details\", \"guv\": \"1F84E1AB3352A8B3\", \"is_checkout\": null, \"price_tags\": \"2\", \"state\": \"CA\", \"user_type\": 0, \"business_url\": null, \"business_count\": null, \"review_count\": null, \"rating\": null, \"time_business_created\": null, \"time_business_claimed\": null, \"zip_code\": null}, \"flow\": \"biz_details\", \"hashedEmail\": null, \"isEnabled\": true, \"pixId\": \"QB5JPFIKRZDSBOZSULG4YB\", \"signalFxHealthTrackingCsrfToken\": \"be8ad0f4f5c7214bccc94c312f4cdf8af03ae2842b8b93f63c58e62d91f5eb4c\", \"userIdentifier\": null}, \"businessId\": \"lJAGnYzku5zSaLnQ_T6_GQ\", \"interfaceLocaleCode\": \"en_US\", \"liverampTrackingProps\": {\"cipher\": null, \"encryptedEmail\": null, \"initVector\": null, \"yuv\": \"1F84E1AB3352A8B3\"}, \"showGoogleOneTap\": true, \"trackingPixelsProps\": {\"adSpiceProps\": {\"uniqueRequestId\": \"fd29ee9e506840c0\", \"isSpiceEnabled\": true, \"isWebdriverLoggingEnabled\": true}, \"quantcastTrackingProps\": {\"cookieName\": \"qntcst\", \"apiKey\": \"p-M4yfUTCPeS3vn\"}, \"uniqueRequestId\": \"fd29ee9e506840c0\"}, \"recaptchaV3PublicKey\": null}, \"gaDimensions\": {\"www\": {\"account_level\": [1, \"anon\"], \"biz_city_state\": [192, \"San Francisco, CA\"], \"biz_closed\": [8, \"False\"], \"biz_review_count\": [10, \"100+\"], \"business_id\": [141, \"lJAGnYzku5zSaLnQ_T6_GQ\"], \"category_paths_to_root\": [94, \"[[\\'breakfast_brunch\\', \\'restaurants\\'], [\\'southern\\', \\'restaurants\\'], [\\'cajun\\', \\'restaurants\\']]\"], \"content_country\": [15, \"US\"], \"decrypted_yuv_id\": [3, \"1F84E1AB3352A8B3\"], \"distil\": [53, null], \"distil_js_enabled\": [138, null], \"full_url\": [34, \"/biz/brendas-french-soul-food-san-francisco-6\"], \"has_canonical\": [36, \"False\"], \"integration\": [14, \"\"], \"internal_ip\": [27, \"False\"], \"is_biz_user\": [129, \"False\"], \"is_indexable\": [42, \"True\"], \"known_bot\": [186, \"other\"], \"rating\": [114, 4.0], \"referrer\": [64, \"none\"], \"remote_ip\": [4, \"34.145.234.0\"], \"second_level_categories\": [110, \"breakfast_brunch, southern, cajun\"], \"service\": [107, \"yelp-main\"], \"top_level_categories\": [11, \"restaurants\"], \"viewport_tracking\": [29, null], \"ad.web_carousel_bottom_of_biz\": [78, \"status_quo\"], \"www_education_banner\": [190, \"disabled\"], \"contributions.www.remove_review_draft_modules\": [183, \"status_quo\"], \"contributions.www.war_attach_photos\": [99, \"enabled\"], \"contributions.www.war_compose_recent_photos\": [102, \"enabled\"], \"contributions.www.war_compose_redesign\": [6, \"enabled\"], \"contributions.www.war_compose_signup\": [148, \"disabled\"], \"eat24_free_delivery_banner\": [45, \"disabled\"], \"lsmoney.www.yg_raq_cards_on_search\": [152, \"status_quo\"], \"lsat.www.dropdown_header\": [54, \"enabled\"], \"lsm.www.unpakt_cta_change\": [108, \"unpakt_cta_enabled\"], \"messaging.www.composer_notifications_spam_and_hover_state\": [177, \"notifications_enabled\"], \"messaging.www.raq_cards_on_search\": [61, \"status_quo\"], \"messaging.www.yelp_guaranteed\": [160, \"status_quo\"], \"nav_show_message_count\": [59, \"show_message_count\"], \"nowait_restaurant.www.no_wait_message\": [106, \"show_waitlist_instructions\"], \"pagelet_mode_www_biz_details\": [24, \"allow_async\"], \"payment.ux.www\": [197, \"enabled\"], \"platform_pickup_filter\": [20, \"enabled\"], \"readerx.web.biz_for_services\": [116, \"biz_status_quo\"], \"readerx.web.popular_dishes\": [198, \"highlights_popular_dishes\"], \"review_actions_dropdown\": [2, \"disabled\"], \"searchux.www.services_serp_card_new_layout_v0_0\": [151, \"status_quo\"], \"styleguide_buttons\": [13, \"status_quo\"], \"styleguide_typography\": [159, \"status_quo\"], \"txn.www.checkout_page_changes\": [135, \"enabled\"], \"www_biz_details_raq_sticky\": [84, \"enabled\"], \"www_current_location_suggestion\": [185, \"enabled\"], \"www_second_page_pitch\": [111, \"status_quo\"], \"www_signup_redesign\": [92, \"status_quo\"], \"ytp_delivery_landing\": [125, \"platform_pages\"], \"ytp_eat24_yelp_style_to_iframe\": [136, \"status_quo\"], \"ytp_order_confirmation_page\": [143, \"enabled\"], \"www_search_snippets_in_sync_with_ads\": [112, \"status_quo_8\"], \"yr_diner.www.direct_checkout_for_exact_match\": [163, \"disabled\"]}, \"global\": {\"account_level\": [1, \"anon\"], \"biz_closed\": [4, \"False\"], \"biz_review_count\": [6, \"100+\"], \"category_paths_to_root\": [10, \"[[\\'breakfast_brunch\\', \\'restaurants\\'], [\\'southern\\', \\'restaurants\\'], [\\'cajun\\', \\'restaurants\\']]\"], \"content_country\": [11, \"US\"], \"distil\": [12, null], \"distil_js_enabled\": [13, null], \"full_url\": [15, \"/biz/brendas-french-soul-food-san-francisco-6\"], \"has_canonical\": [16, \"False\"], \"integration\": [17, \"\"], \"internal_ip\": [18, \"False\"], \"is_indexable\": [19, \"True\"], \"known_bot\": [36, \"other\"], \"rating\": [27, 4.0], \"referrer\": [28, \"none\"], \"top_level_categories\": [7, \"restaurants\"]}}, \"pageShellProps\": {\"headerProps\": {\"bizSiteURL\": null, \"currentURL\": \"https://www.yelp.com/biz/brendas-french-soul-food-san-francisco-6\", \"logoutCsrfToken\": \"a229ec8076ad0de7d4de0b65fede51b25475d458b0b9b04213f6d480de9e3f10\", \"uniqueRequestId\": \"fd29ee9e506840c0\", \"initialSearchDisplayVal\": \"\"}, \"footerProps\": {\"localeCode\": \"en_US\", \"baseUrl\": \"https://www.yelp.com/\", \"currentUrl\": \"https://www.yelp.com/biz/brendas-french-soul-food-san-francisco-6\", \"attributionSource\": null, \"locationCookieCountryCode\": \"US\"}, \"pageLevelMessagesProps\": null, \"showReadOnlyAlert\": false, \"scraperHoneypotUri\": \"/biz/outlook-autumn-market-fundamental-catwalk-flimsy-roost-legibility-individualism-grocer-predestination-5\"}, \"shouldFetchPropsFromClient\": false, \"sitRepParams\": {\"uniqueRequestID\": \"fd29ee9e506840c0\", \"zipkinTraceID\": \"84e711b0aa549b83\", \"cfRayID\": null, \"yuv_record\": \"1d9ITHmJJ20_QHWDVw2k-gHp9hn0DXkN22rMG8Zc7dNQI9fzIaBhKmyOfMV-tdrDk1cCDuolwFE0YTCLhipZ3a-3YxkkRAFF\", \"serverStartTime\": 1670117338502, \"datacenter\": \"us-east-1\", \"site\": \"main\", \"isLoggedIn\": false, \"action\": null, \"servlet\": \"www.biz_details\", \"clientIP\": \"34.145.234.252\", \"is_internal_ip\": false, \"edgeStartTime\": 1670117338479253, \"b3Sampled\": \"0\", \"edgestageSubdomain\": \"_disabled\", \"disableBeacon\": false}, \"theme\": \"v2\"}}, \"csrfTokens\": {}, \"bunsenContext\": {\"context\": [{\"schema_id\": 279661, \"payload_data\": {\"guv\": \"1F84E1AB3352A8B3\"}}, {\"schema_id\": 171864, \"payload_data\": {\"unique_request_id\": \"84e711b0aa549b83\"}}, {\"schema_id\": 280941, \"payload_data\": {\"internal_ip\": false}}, {\"schema_id\": 338431, \"payload_data\": {\"internal_ip\": false}}, {\"schema_id\": 280599, \"payload_data\": {\"country\": \"US\", \"language\": \"en\"}}, {\"schema_id\": 338430, \"payload_data\": {\"country\": \"US\", \"language\": \"en\"}}, {\"schema_id\": 283288, \"payload_data\": {\"user_id\": null}}, {\"schema_id\": 311701, \"payload_data\": {\"platform\": \"www\"}}, {\"schema_id\": 338439, \"payload_data\": {\"platform\": \"www\"}}, {\"schema_id\": 284174, \"payload_data\": {\"normed_app_version\": \"unknown\"}}, {\"schema_id\": 284175, \"payload_data\": {\"normed_device_type\": \"UnknownDevice\"}}, {\"schema_id\": 312263, \"payload_data\": {\"product\": \"consumer\", \"product_version\": \"re16b430e9d-deploy-where-did-november-go\"}}, {\"schema_id\": 338440, \"payload_data\": {\"product\": \"consumer\", \"product_version\": \"re16b430e9d-deploy-where-did-november-go\"}}, {\"schema_id\": 309536, \"payload_data\": {\"unique_view_id\": \"84e711b0aa549b83\", \"previous_unique_view_id\": null}}, {\"schema_id\": 338432, \"payload_data\": {\"unique_view_id\": \"84e711b0aa549b83\", \"previous_unique_view_id\": null}}, {\"schema_id\": 311448, \"payload_data\": {\"biz_user_id_encid\": null}}, {\"schema_id\": 311702, \"payload_data\": {\"os_name\": \"unknown\", \"os_version\": \"x.x.x\"}}, {\"schema_id\": 338437, \"payload_data\": {\"os_name\": \"unknown\", \"os_version\": \"x.x.x\"}}, {\"schema_id\": 306745, \"payload_data\": {\"name\": \"www\"}}, {\"schema_id\": 311757, \"payload_data\": {\"is_interactive\": true}}, {\"schema_id\": 338434, \"payload_data\": {\"is_interactive\": true}}, {\"schema_id\": 311510, \"payload_data\": {\"user_id_encid\": null}}, {\"schema_id\": 338441, \"payload_data\": {\"user_id_encid\": null}}, {\"schema_id\": 311758, \"payload_data\": {\"interface_name\": \"python_requests\", \"interface_version\": \"2.23.x\"}}, {\"schema_id\": 338435, \"payload_data\": {\"interface_name\": \"python_requests\", \"interface_version\": \"2.23.x\"}}, {\"schema_id\": 312281, \"payload_data\": {\"offset\": null}}, {\"schema_id\": 338436, \"payload_data\": {\"offset\": null}}, {\"schema_id\": 311756, \"payload_data\": {\"hardware_model\": null}}, {\"schema_id\": 338433, \"payload_data\": {\"hardware_model\": null}}, {\"schema_id\": 321983, \"payload_data\": {\"user_advertising_id\": null}}, {\"schema_id\": 352511, \"payload_data\": {\"source\": \"gondola\"}}, {\"schema_id\": 311859, \"payload_data\": {\"page_id\": \"c9f8fbde046eb41b772b21224bd54f1a9eb100e6\"}}]}, \"bunsenExperiments\": {}, \"bunsenUnloggedAssignments\": {\"yelp.www.biz_details.PLAH.bottom_ad_carousel_with_sponsored_ads.enabled\": {\"param_name\": \"yelp.www.biz_details.PLAH.bottom_ad_carousel_with_sponsored_ads.enabled\", \"param_value\": \"false\", \"experiment_run_id\": null, \"experiment_id\": null, \"cohort_id\": null, \"exclusion_reason\": 2, \"config_id\": \"23f44d903fae069b0a057d56a3d55a61\", \"allocator_version\": \"0.2.36\"}, \"yelp.www.biz_details.PLAH.template\": {\"param_name\": \"yelp.www.biz_details.PLAH.template\", \"param_value\": \"classic\", \"experiment_run_id\": null, \"experiment_id\": null, \"cohort_id\": null, \"exclusion_reason\": 2, \"config_id\": \"23f44d903fae069b0a057d56a3d55a61\", \"allocator_version\": \"0.2.36\"}, \"yelp.www.biz_details.PLAH.top_ad_carousel_with_sponsored_ads.enabled\": {\"param_name\": \"yelp.www.biz_details.PLAH.top_ad_carousel_with_sponsored_ads.enabled\", \"param_value\": \"false\", \"experiment_run_id\": null, \"experiment_id\": null, \"cohort_id\": null, \"exclusion_reason\": 2, \"config_id\": \"23f44d903fae069b0a057d56a3d55a61\", \"allocator_version\": \"0.2.36\"}, \"yelp.www.biz_details.RFN.template\": {\"param_name\": \"yelp.www.biz_details.RFN.template\", \"param_value\": \"classic\", \"experiment_run_id\": null, \"experiment_id\": null, \"cohort_id\": null, \"exclusion_reason\": 2, \"config_id\": \"23f44d903fae069b0a057d56a3d55a61\", \"allocator_version\": \"0.2.36\"}, \"yelp.www.biz_details.action_bar.war_button.text\": {\"param_name\": \"yelp.www.biz_details.action_bar.war_button.text\", \"param_value\": \"Write a Review\", \"experiment_run_id\": null, \"experiment_id\": null, \"cohort_id\": null, \"exclusion_reason\": 2, \"config_id\": \"23f44d903fae069b0a057d56a3d55a61\", \"allocator_version\": \"0.2.36\"}, \"yelp.www.biz_details.action_bar_follow_button\": {\"param_name\": \"yelp.www.biz_details.action_bar_follow_button\", \"param_value\": \"true\", \"experiment_run_id\": null, \"experiment_id\": null, \"cohort_id\": null, \"exclusion_reason\": 2, \"config_id\": \"23f44d903fae069b0a057d56a3d55a61\", \"allocator_version\": \"0.2.36\"}, \"yelp.www.biz_details.ad_call_tracking.events_to_cassandra\": {\"param_name\": \"yelp.www.biz_details.ad_call_tracking.events_to_cassandra\", \"param_value\": \"false\", \"experiment_run_id\": null, \"experiment_id\": null, \"cohort_id\": null, \"exclusion_reason\": 2, \"config_id\": \"23f44d903fae069b0a057d56a3d55a61\", \"allocator_version\": \"0.2.36\"}, \"yelp.www.biz_details.ad_creative.photo_id.enabled\": {\"param_name\": \"yelp.www.biz_details.ad_creative.photo_id.enabled\", \"param_value\": \"false\", \"experiment_run_id\": null, \"experiment_id\": null, \"cohort_id\": null, \"exclusion_reason\": 2, \"config_id\": \"23f44d903fae069b0a057d56a3d55a61\", \"allocator_version\": \"0.2.36\"}, \"yelp.www.biz_details.ad_driven_call_tracking.cassandra_dark_launch\": {\"param_name\": \"yelp.www.biz_details.ad_driven_call_tracking.cassandra_dark_launch\", \"param_value\": \"true\", \"experiment_run_id\": 1632, \"experiment_id\": 639, \"cohort_id\": 3854, \"exclusion_reason\": null, \"config_id\": \"23f44d903fae069b0a057d56a3d55a61\", \"allocator_version\": \"0.2.36\"}, \"yelp.www.biz_details.ad_feedback.enabled\": {\"param_name\": \"yelp.www.biz_details.ad_feedback.enabled\", \"param_value\": \"false\", \"experiment_run_id\": null, \"experiment_id\": null, \"cohort_id\": null, \"exclusion_reason\": 2, \"config_id\": \"23f44d903fae069b0a057d56a3d55a61\", \"allocator_version\": \"0.2.36\"}, \"yelp.www.biz_details.ad_placement_migration_experiment_cohort\": {\"param_name\": \"yelp.www.biz_details.ad_placement_migration_experiment_cohort\", \"param_value\": \"status_quo\", \"experiment_run_id\": null, \"experiment_id\": null, \"cohort_id\": null, \"exclusion_reason\": 2, \"config_id\": \"23f44d903fae069b0a057d56a3d55a61\", \"allocator_version\": \"0.2.36\"}, \"yelp.www.biz_details.ad_syndication_cta.more_consistent_cta\": {\"param_name\": \"yelp.www.biz_details.ad_syndication_cta.more_consistent_cta\", \"param_value\": \"false\", \"experiment_run_id\": null, \"experiment_id\": null, \"cohort_id\": null, \"exclusion_reason\": 2, \"config_id\": \"23f44d903fae069b0a057d56a3d55a61\", \"allocator_version\": \"0.2.36\"}, \"yelp.www.biz_details.align_sponsored_label\": {\"param_name\": \"yelp.www.biz_details.align_sponsored_label\", \"param_value\": \"left\", \"experiment_run_id\": null, \"experiment_id\": null, \"cohort_id\": null, \"exclusion_reason\": 2, \"config_id\": \"23f44d903fae069b0a057d56a3d55a61\", \"allocator_version\": \"0.2.36\"}, \"yelp.www.biz_details.app_pitch.show_pitch_case\": {\"param_name\": \"yelp.www.biz_details.app_pitch.show_pitch_case\", \"param_value\": \"status_quo\", \"experiment_run_id\": null, \"experiment_id\": null, \"cohort_id\": null, \"exclusion_reason\": 2, \"config_id\": \"23f44d903fae069b0a057d56a3d55a61\", \"allocator_version\": \"0.2.36\"}, \"yelp.www.biz_details.biz_discovery.ads_pitch_banner_react_component.enabled\": {\"param_name\": \"yelp.www.biz_details.biz_discovery.ads_pitch_banner_react_component.enabled\", \"param_value\": \"true\", \"experiment_run_id\": null, \"experiment_id\": null, \"cohort_id\": null, \"exclusion_reason\": 2, \"config_id\": \"23f44d903fae069b0a057d56a3d55a61\", \"allocator_version\": \"0.2.36\"}, \"yelp.www.biz_details.biz_discovery.fullstory.enabled\": {\"param_name\": \"yelp.www.biz_details.biz_discovery.fullstory.enabled\", \"param_value\": \"false\", \"experiment_run_id\": null, \"experiment_id\": null, \"cohort_id\": null, \"exclusion_reason\": 2, \"config_id\": \"23f44d903fae069b0a057d56a3d55a61\", \"allocator_version\": \"0.2.36\"}, \"yelp.www.biz_details.bizpage_potfolios.enabled\": {\"param_name\": \"yelp.www.biz_details.bizpage_potfolios.enabled\", \"param_value\": \"true\", \"experiment_run_id\": 850, \"experiment_id\": 267, \"cohort_id\": 2099, \"exclusion_reason\": null, \"config_id\": \"23f44d903fae069b0a057d56a3d55a61\", \"allocator_version\": \"0.2.36\"}, \"yelp.www.biz_details.bottom.ad_carousel.enabled\": {\"param_name\": \"yelp.www.biz_details.bottom.ad_carousel.enabled\", \"param_value\": \"false\", \"experiment_run_id\": null, \"experiment_id\": null, \"cohort_id\": null, \"exclusion_reason\": 2, \"config_id\": \"23f44d903fae069b0a057d56a3d55a61\", \"allocator_version\": \"0.2.36\"}, \"yelp.www.biz_details.bottom.sponsored_ads.enabled\": {\"param_name\": \"yelp.www.biz_details.bottom.sponsored_ads.enabled\", \"param_value\": \"false\", \"experiment_run_id\": null, \"experiment_id\": null, \"cohort_id\": null, \"exclusion_reason\": 2, \"config_id\": \"23f44d903fae069b0a057d56a3d55a61\", \"allocator_version\": \"0.2.36\"}, \"yelp.www.biz_details.browser_push_notifications.permission_prompt.cohort\": {\"param_name\": \"yelp.www.biz_details.browser_push_notifications.permission_prompt.cohort\", \"param_value\": \"status_quo\", \"experiment_run_id\": null, \"experiment_id\": null, \"cohort_id\": null, \"exclusion_reason\": 2, \"config_id\": \"23f44d903fae069b0a057d56a3d55a61\", \"allocator_version\": \"0.2.36\"}, \"yelp.www.biz_details.business_posts_carousel.www_video_playback.enabled\": {\"param_name\": \"yelp.www.biz_details.business_posts_carousel.www_video_playback.enabled\", \"param_value\": \"False\", \"experiment_run_id\": null, \"experiment_id\": null, \"cohort_id\": null, \"exclusion_reason\": 2, \"config_id\": \"23f44d903fae069b0a057d56a3d55a61\", \"allocator_version\": \"0.2.36\"}, \"yelp.www.biz_details.business_posts_carousel_like\": {\"param_name\": \"yelp.www.biz_details.business_posts_carousel_like\", \"param_value\": \"true\", \"experiment_run_id\": null, \"experiment_id\": null, \"cohort_id\": null, \"exclusion_reason\": 2, \"config_id\": \"23f44d903fae069b0a057d56a3d55a61\", \"allocator_version\": \"0.2.36\"}, \"yelp.www.biz_details.collapsed_view.enabled\": {\"param_name\": \"yelp.www.biz_details.collapsed_view.enabled\", \"param_value\": \"false\", \"experiment_run_id\": null, \"experiment_id\": null, \"cohort_id\": null, \"exclusion_reason\": 2, \"config_id\": \"23f44d903fae069b0a057d56a3d55a61\", \"allocator_version\": \"0.2.36\"}, \"yelp.www.biz_details.collection_save_modal.use_toast\": {\"param_name\": \"yelp.www.biz_details.collection_save_modal.use_toast\", \"param_value\": \"true\", \"experiment_run_id\": 7580, \"experiment_id\": 3384, \"cohort_id\": 19137, \"exclusion_reason\": null, \"config_id\": \"23f44d903fae069b0a057d56a3d55a61\", \"allocator_version\": \"0.2.36\"}, \"yelp.www.biz_details.competitor_ads.business_gems.enabled\": {\"param_name\": \"yelp.www.biz_details.competitor_ads.business_gems.enabled\", \"param_value\": \"false\", \"experiment_run_id\": null, \"experiment_id\": null, \"cohort_id\": null, \"exclusion_reason\": 2, \"config_id\": \"23f44d903fae069b0a057d56a3d55a61\", \"allocator_version\": \"0.2.36\"}, \"yelp.www.biz_details.consumer_prompts.service_areas.is_enabled\": {\"param_name\": \"yelp.www.biz_details.consumer_prompts.service_areas.is_enabled\", \"param_value\": \"false\", \"experiment_run_id\": null, \"experiment_id\": null, \"cohort_id\": null, \"exclusion_reason\": 2, \"config_id\": \"23f44d903fae069b0a057d56a3d55a61\", \"allocator_version\": \"0.2.36\"}, \"yelp.www.biz_details.consumer_prompts.service_offerings.is_enabled\": {\"param_name\": \"yelp.www.biz_details.consumer_prompts.service_offerings.is_enabled\", \"param_value\": \"false\", \"experiment_run_id\": null, \"experiment_id\": null, \"cohort_id\": null, \"exclusion_reason\": 2, \"config_id\": \"23f44d903fae069b0a057d56a3d55a61\", \"allocator_version\": \"0.2.36\"}, \"yelp.www.biz_details.cookieconsent.onetrust.is_enabled\": {\"param_name\": \"yelp.www.biz_details.cookieconsent.onetrust.is_enabled\", \"param_value\": \"false\", \"experiment_run_id\": null, \"experiment_id\": null, \"cohort_id\": null, \"exclusion_reason\": 2, \"config_id\": \"23f44d903fae069b0a057d56a3d55a61\", \"allocator_version\": \"0.2.36\"}, \"yelp.www.biz_details.daisychaining.cohort\": {\"param_name\": \"yelp.www.biz_details.daisychaining.cohort\", \"param_value\": \"status_quo\", \"experiment_run_id\": null, \"experiment_id\": null, \"cohort_id\": null, \"exclusion_reason\": 2, \"config_id\": \"23f44d903fae069b0a057d56a3d55a61\", \"allocator_version\": \"0.2.36\"}, \"yelp.www.biz_details.daisychaining.enabled\": {\"param_name\": \"yelp.www.biz_details.daisychaining.enabled\", \"param_value\": \"false\", \"experiment_run_id\": null, \"experiment_id\": null, \"cohort_id\": null, \"exclusion_reason\": 2, \"config_id\": \"23f44d903fae069b0a057d56a3d55a61\", \"allocator_version\": \"0.2.36\"}, \"yelp.www.biz_details.daisychaining.seo\": {\"param_name\": \"yelp.www.biz_details.daisychaining.seo\", \"param_value\": \"status_quo\", \"experiment_run_id\": null, \"experiment_id\": null, \"cohort_id\": null, \"exclusion_reason\": 2, \"config_id\": \"23f44d903fae069b0a057d56a3d55a61\", \"allocator_version\": \"0.2.36\"}, \"yelp.www.biz_details.deprecated_test_ignore\": {\"param_name\": \"yelp.www.biz_details.deprecated_test_ignore\", \"param_value\": \"Rohan thank you\", \"experiment_run_id\": null, \"experiment_id\": null, \"cohort_id\": null, \"exclusion_reason\": 2, \"config_id\": \"23f44d903fae069b0a057d56a3d55a61\", \"allocator_version\": \"0.2.36\"}, \"yelp.www.biz_details.dynamic_client_side_rendering.enabled\": {\"param_name\": \"yelp.www.biz_details.dynamic_client_side_rendering.enabled\", \"param_value\": \"false\", \"experiment_run_id\": null, \"experiment_id\": null, \"cohort_id\": null, \"exclusion_reason\": 2, \"config_id\": \"23f44d903fae069b0a057d56a3d55a61\", \"allocator_version\": \"0.2.36\"}, \"yelp.www.biz_details.dynamic_content.biz_claim_reminder.enable\": {\"param_name\": \"yelp.www.biz_details.dynamic_content.biz_claim_reminder.enable\", \"param_value\": \"true\", \"experiment_run_id\": null, \"experiment_id\": null, \"cohort_id\": null, \"exclusion_reason\": 2, \"config_id\": \"23f44d903fae069b0a057d56a3d55a61\", \"allocator_version\": \"0.2.36\"}, \"yelp.www.biz_details.dynamic_content.biz_claim_teaser_main_column.enable\": {\"param_name\": \"yelp.www.biz_details.dynamic_content.biz_claim_teaser_main_column.enable\", \"param_value\": \"true\", \"experiment_run_id\": null, \"experiment_id\": null, \"cohort_id\": null, \"exclusion_reason\": 2, \"config_id\": \"23f44d903fae069b0a057d56a3d55a61\", \"allocator_version\": \"0.2.36\"}, \"yelp.www.biz_details.dynamic_content.biz_claim_teaser_sidebar.enable\": {\"param_name\": \"yelp.www.biz_details.dynamic_content.biz_claim_teaser_sidebar.enable\", \"param_value\": \"true\", \"experiment_run_id\": null, \"experiment_id\": null, \"cohort_id\": null, \"exclusion_reason\": 2, \"config_id\": \"23f44d903fae069b0a057d56a3d55a61\", \"allocator_version\": \"0.2.36\"}, \"yelp.www.biz_details.edit_biz_info.user_identity.visibility\": {\"param_name\": \"yelp.www.biz_details.edit_biz_info.user_identity.visibility\", \"param_value\": \"true\", \"experiment_run_id\": null, \"experiment_id\": null, \"cohort_id\": null, \"exclusion_reason\": 2, \"config_id\": \"23f44d903fae069b0a057d56a3d55a61\", \"allocator_version\": \"0.2.36\"}, \"yelp.www.biz_details.enable_graphql_unconfirmed_review_alert\": {\"param_name\": \"yelp.www.biz_details.enable_graphql_unconfirmed_review_alert\", \"param_value\": \"true\", \"experiment_run_id\": null, \"experiment_id\": null, \"cohort_id\": null, \"exclusion_reason\": 2, \"config_id\": \"23f44d903fae069b0a057d56a3d55a61\", \"allocator_version\": \"0.2.36\"}, \"yelp.www.biz_details.enable_showcase_ads\": {\"param_name\": \"yelp.www.biz_details.enable_showcase_ads\", \"param_value\": \"true\", \"experiment_run_id\": 3353, \"experiment_id\": 1495, \"cohort_id\": 7856, \"exclusion_reason\": null, \"config_id\": \"23f44d903fae069b0a057d56a3d55a61\", \"allocator_version\": \"0.2.36\"}, \"yelp.www.biz_details.enabled_cta_for_competitor_showcase_ads\": {\"param_name\": \"yelp.www.biz_details.enabled_cta_for_competitor_showcase_ads\", \"param_value\": \"true\", \"experiment_run_id\": 6851, \"experiment_id\": 3321, \"cohort_id\": 16957, \"exclusion_reason\": null, \"config_id\": \"23f44d903fae069b0a057d56a3d55a61\", \"allocator_version\": \"0.2.36\"}, \"yelp.www.biz_details.enabled_show_more_for_competitor_showcase_ads\": {\"param_name\": \"yelp.www.biz_details.enabled_show_more_for_competitor_showcase_ads\", \"param_value\": \"false\", \"experiment_run_id\": null, \"experiment_id\": null, \"cohort_id\": null, \"exclusion_reason\": 2, \"config_id\": \"23f44d903fae069b0a057d56a3d55a61\", \"allocator_version\": \"0.2.36\"}, \"yelp.www.biz_details.external_website_frame.cta_text\": {\"param_name\": \"yelp.www.biz_details.external_website_frame.cta_text\", \"param_value\": \"\", \"experiment_run_id\": null, \"experiment_id\": null, \"cohort_id\": null, \"exclusion_reason\": 2, \"config_id\": \"23f44d903fae069b0a057d56a3d55a61\", \"allocator_version\": \"0.2.36\"}, \"yelp.www.biz_details.external_website_frame.dismissal_text\": {\"param_name\": \"yelp.www.biz_details.external_website_frame.dismissal_text\", \"param_value\": \"\", \"experiment_run_id\": null, \"experiment_id\": null, \"cohort_id\": null, \"exclusion_reason\": 2, \"config_id\": \"23f44d903fae069b0a057d56a3d55a61\", \"allocator_version\": \"0.2.36\"}, \"yelp.www.biz_details.external_website_frame.external_link_text\": {\"param_name\": \"yelp.www.biz_details.external_website_frame.external_link_text\", \"param_value\": \"show_url\", \"experiment_run_id\": null, \"experiment_id\": null, \"cohort_id\": null, \"exclusion_reason\": 2, \"config_id\": \"23f44d903fae069b0a057d56a3d55a61\", \"allocator_version\": \"0.2.36\"}, \"yelp.www.biz_details.external_website_frame.header_text\": {\"param_name\": \"yelp.www.biz_details.external_website_frame.header_text\", \"param_value\": \"\", \"experiment_run_id\": null, \"experiment_id\": null, \"cohort_id\": null, \"exclusion_reason\": 2, \"config_id\": \"23f44d903fae069b0a057d56a3d55a61\", \"allocator_version\": \"0.2.36\"}, \"yelp.www.biz_details.external_website_frame.is_enabled\": {\"param_name\": \"yelp.www.biz_details.external_website_frame.is_enabled\", \"param_value\": \"True\", \"experiment_run_id\": null, \"experiment_id\": null, \"cohort_id\": null, \"exclusion_reason\": 2, \"config_id\": \"23f44d903fae069b0a057d56a3d55a61\", \"allocator_version\": \"0.2.36\"}, \"yelp.www.biz_details.for_restaurants.react.enabled\": {\"param_name\": \"yelp.www.biz_details.for_restaurants.react.enabled\", \"param_value\": \"false\", \"experiment_run_id\": null, \"experiment_id\": null, \"cohort_id\": null, \"exclusion_reason\": 2, \"config_id\": \"23f44d903fae069b0a057d56a3d55a61\", \"allocator_version\": \"0.2.36\"}, \"yelp.www.biz_details.for_services.react.enabled\": {\"param_name\": \"yelp.www.biz_details.for_services.react.enabled\", \"param_value\": \"false\", \"experiment_run_id\": null, \"experiment_id\": null, \"cohort_id\": null, \"exclusion_reason\": 2, \"config_id\": \"23f44d903fae069b0a057d56a3d55a61\", \"allocator_version\": \"0.2.36\"}, \"yelp.www.biz_details.force_kitchen_sink_ssr_error\": {\"param_name\": \"yelp.www.biz_details.force_kitchen_sink_ssr_error\", \"param_value\": \"disabled\", \"experiment_run_id\": null, \"experiment_id\": null, \"cohort_id\": null, \"exclusion_reason\": 2, \"config_id\": \"23f44d903fae069b0a057d56a3d55a61\", \"allocator_version\": \"0.2.36\"}, \"yelp.www.biz_details.front_end_signals.poc.enabled\": {\"param_name\": \"yelp.www.biz_details.front_end_signals.poc.enabled\", \"param_value\": \"false\", \"experiment_run_id\": null, \"experiment_id\": null, \"cohort_id\": null, \"exclusion_reason\": 2, \"config_id\": \"23f44d903fae069b0a057d56a3d55a61\", \"allocator_version\": \"0.2.36\"}, \"yelp.www.biz_details.gondola.enabled\": {\"param_name\": \"yelp.www.biz_details.gondola.enabled\", \"param_value\": \"false\", \"experiment_run_id\": null, \"experiment_id\": null, \"cohort_id\": null, \"exclusion_reason\": 2, \"config_id\": \"23f44d903fae069b0a057d56a3d55a61\", \"allocator_version\": \"0.2.36\"}, \"yelp.www.biz_details.google_one_tap.PLAH.enabled\": {\"param_name\": \"yelp.www.biz_details.google_one_tap.PLAH.enabled\", \"param_value\": \"true\", \"experiment_run_id\": null, \"experiment_id\": null, \"cohort_id\": null, \"exclusion_reason\": 2, \"config_id\": \"23f44d903fae069b0a057d56a3d55a61\", \"allocator_version\": \"0.2.36\"}, \"yelp.www.biz_details.google_one_tap.backend_enabled\": {\"param_name\": \"yelp.www.biz_details.google_one_tap.backend_enabled\", \"param_value\": \"true\", \"experiment_run_id\": null, \"experiment_id\": null, \"cohort_id\": null, \"exclusion_reason\": 2, \"config_id\": \"23f44d903fae069b0a057d56a3d55a61\", \"allocator_version\": \"0.2.36\"}, \"yelp.www.biz_details.google_one_tap.enabled\": {\"param_name\": \"yelp.www.biz_details.google_one_tap.enabled\", \"param_value\": \"true\", \"experiment_run_id\": null, \"experiment_id\": null, \"cohort_id\": null, \"exclusion_reason\": 2, \"config_id\": \"23f44d903fae069b0a057d56a3d55a61\", \"allocator_version\": \"0.2.36\"}, \"yelp.www.biz_details.google_one_tap.other_enabled\": {\"param_name\": \"yelp.www.biz_details.google_one_tap.other_enabled\", \"param_value\": \"true\", \"experiment_run_id\": null, \"experiment_id\": null, \"cohort_id\": null, \"exclusion_reason\": 2, \"config_id\": \"23f44d903fae069b0a057d56a3d55a61\", \"allocator_version\": \"0.2.36\"}, \"yelp.www.biz_details.google_one_tap.position\": {\"param_name\": \"yelp.www.biz_details.google_one_tap.position\", \"param_value\": \"topLeft\", \"experiment_run_id\": null, \"experiment_id\": null, \"cohort_id\": null, \"exclusion_reason\": 2, \"config_id\": \"23f44d903fae069b0a057d56a3d55a61\", \"allocator_version\": \"0.2.36\"}, \"yelp.www.biz_details.google_one_tap.unclaimed_enabled\": {\"param_name\": \"yelp.www.biz_details.google_one_tap.unclaimed_enabled\", \"param_value\": \"true\", \"experiment_run_id\": null, \"experiment_id\": null, \"cohort_id\": null, \"exclusion_reason\": 2, \"config_id\": \"23f44d903fae069b0a057d56a3d55a61\", \"allocator_version\": \"0.2.36\"}, \"yelp.www.biz_details.google_yolo.enabled\": {\"param_name\": \"yelp.www.biz_details.google_yolo.enabled\", \"param_value\": \"false\", \"experiment_run_id\": null, \"experiment_id\": null, \"cohort_id\": null, \"exclusion_reason\": 2, \"config_id\": \"23f44d903fae069b0a057d56a3d55a61\", \"allocator_version\": \"0.2.36\"}, \"yelp.www.biz_details.is_RaPC_monetization_live\": {\"param_name\": \"yelp.www.biz_details.is_RaPC_monetization_live\", \"param_value\": \"false\", \"experiment_run_id\": null, \"experiment_id\": null, \"cohort_id\": null, \"exclusion_reason\": 2, \"config_id\": \"23f44d903fae069b0a057d56a3d55a61\", \"allocator_version\": \"0.2.36\"}, \"yelp.www.biz_details.is_ssr_enabled\": {\"param_name\": \"yelp.www.biz_details.is_ssr_enabled\", \"param_value\": \"true\", \"experiment_run_id\": null, \"experiment_id\": null, \"cohort_id\": null, \"exclusion_reason\": 2, \"config_id\": \"23f44d903fae069b0a057d56a3d55a61\", \"allocator_version\": \"0.2.36\"}, \"yelp.www.biz_details.job_pricing.pricing_widget.is_enabled\": {\"param_name\": \"yelp.www.biz_details.job_pricing.pricing_widget.is_enabled\", \"param_value\": \"true\", \"experiment_run_id\": null, \"experiment_id\": null, \"cohort_id\": null, \"exclusion_reason\": 2, \"config_id\": \"23f44d903fae069b0a057d56a3d55a61\", \"allocator_version\": \"0.2.36\"}, \"yelp.www.biz_details.job_pricing.pricing_widget.should_show\": {\"param_name\": \"yelp.www.biz_details.job_pricing.pricing_widget.should_show\", \"param_value\": \"true\", \"experiment_run_id\": null, \"experiment_id\": null, \"cohort_id\": null, \"exclusion_reason\": 2, \"config_id\": \"23f44d903fae069b0a057d56a3d55a61\", \"allocator_version\": \"0.2.36\"}, \"yelp.www.biz_details.jump_to_sections.enabled\": {\"param_name\": \"yelp.www.biz_details.jump_to_sections.enabled\", \"param_value\": \"True\", \"experiment_run_id\": null, \"experiment_id\": null, \"cohort_id\": null, \"exclusion_reason\": 2, \"config_id\": \"23f44d903fae069b0a057d56a3d55a61\", \"allocator_version\": \"0.2.36\"}, \"yelp.www.biz_details.lazy_loading.enabled\": {\"param_name\": \"yelp.www.biz_details.lazy_loading.enabled\", \"param_value\": \"false\", \"experiment_run_id\": null, \"experiment_id\": null, \"cohort_id\": null, \"exclusion_reason\": 2, \"config_id\": \"23f44d903fae069b0a057d56a3d55a61\", \"allocator_version\": \"0.2.36\"}, \"yelp.www.biz_details.lazy_loading.enabled_categories\": {\"param_name\": \"yelp.www.biz_details.lazy_loading.enabled_categories\", \"param_value\": \"all\", \"experiment_run_id\": null, \"experiment_id\": null, \"cohort_id\": null, \"exclusion_reason\": 2, \"config_id\": \"23f44d903fae069b0a057d56a3d55a61\", \"allocator_version\": \"0.2.36\"}, \"yelp.www.biz_details.lazy_loading.enabled_plah_override\": {\"param_name\": \"yelp.www.biz_details.lazy_loading.enabled_plah_override\", \"param_value\": \"false\", \"experiment_run_id\": null, \"experiment_id\": null, \"cohort_id\": null, \"exclusion_reason\": 2, \"config_id\": \"23f44d903fae069b0a057d56a3d55a61\", \"allocator_version\": \"0.2.36\"}, \"yelp.www.biz_details.lazy_loading_enabled_categories\": {\"param_name\": \"yelp.www.biz_details.lazy_loading_enabled_categories\", \"param_value\": \"\", \"experiment_run_id\": null, \"experiment_id\": null, \"cohort_id\": null, \"exclusion_reason\": 2, \"config_id\": \"23f44d903fae069b0a057d56a3d55a61\", \"allocator_version\": \"0.2.36\"}, \"yelp.www.biz_details.local_ads.placements.include_biz_sidebar\": {\"param_name\": \"yelp.www.biz_details.local_ads.placements.include_biz_sidebar\", \"param_value\": \"true\", \"experiment_run_id\": null, \"experiment_id\": null, \"cohort_id\": null, \"exclusion_reason\": 2, \"config_id\": \"23f44d903fae069b0a057d56a3d55a61\", \"allocator_version\": \"0.2.36\"}, \"yelp.www.biz_details.logged_out_review_suggestions\": {\"param_name\": \"yelp.www.biz_details.logged_out_review_suggestions\", \"param_value\": \"None\", \"experiment_run_id\": null, \"experiment_id\": null, \"cohort_id\": null, \"exclusion_reason\": 2, \"config_id\": \"23f44d903fae069b0a057d56a3d55a61\", \"allocator_version\": \"0.2.36\"}, \"yelp.www.biz_details.mapbox.make_reservation_link.icon\": {\"param_name\": \"yelp.www.biz_details.mapbox.make_reservation_link.icon\", \"param_value\": \"18x18_reservation\", \"experiment_run_id\": null, \"experiment_id\": null, \"cohort_id\": null, \"exclusion_reason\": 2, \"config_id\": \"23f44d903fae069b0a057d56a3d55a61\", \"allocator_version\": \"0.2.36\"}, \"yelp.www.biz_details.mapbox.make_reservation_link.text\": {\"param_name\": \"yelp.www.biz_details.mapbox.make_reservation_link.text\", \"param_value\": \"Make a Reservation\", \"experiment_run_id\": null, \"experiment_id\": null, \"cohort_id\": null, \"exclusion_reason\": 2, \"config_id\": \"23f44d903fae069b0a057d56a3d55a61\", \"allocator_version\": \"0.2.36\"}, \"yelp.www.biz_details.marketing_test_overview_page\": {\"param_name\": \"yelp.www.biz_details.marketing_test_overview_page\", \"param_value\": \"Good day Guv\\'nor\", \"experiment_run_id\": null, \"experiment_id\": null, \"cohort_id\": null, \"exclusion_reason\": 2, \"config_id\": \"23f44d903fae069b0a057d56a3d55a61\", \"allocator_version\": \"0.2.36\"}, \"yelp.www.biz_details.medialightbox\": {\"param_name\": \"yelp.www.biz_details.medialightbox\", \"param_value\": \"vertical\", \"experiment_run_id\": 8740, \"experiment_id\": 4546, \"cohort_id\": 22865, \"exclusion_reason\": null, \"config_id\": \"23f44d903fae069b0a057d56a3d55a61\", \"allocator_version\": \"0.2.36\"}, \"yelp.www.biz_details.medialightbox.fullscreen.enabled\": {\"param_name\": \"yelp.www.biz_details.medialightbox.fullscreen.enabled\", \"param_value\": \"false\", \"experiment_run_id\": null, \"experiment_id\": null, \"cohort_id\": null, \"exclusion_reason\": 2, \"config_id\": \"23f44d903fae069b0a057d56a3d55a61\", \"allocator_version\": \"0.2.36\"}, \"yelp.www.biz_details.medialightbox.v3\": {\"param_name\": \"yelp.www.biz_details.medialightbox.v3\", \"param_value\": \"false\", \"experiment_run_id\": null, \"experiment_id\": null, \"cohort_id\": null, \"exclusion_reason\": 2, \"config_id\": \"23f44d903fae069b0a057d56a3d55a61\", \"allocator_version\": \"0.2.36\"}, \"yelp.www.biz_details.menu.restaurant_more_text\": {\"param_name\": \"yelp.www.biz_details.menu.restaurant_more_text\", \"param_value\": \"View the full menu\", \"experiment_run_id\": null, \"experiment_id\": null, \"cohort_id\": null, \"exclusion_reason\": 11, \"config_id\": \"23f44d903fae069b0a057d56a3d55a61\", \"allocator_version\": \"0.2.36\"}, \"yelp.www.biz_details.mobile_site.module_ordering\": {\"param_name\": \"yelp.www.biz_details.mobile_site.module_ordering\", \"param_value\": \"photos_module,featured_action_list_module,review_feed_module,map_box_module,coupon_pitch_module,action_list_module,menu_highlights_module,questions_module,review_highlights_module,reviews_i18n_module,food_platform_module,tips_module,ads_below_module,biz_engagement_module,not_recommended_reviews_module\", \"experiment_run_id\": null, \"experiment_id\": null, \"cohort_id\": null, \"exclusion_reason\": 2, \"config_id\": \"23f44d903fae069b0a057d56a3d55a61\", \"allocator_version\": \"0.2.36\"}, \"yelp.www.biz_details.motivational_content.icon_name\": {\"param_name\": \"yelp.www.biz_details.motivational_content.icon_name\", \"param_value\": \"14x14_lightning_bolt\", \"experiment_run_id\": null, \"experiment_id\": null, \"cohort_id\": null, \"exclusion_reason\": 2, \"config_id\": \"23f44d903fae069b0a057d56a3d55a61\", \"allocator_version\": \"0.2.36\"}, \"yelp.www.biz_details.offer_campaign_enabled\": {\"param_name\": \"yelp.www.biz_details.offer_campaign_enabled\", \"param_value\": \"true\", \"experiment_run_id\": null, \"experiment_id\": null, \"cohort_id\": null, \"exclusion_reason\": 2, \"config_id\": \"23f44d903fae069b0a057d56a3d55a61\", \"allocator_version\": \"0.2.36\"}, \"yelp.www.biz_details.offer_campaign_service_dark_launch\": {\"param_name\": \"yelp.www.biz_details.offer_campaign_service_dark_launch\", \"param_value\": \"true\", \"experiment_run_id\": null, \"experiment_id\": null, \"cohort_id\": null, \"exclusion_reason\": 2, \"config_id\": \"23f44d903fae069b0a057d56a3d55a61\", \"allocator_version\": \"0.2.36\"}, \"yelp.www.biz_details.offers_from_service_enabled\": {\"param_name\": \"yelp.www.biz_details.offers_from_service_enabled\", \"param_value\": \"false\", \"experiment_run_id\": null, \"experiment_id\": null, \"cohort_id\": null, \"exclusion_reason\": 2, \"config_id\": \"23f44d903fae069b0a057d56a3d55a61\", \"allocator_version\": \"0.2.36\"}, \"yelp.www.biz_details.on_the_menu.enabled\": {\"param_name\": \"yelp.www.biz_details.on_the_menu.enabled\", \"param_value\": \"true\", \"experiment_run_id\": 4390, \"experiment_id\": 1839, \"cohort_id\": 10315, \"exclusion_reason\": null, \"config_id\": \"23f44d903fae069b0a057d56a3d55a61\", \"allocator_version\": \"0.2.36\"}, \"yelp.www.biz_details.pablo.intermediate.ads_improvement\": {\"param_name\": \"yelp.www.biz_details.pablo.intermediate.ads_improvement\", \"param_value\": \"ads_with_black_name\", \"experiment_run_id\": null, \"experiment_id\": null, \"cohort_id\": null, \"exclusion_reason\": 2, \"config_id\": \"23f44d903fae069b0a057d56a3d55a61\", \"allocator_version\": \"0.2.36\"}, \"yelp.www.biz_details.page_title_supports_reservation_cohort\": {\"param_name\": \"yelp.www.biz_details.page_title_supports_reservation_cohort\", \"param_value\": \"status_quo\", \"experiment_run_id\": null, \"experiment_id\": null, \"cohort_id\": null, \"exclusion_reason\": 2, \"config_id\": \"23f44d903fae069b0a057d56a3d55a61\", \"allocator_version\": \"0.2.36\"}, \"yelp.www.biz_details.pinterest.save_button.enabled\": {\"param_name\": \"yelp.www.biz_details.pinterest.save_button.enabled\", \"param_value\": \"false\", \"experiment_run_id\": null, \"experiment_id\": null, \"cohort_id\": null, \"exclusion_reason\": 2, \"config_id\": \"23f44d903fae069b0a057d56a3d55a61\", \"allocator_version\": \"0.2.36\"}, \"yelp.www.biz_details.plahh.business_comparison.enabled\": {\"param_name\": \"yelp.www.biz_details.plahh.business_comparison.enabled\", \"param_value\": \"false\", \"experiment_run_id\": null, \"experiment_id\": null, \"cohort_id\": null, \"exclusion_reason\": 2, \"config_id\": \"23f44d903fae069b0a057d56a3d55a61\", \"allocator_version\": \"0.2.36\"}, \"yelp.www.biz_details.platform_widget.food.start_order_text\": {\"param_name\": \"yelp.www.biz_details.platform_widget.food.start_order_text\", \"param_value\": \"Start Order\", \"experiment_run_id\": null, \"experiment_id\": null, \"cohort_id\": null, \"exclusion_reason\": 2, \"config_id\": \"23f44d903fae069b0a057d56a3d55a61\", \"allocator_version\": \"0.2.36\"}, \"yelp.www.biz_details.popular_dish_v2.cohort\": {\"param_name\": \"yelp.www.biz_details.popular_dish_v2.cohort\", \"param_value\": \"enabled\", \"experiment_run_id\": null, \"experiment_id\": null, \"cohort_id\": null, \"exclusion_reason\": 2, \"config_id\": \"23f44d903fae069b0a057d56a3d55a61\", \"allocator_version\": \"0.2.36\"}, \"yelp.www.biz_details.popular_dishes.max_count\": {\"param_name\": \"yelp.www.biz_details.popular_dishes.max_count\", \"param_value\": \"10\", \"experiment_run_id\": null, \"experiment_id\": null, \"cohort_id\": null, \"exclusion_reason\": 2, \"config_id\": \"23f44d903fae069b0a057d56a3d55a61\", \"allocator_version\": \"0.2.36\"}, \"yelp.www.biz_details.popular_drinks_carousel.is_enabled\": {\"param_name\": \"yelp.www.biz_details.popular_drinks_carousel.is_enabled\", \"param_value\": \"true\", \"experiment_run_id\": 7736, \"experiment_id\": 3788, \"cohort_id\": 19629, \"exclusion_reason\": null, \"config_id\": \"23f44d903fae069b0a057d56a3d55a61\", \"allocator_version\": \"0.2.36\"}, \"yelp.www.biz_details.portfolio.flag_photo.is_enabled\": {\"param_name\": \"yelp.www.biz_details.portfolio.flag_photo.is_enabled\", \"param_value\": \"false\", \"experiment_run_id\": null, \"experiment_id\": null, \"cohort_id\": null, \"exclusion_reason\": 2, \"config_id\": \"23f44d903fae069b0a057d56a3d55a61\", \"allocator_version\": \"0.2.36\"}, \"yelp.www.biz_details.pulsar.pulsar_nspid\": {\"param_name\": \"yelp.www.biz_details.pulsar.pulsar_nspid\", \"param_value\": \"deprecated\", \"experiment_run_id\": null, \"experiment_id\": null, \"cohort_id\": null, \"exclusion_reason\": 2, \"config_id\": \"23f44d903fae069b0a057d56a3d55a61\", \"allocator_version\": \"0.2.36\"}, \"yelp.www.biz_details.pulsar.pulsar_tag_enabled\": {\"param_name\": \"yelp.www.biz_details.pulsar.pulsar_tag_enabled\", \"param_value\": \"true\", \"experiment_run_id\": null, \"experiment_id\": null, \"cohort_id\": null, \"exclusion_reason\": 2, \"config_id\": \"23f44d903fae069b0a057d56a3d55a61\", \"allocator_version\": \"0.2.36\"}, \"yelp.www.biz_details.pulsar.pulsar_tag_integrity\": {\"param_name\": \"yelp.www.biz_details.pulsar.pulsar_tag_integrity\", \"param_value\": \"sha256-e3RarKddRlig6qXn+GKdD58g3PT2KmYg6HQ/5uB7JQU=\", \"experiment_run_id\": null, \"experiment_id\": null, \"cohort_id\": null, \"exclusion_reason\": 2, \"config_id\": \"23f44d903fae069b0a057d56a3d55a61\", \"allocator_version\": \"0.2.36\"}, \"yelp.www.biz_details.rapc_monetization\": {\"param_name\": \"yelp.www.biz_details.rapc_monetization\", \"param_value\": \"enabled\", \"experiment_run_id\": 7879, \"experiment_id\": 3566, \"cohort_id\": 20057, \"exclusion_reason\": null, \"config_id\": \"23f44d903fae069b0a057d56a3d55a61\", \"allocator_version\": \"0.2.36\"}, \"yelp.www.biz_details.raq.is_yelp_guaranteed_enabled\": {\"param_name\": \"yelp.www.biz_details.raq.is_yelp_guaranteed_enabled\", \"param_value\": \"false\", \"experiment_run_id\": 9120, \"experiment_id\": 4769, \"cohort_id\": 24033, \"exclusion_reason\": null, \"config_id\": \"23f44d903fae069b0a057d56a3d55a61\", \"allocator_version\": \"0.2.36\"}, \"yelp.www.biz_details.raq_widget.alternate_layout_enabled\": {\"param_name\": \"yelp.www.biz_details.raq_widget.alternate_layout_enabled\", \"param_value\": \"False\", \"experiment_run_id\": null, \"experiment_id\": null, \"cohort_id\": null, \"exclusion_reason\": 2, \"config_id\": \"23f44d903fae069b0a057d56a3d55a61\", \"allocator_version\": \"0.2.36\"}, \"yelp.www.biz_details.read_more_newline.enabled\": {\"param_name\": \"yelp.www.biz_details.read_more_newline.enabled\", \"param_value\": \"false\", \"experiment_run_id\": null, \"experiment_id\": null, \"cohort_id\": null, \"exclusion_reason\": 2, \"config_id\": \"23f44d903fae069b0a057d56a3d55a61\", \"allocator_version\": \"0.2.36\"}, \"yelp.www.biz_details.realtime_raq_sms.enabled\": {\"param_name\": \"yelp.www.biz_details.realtime_raq_sms.enabled\", \"param_value\": \"false\", \"experiment_run_id\": null, \"experiment_id\": null, \"cohort_id\": null, \"exclusion_reason\": 2, \"config_id\": \"23f44d903fae069b0a057d56a3d55a61\", \"allocator_version\": \"0.2.36\"}, \"yelp.www.biz_details.realtime_raq_sms.sms_opt_in.guest_user_enabled\": {\"param_name\": \"yelp.www.biz_details.realtime_raq_sms.sms_opt_in.guest_user_enabled\", \"param_value\": \"false\", \"experiment_run_id\": null, \"experiment_id\": null, \"cohort_id\": null, \"exclusion_reason\": 2, \"config_id\": \"23f44d903fae069b0a057d56a3d55a61\", \"allocator_version\": \"0.2.36\"}, \"yelp.www.biz_details.realtime_raq_sms.sms_opt_in.logged_out_user_enabled\": {\"param_name\": \"yelp.www.biz_details.realtime_raq_sms.sms_opt_in.logged_out_user_enabled\", \"param_value\": \"false\", \"experiment_run_id\": null, \"experiment_id\": null, \"cohort_id\": null, \"exclusion_reason\": 2, \"config_id\": \"23f44d903fae069b0a057d56a3d55a61\", \"allocator_version\": \"0.2.36\"}, \"yelp.www.biz_details.redesign.PLAHH.top_ad_caoursel\": {\"param_name\": \"yelp.www.biz_details.redesign.PLAHH.top_ad_caoursel\", \"param_value\": \"false\", \"experiment_run_id\": null, \"experiment_id\": null, \"cohort_id\": null, \"exclusion_reason\": 2, \"config_id\": \"23f44d903fae069b0a057d56a3d55a61\", \"allocator_version\": \"0.2.36\"}, \"yelp.www.biz_details.redesign.restaurant_category\": {\"param_name\": \"yelp.www.biz_details.redesign.restaurant_category\", \"param_value\": \"status_quo\", \"experiment_run_id\": null, \"experiment_id\": null, \"cohort_id\": null, \"exclusion_reason\": 2, \"config_id\": \"23f44d903fae069b0a057d56a3d55a61\", \"allocator_version\": \"0.2.36\"}, \"yelp.www.biz_details.request_a_phone_call.cta_widget.enabled\": {\"param_name\": \"yelp.www.biz_details.request_a_phone_call.cta_widget.enabled\", \"param_value\": \"true\", \"experiment_run_id\": 7818, \"experiment_id\": 3961, \"cohort_id\": 19854, \"exclusion_reason\": null, \"config_id\": \"23f44d903fae069b0a057d56a3d55a61\", \"allocator_version\": \"0.2.36\"}, \"yelp.www.biz_details.request_a_phone_call.cta_widget.invisibiz.default_opt_in\": {\"param_name\": \"yelp.www.biz_details.request_a_phone_call.cta_widget.invisibiz.default_opt_in\", \"param_value\": \"false\", \"experiment_run_id\": null, \"experiment_id\": null, \"cohort_id\": null, \"exclusion_reason\": 2, \"config_id\": \"23f44d903fae069b0a057d56a3d55a61\", \"allocator_version\": \"0.2.36\"}, \"yelp.www.biz_details.request_a_phone_call.cta_widget.invisibiz.phone_number_masking_statement.enabled\": {\"param_name\": \"yelp.www.biz_details.request_a_phone_call.cta_widget.invisibiz.phone_number_masking_statement.enabled\", \"param_value\": \"false\", \"experiment_run_id\": null, \"experiment_id\": null, \"cohort_id\": null, \"exclusion_reason\": 2, \"config_id\": \"23f44d903fae069b0a057d56a3d55a61\", \"allocator_version\": \"0.2.36\"}, \"yelp.www.biz_details.request_a_phone_call.cta_widget.invisibiz.skipped\": {\"param_name\": \"yelp.www.biz_details.request_a_phone_call.cta_widget.invisibiz.skipped\", \"param_value\": \"false\", \"experiment_run_id\": 8453, \"experiment_id\": 3971, \"cohort_id\": 21970, \"exclusion_reason\": null, \"config_id\": \"23f44d903fae069b0a057d56a3d55a61\", \"allocator_version\": \"0.2.36\"}, \"yelp.www.biz_details.request_a_phone_call.r1.enabled\": {\"param_name\": \"yelp.www.biz_details.request_a_phone_call.r1.enabled\", \"param_value\": \"false\", \"experiment_run_id\": null, \"experiment_id\": null, \"cohort_id\": null, \"exclusion_reason\": 2, \"config_id\": \"23f44d903fae069b0a057d56a3d55a61\", \"allocator_version\": \"0.2.36\"}, \"yelp.www.biz_details.request_a_phone_call.rapc_button.is_secondary\": {\"param_name\": \"yelp.www.biz_details.request_a_phone_call.rapc_button.is_secondary\", \"param_value\": \"true\", \"experiment_run_id\": null, \"experiment_id\": null, \"cohort_id\": null, \"exclusion_reason\": 2, \"config_id\": \"23f44d903fae069b0a057d56a3d55a61\", \"allocator_version\": \"0.2.36\"}, \"yelp.www.biz_details.request_a_phone_call.rapc_button.type\": {\"param_name\": \"yelp.www.biz_details.request_a_phone_call.rapc_button.type\", \"param_value\": \"SECONDARY\", \"experiment_run_id\": null, \"experiment_id\": null, \"cohort_id\": null, \"exclusion_reason\": 2, \"config_id\": \"23f44d903fae069b0a057d56a3d55a61\", \"allocator_version\": \"0.2.36\"}, \"yelp.www.biz_details.request_a_phone_call.raq_button.is_secondary\": {\"param_name\": \"yelp.www.biz_details.request_a_phone_call.raq_button.is_secondary\", \"param_value\": \"false\", \"experiment_run_id\": null, \"experiment_id\": null, \"cohort_id\": null, \"exclusion_reason\": 2, \"config_id\": \"23f44d903fae069b0a057d56a3d55a61\", \"allocator_version\": \"0.2.36\"}, \"yelp.www.biz_details.request_a_phone_call.raq_button.type\": {\"param_name\": \"yelp.www.biz_details.request_a_phone_call.raq_button.type\", \"param_value\": \"PRIMARY\", \"experiment_run_id\": null, \"experiment_id\": null, \"cohort_id\": null, \"exclusion_reason\": 2, \"config_id\": \"23f44d903fae069b0a057d56a3d55a61\", \"allocator_version\": \"0.2.36\"}, \"yelp.www.biz_details.reservation_sticky_bar.motivational_content.timeslots_left_text_plural\": {\"param_name\": \"yelp.www.biz_details.reservation_sticky_bar.motivational_content.timeslots_left_text_plural\", \"param_value\": \"Only ${n} time slots left!\", \"experiment_run_id\": null, \"experiment_id\": null, \"cohort_id\": null, \"exclusion_reason\": 2, \"config_id\": \"23f44d903fae069b0a057d56a3d55a61\", \"allocator_version\": \"0.2.36\"}, \"yelp.www.biz_details.reservation_sticky_bar.motivational_content.timeslots_left_text_singular\": {\"param_name\": \"yelp.www.biz_details.reservation_sticky_bar.motivational_content.timeslots_left_text_singular\", \"param_value\": \"Only ${n} time slot left!\", \"experiment_run_id\": null, \"experiment_id\": null, \"cohort_id\": null, \"exclusion_reason\": 2, \"config_id\": \"23f44d903fae069b0a057d56a3d55a61\", \"allocator_version\": \"0.2.36\"}, \"yelp.www.biz_details.reservation_widget.motivational_content.timeslots_left_text_singular\": {\"param_name\": \"yelp.www.biz_details.reservation_widget.motivational_content.timeslots_left_text_singular\", \"param_value\": \"Hurry, only {} time slot left!\", \"experiment_run_id\": null, \"experiment_id\": null, \"cohort_id\": null, \"exclusion_reason\": 2, \"config_id\": \"23f44d903fae069b0a057d56a3d55a61\", \"allocator_version\": \"0.2.36\"}, \"yelp.www.biz_details.reservation_widget.time_slots_cohort\": {\"param_name\": \"yelp.www.biz_details.reservation_widget.time_slots_cohort\", \"param_value\": \"status_quo\", \"experiment_run_id\": null, \"experiment_id\": null, \"cohort_id\": null, \"exclusion_reason\": 2, \"config_id\": \"23f44d903fae069b0a057d56a3d55a61\", \"allocator_version\": \"0.2.36\"}, \"yelp.www.biz_details.respond_to_review.m1.enabled\": {\"param_name\": \"yelp.www.biz_details.respond_to_review.m1.enabled\", \"param_value\": \"true\", \"experiment_run_id\": null, \"experiment_id\": null, \"cohort_id\": null, \"exclusion_reason\": 2, \"config_id\": \"23f44d903fae069b0a057d56a3d55a61\", \"allocator_version\": \"0.2.36\"}, \"yelp.www.biz_details.restaurant_category.logic.redesign_enabled\": {\"param_name\": \"yelp.www.biz_details.restaurant_category.logic.redesign_enabled\", \"param_value\": \"false\", \"experiment_run_id\": null, \"experiment_id\": null, \"cohort_id\": null, \"exclusion_reason\": 2, \"config_id\": \"23f44d903fae069b0a057d56a3d55a61\", \"allocator_version\": \"0.2.36\"}, \"yelp.www.biz_details.review_feed_gql.enabled\": {\"param_name\": \"yelp.www.biz_details.review_feed_gql.enabled\", \"param_value\": \"false\", \"experiment_run_id\": null, \"experiment_id\": null, \"cohort_id\": null, \"exclusion_reason\": 2, \"config_id\": \"23f44d903fae069b0a057d56a3d55a61\", \"allocator_version\": \"0.2.36\"}, \"yelp.www.biz_details.review_pull_quotes.enabled\": {\"param_name\": \"yelp.www.biz_details.review_pull_quotes.enabled\", \"param_value\": \"true\", \"experiment_run_id\": null, \"experiment_id\": null, \"cohort_id\": null, \"exclusion_reason\": 2, \"config_id\": \"23f44d903fae069b0a057d56a3d55a61\", \"allocator_version\": \"0.2.36\"}, \"yelp.www.biz_details.review_solicitation_section\": {\"param_name\": \"yelp.www.biz_details.review_solicitation_section\", \"param_value\": \"none\", \"experiment_run_id\": null, \"experiment_id\": null, \"cohort_id\": null, \"exclusion_reason\": 2, \"config_id\": \"23f44d903fae069b0a057d56a3d55a61\", \"allocator_version\": \"0.2.36\"}, \"yelp.www.biz_details.review_summary.enabled\": {\"param_name\": \"yelp.www.biz_details.review_summary.enabled\", \"param_value\": \"False\", \"experiment_run_id\": null, \"experiment_id\": null, \"cohort_id\": null, \"exclusion_reason\": 2, \"config_id\": \"23f44d903fae069b0a057d56a3d55a61\", \"allocator_version\": \"0.2.36\"}, \"yelp.www.biz_details.reviews.inline_message_button\": {\"param_name\": \"yelp.www.biz_details.reviews.inline_message_button\", \"param_value\": \"status_quo\", \"experiment_run_id\": null, \"experiment_id\": null, \"cohort_id\": null, \"exclusion_reason\": 2, \"config_id\": \"23f44d903fae069b0a057d56a3d55a61\", \"allocator_version\": \"0.2.36\"}, \"yelp.www.biz_details.reviews.sort.default_most_recent.enabled\": {\"param_name\": \"yelp.www.biz_details.reviews.sort.default_most_recent.enabled\", \"param_value\": \"false\", \"experiment_run_id\": null, \"experiment_id\": null, \"cohort_id\": null, \"exclusion_reason\": 2, \"config_id\": \"23f44d903fae069b0a057d56a3d55a61\", \"allocator_version\": \"0.2.36\"}, \"yelp.www.biz_details.reviews.sort.rename_yelp_sort.enabled\": {\"param_name\": \"yelp.www.biz_details.reviews.sort.rename_yelp_sort.enabled\", \"param_value\": \"false\", \"experiment_run_id\": null, \"experiment_id\": null, \"cohort_id\": null, \"exclusion_reason\": 2, \"config_id\": \"23f44d903fae069b0a057d56a3d55a61\", \"allocator_version\": \"0.2.36\"}, \"yelp.www.biz_details.rpp_override\": {\"param_name\": \"yelp.www.biz_details.rpp_override\", \"param_value\": \"10\", \"experiment_run_id\": null, \"experiment_id\": null, \"cohort_id\": null, \"exclusion_reason\": 2, \"config_id\": \"23f44d903fae069b0a057d56a3d55a61\", \"allocator_version\": \"0.2.36\"}, \"yelp.www.biz_details.save_button.travel_tooltip.text\": {\"param_name\": \"yelp.www.biz_details.save_button.travel_tooltip.text\", \"param_value\": \"\", \"experiment_run_id\": null, \"experiment_id\": null, \"cohort_id\": null, \"exclusion_reason\": 2, \"config_id\": \"23f44d903fae069b0a057d56a3d55a61\", \"allocator_version\": \"0.2.36\"}, \"yelp.www.biz_details.send2phone_modal_btn.btn_color\": {\"param_name\": \"yelp.www.biz_details.send2phone_modal_btn.btn_color\", \"param_value\": \"PRIMARY\", \"experiment_run_id\": null, \"experiment_id\": null, \"cohort_id\": null, \"exclusion_reason\": 2, \"config_id\": \"23f44d903fae069b0a057d56a3d55a61\", \"allocator_version\": \"0.2.36\"}, \"yelp.www.biz_details.seo.raq_widget_billboard_and_stickybar\": {\"param_name\": \"yelp.www.biz_details.seo.raq_widget_billboard_and_stickybar\", \"param_value\": \"status_quo\", \"experiment_run_id\": null, \"experiment_id\": null, \"cohort_id\": null, \"exclusion_reason\": 2, \"config_id\": \"23f44d903fae069b0a057d56a3d55a61\", \"allocator_version\": \"0.2.36\"}, \"yelp.www.biz_details.seo.similiar_biz_raq_widget_billboard_and_stickybar\": {\"param_name\": \"yelp.www.biz_details.seo.similiar_biz_raq_widget_billboard_and_stickybar\", \"param_value\": \"status_quo\", \"experiment_run_id\": null, \"experiment_id\": null, \"cohort_id\": null, \"exclusion_reason\": 2, \"config_id\": \"23f44d903fae069b0a057d56a3d55a61\", \"allocator_version\": \"0.2.36\"}, \"yelp.www.biz_details.seo_params_cache_enabled\": {\"param_name\": \"yelp.www.biz_details.seo_params_cache_enabled\", \"param_value\": \"true\", \"experiment_run_id\": null, \"experiment_id\": null, \"cohort_id\": null, \"exclusion_reason\": 2, \"config_id\": \"23f44d903fae069b0a057d56a3d55a61\", \"allocator_version\": \"0.2.36\"}, \"yelp.www.biz_details.service_offerings.setup_flow_call_to_action.enabled\": {\"param_name\": \"yelp.www.biz_details.service_offerings.setup_flow_call_to_action.enabled\", \"param_value\": \"true\", \"experiment_run_id\": null, \"experiment_id\": null, \"cohort_id\": null, \"exclusion_reason\": 2, \"config_id\": \"23f44d903fae069b0a057d56a3d55a61\", \"allocator_version\": \"0.2.36\"}, \"yelp.www.biz_details.show_side_bar_ads_for_no_content_businesses\": {\"param_name\": \"yelp.www.biz_details.show_side_bar_ads_for_no_content_businesses\", \"param_value\": \"false\", \"experiment_run_id\": null, \"experiment_id\": null, \"cohort_id\": null, \"exclusion_reason\": 2, \"config_id\": \"23f44d903fae069b0a057d56a3d55a61\", \"allocator_version\": \"0.2.36\"}, \"yelp.www.biz_details.sidebar.raq_button_type\": {\"param_name\": \"yelp.www.biz_details.sidebar.raq_button_type\", \"param_value\": \"green\", \"experiment_run_id\": null, \"experiment_id\": null, \"cohort_id\": null, \"exclusion_reason\": 2, \"config_id\": \"23f44d903fae069b0a057d56a3d55a61\", \"allocator_version\": \"0.2.36\"}, \"yelp.www.biz_details.sidebar.reservation_widget.motivational_content.timeslots_left_display_threshold\": {\"param_name\": \"yelp.www.biz_details.sidebar.reservation_widget.motivational_content.timeslots_left_display_threshold\", \"param_value\": \"5\", \"experiment_run_id\": null, \"experiment_id\": null, \"cohort_id\": null, \"exclusion_reason\": 2, \"config_id\": \"23f44d903fae069b0a057d56a3d55a61\", \"allocator_version\": \"0.2.36\"}, \"yelp.www.biz_details.sidebar.reservation_widget.motivational_content.timeslots_left_text_plural\": {\"param_name\": \"yelp.www.biz_details.sidebar.reservation_widget.motivational_content.timeslots_left_text_plural\", \"param_value\": \"Only ${n} time slots left!\", \"experiment_run_id\": null, \"experiment_id\": null, \"cohort_id\": null, \"exclusion_reason\": 2, \"config_id\": \"23f44d903fae069b0a057d56a3d55a61\", \"allocator_version\": \"0.2.36\"}, \"yelp.www.biz_details.sidebar.reservation_widget.motivational_content.timeslots_left_text_singular\": {\"param_name\": \"yelp.www.biz_details.sidebar.reservation_widget.motivational_content.timeslots_left_text_singular\", \"param_value\": \"Only ${n} time slot left!\", \"experiment_run_id\": null, \"experiment_id\": null, \"cohort_id\": null, \"exclusion_reason\": 2, \"config_id\": \"23f44d903fae069b0a057d56a3d55a61\", \"allocator_version\": \"0.2.36\"}, \"yelp.www.biz_details.sidebar.show_conversation_widget\": {\"param_name\": \"yelp.www.biz_details.sidebar.show_conversation_widget\", \"param_value\": \"true\", \"experiment_run_id\": null, \"experiment_id\": null, \"cohort_id\": null, \"exclusion_reason\": 2, \"config_id\": \"23f44d903fae069b0a057d56a3d55a61\", \"allocator_version\": \"0.2.36\"}, \"yelp.www.biz_details.sidebar.sponsored_ads.enabled\": {\"param_name\": \"yelp.www.biz_details.sidebar.sponsored_ads.enabled\", \"param_value\": \"false\", \"experiment_run_id\": null, \"experiment_id\": null, \"cohort_id\": null, \"exclusion_reason\": 2, \"config_id\": \"23f44d903fae069b0a057d56a3d55a61\", \"allocator_version\": \"0.2.36\"}, \"yelp.www.biz_details.siderail.banner.component_status\": {\"param_name\": \"yelp.www.biz_details.siderail.banner.component_status\", \"param_value\": \"enabled\", \"experiment_run_id\": null, \"experiment_id\": null, \"cohort_id\": null, \"exclusion_reason\": 2, \"config_id\": \"23f44d903fae069b0a057d56a3d55a61\", \"allocator_version\": \"0.2.36\"}, \"yelp.www.biz_details.siderail.banner.cta_link\": {\"param_name\": \"yelp.www.biz_details.siderail.banner.cta_link\", \"param_value\": \"\", \"experiment_run_id\": null, \"experiment_id\": null, \"cohort_id\": null, \"exclusion_reason\": 2, \"config_id\": \"23f44d903fae069b0a057d56a3d55a61\", \"allocator_version\": \"0.2.36\"}, \"yelp.www.biz_details.siderail.banner.dismiss_button_style\": {\"param_name\": \"yelp.www.biz_details.siderail.banner.dismiss_button_style\", \"param_value\": \"\", \"experiment_run_id\": null, \"experiment_id\": null, \"cohort_id\": null, \"exclusion_reason\": 2, \"config_id\": \"23f44d903fae069b0a057d56a3d55a61\", \"allocator_version\": \"0.2.36\"}, \"yelp.www.biz_details.siderail.banner.image_alt_text\": {\"param_name\": \"yelp.www.biz_details.siderail.banner.image_alt_text\", \"param_value\": \"\", \"experiment_run_id\": null, \"experiment_id\": null, \"cohort_id\": null, \"exclusion_reason\": 2, \"config_id\": \"23f44d903fae069b0a057d56a3d55a61\", \"allocator_version\": \"0.2.36\"}, \"yelp.www.biz_details.siderail.banner.image_name\": {\"param_name\": \"yelp.www.biz_details.siderail.banner.image_name\", \"param_value\": \"\", \"experiment_run_id\": null, \"experiment_id\": null, \"cohort_id\": null, \"exclusion_reason\": 2, \"config_id\": \"23f44d903fae069b0a057d56a3d55a61\", \"allocator_version\": \"0.2.36\"}, \"yelp.www.biz_details.siderail.banner.promotion_id\": {\"param_name\": \"yelp.www.biz_details.siderail.banner.promotion_id\", \"param_value\": \"\", \"experiment_run_id\": null, \"experiment_id\": null, \"cohort_id\": null, \"exclusion_reason\": 2, \"config_id\": \"23f44d903fae069b0a057d56a3d55a61\", \"allocator_version\": \"0.2.36\"}, \"yelp.www.biz_details.siderail.banner.promotion_variant_id\": {\"param_name\": \"yelp.www.biz_details.siderail.banner.promotion_variant_id\", \"param_value\": \"\", \"experiment_run_id\": null, \"experiment_id\": null, \"cohort_id\": null, \"exclusion_reason\": 2, \"config_id\": \"23f44d903fae069b0a057d56a3d55a61\", \"allocator_version\": \"0.2.36\"}, \"yelp.www.biz_details.signup_nudge.backend_enabled\": {\"param_name\": \"yelp.www.biz_details.signup_nudge.backend_enabled\", \"param_value\": \"false\", \"experiment_run_id\": null, \"experiment_id\": null, \"cohort_id\": null, \"exclusion_reason\": 2, \"config_id\": \"23f44d903fae069b0a057d56a3d55a61\", \"allocator_version\": \"0.2.36\"}, \"yelp.www.biz_details.signup_nudge.description\": {\"param_name\": \"yelp.www.biz_details.signup_nudge.description\", \"param_value\": \"Sign in for the full experience\", \"experiment_run_id\": null, \"experiment_id\": null, \"cohort_id\": null, \"exclusion_reason\": 2, \"config_id\": \"23f44d903fae069b0a057d56a3d55a61\", \"allocator_version\": \"0.2.36\"}, \"yelp.www.biz_details.signup_nudge.enabled\": {\"param_name\": \"yelp.www.biz_details.signup_nudge.enabled\", \"param_value\": \"false\", \"experiment_run_id\": null, \"experiment_id\": null, \"cohort_id\": null, \"exclusion_reason\": 2, \"config_id\": \"23f44d903fae069b0a057d56a3d55a61\", \"allocator_version\": \"0.2.36\"}, \"yelp.www.biz_details.signup_nudge.fullstory.enabled\": {\"param_name\": \"yelp.www.biz_details.signup_nudge.fullstory.enabled\", \"param_value\": \"false\", \"experiment_run_id\": null, \"experiment_id\": null, \"cohort_id\": null, \"exclusion_reason\": 2, \"config_id\": \"23f44d903fae069b0a057d56a3d55a61\", \"allocator_version\": \"0.2.36\"}, \"yelp.www.biz_details.signup_nudge.title\": {\"param_name\": \"yelp.www.biz_details.signup_nudge.title\", \"param_value\": \"Welcome to Yelp\", \"experiment_run_id\": null, \"experiment_id\": null, \"cohort_id\": null, \"exclusion_reason\": 2, \"config_id\": \"23f44d903fae069b0a057d56a3d55a61\", \"allocator_version\": \"0.2.36\"}, \"yelp.www.biz_details.sponsored_info.placement\": {\"param_name\": \"yelp.www.biz_details.sponsored_info.placement\", \"param_value\": \"bottom\", \"experiment_run_id\": null, \"experiment_id\": null, \"cohort_id\": null, \"exclusion_reason\": 2, \"config_id\": \"23f44d903fae069b0a057d56a3d55a61\", \"allocator_version\": \"0.2.36\"}, \"yelp.www.biz_details.ssr.enabled\": {\"param_name\": \"yelp.www.biz_details.ssr.enabled\", \"param_value\": \"true\", \"experiment_run_id\": null, \"experiment_id\": null, \"cohort_id\": null, \"exclusion_reason\": 2, \"config_id\": \"23f44d903fae069b0a057d56a3d55a61\", \"allocator_version\": \"0.2.36\"}, \"yelp.www.biz_details.sticky_sidebar.enabled\": {\"param_name\": \"yelp.www.biz_details.sticky_sidebar.enabled\", \"param_value\": \"true\", \"experiment_run_id\": null, \"experiment_id\": null, \"cohort_id\": null, \"exclusion_reason\": 2, \"config_id\": \"23f44d903fae069b0a057d56a3d55a61\", \"allocator_version\": \"0.2.36\"}, \"yelp.www.biz_details.survey_price_range.is_enabled\": {\"param_name\": \"yelp.www.biz_details.survey_price_range.is_enabled\", \"param_value\": \"false\", \"experiment_run_id\": null, \"experiment_id\": null, \"cohort_id\": null, \"exclusion_reason\": 2, \"config_id\": \"23f44d903fae069b0a057d56a3d55a61\", \"allocator_version\": \"0.2.36\"}, \"yelp.www.biz_details.survey_questions.plah_uplevel_enabled\": {\"param_name\": \"yelp.www.biz_details.survey_questions.plah_uplevel_enabled\", \"param_value\": \"false\", \"experiment_run_id\": null, \"experiment_id\": null, \"cohort_id\": null, \"exclusion_reason\": 2, \"config_id\": \"23f44d903fae069b0a057d56a3d55a61\", \"allocator_version\": \"0.2.36\"}, \"yelp.www.biz_details.survey_questions.show_inline_widget\": {\"param_name\": \"yelp.www.biz_details.survey_questions.show_inline_widget\", \"param_value\": \"true\", \"experiment_run_id\": null, \"experiment_id\": null, \"cohort_id\": null, \"exclusion_reason\": 2, \"config_id\": \"23f44d903fae069b0a057d56a3d55a61\", \"allocator_version\": \"0.2.36\"}, \"yelp.www.biz_details.survey_questions.show_sidebar_widget\": {\"param_name\": \"yelp.www.biz_details.survey_questions.show_sidebar_widget\", \"param_value\": \"false\", \"experiment_run_id\": null, \"experiment_id\": null, \"cohort_id\": null, \"exclusion_reason\": 2, \"config_id\": \"23f44d903fae069b0a057d56a3d55a61\", \"allocator_version\": \"0.2.36\"}, \"yelp.www.biz_details.template\": {\"param_name\": \"yelp.www.biz_details.template\", \"param_value\": \"react\", \"experiment_run_id\": 2044, \"experiment_id\": 835, \"cohort_id\": 4800, \"exclusion_reason\": null, \"config_id\": \"23f44d903fae069b0a057d56a3d55a61\", \"allocator_version\": \"0.2.36\"}, \"yelp.www.biz_details.test.please.ignore\": {\"param_name\": \"yelp.www.biz_details.test.please.ignore\", \"param_value\": \"testing\", \"experiment_run_id\": null, \"experiment_id\": null, \"cohort_id\": null, \"exclusion_reason\": 2, \"config_id\": \"23f44d903fae069b0a057d56a3d55a61\", \"allocator_version\": \"0.2.36\"}, \"yelp.www.biz_details.theme.v2_biz_details_enabled\": {\"param_name\": \"yelp.www.biz_details.theme.v2_biz_details_enabled\", \"param_value\": \"true\", \"experiment_run_id\": null, \"experiment_id\": null, \"cohort_id\": null, \"exclusion_reason\": 2, \"config_id\": \"23f44d903fae069b0a057d56a3d55a61\", \"allocator_version\": \"0.2.36\"}, \"yelp.www.biz_details.theme.v2_enabled\": {\"param_name\": \"yelp.www.biz_details.theme.v2_enabled\", \"param_value\": \"true\", \"experiment_run_id\": null, \"experiment_id\": null, \"cohort_id\": null, \"exclusion_reason\": 2, \"config_id\": \"23f44d903fae069b0a057d56a3d55a61\", \"allocator_version\": \"0.2.36\"}, \"yelp.www.biz_details.top.ad_carousel.enabled\": {\"param_name\": \"yelp.www.biz_details.top.ad_carousel.enabled\", \"param_value\": \"false\", \"experiment_run_id\": null, \"experiment_id\": null, \"cohort_id\": null, \"exclusion_reason\": 2, \"config_id\": \"23f44d903fae069b0a057d56a3d55a61\", \"allocator_version\": \"0.2.36\"}, \"yelp.www.biz_details.top.sponsored_ads.enabled\": {\"param_name\": \"yelp.www.biz_details.top.sponsored_ads.enabled\", \"param_value\": \"false\", \"experiment_run_id\": null, \"experiment_id\": null, \"cohort_id\": null, \"exclusion_reason\": 2, \"config_id\": \"23f44d903fae069b0a057d56a3d55a61\", \"allocator_version\": \"0.2.36\"}, \"yelp.www.biz_details.tracking.comscore.enabled\": {\"param_name\": \"yelp.www.biz_details.tracking.comscore.enabled\", \"param_value\": \"true\", \"experiment_run_id\": null, \"experiment_id\": null, \"cohort_id\": null, \"exclusion_reason\": 2, \"config_id\": \"23f44d903fae069b0a057d56a3d55a61\", \"allocator_version\": \"0.2.36\"}, \"yelp.www.biz_details.traffic_biz_delivery_meta_desc_experiment\": {\"param_name\": \"yelp.www.biz_details.traffic_biz_delivery_meta_desc_experiment\", \"param_value\": \"biz_delivery_meta_desc\", \"experiment_run_id\": null, \"experiment_id\": null, \"cohort_id\": null, \"exclusion_reason\": 2, \"config_id\": \"23f44d903fae069b0a057d56a3d55a61\", \"allocator_version\": \"0.2.36\"}, \"yelp.www.biz_details.traffic_biz_details_backend_performance_experiment\": {\"param_name\": \"yelp.www.biz_details.traffic_biz_details_backend_performance_experiment\", \"param_value\": \"\", \"experiment_run_id\": null, \"experiment_id\": null, \"cohort_id\": null, \"exclusion_reason\": 2, \"config_id\": \"23f44d903fae069b0a057d56a3d55a61\", \"allocator_version\": \"0.2.36\"}, \"yelp.www.biz_details.traffic_biz_details_rfn_redesign_holdout_experiment\": {\"param_name\": \"yelp.www.biz_details.traffic_biz_details_rfn_redesign_holdout_experiment\", \"param_value\": \"\", \"experiment_run_id\": null, \"experiment_id\": null, \"cohort_id\": null, \"exclusion_reason\": 2, \"config_id\": \"23f44d903fae069b0a057d56a3d55a61\", \"allocator_version\": \"0.2.36\"}, \"yelp.www.biz_details.traffic_biz_details_rfn_redesign_seo_experiment\": {\"param_name\": \"yelp.www.biz_details.traffic_biz_details_rfn_redesign_seo_experiment\", \"param_value\": \"\", \"experiment_run_id\": null, \"experiment_id\": null, \"cohort_id\": null, \"exclusion_reason\": 2, \"config_id\": \"23f44d903fae069b0a057d56a3d55a61\", \"allocator_version\": \"0.2.36\"}, \"yelp.www.biz_details.traffic_enable_aggressive_critical_css_on_www\": {\"param_name\": \"yelp.www.biz_details.traffic_enable_aggressive_critical_css_on_www\", \"param_value\": \"\", \"experiment_run_id\": null, \"experiment_id\": null, \"cohort_id\": null, \"exclusion_reason\": 2, \"config_id\": \"23f44d903fae069b0a057d56a3d55a61\", \"allocator_version\": \"0.2.36\"}, \"yelp.www.biz_details.traffic_msite_biz_page_review_count_OTHER\": {\"param_name\": \"yelp.www.biz_details.traffic_msite_biz_page_review_count_OTHER\", \"param_value\": \"rpp_15\", \"experiment_run_id\": null, \"experiment_id\": null, \"cohort_id\": null, \"exclusion_reason\": 2, \"config_id\": \"23f44d903fae069b0a057d56a3d55a61\", \"allocator_version\": \"0.2.36\"}, \"yelp.www.biz_details.traffic_msite_biz_page_review_count_PLAH\": {\"param_name\": \"yelp.www.biz_details.traffic_msite_biz_page_review_count_PLAH\", \"param_value\": \"rpp_15\", \"experiment_run_id\": null, \"experiment_id\": null, \"cohort_id\": null, \"exclusion_reason\": 2, \"config_id\": \"23f44d903fae069b0a057d56a3d55a61\", \"allocator_version\": \"0.2.36\"}, \"yelp.www.biz_details.traffic_msite_biz_page_review_count_RFN\": {\"param_name\": \"yelp.www.biz_details.traffic_msite_biz_page_review_count_RFN\", \"param_value\": \"rpp_20\", \"experiment_run_id\": null, \"experiment_id\": null, \"cohort_id\": null, \"exclusion_reason\": 2, \"config_id\": \"23f44d903fae069b0a057d56a3d55a61\", \"allocator_version\": \"0.2.36\"}, \"yelp.www.biz_details.traffic_plah_biz_details_react_migration_experiment\": {\"param_name\": \"yelp.www.biz_details.traffic_plah_biz_details_react_migration_experiment\", \"param_value\": \"\", \"experiment_run_id\": null, \"experiment_id\": null, \"cohort_id\": null, \"exclusion_reason\": 2, \"config_id\": \"23f44d903fae069b0a057d56a3d55a61\", \"allocator_version\": \"0.2.36\"}, \"yelp.www.biz_details.traffic_plah_biz_redesign_holdout_experiment\": {\"param_name\": \"yelp.www.biz_details.traffic_plah_biz_redesign_holdout_experiment\", \"param_value\": \"\", \"experiment_run_id\": null, \"experiment_id\": null, \"cohort_id\": null, \"exclusion_reason\": 2, \"config_id\": \"23f44d903fae069b0a057d56a3d55a61\", \"allocator_version\": \"0.2.36\"}, \"yelp.www.biz_details.traffic_rfn_biz_details_react_migration_experiment\": {\"param_name\": \"yelp.www.biz_details.traffic_rfn_biz_details_react_migration_experiment\", \"param_value\": \"default_value\", \"experiment_run_id\": null, \"experiment_id\": null, \"cohort_id\": null, \"exclusion_reason\": 2, \"config_id\": \"23f44d903fae069b0a057d56a3d55a61\", \"allocator_version\": \"0.2.36\"}, \"yelp.www.biz_details.traffic_rfn_redesign_us_seo_experiment\": {\"param_name\": \"yelp.www.biz_details.traffic_rfn_redesign_us_seo_experiment\", \"param_value\": \"no_cohort\", \"experiment_run_id\": null, \"experiment_id\": null, \"cohort_id\": null, \"exclusion_reason\": 2, \"config_id\": \"23f44d903fae069b0a057d56a3d55a61\", \"allocator_version\": \"0.2.36\"}, \"yelp.www.biz_details.use_non_deleted_post_sort_type\": {\"param_name\": \"yelp.www.biz_details.use_non_deleted_post_sort_type\", \"param_value\": \"false\", \"experiment_run_id\": null, \"experiment_id\": null, \"cohort_id\": null, \"exclusion_reason\": 2, \"config_id\": \"23f44d903fae069b0a057d56a3d55a61\", \"allocator_version\": \"0.2.36\"}, \"yelp.www.biz_details.use_traffic_cassandra_api_client\": {\"param_name\": \"yelp.www.biz_details.use_traffic_cassandra_api_client\", \"param_value\": \"true\", \"experiment_run_id\": null, \"experiment_id\": null, \"cohort_id\": null, \"exclusion_reason\": 2, \"config_id\": \"23f44d903fae069b0a057d56a3d55a61\", \"allocator_version\": \"0.2.36\"}, \"yelp.www.biz_details.war_inline_editor.display\": {\"param_name\": \"yelp.www.biz_details.war_inline_editor.display\", \"param_value\": \"status_quo\", \"experiment_run_id\": null, \"experiment_id\": null, \"cohort_id\": null, \"exclusion_reason\": 2, \"config_id\": \"23f44d903fae069b0a057d56a3d55a61\", \"allocator_version\": \"0.2.36\"}, \"yelp.www.biz_details.www_biz_details_ad_placement_experiment_cohort\": {\"param_name\": \"yelp.www.biz_details.www_biz_details_ad_placement_experiment_cohort\", \"param_value\": \"status_quo\", \"experiment_run_id\": 9179, \"experiment_id\": 4740, \"cohort_id\": 24210, \"exclusion_reason\": null, \"config_id\": \"23f44d903fae069b0a057d56a3d55a61\", \"allocator_version\": \"0.2.36\"}, \"yelp.www.biz_details.yelp.www.biz_details.mapbox.make_reservation_link.text\": {\"param_name\": \"yelp.www.biz_details.yelp.www.biz_details.mapbox.make_reservation_link.text\", \"param_value\": \"Make a Reservation\", \"experiment_run_id\": null, \"experiment_id\": null, \"cohort_id\": null, \"exclusion_reason\": 2, \"config_id\": \"23f44d903fae069b0a057d56a3d55a61\", \"allocator_version\": \"0.2.36\"}, \"yelp.www.biz_details.yelp.www.biz_details.yelp.www.biz_details.mapbox.make_reservation_link.icon\": {\"param_name\": \"yelp.www.biz_details.yelp.www.biz_details.yelp.www.biz_details.mapbox.make_reservation_link.icon\", \"param_value\": \"18x18_reservation\", \"experiment_run_id\": null, \"experiment_id\": null, \"cohort_id\": null, \"exclusion_reason\": 2, \"config_id\": \"23f44d903fae069b0a057d56a3d55a61\", \"allocator_version\": \"0.2.36\"}, \"yelp.www.biz_details.yelp_guaranteed.enabled\": {\"param_name\": \"yelp.www.biz_details.yelp_guaranteed.enabled\", \"param_value\": \"false\", \"experiment_run_id\": null, \"experiment_id\": null, \"cohort_id\": null, \"exclusion_reason\": 2, \"config_id\": \"23f44d903fae069b0a057d56a3d55a61\", \"allocator_version\": \"0.2.36\"}, \"yelp.www.biz_details.yelp_pros.inline_entry_point\": {\"param_name\": \"yelp.www.biz_details.yelp_pros.inline_entry_point\", \"param_value\": \"false\", \"experiment_run_id\": null, \"experiment_id\": null, \"cohort_id\": null, \"exclusion_reason\": 2, \"config_id\": \"23f44d903fae069b0a057d56a3d55a61\", \"allocator_version\": \"0.2.36\"}, \"yelp.www.biz_details.yelp_ttd_tracker_v4.enabled\": {\"param_name\": \"yelp.www.biz_details.yelp_ttd_tracker_v4.enabled\", \"param_value\": \"false\", \"experiment_run_id\": null, \"experiment_id\": null, \"cohort_id\": null, \"exclusion_reason\": 2, \"config_id\": \"23f44d903fae069b0a057d56a3d55a61\", \"allocator_version\": \"0.2.36\"}, \"yelp.www.biz_details.you_manage_this_business.cohort\": {\"param_name\": \"yelp.www.biz_details.you_manage_this_business.cohort\", \"param_value\": \"status_quo\", \"experiment_run_id\": null, \"experiment_id\": null, \"cohort_id\": null, \"exclusion_reason\": 2, \"config_id\": \"23f44d903fae069b0a057d56a3d55a61\", \"allocator_version\": \"0.2.36\"}, \"yelp.www.biz_details.you_manage_this_business.enabled\": {\"param_name\": \"yelp.www.biz_details.you_manage_this_business.enabled\", \"param_value\": \"false\", \"experiment_run_id\": null, \"experiment_id\": null, \"cohort_id\": null, \"exclusion_reason\": 2, \"config_id\": \"23f44d903fae069b0a057d56a3d55a61\", \"allocator_version\": \"0.2.36\"}, \"yelp.common.biz_details.ad.prior_search_biz_details\": {\"param_name\": \"yelp.common.biz_details.ad.prior_search_biz_details\", \"param_value\": \"status_quo\", \"experiment_run_id\": null, \"experiment_id\": null, \"cohort_id\": null, \"exclusion_reason\": 2, \"config_id\": \"23f44d903fae069b0a057d56a3d55a61\", \"allocator_version\": \"0.2.36\"}, \"yelp.common.biz_details.auto_linking.biz_to_search.link_count\": {\"param_name\": \"yelp.common.biz_details.auto_linking.biz_to_search.link_count\", \"param_value\": \"0\", \"experiment_run_id\": null, \"experiment_id\": null, \"cohort_id\": null, \"exclusion_reason\": 2, \"config_id\": \"23f44d903fae069b0a057d56a3d55a61\", \"allocator_version\": \"0.2.36\"}, \"yelp.common.biz_details.auto_linking.biz_to_search.strategy_name\": {\"param_name\": \"yelp.common.biz_details.auto_linking.biz_to_search.strategy_name\", \"param_value\": \"status_quo\", \"experiment_run_id\": null, \"experiment_id\": null, \"cohort_id\": null, \"exclusion_reason\": 2, \"config_id\": \"23f44d903fae069b0a057d56a3d55a61\", \"allocator_version\": \"0.2.36\"}, \"yelp.common.biz_details.biz_details.traffic_bunsen_driven_title.cohort_name\": {\"param_name\": \"yelp.common.biz_details.biz_details.traffic_bunsen_driven_title.cohort_name\", \"param_value\": \"status_quo\", \"experiment_run_id\": null, \"experiment_id\": null, \"cohort_id\": null, \"exclusion_reason\": 2, \"config_id\": \"23f44d903fae069b0a057d56a3d55a61\", \"allocator_version\": \"0.2.36\"}, \"yelp.common.biz_details.biz_discovery.action_link_button_text\": {\"param_name\": \"yelp.common.biz_details.biz_discovery.action_link_button_text\", \"param_value\": \"\", \"experiment_run_id\": null, \"experiment_id\": null, \"cohort_id\": null, \"exclusion_reason\": 2, \"config_id\": \"23f44d903fae069b0a057d56a3d55a61\", \"allocator_version\": \"0.2.36\"}, \"yelp.common.biz_details.biz_discovery.action_link_type\": {\"param_name\": \"yelp.common.biz_details.biz_discovery.action_link_type\", \"param_value\": \"enabled\", \"experiment_run_id\": null, \"experiment_id\": null, \"cohort_id\": null, \"exclusion_reason\": 2, \"config_id\": \"23f44d903fae069b0a057d56a3d55a61\", \"allocator_version\": \"0.2.36\"}, \"yelp.common.biz_details.biz_discovery.description\": {\"param_name\": \"yelp.common.biz_details.biz_discovery.description\", \"param_value\": \"\", \"experiment_run_id\": null, \"experiment_id\": null, \"cohort_id\": null, \"exclusion_reason\": 2, \"config_id\": \"23f44d903fae069b0a057d56a3d55a61\", \"allocator_version\": \"0.2.36\"}, \"yelp.common.biz_details.biz_discovery.image_alt_text\": {\"param_name\": \"yelp.common.biz_details.biz_discovery.image_alt_text\", \"param_value\": \"\", \"experiment_run_id\": null, \"experiment_id\": null, \"cohort_id\": null, \"exclusion_reason\": 2, \"config_id\": \"23f44d903fae069b0a057d56a3d55a61\", \"allocator_version\": \"0.2.36\"}, \"yelp.common.biz_details.biz_discovery.image_url\": {\"param_name\": \"yelp.common.biz_details.biz_discovery.image_url\", \"param_value\": \"\", \"experiment_run_id\": null, \"experiment_id\": null, \"cohort_id\": null, \"exclusion_reason\": 2, \"config_id\": \"23f44d903fae069b0a057d56a3d55a61\", \"allocator_version\": \"0.2.36\"}, \"yelp.common.biz_details.biz_discovery.info_description\": {\"param_name\": \"yelp.common.biz_details.biz_discovery.info_description\", \"param_value\": \"\", \"experiment_run_id\": null, \"experiment_id\": null, \"cohort_id\": null, \"exclusion_reason\": 2, \"config_id\": \"23f44d903fae069b0a057d56a3d55a61\", \"allocator_version\": \"0.2.36\"}, \"yelp.common.biz_details.biz_discovery.info_title\": {\"param_name\": \"yelp.common.biz_details.biz_discovery.info_title\", \"param_value\": \"\", \"experiment_run_id\": null, \"experiment_id\": null, \"cohort_id\": null, \"exclusion_reason\": 2, \"config_id\": \"23f44d903fae069b0a057d56a3d55a61\", \"allocator_version\": \"0.2.36\"}, \"yelp.common.biz_details.biz_discovery.promotion_id\": {\"param_name\": \"yelp.common.biz_details.biz_discovery.promotion_id\", \"param_value\": \"\", \"experiment_run_id\": null, \"experiment_id\": null, \"cohort_id\": null, \"exclusion_reason\": 2, \"config_id\": \"23f44d903fae069b0a057d56a3d55a61\", \"allocator_version\": \"0.2.36\"}, \"yelp.common.biz_details.biz_discovery.reservation_promo.enabled\": {\"param_name\": \"yelp.common.biz_details.biz_discovery.reservation_promo.enabled\", \"param_value\": \"false\", \"experiment_run_id\": null, \"experiment_id\": null, \"cohort_id\": null, \"exclusion_reason\": 2, \"config_id\": \"23f44d903fae069b0a057d56a3d55a61\", \"allocator_version\": \"0.2.36\"}, \"yelp.common.biz_details.biz_discovery.title\": {\"param_name\": \"yelp.common.biz_details.biz_discovery.title\", \"param_value\": \"\", \"experiment_run_id\": null, \"experiment_id\": null, \"cohort_id\": null, \"exclusion_reason\": 2, \"config_id\": \"23f44d903fae069b0a057d56a3d55a61\", \"allocator_version\": \"0.2.36\"}, \"yelp.common.biz_details.biz_discovery.top_of_biz.service.cohort_override\": {\"param_name\": \"yelp.common.biz_details.biz_discovery.top_of_biz.service.cohort_override\", \"param_value\": \"\", \"experiment_run_id\": null, \"experiment_id\": null, \"cohort_id\": null, \"exclusion_reason\": 2, \"config_id\": \"23f44d903fae069b0a057d56a3d55a61\", \"allocator_version\": \"0.2.36\"}, \"yelp.common.biz_details.biz_discovery.top_of_biz_details.show_promo\": {\"param_name\": \"yelp.common.biz_details.biz_discovery.top_of_biz_details.show_promo\", \"param_value\": \"False\", \"experiment_run_id\": null, \"experiment_id\": null, \"cohort_id\": null, \"exclusion_reason\": 2, \"config_id\": \"23f44d903fae069b0a057d56a3d55a61\", \"allocator_version\": \"0.2.36\"}, \"yelp.common.biz_details.biz_discovery.user_education_service.enabled\": {\"param_name\": \"yelp.common.biz_details.biz_discovery.user_education_service.enabled\", \"param_value\": \"true\", \"experiment_run_id\": null, \"experiment_id\": null, \"cohort_id\": null, \"exclusion_reason\": 2, \"config_id\": \"23f44d903fae069b0a057d56a3d55a61\", \"allocator_version\": \"0.2.36\"}, \"yelp.common.biz_details.biz_discovery.waitlist_promo.enabled\": {\"param_name\": \"yelp.common.biz_details.biz_discovery.waitlist_promo.enabled\", \"param_value\": \"false\", \"experiment_run_id\": null, \"experiment_id\": null, \"cohort_id\": null, \"exclusion_reason\": 2, \"config_id\": \"23f44d903fae069b0a057d56a3d55a61\", \"allocator_version\": \"0.2.36\"}, \"yelp.common.biz_details.biz_discovery_ml_model_name\": {\"param_name\": \"yelp.common.biz_details.biz_discovery_ml_model_name\", \"param_value\": \"\", \"experiment_run_id\": null, \"experiment_id\": null, \"cohort_id\": null, \"exclusion_reason\": 2, \"config_id\": \"23f44d903fae069b0a057d56a3d55a61\", \"allocator_version\": \"0.2.36\"}, \"yelp.common.biz_details.biz_gem_annotator_community_gems_toggle\": {\"param_name\": \"yelp.common.biz_details.biz_gem_annotator_community_gems_toggle\", \"param_value\": \"enabled\", \"experiment_run_id\": 4378, \"experiment_id\": 1973, \"cohort_id\": 10291, \"exclusion_reason\": null, \"config_id\": \"23f44d903fae069b0a057d56a3d55a61\", \"allocator_version\": \"0.2.36\"}, \"yelp.common.biz_details.biz_title_covid19_banner_delivery_takeout\": {\"param_name\": \"yelp.common.biz_details.biz_title_covid19_banner_delivery_takeout\", \"param_value\": \"no_cohort\", \"experiment_run_id\": null, \"experiment_id\": null, \"cohort_id\": null, \"exclusion_reason\": 2, \"config_id\": \"23f44d903fae069b0a057d56a3d55a61\", \"allocator_version\": \"0.2.36\"}, \"yelp.common.biz_details.consumer_biz_id_linking.should_show\": {\"param_name\": \"yelp.common.biz_details.consumer_biz_id_linking.should_show\", \"param_value\": \"true\", \"experiment_run_id\": null, \"experiment_id\": null, \"cohort_id\": null, \"exclusion_reason\": 2, \"config_id\": \"23f44d903fae069b0a057d56a3d55a61\", \"allocator_version\": \"0.2.36\"}, \"yelp.common.biz_details.covid_19_alert.enabled\": {\"param_name\": \"yelp.common.biz_details.covid_19_alert.enabled\", \"param_value\": \"false\", \"experiment_run_id\": null, \"experiment_id\": null, \"cohort_id\": null, \"exclusion_reason\": 2, \"config_id\": \"23f44d903fae069b0a057d56a3d55a61\", \"allocator_version\": \"0.2.36\"}, \"yelp.common.biz_details.covid_19_banner.enable_business_signals\": {\"param_name\": \"yelp.common.biz_details.covid_19_banner.enable_business_signals\", \"param_value\": \"true\", \"experiment_run_id\": null, \"experiment_id\": null, \"cohort_id\": null, \"exclusion_reason\": 2, \"config_id\": \"23f44d903fae069b0a057d56a3d55a61\", \"allocator_version\": \"0.2.36\"}, \"yelp.common.biz_details.covid_19_safety_features.enabled\": {\"param_name\": \"yelp.common.biz_details.covid_19_safety_features.enabled\", \"param_value\": \"true\", \"experiment_run_id\": null, \"experiment_id\": null, \"cohort_id\": null, \"exclusion_reason\": 2, \"config_id\": \"23f44d903fae069b0a057d56a3d55a61\", \"allocator_version\": \"0.2.36\"}, \"yelp.common.biz_details.covid_19_safety_features_m7.enabled\": {\"param_name\": \"yelp.common.biz_details.covid_19_safety_features_m7.enabled\", \"param_value\": \"true\", \"experiment_run_id\": null, \"experiment_id\": null, \"cohort_id\": null, \"exclusion_reason\": 2, \"config_id\": \"23f44d903fae069b0a057d56a3d55a61\", \"allocator_version\": \"0.2.36\"}, \"yelp.common.biz_details.covid_19_service_update_summary.enabled\": {\"param_name\": \"yelp.common.biz_details.covid_19_service_update_summary.enabled\", \"param_value\": \"true\", \"experiment_run_id\": null, \"experiment_id\": null, \"cohort_id\": null, \"exclusion_reason\": 2, \"config_id\": \"23f44d903fae069b0a057d56a3d55a61\", \"allocator_version\": \"0.2.36\"}, \"yelp.common.biz_details.crisis_pregnancy_centers_alert\": {\"param_name\": \"yelp.common.biz_details.crisis_pregnancy_centers_alert\", \"param_value\": \"false\", \"experiment_run_id\": null, \"experiment_id\": null, \"cohort_id\": null, \"exclusion_reason\": 2, \"config_id\": \"23f44d903fae069b0a057d56a3d55a61\", \"allocator_version\": \"0.2.36\"}, \"yelp.common.biz_details.crisis_pregnancy_centers_alert.enabled\": {\"param_name\": \"yelp.common.biz_details.crisis_pregnancy_centers_alert.enabled\", \"param_value\": \"true\", \"experiment_run_id\": null, \"experiment_id\": null, \"cohort_id\": null, \"exclusion_reason\": 2, \"config_id\": \"23f44d903fae069b0a057d56a3d55a61\", \"allocator_version\": \"0.2.36\"}, \"yelp.common.biz_details.local_ads.new_design.is_enabled\": {\"param_name\": \"yelp.common.biz_details.local_ads.new_design.is_enabled\", \"param_value\": \"false\", \"experiment_run_id\": null, \"experiment_id\": null, \"cohort_id\": null, \"exclusion_reason\": 2, \"config_id\": \"23f44d903fae069b0a057d56a3d55a61\", \"allocator_version\": \"0.2.36\"}, \"yelp.common.biz_details.local_ads.www_new_design.is_enabled\": {\"param_name\": \"yelp.common.biz_details.local_ads.www_new_design.is_enabled\", \"param_value\": \"status_quo\", \"experiment_run_id\": null, \"experiment_id\": null, \"cohort_id\": null, \"exclusion_reason\": 2, \"config_id\": \"23f44d903fae069b0a057d56a3d55a61\", \"allocator_version\": \"0.2.36\"}, \"yelp.common.biz_details.other_cohort_name\": {\"param_name\": \"yelp.common.biz_details.other_cohort_name\", \"param_value\": \"status_quo\", \"experiment_run_id\": null, \"experiment_id\": null, \"cohort_id\": null, \"exclusion_reason\": 2, \"config_id\": \"23f44d903fae069b0a057d56a3d55a61\", \"allocator_version\": \"0.2.36\"}, \"yelp.common.biz_details.other_title_template\": {\"param_name\": \"yelp.common.biz_details.other_title_template\", \"param_value\": \"status_quo\", \"experiment_run_id\": null, \"experiment_id\": null, \"cohort_id\": null, \"exclusion_reason\": 2, \"config_id\": \"23f44d903fae069b0a057d56a3d55a61\", \"allocator_version\": \"0.2.36\"}, \"yelp.common.biz_details.parity_mobile_first\": {\"param_name\": \"yelp.common.biz_details.parity_mobile_first\", \"param_value\": \"\", \"experiment_run_id\": null, \"experiment_id\": null, \"cohort_id\": null, \"exclusion_reason\": 2, \"config_id\": \"23f44d903fae069b0a057d56a3d55a61\", \"allocator_version\": \"0.2.36\"}, \"yelp.common.biz_details.plahh_cohort_name\": {\"param_name\": \"yelp.common.biz_details.plahh_cohort_name\", \"param_value\": \"status_quo\", \"experiment_run_id\": null, \"experiment_id\": null, \"cohort_id\": null, \"exclusion_reason\": 2, \"config_id\": \"23f44d903fae069b0a057d56a3d55a61\", \"allocator_version\": \"0.2.36\"}, \"yelp.common.biz_details.plahh_title_template\": {\"param_name\": \"yelp.common.biz_details.plahh_title_template\", \"param_value\": \"status_quo\", \"experiment_run_id\": null, \"experiment_id\": null, \"cohort_id\": null, \"exclusion_reason\": 2, \"config_id\": \"23f44d903fae069b0a057d56a3d55a61\", \"allocator_version\": \"0.2.36\"}, \"yelp.common.biz_details.pricing.should_show\": {\"param_name\": \"yelp.common.biz_details.pricing.should_show\", \"param_value\": \"true\", \"experiment_run_id\": null, \"experiment_id\": null, \"cohort_id\": null, \"exclusion_reason\": 2, \"config_id\": \"23f44d903fae069b0a057d56a3d55a61\", \"allocator_version\": \"0.2.36\"}, \"yelp.common.biz_details.reviews.review_sort.uprank_new_reviewers.enabled\": {\"param_name\": \"yelp.common.biz_details.reviews.review_sort.uprank_new_reviewers.enabled\", \"param_value\": \"true\", \"experiment_run_id\": null, \"experiment_id\": null, \"cohort_id\": null, \"exclusion_reason\": 2, \"config_id\": \"23f44d903fae069b0a057d56a3d55a61\", \"allocator_version\": \"0.2.36\"}, \"yelp.common.biz_details.rfn_cohort_name\": {\"param_name\": \"yelp.common.biz_details.rfn_cohort_name\", \"param_value\": \"status_quo\", \"experiment_run_id\": null, \"experiment_id\": null, \"cohort_id\": null, \"exclusion_reason\": 2, \"config_id\": \"23f44d903fae069b0a057d56a3d55a61\", \"allocator_version\": \"0.2.36\"}, \"yelp.common.biz_details.rfn_title_template\": {\"param_name\": \"yelp.common.biz_details.rfn_title_template\", \"param_value\": \"status_quo\", \"experiment_run_id\": null, \"experiment_id\": null, \"cohort_id\": null, \"exclusion_reason\": 2, \"config_id\": \"23f44d903fae069b0a057d56a3d55a61\", \"allocator_version\": \"0.2.36\"}, \"yelp.common.biz_details.sip_messaging_bars_category.states\": {\"param_name\": \"yelp.common.biz_details.sip_messaging_bars_category.states\", \"param_value\": \"CA,NM\", \"experiment_run_id\": null, \"experiment_id\": null, \"cohort_id\": null, \"exclusion_reason\": 2, \"config_id\": \"23f44d903fae069b0a057d56a3d55a61\", \"allocator_version\": \"0.2.36\"}, \"yelp.common.biz_details.sip_messaging_beauty_category.states\": {\"param_name\": \"yelp.common.biz_details.sip_messaging_beauty_category.states\", \"param_value\": \"\", \"experiment_run_id\": null, \"experiment_id\": null, \"cohort_id\": null, \"exclusion_reason\": 2, \"config_id\": \"23f44d903fae069b0a057d56a3d55a61\", \"allocator_version\": \"0.2.36\"}, \"yelp.common.biz_details.sip_messaging_feature_toggle.enabled\": {\"param_name\": \"yelp.common.biz_details.sip_messaging_feature_toggle.enabled\", \"param_value\": \"false\", \"experiment_run_id\": null, \"experiment_id\": null, \"cohort_id\": null, \"exclusion_reason\": 2, \"config_id\": \"23f44d903fae069b0a057d56a3d55a61\", \"allocator_version\": \"0.2.36\"}, \"yelp.common.biz_details.survey_price_range.is_enabled\": {\"param_name\": \"yelp.common.biz_details.survey_price_range.is_enabled\", \"param_value\": \"false\", \"experiment_run_id\": null, \"experiment_id\": null, \"cohort_id\": null, \"exclusion_reason\": 2, \"config_id\": \"23f44d903fae069b0a057d56a3d55a61\", \"allocator_version\": \"0.2.36\"}, \"yelp.common.biz_details.traffic_bunsen_driven_title.cohort_name\": {\"param_name\": \"yelp.common.biz_details.traffic_bunsen_driven_title.cohort_name\", \"param_value\": \"status_quo\", \"experiment_run_id\": null, \"experiment_id\": null, \"cohort_id\": null, \"exclusion_reason\": 2, \"config_id\": \"23f44d903fae069b0a057d56a3d55a61\", \"allocator_version\": \"0.2.36\"}, \"yelp.common.biz_details.traffic_bunsen_driven_title.title_template\": {\"param_name\": \"yelp.common.biz_details.traffic_bunsen_driven_title.title_template\", \"param_value\": \"status_quo\", \"experiment_run_id\": null, \"experiment_id\": null, \"cohort_id\": null, \"exclusion_reason\": 2, \"config_id\": \"23f44d903fae069b0a057d56a3d55a61\", \"allocator_version\": \"0.2.36\"}, \"yelp.common.biz_details.traffic_remove_closed_biz_titles_experiment\": {\"param_name\": \"yelp.common.biz_details.traffic_remove_closed_biz_titles_experiment\", \"param_value\": \"no_cohort\", \"experiment_run_id\": null, \"experiment_id\": null, \"cohort_id\": null, \"exclusion_reason\": 2, \"config_id\": \"23f44d903fae069b0a057d56a3d55a61\", \"allocator_version\": \"0.2.36\"}, \"yelp.common.biz_details.user_education_service.enabled\": {\"param_name\": \"yelp.common.biz_details.user_education_service.enabled\", \"param_value\": \"false\", \"experiment_run_id\": null, \"experiment_id\": null, \"cohort_id\": null, \"exclusion_reason\": 2, \"config_id\": \"23f44d903fae069b0a057d56a3d55a61\", \"allocator_version\": \"0.2.36\"}, \"yelp.common.biz_details.waitlist_promo.enabled\": {\"param_name\": \"yelp.common.biz_details.waitlist_promo.enabled\", \"param_value\": \"false\", \"experiment_run_id\": null, \"experiment_id\": null, \"cohort_id\": null, \"exclusion_reason\": 2, \"config_id\": \"23f44d903fae069b0a057d56a3d55a61\", \"allocator_version\": \"0.2.36\"}, \"yelp.www.common.audit_frontend_logging\": {\"param_name\": \"yelp.www.common.audit_frontend_logging\", \"param_value\": \"false\", \"experiment_run_id\": null, \"experiment_id\": null, \"cohort_id\": null, \"exclusion_reason\": 2, \"config_id\": \"23f44d903fae069b0a057d56a3d55a61\", \"allocator_version\": \"0.2.36\"}, \"yelp.seo_msite.biz_details.faq_apollo_endpoint\": {\"param_name\": \"yelp.seo_msite.biz_details.faq_apollo_endpoint\", \"param_value\": \"active\", \"experiment_run_id\": null, \"experiment_id\": null, \"cohort_id\": null, \"exclusion_reason\": 2, \"config_id\": \"23f44d903fae069b0a057d56a3d55a61\", \"allocator_version\": \"0.2.36\"}, \"yelp.www.common.biz_info_freshness.feature_toggle_enabled\": {\"param_name\": \"yelp.www.common.biz_info_freshness.feature_toggle_enabled\", \"param_value\": \"false\", \"experiment_run_id\": null, \"experiment_id\": null, \"cohort_id\": null, \"exclusion_reason\": 2, \"config_id\": \"23f44d903fae069b0a057d56a3d55a61\", \"allocator_version\": \"0.2.36\"}, \"yelp.seo_msite.biz_photos.traffic_msite_biz_page_images_with_image_tags\": {\"param_name\": \"yelp.seo_msite.biz_photos.traffic_msite_biz_page_images_with_image_tags\", \"param_value\": \"status_quo\", \"experiment_run_id\": null, \"experiment_id\": null, \"cohort_id\": null, \"exclusion_reason\": 2, \"config_id\": \"23f44d903fae069b0a057d56a3d55a61\", \"allocator_version\": \"0.2.36\"}, \"yelp.www.search.yelp_pros.cohort\": {\"param_name\": \"yelp.www.search.yelp_pros.cohort\", \"param_value\": \"status_quo\", \"experiment_run_id\": null, \"experiment_id\": null, \"cohort_id\": null, \"exclusion_reason\": 2, \"config_id\": \"23f44d903fae069b0a057d56a3d55a61\", \"allocator_version\": \"0.2.36\"}, \"yelp.www.search.yelp_pros.yelp_guaranteed_pilot_cohort\": {\"param_name\": \"yelp.www.search.yelp_pros.yelp_guaranteed_pilot_cohort\", \"param_value\": \"status_quo\", \"experiment_run_id\": null, \"experiment_id\": null, \"cohort_id\": null, \"exclusion_reason\": 2, \"config_id\": \"23f44d903fae069b0a057d56a3d55a61\", \"allocator_version\": \"0.2.36\"}, \"yelp.www.landing_page.claim_your_business_link.point_to_claim_page\": {\"param_name\": \"yelp.www.landing_page.claim_your_business_link.point_to_claim_page\", \"param_value\": \"false\", \"experiment_run_id\": null, \"experiment_id\": null, \"cohort_id\": null, \"exclusion_reason\": 2, \"config_id\": \"23f44d903fae069b0a057d56a3d55a61\", \"allocator_version\": \"0.2.36\"}, \"yelp.www.common.consumer_header.notification_overlay.enabled\": {\"param_name\": \"yelp.www.common.consumer_header.notification_overlay.enabled\", \"param_value\": \"true\", \"experiment_run_id\": null, \"experiment_id\": null, \"cohort_id\": null, \"exclusion_reason\": 2, \"config_id\": \"23f44d903fae069b0a057d56a3d55a61\", \"allocator_version\": \"0.2.36\"}, \"yelp.common.common.a11y.user_preference_metrics.is_collection_enabled\": {\"param_name\": \"yelp.common.common.a11y.user_preference_metrics.is_collection_enabled\", \"param_value\": \"true\", \"experiment_run_id\": 7459, \"experiment_id\": 3741, \"cohort_id\": 18800, \"exclusion_reason\": null, \"config_id\": \"23f44d903fae069b0a057d56a3d55a61\", \"allocator_version\": \"0.2.36\"}, \"yelp.seo_msite.search.replace_cflt_with_find_desc\": {\"param_name\": \"yelp.seo_msite.search.replace_cflt_with_find_desc\", \"param_value\": \"false\", \"experiment_run_id\": null, \"experiment_id\": null, \"cohort_id\": null, \"exclusion_reason\": 2, \"config_id\": \"23f44d903fae069b0a057d56a3d55a61\", \"allocator_version\": \"0.2.36\"}, \"yelp.seo_msite.biz_details.subtitle_h2_experiment\": {\"param_name\": \"yelp.seo_msite.biz_details.subtitle_h2_experiment\", \"param_value\": \"status_quo\", \"experiment_run_id\": null, \"experiment_id\": null, \"cohort_id\": null, \"exclusion_reason\": 2, \"config_id\": \"23f44d903fae069b0a057d56a3d55a61\", \"allocator_version\": \"0.2.36\"}, \"yelp.seo_msite.biz_details.popular_dishes_experiment\": {\"param_name\": \"yelp.seo_msite.biz_details.popular_dishes_experiment\", \"param_value\": \"enabled\", \"experiment_run_id\": 9027, \"experiment_id\": 4616, \"cohort_id\": 23732, \"exclusion_reason\": null, \"config_id\": \"23f44d903fae069b0a057d56a3d55a61\", \"allocator_version\": \"0.2.36\"}, \"yelp.seo_msite.biz_details.invisible_text_biz_h1\": {\"param_name\": \"yelp.seo_msite.biz_details.invisible_text_biz_h1\", \"param_value\": \"status_quo\", \"experiment_run_id\": null, \"experiment_id\": null, \"cohort_id\": null, \"exclusion_reason\": 2, \"config_id\": \"23f44d903fae069b0a057d56a3d55a61\", \"allocator_version\": \"0.2.36\"}, \"yelp.seo_msite.biz_details.turn_address_into_h2\": {\"param_name\": \"yelp.seo_msite.biz_details.turn_address_into_h2\", \"param_value\": \"status_quo\", \"experiment_run_id\": null, \"experiment_id\": null, \"cohort_id\": null, \"exclusion_reason\": 2, \"config_id\": \"23f44d903fae069b0a057d56a3d55a61\", \"allocator_version\": \"0.2.36\"}, \"yelp.seo_msite.biz_details.unhide_review_photos\": {\"param_name\": \"yelp.seo_msite.biz_details.unhide_review_photos\", \"param_value\": \"inactive_status_quo\", \"experiment_run_id\": 9115, \"experiment_id\": 4764, \"cohort_id\": 24015, \"exclusion_reason\": null, \"config_id\": \"23f44d903fae069b0a057d56a3d55a61\", \"allocator_version\": \"0.2.36\"}}, \"requestBucketerExperiments\": {\"dwell_time_logging_feature\": \"disabled\", \"performance_web_page_speed_bunsen_logging\": \"enabled\", \"pageview_bunsen_logging\": \"enabled\"}, \"__internal__cssChunks\": {\"ActionLinks-ActionLinks.css\": \"ActionLinks-ActionLinks.yji-cb5f8ad00222c93d5365.chunk.css\", \"AdAnalyticsDetailsPageContent.css\": \"AdAnalyticsDetailsPageContent.yji-729742d70dcd1bd8f40c.chunk.css\", \"AdBusinessSearchResult.css\": \"AdBusinessSearchResult.yji-8cf0aa3746f7a250ae02.chunk.css\", \"AdSettings.css\": \"AdSettings.yji-acf6739a50ab61e991c8.chunk.css\", \"AdSettingsGeotargetingModalContent.css\": \"AdSettingsGeotargetingModalContent.yji-3518a1ff8e63ad46ba27.chunk.css\", \"AdSettingsKeywordsModalContent.css\": \"AdSettingsKeywordsModalContent.yji-c94e8b9d9a434cde69bb.chunk.css\", \"AdSettingsPhotosModalContent.css\": \"AdSettingsPhotosModalContent.yji-2887f217cc01303a0c4a.chunk.css\", \"AdSettingsTextModalContent.css\": \"AdSettingsTextModalContent.yji-2887f217cc01303a0c4a.chunk.css\", \"AddressAndServiceAreaEditorV2.css\": \"AddressAndServiceAreaEditorV2.yji-b221b001b008a909a996.chunk.css\", \"AreaSeriesChart.css\": \"AreaSeriesChart.yji-9162cdd9b1a163ca40b5.chunk.css\", \"BillingInfoContainer.css\": \"BillingInfoContainer.yji-8fd53f8a4c4bee73bfa0.chunk.css\", \"BizHoursGQL.css\": \"BizHoursGQL.yji-83eda371beaa69e36837.chunk.css\", \"BizInfoContent.css\": \"BizInfoContent.yji-5de1f32b00bc7210575f.chunk.css\", \"BizPortfolioEditorV2.css\": \"BizPortfolioEditorV2.yji-7994743168648935102b.chunk.css\", \"BizReviewDetailsContainer-BizReviewDetailsGQLWrapper.css\": \"BizReviewDetailsContainer-BizReviewDetailsGQLWrapper.yji-5908ff9e550a3b36d21e.chunk.css\", \"BizReviewDirectMessageContainer-BizReviewDirectMessageGQL.css\": \"BizReviewDirectMessageContainer-BizReviewDirectMessageGQL.yji-c57d1b0d96c355285af9.chunk.css\", \"BizReviewsContainer.css\": \"BizReviewsContainer.yji-bf82fb85b22c7ab9dc66.chunk.css\", \"BizSiteSupportWidget.css\": \"BizSiteSupportWidget.yji-721a2f80b85e6923377d.chunk.css\", \"BusinessHighlightModularSetup.css\": \"BusinessHighlightModularSetup.yji-4863e7f96b594dbab5ad.chunk.css\", \"BusinessHours-BusinessHours.css\": \"BusinessHours-BusinessHours.yji-50f86177d30d32a31a75.chunk.css\", \"BusinessLogoEditContainerAware.css\": \"BusinessLogoEditContainerAware.yji-1cc6970240245e91231d.chunk.css\", \"BusinessPosts-BusinessPosts.css\": \"BusinessPosts-BusinessPosts.yji-b63e025eeae4bad004f0.chunk.css\", \"BusinessPostsSetupFlow.css\": \"BusinessPostsSetupFlow.yji-a602346d5e8a5a8383f4.chunk.css\", \"CPMAdSettings.css\": \"CPMAdSettings.yji-e3f520bb553ec64df9c0.chunk.css\", \"CallToActionSetupContentContainer.css\": \"CallToActionSetupContentContainer.yji-794e0475621ddda854bf.chunk.css\", \"CategoriesAndServicesEditor.css\": \"CategoriesAndServicesEditor.yji-d57bb0d412a499700b96.chunk.css\", \"ChartLegend.css\": \"ChartLegend.yji-64f1991b0ecb99287b8f.chunk.css\", \"ChooseGeotargeting.css\": \"ChooseGeotargeting.yji-f5cffd0bc1ae39369bdb.chunk.css\", \"ChooseKeywords.css\": \"ChooseKeywords.yji-1fbb80b3306f32b2cde0.chunk.css\", \"ChoosePhoto.css\": \"ChoosePhoto.yji-99ef17e58151cf3b2d47.chunk.css\", \"ChooseTextContainer.css\": \"ChooseTextContainer.yji-d9f3f4db8e29268b80c8.chunk.css\", \"ClaimReminder.css\": \"ClaimReminder.yji-bc1be49efd717e2a74fb.chunk.css\", \"ClaimStatusGQL.css\": \"ClaimStatusGQL.yji-f278275cd0028fbe6fd6.chunk.css\", \"ConclusionScreen.css\": \"ConclusionScreen.yji-fd9c0e5413e817a8e924.chunk.css\", \"CustomerLeadsGraph.css\": \"CustomerLeadsGraph.yji-a92c20f194c0e205328b.chunk.css\", \"Dashboard.css\": \"Dashboard.yji-906bbe06882b80a9c0f9.chunk.css\", \"FreeTrialUnifiedCheckoutContainer.css\": \"FreeTrialUnifiedCheckoutContainer.yji-b1c41879e5264f95853a.chunk.css\", \"FromThisBiz.css\": \"FromThisBiz.yji-f23f9734da2108ab6566.chunk.css\", \"FromThisBizCallout.css\": \"FromThisBizCallout.yji-b7419ee343ea37f40cee.chunk.css\", \"FromThisBusiness-FromThisBusiness.css\": \"FromThisBusiness-FromThisBusiness.yji-b93e6a15da0173859267.chunk.css\", \"HomeScreenContent.css\": \"HomeScreenContent.yji-4472eda59a7dc643357b.chunk.css\", \"I18nReviews.css\": \"I18nReviews.yji-af1d431fc5313da950fc.chunk.css\", \"InsightsSection.css\": \"InsightsSection.yji-23f2a0c2b32f9e4a1278.chunk.css\", \"InternalLinks.css\": \"InternalLinks.yji-4d62921912c4e3001d05.chunk.css\", \"IntroductionScreen.css\": \"IntroductionScreen.yji-32b76eb8a5046caf2399.chunk.css\", \"KnownFor-KnownFor.css\": \"KnownFor-KnownFor.yji-e6b864d425ada02c21ab.chunk.css\", \"LoyaltyPromotionModal.css\": \"LoyaltyPromotionModal.yji-f438e113017ca54f6a7d.chunk.css\", \"MarketingPage.css\": \"MarketingPage.yji-330bdb43b16ac7065421.chunk.css\", \"MediaLightbox.css\": \"MediaLightbox.yji-dff085915bc3fec06d76.chunk.css\", \"MediaShowcaseGQL.css\": \"MediaShowcaseGQL.yji-c0c449289babb035334e.chunk.css\", \"MoreInfo.css\": \"MoreInfo.yji-64e70ac2635b35980a6a.chunk.css\", \"OnTheMenuGQL.css\": \"OnTheMenuGQL.yji-bba686a1f25946d26a3f.chunk.css\", \"OneClickRestartModal.css\": \"OneClickRestartModal.yji-01300f5e1b654dd8e622.chunk.css\", \"PhotosVideos-PhotosVideos.css\": \"PhotosVideos-PhotosVideos.yji-6463164a4a2aab7f7248.chunk.css\", \"PurchaseErrorContainer.css\": \"PurchaseErrorContainer.yji-e0abcd104a4d6c762ad5.chunk.css\", \"PurchaseSuccessContainer.css\": \"PurchaseSuccessContainer.yji-d267ff80d74a587c59a0.chunk.css\", \"QuestionAnswer.css\": \"QuestionAnswer.yji-3494d1c2e9aca089d6f8.chunk.css\", \"QuestionBasedReviewEntryPoint-QuestionBasedReviewEntryPointGQL.css\": \"QuestionBasedReviewEntryPoint-QuestionBasedReviewEntryPointGQL.yji-5395c407286d1a2bcae4.chunk.css\", \"RecommendationsSlideshowSetup.css\": \"RecommendationsSlideshowSetup.yji-9efd2baa6e27e604d1de.chunk.css\", \"RelatedBusinesses.css\": \"RelatedBusinesses.yji-63a061f6240afcbf9a5a.chunk.css\", \"RelatedCostGuides.css\": \"RelatedCostGuides.yji-837d077af85076b68e12.chunk.css\", \"ReviewHighlights.css\": \"ReviewHighlights.yji-d0649629a5da207e67ca.chunk.css\", \"ServiceUpdateSummary-ServiceUpdateSummaryGQL.css\": \"ServiceUpdateSummary-ServiceUpdateSummaryGQL.yji-797f1d2af6f3c95a0b72.chunk.css\", \"SetBudgetContainer.css\": \"SetBudgetContainer.yji-9750ed0921bf0bc9c212.chunk.css\", \"SetupFlowBizAppInstall.css\": \"SetupFlowBizAppInstall.yji-6cb6be820e0501cb387a.chunk.css\", \"SetupFlowOperationHours.css\": \"SetupFlowOperationHours.yji-133d1b9d393d963ec3b9.chunk.css\", \"SetupFlowSpecialties.css\": \"SetupFlowSpecialties.yji-7180186397144decea10.chunk.css\", \"UnifiedCheckoutContainer.css\": \"UnifiedCheckoutContainer.yji-99949c694e68d1edb190.chunk.css\", \"UpgradePackage-ProductStatusBox-UpgradePackageProducts.css\": \"UpgradePackage-ProductStatusBox-UpgradePackageProducts.yji-bbf8530708edd0cc2fb1.chunk.css\", \"UpgradePackagePitchCheckoutPage.css\": \"UpgradePackagePitchCheckoutPage.yji-186ce3319aff8ce685f8.chunk.css\", \"UpgradePackagePurchaseSuccessPageV2.css\": \"UpgradePackagePurchaseSuccessPageV2.yji-1e6d2b14c05db9e40596.chunk.css\", \"VerifiedLicenseSetupContainer.css\": \"VerifiedLicenseSetupContainer.yji-8ad749be8fb492d6978f.chunk.css\", \"commons.css\": \"yelp-frontend-commons-pkg.yji-3353fa1df3f41e887fe4.css\", \"components-BizDiscoveryTopPitch.css\": \"components-BizDiscoveryTopPitch.yji-2f652dc0c792ecbd012f.chunk.css\", \"components-BizPageConfigurableAlertsGQL.css\": \"components-BizPageConfigurableAlertsGQL.yji-b7ac0249144a2954921c.chunk.css\", \"components-BizPortfolio.css\": \"components-BizPortfolio.yji-931f02278504b0e251af.chunk.css\", \"components-BizQuestionsGQL.css\": \"components-BizQuestionsGQL.yji-f99580137c641aaab850.chunk.css\", \"components-BusinessPosts.css\": \"components-BusinessPosts.yji-4118071f3ac046a5b2f6.chunk.css\", \"components-CollectionCardCarousel.css\": \"components-CollectionCardCarousel.yji-88ca5af3b99587234325.chunk.css\", \"components-ConversationWidget.css\": \"components-ConversationWidget.yji-2a1f3069aa232dfd11b7.chunk.css\", \"components-MoreBusinessInfo.css\": \"components-MoreBusinessInfo.yji-2b847120a4c94e3ba1f2.chunk.css\", \"components-OfferCampaigns.css\": \"components-OfferCampaigns.yji-1b642f092bfc4a7eafa7.chunk.css\", \"components-PageLevelMessages.css\": \"components-PageLevelMessages.yji-79e20300c0db83217e34.chunk.css\", \"components-PlatformWidget.css\": \"components-PlatformWidget.yji-adb79f858f1e90f39f9f.chunk.css\", \"components-RelatedBusinessesCarousel.css\": \"components-RelatedBusinessesCarousel.yji-ad59b36f17920d25a77f.chunk.css\", \"components-Reviews.css\": \"components-Reviews.yji-d24c7af5429781cc89d4.chunk.css\", \"components-ServiceOfferings.css\": \"components-ServiceOfferings.yji-38400593172c1f3f058e.chunk.css\", \"components-SurveyQuestionsInline.css\": \"components-SurveyQuestionsInline.yji-d61da5bf58940a1a1c86.chunk.css\", \"components-YelpProsInlinePromoBanner.css\": \"components-YelpProsInlinePromoBanner.yji-aaad2e121ede3552c0e9.chunk.css\", \"gondola-biz-details.css\": \"yelp-frontend-gondola-biz-details-pkg.yji-c0f07b59b3c169b2219c.css\", \"shared-3d84e41c85680e732a0bee2f5e6cc7851148715e.css\": \"shared-3d84e41c85680e732a0bee2f5e6cc7851148715e.yji-ee388f54f8750d2a297e.chunk.css\", \"shared-64cc8ac8bb469d9a872c9dc7a0be489d5bb46103.css\": \"shared-64cc8ac8bb469d9a872c9dc7a0be489d5bb46103.yji-27c2e96327dfbff8101f.chunk.css\", \"shared-86dae481a313af5d045ea1ddfc3b7883a3f6cfe1.css\": \"shared-86dae481a313af5d045ea1ddfc3b7883a3f6cfe1.yji-25b5fb4d0a3d38836b7c.chunk.css\", \"shared-ae4c18f14eaa42a199b6f1b8c2c5fa072b5076d3.css\": \"yelp-frontend-shared-ae4c18f14eaa42a199b6f1b8c2c5fa072b5076d3-pkg.yji-0611007f49ac6815057e.css\", \"shared-css.css\": \"shared-css.yji-5c33d481f278e078898d.chunk.css\", \"shared-dba08312b7422572b93fa00811834c4054ad07de.css\": \"yelp-frontend-shared-dba08312b7422572b93fa00811834c4054ad07de-pkg.yji-e4006065373a0e1b6840.css\", \"yelp-mobile-site-common.css\": \"yelp-mobile-site-common.yji-557e2b86e30827e0b77d.chunk.css\", \"yelp-react-component-ad-debug-panel.css\": \"yelp-react-component-ad-debug-panel.yji-20e585e4f4494417bd06.chunk.css\", \"yelp-react-component-user-auth.css\": \"yelp-react-component-user-auth.yji-92fb1c82b3dfa3afc213.chunk.css\"}}--></script>\\n\\n<script type=\"text/javascript\">\\n    (function () {\\n        function ServerSideRenderingError(component) {\\n            this.name = \\'ServerSideRenderingError\\';\\n            this.component = component;\\n        }\\n\\n        ServerSideRenderingError.prototype = Object.create(ServerSideRenderingError.prototype);\\n        ServerSideRenderingError.prototype.constructor = ServerSideRenderingError;\\n\\n        throw new ServerSideRenderingError(\\'gondolabizdetails__12215__gondolabizdetails__GondolaBizDetails__gondolado_not_use failed to render server-side, and fell back to client-side rendering.\\');\\n    }());\\n</script>\\n</yelp-react-root><script src=\"https://s3-media0.fl.yelpcdn.com/assets/srv0/cdn_assets/d86dcdbfed4c/assets/vendor/react/18.2.0/umd/react.production.min.js\" integrity=\"sha384-tMH8h3BGESGckSAVGZ82T9n90ztNXxvdwvdM6UoR56cYcf+0iGXBliJ29D+wZ/x8\" crossorigin=\"anonymous\"></script>\\n<script src=\"https://s3-media0.fl.yelpcdn.com/assets/srv0/cdn_assets/64141792105e/assets/vendor/react-dom/18.2.0/umd/react-dom.production.min.js\" integrity=\"sha384-bm7MnzvK++ykSwVJ2tynSE5TRdN+xL418osEVF2DE/L/gfWHj91J2Sphe582B1Bh\" crossorigin=\"anonymous\"></script>\\n<!-- css-middleware: body tag placeholder --><script>(function() { var e=window.yelp.critical_css;function t(e){setTimeout(e,0)}function n(n){for(var o in e.css_map)if(!e.css_map[o].loaded)return;t(n)}function o(t,o){var a=e.css_map[t],i=a.linkTag,r=document.querySelector(\\'style[data-critical-css=\"\\'+t+\\'\"]\\');if(r&&i&&!a.loaded){var c=function(e,t){var n=e.cloneNode();n.rel=\"stylesheet\",n.media=\"all\",n.href=e.href;var o=function(){this.onload=null,this.setAttribute(\"onload\",null),t.parentNode.removeChild(t)};return n.setAttribute(\"onload\",o),n.onload=o,n}(i,r);r.insertAdjacentElement(\"afterend\",c),i.parentNode.removeChild(i),e.css_map[t].loaded=!0,n(o)}else n(o)}function a(n,a){if(!e.css_map||0===Object.keys(e.css_map).length)return void t(n);(a?[a]:Object.keys(e.css_map)).forEach((function(t){e.lowPriorityMode?o(t,n):setTimeout(o,0,t,n)}))}e.criticalCSSReady=function(t){const n=(o=t,function(){return o&&(r=o.apply(i||this,arguments),o=null),r});var o,i,r;a(n);var c=e.recordDone.bind(window);e.recordDone=function(e,t){c.call(this,e,t),a(n,t.dataset.criticalCss)}}; })()</script>\\n<script>\\n        window.yelp = window.yelp || {};\\n        window.yelp.zipkin_id = \\'84e711b0aa549b83\\';\\n        window.yelp.unique_request_id = \\'c21afa2fde507902\\';\\n        window.yelp.guv = \\'1F84E1AB3352A8B3\\';\\n        window.yelp.yuv_record = \\'1d9ITHmJJ20_QHWDVw2k-gHp9hn0DXkN22rMG8Zc7dNQI9fzIaBhKmyOfMV-tdrDk1cCDuolwFE0YTCLhipZ3a-3YxkkRAFF\\';\\n    </script>\\n<script src=\"https://s3-media0.fl.yelpcdn.com/assets/srv0/cdn_assets/4dc644e84e0b/assets/vendor/regenerator-runtime/0.13.9/regenerator-runtime.min.js\" integrity=\"sha384-VWXV8VA+0xZuNh5mksoTGTWM4qM9gdLvcv/y/f3Ps2ZjKN37taVfpJHexdLG2bJI\" crossorigin=\"anonymous\"></script>\\n<script id=\"yelp-js-error-reporting-init-error-reporting\" type=\"application/json\">{\"config\": {\"release\": \"cde2edc021f40cef621327a3be294fac25d1ff63\", \"metaData\": {\"projectName\": \"gondola-biz-details\", \"activeVersion\": \"1.22.15\", \"deploymentPreviewId\": null, \"zipkinTraceID\": \"84e711b0aa549b83\"}, \"environment\": \"prod\", \"blacklist\": {\"location\": [\"yl[a-z]-[a-z]*\\\\\\\\.js\"], \"type\": [], \"message\": [\"Blocked a frame with origin\"]}, \"sampleRate\": 1}, \"client\": \"bugsnag\", \"apiKey\": \"7a505cfcfc5a2e124a4f37054c4d684d\", \"enabled\": true}</script>\\n\\n<script>window.ySitRepParams = {\"guv\": \"1F84E1AB3352A8B3\", \"datacenter\": \"us-east-1\", \"unique_request_id\": \"c21afa2fde507902\"};</script>\\n\\n<script src=\"https://s3-media0.fl.yelpcdn.com/assets/public/module_yelp-frontend_runtime.yji-f5512c8bf8009991d19a.js\" crossorigin=\"anonymous\"></script>\\n<script src=\"https://s3-media0.fl.yelpcdn.com/assets/public/module_yelp-frontend_lib-yelp-react-component-photo-box-14.0.1.yji-ec9292fac9ce4d1cad0a.js\" crossorigin=\"anonymous\"></script>\\n<script src=\"https://s3-media0.fl.yelpcdn.com/assets/public/module_yelp-frontend_lib-lodash-4.17.21.yji-a9c8e9830f0fb8b2bb66.js\" crossorigin=\"anonymous\"></script>\\n<script src=\"https://s3-media0.fl.yelpcdn.com/assets/public/module_yelp-frontend_lib-yelp-style-utils-6.1.3.yji-72943446928c117609f1.js\" crossorigin=\"anonymous\"></script>\\n<script src=\"https://s3-media0.fl.yelpcdn.com/assets/public/module_yelp-frontend_lib-moment-2.29.4.yji-a4eaa955a9474903661e.js\" crossorigin=\"anonymous\"></script>\\n<script src=\"https://s3-media0.fl.yelpcdn.com/assets/public/module_yelp-frontend_lib-yelp-biz-action-constants-0.2527.0.yji-44f5ff188fc25ee736e6.js\" crossorigin=\"anonymous\"></script>\\n<script src=\"https://s3-media0.fl.yelpcdn.com/assets/public/module_yelp-frontend_lib-immutable-4.1.0.yji-006b1fa3a8ba97eb0624.js\" crossorigin=\"anonymous\"></script>\\n<script src=\"https://s3-media0.fl.yelpcdn.com/assets/public/module_yelp-frontend_lib-luxon-1.26.0.yji-0f01637f5fb09b0a6e86.js\" crossorigin=\"anonymous\"></script>\\n<script src=\"https://s3-media0.fl.yelpcdn.com/assets/public/module_yelp-frontend_lib-yelp-biz-action-constants-0.2528.0.yji-54ef426a510c9e0646e1.js\" crossorigin=\"anonymous\"></script>\\n<script src=\"https://s3-media0.fl.yelpcdn.com/assets/public/module_yelp-frontend_lib-yelp-react-component-ynra-23.0.0.yji-30cdfbca9d1f4cc7f17f.js\" crossorigin=\"anonymous\"></script>\\n<script src=\"https://s3-media0.fl.yelpcdn.com/assets/public/module_yelp-frontend_commons.yji-9bf7dfed6b2f52207c34.js\" crossorigin=\"anonymous\"></script>\\n<script src=\"https://s3-media0.fl.yelpcdn.com/assets/public/module_yelp-frontend_shared-d166ad42b57715f29a1d4ebda9e99820b025980c.yji-1e562648d479693f3883.js\" crossorigin=\"anonymous\"></script>\\n<script src=\"https://s3-media0.fl.yelpcdn.com/assets/public/module_yelp-frontend_shared-58ae728d63354acfaeb9d2e57a843efd9df5b505.yji-36cdea6a969059eb7365.js\" crossorigin=\"anonymous\"></script>\\n<script src=\"https://s3-media0.fl.yelpcdn.com/assets/public/module_yelp-frontend_shared-521226311d0891d2e5f412d2e4484b9af092020b.yji-6fefe7ab533d90eb73a6.js\" crossorigin=\"anonymous\"></script>\\n<script src=\"https://s3-media0.fl.yelpcdn.com/assets/public/module_yelp-frontend_shared-1198f61a1b1e412e756eaa7263e16071dff2af3b.yji-81caa925eabece149eb4.js\" crossorigin=\"anonymous\"></script>\\n<script src=\"https://s3-media0.fl.yelpcdn.com/assets/public/module_yelp-frontend_shared-5c23155bf2145962cc7ab344f19bdbb3c09007bf.yji-cc864bcf87bcb3798ff0.js\" crossorigin=\"anonymous\"></script>\\n<script src=\"https://s3-media0.fl.yelpcdn.com/assets/public/module_yelp-frontend_shared-355f13f498b0c2517175b7865db48c8821d98380.yji-4a0a5a545ea69cda3dd5.js\" crossorigin=\"anonymous\"></script>\\n<script src=\"https://s3-media0.fl.yelpcdn.com/assets/public/module_yelp-frontend_shared-166a58beba864aa25f7b234283ecce572df9dd6a.yji-b4b5d41c063a73b70ccc.js\" crossorigin=\"anonymous\"></script>\\n<script src=\"https://s3-media0.fl.yelpcdn.com/assets/public/module_yelp-frontend_shared-68979bac8711bf918e77be232b6af206d74eb6a5.yji-2a0f464f26fc8864ebf9.js\" crossorigin=\"anonymous\"></script>\\n<script src=\"https://s3-media0.fl.yelpcdn.com/assets/public/module_yelp-frontend_shared-49edc592b6880500ff9fb599d846088ebbcc5806.yji-235c53a0cdbd68e147b7.js\" crossorigin=\"anonymous\"></script>\\n<script src=\"https://s3-media0.fl.yelpcdn.com/assets/public/module_yelp-frontend_shared-5aca87e18b103d5a993689e5e07657c632a8a223.yji-6a27b830938711bc2f41.js\" crossorigin=\"anonymous\"></script>\\n<script src=\"https://s3-media0.fl.yelpcdn.com/assets/public/module_yelp-frontend_shared-427a50e5751f7ed7ec6d2b0d935c541b230d1f9b.yji-f7587344b823e228f7e2.js\" crossorigin=\"anonymous\"></script>\\n<script src=\"https://s3-media0.fl.yelpcdn.com/assets/public/module_yelp-frontend_shared-5a74bda66385a342fed3bc52c958e0ba9f55d906.yji-98ca0987ee7c3ee6968d.js\" crossorigin=\"anonymous\"></script>\\n<script src=\"https://s3-media0.fl.yelpcdn.com/assets/public/module_yelp-frontend_shared-b368b40d738d9fbd00d3e528d978e7d36be4bd4a.yji-9de13faf7ba2bf76eeb1.js\" crossorigin=\"anonymous\"></script>\\n<script src=\"https://s3-media0.fl.yelpcdn.com/assets/public/module_yelp-frontend_shared-89ed5f1dcfa375e4f69b44692f35aba40a6c5e63.yji-049154793a8b9b2da339.js\" crossorigin=\"anonymous\"></script>\\n<script src=\"https://s3-media0.fl.yelpcdn.com/assets/public/module_yelp-frontend_shared-2e66a0abe95b7b5a5d622711e051e56a493bd7e7.yji-27f1d5b9e89d1232805b.js\" crossorigin=\"anonymous\"></script>\\n<script src=\"https://s3-media0.fl.yelpcdn.com/assets/public/module_yelp-frontend_shared-dba08312b7422572b93fa00811834c4054ad07de.yji-db995cbc6aa287429a64.js\" crossorigin=\"anonymous\"></script>\\n<script src=\"https://s3-media0.fl.yelpcdn.com/assets/public/module_yelp-frontend_shared-071d9455956c459cf5a5f9f067619a853a7c3f08.yji-51e6556bf059cd1607d4.js\" crossorigin=\"anonymous\"></script>\\n<script src=\"https://s3-media0.fl.yelpcdn.com/assets/public/module_yelp-frontend_shared-c6ea75598883735bf18ff00188d80a0f90d4a8ea.yji-ffd4b4a31e8016845ca9.js\" crossorigin=\"anonymous\"></script>\\n<script src=\"https://s3-media0.fl.yelpcdn.com/assets/public/module_yelp-frontend_shared-2bde460908b41f946732ee118454aee8858747f7.yji-b05f068badd524391f37.js\" crossorigin=\"anonymous\"></script>\\n<script src=\"https://s3-media0.fl.yelpcdn.com/assets/public/module_yelp-frontend_shared-f71662101e5b24697dc1444ab6764ad8565a76d3.yji-132c85161c73800a9f3b.js\" crossorigin=\"anonymous\"></script>\\n<script src=\"https://s3-media0.fl.yelpcdn.com/assets/public/module_yelp-frontend_shared-c0faa51540bcf5d815ceff9d6aa8334a4e9054f8.yji-2ca392f736d22dbfedba.js\" crossorigin=\"anonymous\"></script>\\n<script src=\"https://s3-media0.fl.yelpcdn.com/assets/public/module_yelp-frontend_shared-8ccfba981b306c2ee0b5798ff4d2c4039c683f34.yji-54dc0199c0f79030d028.js\" crossorigin=\"anonymous\"></script>\\n<script src=\"https://s3-media0.fl.yelpcdn.com/assets/public/module_yelp-frontend_shared-d9b88b74a9b06252a3f122d94f71ffbc5ead11b2.yji-78874e3d88a50a4b000c.js\" crossorigin=\"anonymous\"></script>\\n<script src=\"https://s3-media0.fl.yelpcdn.com/assets/public/module_yelp-frontend_gondola-biz-details.yji-fd3f0548ee259c88e5af.js\" crossorigin=\"anonymous\"></script><script type=\"text/javascript\">window.yelp.initReactComponents();</script></body></html>'"
            ],
            "application/vnd.google.colaboratory.intrinsic+json": {
              "type": "string"
            }
          },
          "metadata": {},
          "execution_count": 40
        }
      ]
    },
    {
      "cell_type": "markdown",
      "source": [
        "### **Now we will be parsing html data we got**"
      ],
      "metadata": {
        "id": "SW3csj8qwgJS"
      }
    },
    {
      "cell_type": "code",
      "source": [
        "soup = BeautifulSoup(r.text, 'html.parser')"
      ],
      "metadata": {
        "id": "BAKsSdkhwc_S"
      },
      "execution_count": 43,
      "outputs": []
    },
    {
      "cell_type": "markdown",
      "source": [
        "## The re.compile() method\n",
        "re.compile(pattern, repl, string):\n",
        "\n",
        " We can combine a regular expression pattern into pattern objects, which can be used for pattern matching. It also helps to search a pattern again without rewriting it.\n",
        "\n",
        " https://www.tutorialspoint.com/Why-do-we-use-re-compile-method-in-Python-regular-expression"
      ],
      "metadata": {
        "id": "HE_WvwcFzcVB"
      }
    },
    {
      "cell_type": "code",
      "source": [
        "regres = re.compile('.*comment.*')"
      ],
      "metadata": {
        "id": "Xmk1r0WDwc4j"
      },
      "execution_count": 56,
      "outputs": []
    },
    {
      "cell_type": "code",
      "source": [
        "results = soup.findAll('p',{'class': regres})"
      ],
      "metadata": {
        "id": "Lgjk7gA7wc0V"
      },
      "execution_count": 57,
      "outputs": []
    },
    {
      "cell_type": "code",
      "source": [
        "reviews = [result.text for result in results]"
      ],
      "metadata": {
        "id": "KmLRnGQ5wcv7"
      },
      "execution_count": 58,
      "outputs": []
    },
    {
      "cell_type": "code",
      "source": [
        "reviews[0]"
      ],
      "metadata": {
        "colab": {
          "base_uri": "https://localhost:8080/",
          "height": 70
        },
        "id": "SD7TmQlqvNCl",
        "outputId": "9080891c-3987-4f2f-b258-697b50aa1e44"
      },
      "execution_count": 60,
      "outputs": [
        {
          "output_type": "execute_result",
          "data": {
            "text/plain": [
              "\"Today I go there with my coworker and then have orders foods After having the food We settle bills and the server charges more than usual price After that I checked and explained to him He not \\xa0listen my explainingHe very rude on me and The food is ok Please take care yours business reputation He is not skilful person on service Try to be good employeesI'm soo sad for your business\""
            ],
            "application/vnd.google.colaboratory.intrinsic+json": {
              "type": "string"
            }
          },
          "metadata": {},
          "execution_count": 60
        }
      ]
    },
    {
      "cell_type": "markdown",
      "source": [
        "# 5. **Load Reviews into DataFrame and Score**"
      ],
      "metadata": {
        "id": "tpsp4MsL16-4"
      }
    },
    {
      "cell_type": "code",
      "source": [
        "import numpy as np\n",
        "import pandas as pd"
      ],
      "metadata": {
        "id": "YYZ6thO9vM0t"
      },
      "execution_count": 61,
      "outputs": []
    },
    {
      "cell_type": "code",
      "source": [
        "df = pd.DataFrame(np.array(reviews), columns = ['Comment'])"
      ],
      "metadata": {
        "id": "VarYnS0nvMwd"
      },
      "execution_count": 62,
      "outputs": []
    },
    {
      "cell_type": "code",
      "source": [
        "df.head()"
      ],
      "metadata": {
        "colab": {
          "base_uri": "https://localhost:8080/",
          "height": 206
        },
        "id": "rkYWPpZXpWI3",
        "outputId": "6c8f575a-269a-45aa-dfb0-4eb2d151f5ef"
      },
      "execution_count": 63,
      "outputs": [
        {
          "output_type": "execute_result",
          "data": {
            "text/plain": [
              "                                             Comment\n",
              "0  Today I go there with my coworker and then hav...\n",
              "1  Tommy, thank you so much for taking the time t...\n",
              "2  ¿Busca un grifo de cocina elegante y con estil...\n",
              "3  The soul food is in my opinion starting to get...\n",
              "4  Hi Day, it’s a shame that you didn’t enjoy you..."
            ],
            "text/html": [
              "\n",
              "  <div id=\"df-bb09f9f9-3486-4135-af75-8f51d1102cf6\">\n",
              "    <div class=\"colab-df-container\">\n",
              "      <div>\n",
              "<style scoped>\n",
              "    .dataframe tbody tr th:only-of-type {\n",
              "        vertical-align: middle;\n",
              "    }\n",
              "\n",
              "    .dataframe tbody tr th {\n",
              "        vertical-align: top;\n",
              "    }\n",
              "\n",
              "    .dataframe thead th {\n",
              "        text-align: right;\n",
              "    }\n",
              "</style>\n",
              "<table border=\"1\" class=\"dataframe\">\n",
              "  <thead>\n",
              "    <tr style=\"text-align: right;\">\n",
              "      <th></th>\n",
              "      <th>Comment</th>\n",
              "    </tr>\n",
              "  </thead>\n",
              "  <tbody>\n",
              "    <tr>\n",
              "      <th>0</th>\n",
              "      <td>Today I go there with my coworker and then hav...</td>\n",
              "    </tr>\n",
              "    <tr>\n",
              "      <th>1</th>\n",
              "      <td>Tommy, thank you so much for taking the time t...</td>\n",
              "    </tr>\n",
              "    <tr>\n",
              "      <th>2</th>\n",
              "      <td>¿Busca un grifo de cocina elegante y con estil...</td>\n",
              "    </tr>\n",
              "    <tr>\n",
              "      <th>3</th>\n",
              "      <td>The soul food is in my opinion starting to get...</td>\n",
              "    </tr>\n",
              "    <tr>\n",
              "      <th>4</th>\n",
              "      <td>Hi Day, it’s a shame that you didn’t enjoy you...</td>\n",
              "    </tr>\n",
              "  </tbody>\n",
              "</table>\n",
              "</div>\n",
              "      <button class=\"colab-df-convert\" onclick=\"convertToInteractive('df-bb09f9f9-3486-4135-af75-8f51d1102cf6')\"\n",
              "              title=\"Convert this dataframe to an interactive table.\"\n",
              "              style=\"display:none;\">\n",
              "        \n",
              "  <svg xmlns=\"http://www.w3.org/2000/svg\" height=\"24px\"viewBox=\"0 0 24 24\"\n",
              "       width=\"24px\">\n",
              "    <path d=\"M0 0h24v24H0V0z\" fill=\"none\"/>\n",
              "    <path d=\"M18.56 5.44l.94 2.06.94-2.06 2.06-.94-2.06-.94-.94-2.06-.94 2.06-2.06.94zm-11 1L8.5 8.5l.94-2.06 2.06-.94-2.06-.94L8.5 2.5l-.94 2.06-2.06.94zm10 10l.94 2.06.94-2.06 2.06-.94-2.06-.94-.94-2.06-.94 2.06-2.06.94z\"/><path d=\"M17.41 7.96l-1.37-1.37c-.4-.4-.92-.59-1.43-.59-.52 0-1.04.2-1.43.59L10.3 9.45l-7.72 7.72c-.78.78-.78 2.05 0 2.83L4 21.41c.39.39.9.59 1.41.59.51 0 1.02-.2 1.41-.59l7.78-7.78 2.81-2.81c.8-.78.8-2.07 0-2.86zM5.41 20L4 18.59l7.72-7.72 1.47 1.35L5.41 20z\"/>\n",
              "  </svg>\n",
              "      </button>\n",
              "      \n",
              "  <style>\n",
              "    .colab-df-container {\n",
              "      display:flex;\n",
              "      flex-wrap:wrap;\n",
              "      gap: 12px;\n",
              "    }\n",
              "\n",
              "    .colab-df-convert {\n",
              "      background-color: #E8F0FE;\n",
              "      border: none;\n",
              "      border-radius: 50%;\n",
              "      cursor: pointer;\n",
              "      display: none;\n",
              "      fill: #1967D2;\n",
              "      height: 32px;\n",
              "      padding: 0 0 0 0;\n",
              "      width: 32px;\n",
              "    }\n",
              "\n",
              "    .colab-df-convert:hover {\n",
              "      background-color: #E2EBFA;\n",
              "      box-shadow: 0px 1px 2px rgba(60, 64, 67, 0.3), 0px 1px 3px 1px rgba(60, 64, 67, 0.15);\n",
              "      fill: #174EA6;\n",
              "    }\n",
              "\n",
              "    [theme=dark] .colab-df-convert {\n",
              "      background-color: #3B4455;\n",
              "      fill: #D2E3FC;\n",
              "    }\n",
              "\n",
              "    [theme=dark] .colab-df-convert:hover {\n",
              "      background-color: #434B5C;\n",
              "      box-shadow: 0px 1px 3px 1px rgba(0, 0, 0, 0.15);\n",
              "      filter: drop-shadow(0px 1px 2px rgba(0, 0, 0, 0.3));\n",
              "      fill: #FFFFFF;\n",
              "    }\n",
              "  </style>\n",
              "\n",
              "      <script>\n",
              "        const buttonEl =\n",
              "          document.querySelector('#df-bb09f9f9-3486-4135-af75-8f51d1102cf6 button.colab-df-convert');\n",
              "        buttonEl.style.display =\n",
              "          google.colab.kernel.accessAllowed ? 'block' : 'none';\n",
              "\n",
              "        async function convertToInteractive(key) {\n",
              "          const element = document.querySelector('#df-bb09f9f9-3486-4135-af75-8f51d1102cf6');\n",
              "          const dataTable =\n",
              "            await google.colab.kernel.invokeFunction('convertToInteractive',\n",
              "                                                     [key], {});\n",
              "          if (!dataTable) return;\n",
              "\n",
              "          const docLinkHtml = 'Like what you see? Visit the ' +\n",
              "            '<a target=\"_blank\" href=https://colab.research.google.com/notebooks/data_table.ipynb>data table notebook</a>'\n",
              "            + ' to learn more about interactive tables.';\n",
              "          element.innerHTML = '';\n",
              "          dataTable['output_type'] = 'display_data';\n",
              "          await google.colab.output.renderOutput(dataTable, element);\n",
              "          const docLink = document.createElement('div');\n",
              "          docLink.innerHTML = docLinkHtml;\n",
              "          element.appendChild(docLink);\n",
              "        }\n",
              "      </script>\n",
              "    </div>\n",
              "  </div>\n",
              "  "
            ]
          },
          "metadata": {},
          "execution_count": 63
        }
      ]
    },
    {
      "cell_type": "code",
      "source": [
        "df.shape"
      ],
      "metadata": {
        "colab": {
          "base_uri": "https://localhost:8080/"
        },
        "id": "875FCP2W2X5E",
        "outputId": "c53eb980-e439-488d-eb0c-5e2210aec18a"
      },
      "execution_count": 64,
      "outputs": [
        {
          "output_type": "execute_result",
          "data": {
            "text/plain": [
              "(20, 1)"
            ]
          },
          "metadata": {},
          "execution_count": 64
        }
      ]
    },
    {
      "cell_type": "markdown",
      "source": [
        "## **Here we will write a fn that takes the comments or reviews and return the ratings just like the above that we did for a single statement to extract Sentimental scores**"
      ],
      "metadata": {
        "id": "kvtg6Fan26YN"
      }
    },
    {
      "cell_type": "code",
      "source": [
        "def sentimental_rattings(review):\n",
        "  token = tokenizer.encode(review, return_tensors= 'pt')\n",
        "  res = model(token)\n",
        "  return int(torch.argmax(res.logits))+1\n"
      ],
      "metadata": {
        "id": "AQhKHYaj2X1B"
      },
      "execution_count": 65,
      "outputs": []
    },
    {
      "cell_type": "code",
      "source": [
        "sentimental_rattings(df['Comment'].iloc[1])"
      ],
      "metadata": {
        "colab": {
          "base_uri": "https://localhost:8080/"
        },
        "outputId": "c3e56139-da4a-4dfa-db4c-4fd59803aa79",
        "id": "lVdmS-PO47cM"
      },
      "execution_count": 72,
      "outputs": [
        {
          "output_type": "execute_result",
          "data": {
            "text/plain": [
              "5"
            ]
          },
          "metadata": {},
          "execution_count": 72
        }
      ]
    },
    {
      "cell_type": "markdown",
      "source": [
        "## The max len of a string that we can pass to that model is 512 so we only passing the first 512 characters"
      ],
      "metadata": {
        "id": "576mE1TQ5y8Z"
      }
    },
    {
      "cell_type": "code",
      "source": [
        "df['sentiment_score'] = df['Comment'].apply(lambda x: sentimental_rattings(x[:512]))"
      ],
      "metadata": {
        "id": "KElJOStk2Xxx"
      },
      "execution_count": 74,
      "outputs": []
    },
    {
      "cell_type": "code",
      "source": [
        "df.head()"
      ],
      "metadata": {
        "colab": {
          "base_uri": "https://localhost:8080/",
          "height": 206
        },
        "id": "XmplJraO2XuA",
        "outputId": "74e0e5c4-c020-4646-8dd4-cb56a794669c"
      },
      "execution_count": 75,
      "outputs": [
        {
          "output_type": "execute_result",
          "data": {
            "text/plain": [
              "                                             Comment  sentiment_score\n",
              "0  Today I go there with my coworker and then hav...                1\n",
              "1  Tommy, thank you so much for taking the time t...                5\n",
              "2  ¿Busca un grifo de cocina elegante y con estil...                5\n",
              "3  The soul food is in my opinion starting to get...                3\n",
              "4  Hi Day, it’s a shame that you didn’t enjoy you...                2"
            ],
            "text/html": [
              "\n",
              "  <div id=\"df-79a757e4-9857-4530-b896-7732ea9922ff\">\n",
              "    <div class=\"colab-df-container\">\n",
              "      <div>\n",
              "<style scoped>\n",
              "    .dataframe tbody tr th:only-of-type {\n",
              "        vertical-align: middle;\n",
              "    }\n",
              "\n",
              "    .dataframe tbody tr th {\n",
              "        vertical-align: top;\n",
              "    }\n",
              "\n",
              "    .dataframe thead th {\n",
              "        text-align: right;\n",
              "    }\n",
              "</style>\n",
              "<table border=\"1\" class=\"dataframe\">\n",
              "  <thead>\n",
              "    <tr style=\"text-align: right;\">\n",
              "      <th></th>\n",
              "      <th>Comment</th>\n",
              "      <th>sentiment_score</th>\n",
              "    </tr>\n",
              "  </thead>\n",
              "  <tbody>\n",
              "    <tr>\n",
              "      <th>0</th>\n",
              "      <td>Today I go there with my coworker and then hav...</td>\n",
              "      <td>1</td>\n",
              "    </tr>\n",
              "    <tr>\n",
              "      <th>1</th>\n",
              "      <td>Tommy, thank you so much for taking the time t...</td>\n",
              "      <td>5</td>\n",
              "    </tr>\n",
              "    <tr>\n",
              "      <th>2</th>\n",
              "      <td>¿Busca un grifo de cocina elegante y con estil...</td>\n",
              "      <td>5</td>\n",
              "    </tr>\n",
              "    <tr>\n",
              "      <th>3</th>\n",
              "      <td>The soul food is in my opinion starting to get...</td>\n",
              "      <td>3</td>\n",
              "    </tr>\n",
              "    <tr>\n",
              "      <th>4</th>\n",
              "      <td>Hi Day, it’s a shame that you didn’t enjoy you...</td>\n",
              "      <td>2</td>\n",
              "    </tr>\n",
              "  </tbody>\n",
              "</table>\n",
              "</div>\n",
              "      <button class=\"colab-df-convert\" onclick=\"convertToInteractive('df-79a757e4-9857-4530-b896-7732ea9922ff')\"\n",
              "              title=\"Convert this dataframe to an interactive table.\"\n",
              "              style=\"display:none;\">\n",
              "        \n",
              "  <svg xmlns=\"http://www.w3.org/2000/svg\" height=\"24px\"viewBox=\"0 0 24 24\"\n",
              "       width=\"24px\">\n",
              "    <path d=\"M0 0h24v24H0V0z\" fill=\"none\"/>\n",
              "    <path d=\"M18.56 5.44l.94 2.06.94-2.06 2.06-.94-2.06-.94-.94-2.06-.94 2.06-2.06.94zm-11 1L8.5 8.5l.94-2.06 2.06-.94-2.06-.94L8.5 2.5l-.94 2.06-2.06.94zm10 10l.94 2.06.94-2.06 2.06-.94-2.06-.94-.94-2.06-.94 2.06-2.06.94z\"/><path d=\"M17.41 7.96l-1.37-1.37c-.4-.4-.92-.59-1.43-.59-.52 0-1.04.2-1.43.59L10.3 9.45l-7.72 7.72c-.78.78-.78 2.05 0 2.83L4 21.41c.39.39.9.59 1.41.59.51 0 1.02-.2 1.41-.59l7.78-7.78 2.81-2.81c.8-.78.8-2.07 0-2.86zM5.41 20L4 18.59l7.72-7.72 1.47 1.35L5.41 20z\"/>\n",
              "  </svg>\n",
              "      </button>\n",
              "      \n",
              "  <style>\n",
              "    .colab-df-container {\n",
              "      display:flex;\n",
              "      flex-wrap:wrap;\n",
              "      gap: 12px;\n",
              "    }\n",
              "\n",
              "    .colab-df-convert {\n",
              "      background-color: #E8F0FE;\n",
              "      border: none;\n",
              "      border-radius: 50%;\n",
              "      cursor: pointer;\n",
              "      display: none;\n",
              "      fill: #1967D2;\n",
              "      height: 32px;\n",
              "      padding: 0 0 0 0;\n",
              "      width: 32px;\n",
              "    }\n",
              "\n",
              "    .colab-df-convert:hover {\n",
              "      background-color: #E2EBFA;\n",
              "      box-shadow: 0px 1px 2px rgba(60, 64, 67, 0.3), 0px 1px 3px 1px rgba(60, 64, 67, 0.15);\n",
              "      fill: #174EA6;\n",
              "    }\n",
              "\n",
              "    [theme=dark] .colab-df-convert {\n",
              "      background-color: #3B4455;\n",
              "      fill: #D2E3FC;\n",
              "    }\n",
              "\n",
              "    [theme=dark] .colab-df-convert:hover {\n",
              "      background-color: #434B5C;\n",
              "      box-shadow: 0px 1px 3px 1px rgba(0, 0, 0, 0.15);\n",
              "      filter: drop-shadow(0px 1px 2px rgba(0, 0, 0, 0.3));\n",
              "      fill: #FFFFFF;\n",
              "    }\n",
              "  </style>\n",
              "\n",
              "      <script>\n",
              "        const buttonEl =\n",
              "          document.querySelector('#df-79a757e4-9857-4530-b896-7732ea9922ff button.colab-df-convert');\n",
              "        buttonEl.style.display =\n",
              "          google.colab.kernel.accessAllowed ? 'block' : 'none';\n",
              "\n",
              "        async function convertToInteractive(key) {\n",
              "          const element = document.querySelector('#df-79a757e4-9857-4530-b896-7732ea9922ff');\n",
              "          const dataTable =\n",
              "            await google.colab.kernel.invokeFunction('convertToInteractive',\n",
              "                                                     [key], {});\n",
              "          if (!dataTable) return;\n",
              "\n",
              "          const docLinkHtml = 'Like what you see? Visit the ' +\n",
              "            '<a target=\"_blank\" href=https://colab.research.google.com/notebooks/data_table.ipynb>data table notebook</a>'\n",
              "            + ' to learn more about interactive tables.';\n",
              "          element.innerHTML = '';\n",
              "          dataTable['output_type'] = 'display_data';\n",
              "          await google.colab.output.renderOutput(dataTable, element);\n",
              "          const docLink = document.createElement('div');\n",
              "          docLink.innerHTML = docLinkHtml;\n",
              "          element.appendChild(docLink);\n",
              "        }\n",
              "      </script>\n",
              "    </div>\n",
              "  </div>\n",
              "  "
            ]
          },
          "metadata": {},
          "execution_count": 75
        }
      ]
    },
    {
      "cell_type": "code",
      "source": [
        "df['Comment'][0]"
      ],
      "metadata": {
        "colab": {
          "base_uri": "https://localhost:8080/",
          "height": 70
        },
        "id": "RPhcoLUG2Xqx",
        "outputId": "90cd87bc-799c-49fc-fcdd-11304c72baf5"
      },
      "execution_count": 76,
      "outputs": [
        {
          "output_type": "execute_result",
          "data": {
            "text/plain": [
              "\"Today I go there with my coworker and then have orders foods After having the food We settle bills and the server charges more than usual price After that I checked and explained to him He not \\xa0listen my explainingHe very rude on me and The food is ok Please take care yours business reputation He is not skilful person on service Try to be good employeesI'm soo sad for your business\""
            ],
            "application/vnd.google.colaboratory.intrinsic+json": {
              "type": "string"
            }
          },
          "metadata": {},
          "execution_count": 76
        }
      ]
    },
    {
      "cell_type": "code",
      "source": [
        "df['sentiment_score'][0]"
      ],
      "metadata": {
        "colab": {
          "base_uri": "https://localhost:8080/"
        },
        "id": "LXftwGd32XnS",
        "outputId": "f41a1549-9dd7-45ec-a35f-61906cfa635c"
      },
      "execution_count": 78,
      "outputs": [
        {
          "output_type": "execute_result",
          "data": {
            "text/plain": [
              "1"
            ]
          },
          "metadata": {},
          "execution_count": 78
        }
      ]
    },
    {
      "cell_type": "code",
      "source": [],
      "metadata": {
        "id": "ZHO1uMdI7EtD"
      },
      "execution_count": null,
      "outputs": []
    },
    {
      "cell_type": "markdown",
      "source": [],
      "metadata": {
        "id": "q9XjmaVAi-Wk"
      }
    }
  ]
}